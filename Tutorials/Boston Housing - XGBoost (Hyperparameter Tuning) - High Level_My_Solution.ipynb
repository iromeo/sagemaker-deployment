{
 "cells": [
  {
   "cell_type": "markdown",
   "metadata": {},
   "source": [
    "# Predicting Boston Housing Prices\n",
    "\n",
    "## Using XGBoost in SageMaker (Hyperparameter Tuning)\n",
    "\n",
    "_Deep Learning Nanodegree Program | Deployment_\n",
    "\n",
    "---\n",
    "\n",
    "As an introduction to using SageMaker's High Level Python API for hyperparameter tuning, we will look again at the [Boston Housing Dataset](https://www.cs.toronto.edu/~delve/data/boston/bostonDetail.html) to predict the median value of a home in the area of Boston Mass.\n",
    "\n",
    "The documentation for the high level API can be found on the [ReadTheDocs page](http://sagemaker.readthedocs.io/en/latest/)\n",
    "\n",
    "## General Outline\n",
    "\n",
    "Typically, when using a notebook instance with SageMaker, you will proceed through the following steps. Of course, not every step will need to be done with each project. Also, there is quite a lot of room for variation in many of the steps, as you will see throughout these lessons.\n",
    "\n",
    "1. Download or otherwise retrieve the data.\n",
    "2. Process / Prepare the data.\n",
    "3. Upload the processed data to S3.\n",
    "4. Train a chosen model.\n",
    "5. Test the trained model (typically using a batch transform job).\n",
    "6. Deploy the trained model.\n",
    "7. Use the deployed model.\n",
    "\n",
    "In this notebook we will only be covering steps 1 through 5 as we are only interested in creating a tuned model and testing its performance."
   ]
  },
  {
   "cell_type": "markdown",
   "metadata": {},
   "source": [
    "## Step 0: Setting up the notebook\n",
    "\n",
    "We begin by setting up all of the necessary bits required to run our notebook. To start that means loading all of the Python modules we will need."
   ]
  },
  {
   "cell_type": "code",
   "execution_count": 1,
   "metadata": {},
   "outputs": [],
   "source": [
    "%matplotlib inline\n",
    "\n",
    "import os\n",
    "\n",
    "import numpy as np\n",
    "import pandas as pd\n",
    "\n",
    "import matplotlib.pyplot as plt\n",
    "\n",
    "from sklearn.datasets import load_boston\n",
    "import sklearn.model_selection"
   ]
  },
  {
   "cell_type": "markdown",
   "metadata": {},
   "source": [
    "In addition to the modules above, we need to import the various bits of SageMaker that we will be using. "
   ]
  },
  {
   "cell_type": "code",
   "execution_count": 2,
   "metadata": {},
   "outputs": [],
   "source": [
    "import sagemaker\n",
    "from sagemaker import get_execution_role\n",
    "from sagemaker.amazon.amazon_estimator import get_image_uri\n",
    "from sagemaker.predictor import csv_serializer\n",
    "\n",
    "# This is an object that represents the SageMaker session that we are currently operating in. This\n",
    "# object contains some useful information that we will need to access later such as our region.\n",
    "session = sagemaker.Session()\n",
    "\n",
    "# This is an object that represents the IAM role that we are currently assigned. When we construct\n",
    "# and launch the training job later we will need to tell it what IAM role it should have. Since our\n",
    "# use case is relatively simple we will simply assign the training job the role we currently have.\n",
    "role = get_execution_role()"
   ]
  },
  {
   "cell_type": "markdown",
   "metadata": {},
   "source": [
    "## Step 1: Downloading the data\n",
    "\n",
    "Fortunately, this dataset can be retrieved using sklearn and so this step is relatively straightforward."
   ]
  },
  {
   "cell_type": "code",
   "execution_count": 3,
   "metadata": {},
   "outputs": [],
   "source": [
    "boston = load_boston()"
   ]
  },
  {
   "cell_type": "markdown",
   "metadata": {},
   "source": [
    "## Step 2: Preparing and splitting the data\n",
    "\n",
    "Given that this is clean tabular data, we don't need to do any processing. However, we do need to split the rows in the dataset up into train, test and validation sets."
   ]
  },
  {
   "cell_type": "code",
   "execution_count": 4,
   "metadata": {},
   "outputs": [],
   "source": [
    "# First we package up the input data and the target variable (the median value) as pandas dataframes. This\n",
    "# will make saving the data to a file a little easier later on.\n",
    "\n",
    "X_bos_pd = pd.DataFrame(boston.data, columns=boston.feature_names)\n",
    "Y_bos_pd = pd.DataFrame(boston.target)\n",
    "\n",
    "# We split the dataset into 2/3 training and 1/3 testing sets.\n",
    "X_train, X_test, Y_train, Y_test = sklearn.model_selection.train_test_split(X_bos_pd, Y_bos_pd, test_size=0.33)\n",
    "\n",
    "# Then we split the training set further into 2/3 training and 1/3 validation sets.\n",
    "X_train, X_val, Y_train, Y_val = sklearn.model_selection.train_test_split(X_train, Y_train, test_size=0.33)"
   ]
  },
  {
   "cell_type": "markdown",
   "metadata": {},
   "source": [
    "## Step 3: Uploading the data files to S3\n",
    "\n",
    "When a training job is constructed using SageMaker, a container is executed which performs the training operation. This container is given access to data that is stored in S3. This means that we need to upload the data we want to use for training to S3. In addition, when we perform a batch transform job, SageMaker expects the input data to be stored on S3. We can use the SageMaker API to do this and hide some of the details.\n",
    "\n",
    "### Save the data locally\n",
    "\n",
    "First we need to create the test, train and validation csv files which we will then upload to S3."
   ]
  },
  {
   "cell_type": "code",
   "execution_count": 5,
   "metadata": {},
   "outputs": [],
   "source": [
    "# This is our local data directory. We need to make sure that it exists.\n",
    "data_dir = '../data/boston'\n",
    "if not os.path.exists(data_dir):\n",
    "    os.makedirs(data_dir)"
   ]
  },
  {
   "cell_type": "code",
   "execution_count": 6,
   "metadata": {},
   "outputs": [],
   "source": [
    "# We use pandas to save our test, train and validation data to csv files. Note that we make sure not to include header\n",
    "# information or an index as this is required by the built in algorithms provided by Amazon. Also, for the train and\n",
    "# validation data, it is assumed that the first entry in each row is the target variable.\n",
    "\n",
    "X_test.to_csv(os.path.join(data_dir, 'test.csv'), header=False, index=False)\n",
    "\n",
    "pd.concat([Y_val, X_val], axis=1).to_csv(os.path.join(data_dir, 'validation.csv'), header=False, index=False)\n",
    "pd.concat([Y_train, X_train], axis=1).to_csv(os.path.join(data_dir, 'train.csv'), header=False, index=False)"
   ]
  },
  {
   "cell_type": "markdown",
   "metadata": {},
   "source": [
    "### Upload to S3\n",
    "\n",
    "Since we are currently running inside of a SageMaker session, we can use the object which represents this session to upload our data to the 'default' S3 bucket. Note that it is good practice to provide a custom prefix (essentially an S3 folder) to make sure that you don't accidentally interfere with data uploaded from some other notebook or project."
   ]
  },
  {
   "cell_type": "code",
   "execution_count": 7,
   "metadata": {},
   "outputs": [
    {
     "name": "stderr",
     "output_type": "stream",
     "text": [
      "Parameter 'session' will be renamed to 'sagemaker_session' in SageMaker Python SDK v2.\n",
      "'upload_data' method will be deprecated in favor of 'S3Uploader' class (https://sagemaker.readthedocs.io/en/stable/s3.html#sagemaker.s3.S3Uploader) in SageMaker Python SDK v2.\n",
      "Parameter 'session' will be renamed to 'sagemaker_session' in SageMaker Python SDK v2.\n",
      "'upload_data' method will be deprecated in favor of 'S3Uploader' class (https://sagemaker.readthedocs.io/en/stable/s3.html#sagemaker.s3.S3Uploader) in SageMaker Python SDK v2.\n",
      "Parameter 'session' will be renamed to 'sagemaker_session' in SageMaker Python SDK v2.\n",
      "'upload_data' method will be deprecated in favor of 'S3Uploader' class (https://sagemaker.readthedocs.io/en/stable/s3.html#sagemaker.s3.S3Uploader) in SageMaker Python SDK v2.\n"
     ]
    },
    {
     "name": "stdout",
     "output_type": "stream",
     "text": [
      "s3://romeo-sandbox/boston-xgboost-tuning-HL/train.csv\n"
     ]
    }
   ],
   "source": [
    "prefix = 'boston-xgboost-tuning-HL'\n",
    "bucket = 'romeo-sandbox' # or session.default_bucket()\n",
    "\n",
    "\n",
    "from sagemaker.s3 import S3Uploader\n",
    "\n",
    "test_location = S3Uploader.upload(os.path.join(data_dir, 'test.csv'), f\"s3://{bucket}/{prefix}\", session = session)\n",
    "train_location = S3Uploader.upload(os.path.join(data_dir, 'train.csv'), f\"s3://{bucket}/{prefix}\", session = session)\n",
    "val_location = S3Uploader.upload(os.path.join(data_dir, 'validation.csv'), f\"s3://{bucket}/{prefix}\", session = session)\n",
    "\n",
    "print(train_location)"
   ]
  },
  {
   "cell_type": "markdown",
   "metadata": {},
   "source": [
    "## Step 4: Train the XGBoost model\n",
    "\n",
    "Now that we have the training and validation data uploaded to S3, we can construct our XGBoost model and train it. Unlike in the previous notebooks, instead of training a single model, we will use SageMaker's hyperparameter tuning functionality to train multiple models and use the one that performs the best on the validation set.\n",
    "\n",
    "To begin with, as in the previous approaches, we will need to construct an estimator object."
   ]
  },
  {
   "cell_type": "code",
   "execution_count": 19,
   "metadata": {},
   "outputs": [
    {
     "name": "stderr",
     "output_type": "stream",
     "text": [
      "WARNING:sagemaker.amazon.amazon_estimator:'get_image_uri' method will be deprecated in favor of 'ImageURIProvider' class in SageMaker Python SDK v2.\n",
      "WARNING:root:There is a more up to date SageMaker XGBoost image. To use the newer image, please set 'repo_version'='1.0-1'. For example:\n",
      "\tget_image_uri(region, 'xgboost', '1.0-1').\n",
      "WARNING:root:Parameter image_name will be renamed to image_uri in SageMaker Python SDK v2.\n"
     ]
    }
   ],
   "source": [
    "# As stated above, we use this utility method to construct the image name for the training container.\n",
    "container = get_image_uri(session.boto_region_name, 'xgboost')\n",
    "\n",
    "# Now that we know which container to use, we can construct the estimator object.\n",
    "xgb = sagemaker.estimator.Estimator(\n",
    "    container, # The name of the training container\n",
    "    role,      # The IAM role to use (our current role in this case)\n",
    "    train_instance_count=1, # The number of instances to use for training\n",
    "    train_instance_type='ml.m4.xlarge', # The type of instance ot use for training\n",
    "    output_path='s3://{}/{}/output'.format(bucket, prefix), #\n",
    "    tags=[dict(Key='owner', Value='email')],\n",
    "    sagemaker_session=session\n",
    ") # The current SageMaker session"
   ]
  },
  {
   "cell_type": "markdown",
   "metadata": {},
   "source": [
    "Before beginning the hyperparameter tuning, we should make sure to set any model specific hyperparameters that we wish to have default values. There are quite a few that can be set when using the XGBoost algorithm, below are just a few of them. If you would like to change the hyperparameters below or modify additional ones you can find additional information on the [XGBoost hyperparameter page](https://docs.aws.amazon.com/sagemaker/latest/dg/xgboost_hyperparameters.html)"
   ]
  },
  {
   "cell_type": "code",
   "execution_count": 20,
   "metadata": {},
   "outputs": [],
   "source": [
    "xgb.set_hyperparameters(max_depth=5,\n",
    "                        eta=0.2,\n",
    "                        gamma=4,\n",
    "                        min_child_weight=6,\n",
    "                        subsample=0.8,\n",
    "                        objective='reg:linear',\n",
    "                        early_stopping_rounds=10,\n",
    "                        num_round=200)"
   ]
  },
  {
   "cell_type": "markdown",
   "metadata": {},
   "source": [
    "Now that we have our estimator object completely set up, it is time to create the hyperparameter tuner. To do this we need to construct a new object which contains each of the parameters we want SageMaker to tune. In this case, we wish to find the best values for the `max_depth`, `eta`, `min_child_weight`, `subsample`, and `gamma` parameters. Note that for each parameter that we want SageMaker to tune we need to specify both the *type* of the parameter and the *range* of values that parameter may take on.\n",
    "\n",
    "In addition, we specify the *number* of models to construct (`max_jobs`) and the number of those that can be trained in parallel (`max_parallel_jobs`). In the cell below we have chosen to train `20` models, of which we ask that SageMaker train `3` at a time in parallel. Note that this results in a total of `20` training jobs being executed which can take some time, in this case almost a half hour. With more complicated models this can take even longer so be aware!"
   ]
  },
  {
   "cell_type": "code",
   "execution_count": 21,
   "metadata": {},
   "outputs": [],
   "source": [
    "from sagemaker.tuner import IntegerParameter, ContinuousParameter, HyperparameterTuner\n",
    "\n",
    "xgb_hyperparameter_tuner = HyperparameterTuner(\n",
    "    tags=[dict(Key='owner', Value='email')],\n",
    "    estimator = xgb, # The estimator object to use as the basis for the training jobs.\n",
    "    objective_metric_name = 'validation:rmse', # The metric used to compare trained models.\n",
    "    objective_type = 'Minimize', # Whether we wish to minimize or maximize the metric.\n",
    "    max_jobs = 20, # The total number of models to train\n",
    "    max_parallel_jobs = 3, # The number of models to train in parallel\n",
    "    hyperparameter_ranges = {\n",
    "        'max_depth': IntegerParameter(3, 12),\n",
    "        'eta'      : ContinuousParameter(0.05, 0.5),\n",
    "        'min_child_weight': IntegerParameter(2, 8),\n",
    "        'subsample': ContinuousParameter(0.5, 0.9),\n",
    "        'gamma': ContinuousParameter(0, 10),\n",
    "   })"
   ]
  },
  {
   "cell_type": "markdown",
   "metadata": {},
   "source": [
    "Now that we have our hyperparameter tuner object completely set up, it is time to train it. To do this we make sure that SageMaker knows our input data is in csv format and then execute the `fit` method."
   ]
  },
  {
   "cell_type": "code",
   "execution_count": 22,
   "metadata": {},
   "outputs": [
    {
     "name": "stderr",
     "output_type": "stream",
     "text": [
      "WARNING:sagemaker:'s3_input' class will be renamed to 'TrainingInput' in SageMaker Python SDK v2.\n",
      "WARNING:sagemaker:'s3_input' class will be renamed to 'TrainingInput' in SageMaker Python SDK v2.\n"
     ]
    }
   ],
   "source": [
    "# This is a wrapper around the location of our train and validation data, to make sure that SageMaker\n",
    "# knows our data is in csv format.\n",
    "s3_input_train = sagemaker.s3_input(s3_data=train_location, content_type='csv')\n",
    "s3_input_validation = sagemaker.s3_input(s3_data=val_location, content_type='csv')\n",
    "\n",
    "xgb_hyperparameter_tuner.fit({'train': s3_input_train, 'validation': s3_input_validation})"
   ]
  },
  {
   "cell_type": "markdown",
   "metadata": {},
   "source": [
    "As in many of the examples we have seen so far, the `fit()` method takes care of setting up and fitting a number of different models, each with different hyperparameters. If we wish to wait for this process to finish, we can call the `wait()` method."
   ]
  },
  {
   "cell_type": "code",
   "execution_count": 23,
   "metadata": {},
   "outputs": [
    {
     "name": "stdout",
     "output_type": "stream",
     "text": [
      "........................................................................................................................................................................................................................................................................................................!\n"
     ]
    }
   ],
   "source": [
    "xgb_hyperparameter_tuner.wait()"
   ]
  },
  {
   "cell_type": "markdown",
   "metadata": {},
   "source": [
    "Once the hyperamater tuner has finished, we can retrieve information about the best performing model. "
   ]
  },
  {
   "cell_type": "code",
   "execution_count": 24,
   "metadata": {},
   "outputs": [
    {
     "data": {
      "text/plain": [
       "'xgboost-200607-2147-018-e9a5fcc9'"
      ]
     },
     "execution_count": 24,
     "metadata": {},
     "output_type": "execute_result"
    }
   ],
   "source": [
    "xgb_hyperparameter_tuner.best_training_job()"
   ]
  },
  {
   "cell_type": "markdown",
   "metadata": {},
   "source": [
    "In addition, since we'd like to set up a batch transform job to test the best model, we can construct a new estimator object from the results of the best training job. The `xgb_attached` object below can now be used as though we constructed an estimator with the best performing hyperparameters and then fit it to our training data."
   ]
  },
  {
   "cell_type": "markdown",
   "metadata": {},
   "source": [
    "Best params:\n",
    "```\n",
    "_tuning_objective_metric\tFreeText\tvalidation:rmse\n",
    "early_stopping_rounds\tFreeText\t10\n",
    "eta\tContinuous\t0.058564875925022866\n",
    "gamma\tContinuous\t5.253167237217806\n",
    "max_depth\tInteger\t4\n",
    "min_child_weight\tInteger\t3\n",
    "num_round\tFreeText\t200\n",
    "objective\tFreeText\treg:linear\n",
    "subsample\tContinuous\n",
    "```"
   ]
  },
  {
   "cell_type": "code",
   "execution_count": 25,
   "metadata": {},
   "outputs": [
    {
     "name": "stderr",
     "output_type": "stream",
     "text": [
      "WARNING:root:Parameter image_name will be renamed to image_uri in SageMaker Python SDK v2.\n"
     ]
    },
    {
     "name": "stdout",
     "output_type": "stream",
     "text": [
      "2020-06-07 22:08:44 Starting - Preparing the instances for training\n",
      "2020-06-07 22:08:44 Downloading - Downloading input data\n",
      "2020-06-07 22:08:44 Training - Training image download completed. Training in progress.\n",
      "2020-06-07 22:08:44 Uploading - Uploading generated training model\n",
      "2020-06-07 22:08:44 Completed - Training job completed\u001B[34mArguments: train\u001B[0m\n",
      "\u001B[34m[2020-06-07:22:08:32:INFO] Running standalone xgboost training.\u001B[0m\n",
      "\u001B[34m[2020-06-07:22:08:32:INFO] Setting up HPO optimized metric to be : rmse\u001B[0m\n",
      "\u001B[34m[2020-06-07:22:08:32:INFO] File size need to be processed in the node: 0.02mb. Available memory size in the node: 8466.59mb\u001B[0m\n",
      "\u001B[34m[2020-06-07:22:08:32:INFO] Determined delimiter of CSV input is ','\u001B[0m\n",
      "\u001B[34m[22:08:32] S3DistributionType set as FullyReplicated\u001B[0m\n",
      "\u001B[34m[22:08:32] 227x13 matrix with 2951 entries loaded from /opt/ml/input/data/train?format=csv&label_column=0&delimiter=,\u001B[0m\n",
      "\u001B[34m[2020-06-07:22:08:32:INFO] Determined delimiter of CSV input is ','\u001B[0m\n",
      "\u001B[34m[22:08:32] S3DistributionType set as FullyReplicated\u001B[0m\n",
      "\u001B[34m[22:08:32] 112x13 matrix with 1456 entries loaded from /opt/ml/input/data/validation?format=csv&label_column=0&delimiter=,\u001B[0m\n",
      "\u001B[34m[22:08:32] src/tree/updater_prune.cc:74: tree pruning end, 1 roots, 12 extra nodes, 0 pruned nodes, max_depth=3\u001B[0m\n",
      "\u001B[34m[0]#011train-rmse:22.7605#011validation-rmse:21.764\u001B[0m\n",
      "\u001B[34mMultiple eval metrics have been passed: 'validation-rmse' will be used for early stopping.\n",
      "\u001B[0m\n",
      "\u001B[34mWill train until validation-rmse hasn't improved in 10 rounds.\u001B[0m\n",
      "\u001B[34m[22:08:32] src/tree/updater_prune.cc:74: tree pruning end, 1 roots, 10 extra nodes, 2 pruned nodes, max_depth=4\u001B[0m\n",
      "\u001B[34m[1]#011train-rmse:21.5223#011validation-rmse:20.5766\u001B[0m\n",
      "\u001B[34m[22:08:32] src/tree/updater_prune.cc:74: tree pruning end, 1 roots, 10 extra nodes, 2 pruned nodes, max_depth=3\u001B[0m\n",
      "\u001B[34m[2]#011train-rmse:20.3537#011validation-rmse:19.434\u001B[0m\n",
      "\u001B[34m[22:08:32] src/tree/updater_prune.cc:74: tree pruning end, 1 roots, 14 extra nodes, 0 pruned nodes, max_depth=4\u001B[0m\n",
      "\u001B[34m[3]#011train-rmse:19.2657#011validation-rmse:18.3721\u001B[0m\n",
      "\u001B[34m[22:08:32] src/tree/updater_prune.cc:74: tree pruning end, 1 roots, 12 extra nodes, 0 pruned nodes, max_depth=4\u001B[0m\n",
      "\u001B[34m[4]#011train-rmse:18.2403#011validation-rmse:17.392\u001B[0m\n",
      "\u001B[34m[22:08:32] src/tree/updater_prune.cc:74: tree pruning end, 1 roots, 14 extra nodes, 0 pruned nodes, max_depth=3\u001B[0m\n",
      "\u001B[34m[5]#011train-rmse:17.2786#011validation-rmse:16.4702\u001B[0m\n",
      "\u001B[34m[22:08:32] src/tree/updater_prune.cc:74: tree pruning end, 1 roots, 12 extra nodes, 0 pruned nodes, max_depth=3\u001B[0m\n",
      "\u001B[34m[6]#011train-rmse:16.3649#011validation-rmse:15.5774\u001B[0m\n",
      "\u001B[34m[22:08:32] src/tree/updater_prune.cc:74: tree pruning end, 1 roots, 16 extra nodes, 0 pruned nodes, max_depth=4\u001B[0m\n",
      "\u001B[34m[7]#011train-rmse:15.499#011validation-rmse:14.7266\u001B[0m\n",
      "\u001B[34m[22:08:32] src/tree/updater_prune.cc:74: tree pruning end, 1 roots, 12 extra nodes, 0 pruned nodes, max_depth=4\u001B[0m\n",
      "\u001B[34m[8]#011train-rmse:14.673#011validation-rmse:13.9423\u001B[0m\n",
      "\u001B[34m[22:08:32] src/tree/updater_prune.cc:74: tree pruning end, 1 roots, 12 extra nodes, 0 pruned nodes, max_depth=4\u001B[0m\n",
      "\u001B[34m[9]#011train-rmse:13.8999#011validation-rmse:13.2041\u001B[0m\n",
      "\u001B[34m[22:08:32] src/tree/updater_prune.cc:74: tree pruning end, 1 roots, 14 extra nodes, 2 pruned nodes, max_depth=4\u001B[0m\n",
      "\u001B[34m[10]#011train-rmse:13.171#011validation-rmse:12.5336\u001B[0m\n",
      "\u001B[34m[22:08:32] src/tree/updater_prune.cc:74: tree pruning end, 1 roots, 10 extra nodes, 0 pruned nodes, max_depth=4\u001B[0m\n",
      "\u001B[34m[11]#011train-rmse:12.5112#011validation-rmse:11.9174\u001B[0m\n",
      "\u001B[34m[22:08:32] src/tree/updater_prune.cc:74: tree pruning end, 1 roots, 12 extra nodes, 2 pruned nodes, max_depth=4\u001B[0m\n",
      "\u001B[34m[12]#011train-rmse:11.8832#011validation-rmse:11.3008\u001B[0m\n",
      "\u001B[34m[22:08:32] src/tree/updater_prune.cc:74: tree pruning end, 1 roots, 14 extra nodes, 0 pruned nodes, max_depth=4\u001B[0m\n",
      "\u001B[34m[13]#011train-rmse:11.2752#011validation-rmse:10.7529\u001B[0m\n",
      "\u001B[34m[22:08:32] src/tree/updater_prune.cc:74: tree pruning end, 1 roots, 18 extra nodes, 0 pruned nodes, max_depth=4\u001B[0m\n",
      "\u001B[34m[14]#011train-rmse:10.7215#011validation-rmse:10.1978\u001B[0m\n",
      "\u001B[34m[22:08:32] src/tree/updater_prune.cc:74: tree pruning end, 1 roots, 18 extra nodes, 0 pruned nodes, max_depth=4\u001B[0m\n",
      "\u001B[34m[15]#011train-rmse:10.1936#011validation-rmse:9.6782\u001B[0m\n",
      "\u001B[34m[22:08:32] src/tree/updater_prune.cc:74: tree pruning end, 1 roots, 18 extra nodes, 0 pruned nodes, max_depth=4\u001B[0m\n",
      "\u001B[34m[16]#011train-rmse:9.67978#011validation-rmse:9.21878\u001B[0m\n",
      "\u001B[34m[22:08:32] src/tree/updater_prune.cc:74: tree pruning end, 1 roots, 16 extra nodes, 0 pruned nodes, max_depth=4\u001B[0m\n",
      "\u001B[34m[17]#011train-rmse:9.19964#011validation-rmse:8.77415\u001B[0m\n",
      "\u001B[34m[22:08:32] src/tree/updater_prune.cc:74: tree pruning end, 1 roots, 18 extra nodes, 0 pruned nodes, max_depth=4\u001B[0m\n",
      "\u001B[34m[18]#011train-rmse:8.74624#011validation-rmse:8.36096\u001B[0m\n",
      "\u001B[34m[22:08:32] src/tree/updater_prune.cc:74: tree pruning end, 1 roots, 16 extra nodes, 6 pruned nodes, max_depth=4\u001B[0m\n",
      "\u001B[34m[19]#011train-rmse:8.31419#011validation-rmse:7.95201\u001B[0m\n",
      "\u001B[34m[22:08:32] src/tree/updater_prune.cc:74: tree pruning end, 1 roots, 18 extra nodes, 0 pruned nodes, max_depth=4\u001B[0m\n",
      "\u001B[34m[20]#011train-rmse:7.92196#011validation-rmse:7.57273\u001B[0m\n",
      "\u001B[34m[22:08:32] src/tree/updater_prune.cc:74: tree pruning end, 1 roots, 14 extra nodes, 0 pruned nodes, max_depth=4\u001B[0m\n",
      "\u001B[34m[21]#011train-rmse:7.54134#011validation-rmse:7.22282\u001B[0m\n",
      "\u001B[34m[22:08:32] src/tree/updater_prune.cc:74: tree pruning end, 1 roots, 20 extra nodes, 0 pruned nodes, max_depth=4\u001B[0m\n",
      "\u001B[34m[22]#011train-rmse:7.19393#011validation-rmse:6.89182\u001B[0m\n",
      "\u001B[34m[22:08:32] src/tree/updater_prune.cc:74: tree pruning end, 1 roots, 14 extra nodes, 0 pruned nodes, max_depth=4\u001B[0m\n",
      "\u001B[34m[23]#011train-rmse:6.86667#011validation-rmse:6.60812\u001B[0m\n",
      "\u001B[34m[22:08:32] src/tree/updater_prune.cc:74: tree pruning end, 1 roots, 14 extra nodes, 0 pruned nodes, max_depth=4\u001B[0m\n",
      "\u001B[34m[24]#011train-rmse:6.54983#011validation-rmse:6.30689\u001B[0m\n",
      "\u001B[34m[22:08:32] src/tree/updater_prune.cc:74: tree pruning end, 1 roots, 16 extra nodes, 0 pruned nodes, max_depth=4\u001B[0m\n",
      "\u001B[34m[25]#011train-rmse:6.25822#011validation-rmse:6.03033\u001B[0m\n",
      "\u001B[34m[22:08:32] src/tree/updater_prune.cc:74: tree pruning end, 1 roots, 14 extra nodes, 0 pruned nodes, max_depth=4\u001B[0m\n",
      "\u001B[34m[26]#011train-rmse:5.98206#011validation-rmse:5.78578\u001B[0m\n",
      "\u001B[34m[22:08:32] src/tree/updater_prune.cc:74: tree pruning end, 1 roots, 18 extra nodes, 2 pruned nodes, max_depth=4\u001B[0m\n",
      "\u001B[34m[27]#011train-rmse:5.7117#011validation-rmse:5.54417\u001B[0m\n",
      "\u001B[34m[22:08:32] src/tree/updater_prune.cc:74: tree pruning end, 1 roots, 12 extra nodes, 0 pruned nodes, max_depth=4\u001B[0m\n",
      "\u001B[34m[28]#011train-rmse:5.47554#011validation-rmse:5.34218\u001B[0m\n",
      "\u001B[34m[22:08:32] src/tree/updater_prune.cc:74: tree pruning end, 1 roots, 18 extra nodes, 2 pruned nodes, max_depth=4\u001B[0m\n",
      "\u001B[34m[29]#011train-rmse:5.24552#011validation-rmse:5.13551\u001B[0m\n",
      "\u001B[34m[22:08:32] src/tree/updater_prune.cc:74: tree pruning end, 1 roots, 12 extra nodes, 2 pruned nodes, max_depth=4\u001B[0m\n",
      "\u001B[34m[30]#011train-rmse:5.02929#011validation-rmse:4.96114\u001B[0m\n",
      "\u001B[34m[22:08:32] src/tree/updater_prune.cc:74: tree pruning end, 1 roots, 20 extra nodes, 0 pruned nodes, max_depth=4\u001B[0m\n",
      "\u001B[34m[31]#011train-rmse:4.81091#011validation-rmse:4.77493\u001B[0m\n",
      "\u001B[34m[22:08:32] src/tree/updater_prune.cc:74: tree pruning end, 1 roots, 14 extra nodes, 0 pruned nodes, max_depth=4\u001B[0m\n",
      "\u001B[34m[32]#011train-rmse:4.62818#011validation-rmse:4.61792\u001B[0m\n",
      "\u001B[34m[22:08:32] src/tree/updater_prune.cc:74: tree pruning end, 1 roots, 18 extra nodes, 2 pruned nodes, max_depth=4\u001B[0m\n",
      "\u001B[34m[33]#011train-rmse:4.43577#011validation-rmse:4.48095\u001B[0m\n",
      "\u001B[34m[22:08:32] src/tree/updater_prune.cc:74: tree pruning end, 1 roots, 16 extra nodes, 0 pruned nodes, max_depth=4\u001B[0m\n",
      "\u001B[34m[34]#011train-rmse:4.26316#011validation-rmse:4.35866\u001B[0m\n",
      "\u001B[34m[22:08:32] src/tree/updater_prune.cc:74: tree pruning end, 1 roots, 18 extra nodes, 0 pruned nodes, max_depth=4\u001B[0m\n",
      "\u001B[34m[35]#011train-rmse:4.10478#011validation-rmse:4.21759\u001B[0m\n",
      "\u001B[34m[22:08:32] src/tree/updater_prune.cc:74: tree pruning end, 1 roots, 16 extra nodes, 2 pruned nodes, max_depth=4\u001B[0m\n",
      "\u001B[34m[36]#011train-rmse:3.95489#011validation-rmse:4.11771\u001B[0m\n",
      "\u001B[34m[22:08:32] src/tree/updater_prune.cc:74: tree pruning end, 1 roots, 24 extra nodes, 2 pruned nodes, max_depth=4\u001B[0m\n",
      "\u001B[34m[37]#011train-rmse:3.80713#011validation-rmse:3.99067\u001B[0m\n",
      "\u001B[34m[22:08:32] src/tree/updater_prune.cc:74: tree pruning end, 1 roots, 16 extra nodes, 2 pruned nodes, max_depth=4\u001B[0m\n",
      "\u001B[34m[38]#011train-rmse:3.67245#011validation-rmse:3.9022\u001B[0m\n",
      "\u001B[34m[22:08:32] src/tree/updater_prune.cc:74: tree pruning end, 1 roots, 20 extra nodes, 2 pruned nodes, max_depth=4\u001B[0m\n",
      "\u001B[34m[39]#011train-rmse:3.53812#011validation-rmse:3.83333\u001B[0m\n",
      "\u001B[34m[22:08:32] src/tree/updater_prune.cc:74: tree pruning end, 1 roots, 16 extra nodes, 4 pruned nodes, max_depth=4\u001B[0m\n",
      "\u001B[34m[40]#011train-rmse:3.42532#011validation-rmse:3.75828\u001B[0m\n",
      "\u001B[34m[22:08:32] src/tree/updater_prune.cc:74: tree pruning end, 1 roots, 14 extra nodes, 0 pruned nodes, max_depth=4\u001B[0m\n",
      "\u001B[34m[41]#011train-rmse:3.31336#011validation-rmse:3.67336\u001B[0m\n",
      "\u001B[34m[22:08:32] src/tree/updater_prune.cc:74: tree pruning end, 1 roots, 18 extra nodes, 2 pruned nodes, max_depth=4\u001B[0m\n",
      "\u001B[34m[42]#011train-rmse:3.2043#011validation-rmse:3.59483\u001B[0m\n",
      "\u001B[34m[22:08:32] src/tree/updater_prune.cc:74: tree pruning end, 1 roots, 20 extra nodes, 2 pruned nodes, max_depth=4\u001B[0m\n",
      "\u001B[34m[43]#011train-rmse:3.09505#011validation-rmse:3.5201\u001B[0m\n",
      "\u001B[34m[22:08:32] src/tree/updater_prune.cc:74: tree pruning end, 1 roots, 18 extra nodes, 0 pruned nodes, max_depth=4\u001B[0m\n",
      "\u001B[34m[44]#011train-rmse:3.00588#011validation-rmse:3.47117\u001B[0m\n",
      "\u001B[34m[22:08:32] src/tree/updater_prune.cc:74: tree pruning end, 1 roots, 18 extra nodes, 0 pruned nodes, max_depth=4\u001B[0m\n",
      "\u001B[34m[45]#011train-rmse:2.91769#011validation-rmse:3.42946\u001B[0m\n",
      "\u001B[34m[22:08:32] src/tree/updater_prune.cc:74: tree pruning end, 1 roots, 16 extra nodes, 0 pruned nodes, max_depth=4\u001B[0m\n",
      "\u001B[34m[46]#011train-rmse:2.83916#011validation-rmse:3.37585\u001B[0m\n",
      "\u001B[34m[22:08:32] src/tree/updater_prune.cc:74: tree pruning end, 1 roots, 20 extra nodes, 0 pruned nodes, max_depth=4\u001B[0m\n",
      "\u001B[34m[47]#011train-rmse:2.76418#011validation-rmse:3.32882\u001B[0m\n",
      "\u001B[34m[22:08:32] src/tree/updater_prune.cc:74: tree pruning end, 1 roots, 22 extra nodes, 0 pruned nodes, max_depth=4\u001B[0m\n",
      "\u001B[34m[48]#011train-rmse:2.6869#011validation-rmse:3.29551\u001B[0m\n",
      "\u001B[34m[22:08:32] src/tree/updater_prune.cc:74: tree pruning end, 1 roots, 14 extra nodes, 6 pruned nodes, max_depth=4\u001B[0m\n",
      "\u001B[34m[49]#011train-rmse:2.61774#011validation-rmse:3.27136\u001B[0m\n",
      "\u001B[34m[22:08:32] src/tree/updater_prune.cc:74: tree pruning end, 1 roots, 14 extra nodes, 4 pruned nodes, max_depth=4\u001B[0m\n",
      "\u001B[34m[50]#011train-rmse:2.55148#011validation-rmse:3.23149\u001B[0m\n",
      "\u001B[34m[22:08:32] src/tree/updater_prune.cc:74: tree pruning end, 1 roots, 18 extra nodes, 4 pruned nodes, max_depth=4\u001B[0m\n",
      "\u001B[34m[51]#011train-rmse:2.48195#011validation-rmse:3.19584\u001B[0m\n",
      "\u001B[34m[22:08:32] src/tree/updater_prune.cc:74: tree pruning end, 1 roots, 12 extra nodes, 0 pruned nodes, max_depth=4\u001B[0m\n",
      "\u001B[34m[52]#011train-rmse:2.43303#011validation-rmse:3.17324\u001B[0m\n",
      "\u001B[34m[22:08:32] src/tree/updater_prune.cc:74: tree pruning end, 1 roots, 20 extra nodes, 2 pruned nodes, max_depth=4\u001B[0m\n",
      "\u001B[34m[53]#011train-rmse:2.37949#011validation-rmse:3.14962\u001B[0m\n",
      "\u001B[34m[22:08:32] src/tree/updater_prune.cc:74: tree pruning end, 1 roots, 16 extra nodes, 4 pruned nodes, max_depth=4\u001B[0m\n",
      "\u001B[34m[54]#011train-rmse:2.33448#011validation-rmse:3.14093\u001B[0m\n",
      "\u001B[34m[22:08:32] src/tree/updater_prune.cc:74: tree pruning end, 1 roots, 16 extra nodes, 0 pruned nodes, max_depth=4\u001B[0m\n",
      "\u001B[34m[55]#011train-rmse:2.28391#011validation-rmse:3.12749\u001B[0m\n",
      "\u001B[34m[22:08:32] src/tree/updater_prune.cc:74: tree pruning end, 1 roots, 16 extra nodes, 2 pruned nodes, max_depth=4\u001B[0m\n",
      "\u001B[34m[56]#011train-rmse:2.24321#011validation-rmse:3.10541\u001B[0m\n",
      "\u001B[34m[22:08:32] src/tree/updater_prune.cc:74: tree pruning end, 1 roots, 14 extra nodes, 4 pruned nodes, max_depth=4\u001B[0m\n",
      "\u001B[34m[57]#011train-rmse:2.20466#011validation-rmse:3.08086\u001B[0m\n",
      "\u001B[34m[22:08:32] src/tree/updater_prune.cc:74: tree pruning end, 1 roots, 16 extra nodes, 0 pruned nodes, max_depth=4\u001B[0m\n",
      "\u001B[34m[58]#011train-rmse:2.16817#011validation-rmse:3.0727\u001B[0m\n",
      "\u001B[34m[22:08:32] src/tree/updater_prune.cc:74: tree pruning end, 1 roots, 18 extra nodes, 0 pruned nodes, max_depth=4\u001B[0m\n",
      "\u001B[34m[59]#011train-rmse:2.12976#011validation-rmse:3.06383\u001B[0m\n",
      "\u001B[34m[22:08:32] src/tree/updater_prune.cc:74: tree pruning end, 1 roots, 12 extra nodes, 2 pruned nodes, max_depth=4\u001B[0m\n",
      "\u001B[34m[60]#011train-rmse:2.09421#011validation-rmse:3.04971\u001B[0m\n",
      "\u001B[34m[22:08:32] src/tree/updater_prune.cc:74: tree pruning end, 1 roots, 14 extra nodes, 0 pruned nodes, max_depth=4\u001B[0m\n",
      "\u001B[34m[61]#011train-rmse:2.06181#011validation-rmse:3.04236\u001B[0m\n",
      "\u001B[34m[22:08:32] src/tree/updater_prune.cc:74: tree pruning end, 1 roots, 16 extra nodes, 4 pruned nodes, max_depth=4\u001B[0m\n",
      "\u001B[34m[62]#011train-rmse:2.02449#011validation-rmse:3.03598\u001B[0m\n",
      "\u001B[34m[22:08:32] src/tree/updater_prune.cc:74: tree pruning end, 1 roots, 16 extra nodes, 2 pruned nodes, max_depth=4\u001B[0m\n",
      "\u001B[34m[63]#011train-rmse:1.99737#011validation-rmse:3.02785\u001B[0m\n",
      "\u001B[34m[22:08:32] src/tree/updater_prune.cc:74: tree pruning end, 1 roots, 12 extra nodes, 4 pruned nodes, max_depth=4\u001B[0m\n",
      "\u001B[34m[64]#011train-rmse:1.96969#011validation-rmse:3.01346\u001B[0m\n",
      "\u001B[34m[22:08:32] src/tree/updater_prune.cc:74: tree pruning end, 1 roots, 16 extra nodes, 6 pruned nodes, max_depth=4\u001B[0m\n",
      "\u001B[34m[65]#011train-rmse:1.93417#011validation-rmse:3.00434\u001B[0m\n",
      "\u001B[34m[22:08:32] src/tree/updater_prune.cc:74: tree pruning end, 1 roots, 16 extra nodes, 0 pruned nodes, max_depth=4\u001B[0m\n",
      "\u001B[34m[66]#011train-rmse:1.90887#011validation-rmse:3.0032\u001B[0m\n",
      "\u001B[34m[22:08:32] src/tree/updater_prune.cc:74: tree pruning end, 1 roots, 20 extra nodes, 2 pruned nodes, max_depth=4\u001B[0m\n",
      "\u001B[34m[67]#011train-rmse:1.87795#011validation-rmse:2.98997\u001B[0m\n",
      "\u001B[34m[22:08:32] src/tree/updater_prune.cc:74: tree pruning end, 1 roots, 22 extra nodes, 4 pruned nodes, max_depth=4\u001B[0m\n",
      "\u001B[34m[68]#011train-rmse:1.8469#011validation-rmse:2.98838\u001B[0m\n",
      "\u001B[34m[22:08:32] src/tree/updater_prune.cc:74: tree pruning end, 1 roots, 14 extra nodes, 4 pruned nodes, max_depth=4\u001B[0m\n",
      "\u001B[34m[69]#011train-rmse:1.82824#011validation-rmse:2.99103\u001B[0m\n",
      "\u001B[34m[22:08:32] src/tree/updater_prune.cc:74: tree pruning end, 1 roots, 20 extra nodes, 2 pruned nodes, max_depth=4\u001B[0m\n",
      "\u001B[34m[70]#011train-rmse:1.80246#011validation-rmse:2.97679\u001B[0m\n",
      "\u001B[34m[22:08:32] src/tree/updater_prune.cc:74: tree pruning end, 1 roots, 20 extra nodes, 0 pruned nodes, max_depth=4\u001B[0m\n",
      "\u001B[34m[71]#011train-rmse:1.77646#011validation-rmse:2.97367\u001B[0m\n",
      "\u001B[34m[22:08:32] src/tree/updater_prune.cc:74: tree pruning end, 1 roots, 18 extra nodes, 4 pruned nodes, max_depth=4\u001B[0m\n",
      "\u001B[34m[72]#011train-rmse:1.74834#011validation-rmse:2.96886\u001B[0m\n",
      "\u001B[34m[22:08:32] src/tree/updater_prune.cc:74: tree pruning end, 1 roots, 20 extra nodes, 6 pruned nodes, max_depth=4\u001B[0m\n",
      "\u001B[34m[73]#011train-rmse:1.72711#011validation-rmse:2.96562\u001B[0m\n",
      "\u001B[34m[22:08:32] src/tree/updater_prune.cc:74: tree pruning end, 1 roots, 16 extra nodes, 8 pruned nodes, max_depth=4\u001B[0m\n",
      "\u001B[34m[74]#011train-rmse:1.70872#011validation-rmse:2.96476\u001B[0m\n",
      "\u001B[34m[22:08:32] src/tree/updater_prune.cc:74: tree pruning end, 1 roots, 12 extra nodes, 0 pruned nodes, max_depth=4\u001B[0m\n",
      "\u001B[34m[75]#011train-rmse:1.69491#011validation-rmse:2.96669\u001B[0m\n",
      "\u001B[34m[22:08:32] src/tree/updater_prune.cc:74: tree pruning end, 1 roots, 14 extra nodes, 6 pruned nodes, max_depth=4\u001B[0m\n",
      "\u001B[34m[76]#011train-rmse:1.67872#011validation-rmse:2.97049\u001B[0m\n",
      "\u001B[34m[22:08:32] src/tree/updater_prune.cc:74: tree pruning end, 1 roots, 14 extra nodes, 2 pruned nodes, max_depth=4\u001B[0m\n",
      "\u001B[34m[77]#011train-rmse:1.66294#011validation-rmse:2.97095\u001B[0m\n",
      "\u001B[34m[22:08:32] src/tree/updater_prune.cc:74: tree pruning end, 1 roots, 14 extra nodes, 0 pruned nodes, max_depth=4\u001B[0m\n",
      "\u001B[34m[78]#011train-rmse:1.6453#011validation-rmse:2.97834\u001B[0m\n",
      "\u001B[34m[22:08:32] src/tree/updater_prune.cc:74: tree pruning end, 1 roots, 18 extra nodes, 4 pruned nodes, max_depth=4\u001B[0m\n",
      "\u001B[34m[79]#011train-rmse:1.62491#011validation-rmse:2.97834\u001B[0m\n",
      "\u001B[34m[22:08:32] src/tree/updater_prune.cc:74: tree pruning end, 1 roots, 16 extra nodes, 2 pruned nodes, max_depth=4\u001B[0m\n",
      "\u001B[34m[80]#011train-rmse:1.60737#011validation-rmse:2.96869\u001B[0m\n",
      "\u001B[34m[22:08:32] src/tree/updater_prune.cc:74: tree pruning end, 1 roots, 20 extra nodes, 6 pruned nodes, max_depth=4\u001B[0m\n",
      "\u001B[34m[81]#011train-rmse:1.586#011validation-rmse:2.97197\u001B[0m\n",
      "\u001B[34m[22:08:32] src/tree/updater_prune.cc:74: tree pruning end, 1 roots, 12 extra nodes, 4 pruned nodes, max_depth=4\u001B[0m\n",
      "\u001B[34m[82]#011train-rmse:1.57378#011validation-rmse:2.98322\u001B[0m\n",
      "\u001B[34m[22:08:32] src/tree/updater_prune.cc:74: tree pruning end, 1 roots, 16 extra nodes, 2 pruned nodes, max_depth=4\u001B[0m\n",
      "\u001B[34m[83]#011train-rmse:1.55802#011validation-rmse:2.98206\u001B[0m\n",
      "\u001B[34m[22:08:32] src/tree/updater_prune.cc:74: tree pruning end, 1 roots, 10 extra nodes, 0 pruned nodes, max_depth=4\u001B[0m\n",
      "\u001B[34m[84]#011train-rmse:1.5461#011validation-rmse:2.98259\u001B[0m\n",
      "\u001B[34mStopping. Best iteration:\u001B[0m\n",
      "\u001B[34m[74]#011train-rmse:1.70872#011validation-rmse:2.96476\n",
      "\u001B[0m\n",
      "Training seconds: 56\n",
      "Billable seconds: 56\n"
     ]
    }
   ],
   "source": [
    "xgb_attached = sagemaker.estimator.Estimator.attach(xgb_hyperparameter_tuner.best_training_job())"
   ]
  },
  {
   "cell_type": "markdown",
   "metadata": {},
   "source": [
    "## Step 5: Test the model\n",
    "\n",
    "Now that we have our best performing model, we can test it. To do this we will use the batch transform functionality. To start with, we need to build a transformer object from our fit model."
   ]
  },
  {
   "cell_type": "code",
   "execution_count": 27,
   "metadata": {},
   "outputs": [
    {
     "name": "stderr",
     "output_type": "stream",
     "text": [
      "WARNING:sagemaker:Parameter image will be renamed to image_uri in SageMaker Python SDK v2.\n"
     ]
    }
   ],
   "source": [
    "xgb_transformer = xgb_attached.transformer(\n",
    "    instance_count = 1,\n",
    "    instance_type = 'ml.m4.xlarge',\n",
    "    tags=[dict(Key='owner', Value='email')],\n",
    ")"
   ]
  },
  {
   "cell_type": "markdown",
   "metadata": {},
   "source": [
    "Next we ask SageMaker to begin a batch transform job using our trained model and applying it to the test data we previous stored in S3. We need to make sure to provide SageMaker with the type of data that we are providing to our model, in our case `text/csv`, so that it knows how to serialize our data. In addition, we need to make sure to let SageMaker know how to split our data up into chunks if the entire data set happens to be too large to send to our model all at once.\n",
    "\n",
    "Note that when we ask SageMaker to do this it will execute the batch transform job in the background. Since we need to wait for the results of this job before we can continue, we use the `wait()` method. An added benefit of this is that we get some output from our batch transform job which lets us know if anything went wrong."
   ]
  },
  {
   "cell_type": "code",
   "execution_count": 28,
   "metadata": {},
   "outputs": [],
   "source": [
    "xgb_transformer.transform(test_location, content_type='text/csv', split_type='Line')"
   ]
  },
  {
   "cell_type": "code",
   "execution_count": 29,
   "metadata": {},
   "outputs": [
    {
     "name": "stdout",
     "output_type": "stream",
     "text": [
      ".....................\u001B[34mArguments: serve\u001B[0m\n",
      "\u001B[34m[2020-06-07 22:17:52 +0000] [1] [INFO] Starting gunicorn 19.7.1\u001B[0m\n",
      "\u001B[34m[2020-06-07 22:17:52 +0000] [1] [INFO] Listening at: http://0.0.0.0:8080 (1)\u001B[0m\n",
      "\u001B[34m[2020-06-07 22:17:52 +0000] [1] [INFO] Using worker: gevent\u001B[0m\n",
      "\u001B[34m[2020-06-07 22:17:52 +0000] [38] [INFO] Booting worker with pid: 38\u001B[0m\n",
      "\u001B[34m[2020-06-07 22:17:52 +0000] [39] [INFO] Booting worker with pid: 39\u001B[0m\n",
      "\u001B[34m[2020-06-07:22:17:53:INFO] Model loaded successfully for worker : 38\u001B[0m\n",
      "\u001B[34m[2020-06-07 22:17:53 +0000] [40] [INFO] Booting worker with pid: 40\u001B[0m\n",
      "\u001B[34m[2020-06-07 22:17:53 +0000] [41] [INFO] Booting worker with pid: 41\u001B[0m\n",
      "\u001B[34m[2020-06-07:22:17:53:INFO] Model loaded successfully for worker : 40\u001B[0m\n",
      "\u001B[34m[2020-06-07:22:17:53:INFO] Model loaded successfully for worker : 39\u001B[0m\n",
      "\u001B[34m[2020-06-07:22:17:53:INFO] Model loaded successfully for worker : 41\u001B[0m\n",
      "\u001B[32m2020-06-07T22:18:13.381:[sagemaker logs]: MaxConcurrentTransforms=4, MaxPayloadInMB=6, BatchStrategy=MULTI_RECORD\u001B[0m\n",
      "\u001B[34m[2020-06-07:22:18:13:INFO] Sniff delimiter as ','\u001B[0m\n",
      "\u001B[34m[2020-06-07:22:18:13:INFO] Determined delimiter of CSV input is ','\u001B[0m\n",
      "\u001B[35m[2020-06-07:22:18:13:INFO] Sniff delimiter as ','\u001B[0m\n",
      "\u001B[35m[2020-06-07:22:18:13:INFO] Determined delimiter of CSV input is ','\u001B[0m\n",
      "\n"
     ]
    }
   ],
   "source": [
    "xgb_transformer.wait()"
   ]
  },
  {
   "cell_type": "markdown",
   "metadata": {},
   "source": [
    "Now that the batch transform job has finished, the resulting output is stored on S3. Since we wish to analyze the output inside of our notebook we can use a bit of notebook magic to copy the output file from its S3 location and save it locally."
   ]
  },
  {
   "cell_type": "code",
   "execution_count": 30,
   "metadata": {},
   "outputs": [
    {
     "name": "stdout",
     "output_type": "stream",
     "text": [
      "Completed 2.3 KiB/2.3 KiB (34.5 KiB/s) with 1 file(s) remaining\r",
      "download: s3://sagemaker-us-west-2-754745079939/xgboost-200607-2147-018-e9a5fcc9-2020-06-07-22-14-40-701/test.csv.out to ../data/boston/test.csv.out\r\n"
     ]
    }
   ],
   "source": [
    "!aws s3 cp --recursive $xgb_transformer.output_path $data_dir"
   ]
  },
  {
   "cell_type": "markdown",
   "metadata": {},
   "source": [
    "To see how well our model works we can create a simple scatter plot between the predicted and actual values. If the model was completely accurate the resulting scatter plot would look like the line $x=y$. As we can see, our model seems to have done okay but there is room for improvement."
   ]
  },
  {
   "cell_type": "code",
   "execution_count": 31,
   "metadata": {},
   "outputs": [],
   "source": [
    "Y_pred = pd.read_csv(os.path.join(data_dir, 'test.csv.out'), header=None)"
   ]
  },
  {
   "cell_type": "code",
   "execution_count": 32,
   "metadata": {},
   "outputs": [
    {
     "data": {
      "text/plain": [
       "Text(0.5, 1.0, 'Median Price vs Predicted Price')"
      ]
     },
     "execution_count": 32,
     "metadata": {},
     "output_type": "execute_result"
    },
    {
     "data": {
      "image/png": "[encoded data removed]",
      "text/plain": [
       "<Figure size 432x288 with 1 Axes>"
      ]
     },
     "metadata": {
      "needs_background": "light"
     },
     "output_type": "display_data"
    }
   ],
   "source": [
    "plt.scatter(Y_test, Y_pred)\n",
    "plt.xlabel(\"Median Price\")\n",
    "plt.ylabel(\"Predicted Price\")\n",
    "plt.title(\"Median Price vs Predicted Price\")"
   ]
  },
  {
   "cell_type": "markdown",
   "metadata": {},
   "source": [
    "## Optional: Clean up\n",
    "\n",
    "The default notebook instance on SageMaker doesn't have a lot of excess disk space available. As you continue to complete and execute notebooks you will eventually fill up this disk space, leading to errors which can be difficult to diagnose. Once you are completely finished using a notebook it is a good idea to remove the files that you created along the way. Of course, you can do this from the terminal or from the notebook hub if you would like. The cell below contains some commands to clean up the created files from within the notebook."
   ]
  },
  {
   "cell_type": "code",
   "execution_count": null,
   "metadata": {},
   "outputs": [],
   "source": [
    "# First we will remove all of the files contained in the data_dir directory\n",
    "!rm $data_dir/*\n",
    "\n",
    "# And then we delete the directory itself\n",
    "!rmdir $data_dir"
   ]
  },
  {
   "cell_type": "code",
   "execution_count": null,
   "metadata": {},
   "outputs": [],
   "source": []
  }
 ],
 "metadata": {
  "kernelspec": {
   "display_name": "conda_pytorch_p36",
   "language": "python",
   "name": "conda_pytorch_p36"
  },
  "language_info": {
   "codemirror_mode": {
    "name": "ipython",
    "version": 3
   },
   "file_extension": ".py",
   "mimetype": "text/x-python",
   "name": "python",
   "nbconvert_exporter": "python",
   "pygments_lexer": "ipython3",
   "version": "3.6.10"
  }
 },
 "nbformat": 4,
 "nbformat_minor": 2
}