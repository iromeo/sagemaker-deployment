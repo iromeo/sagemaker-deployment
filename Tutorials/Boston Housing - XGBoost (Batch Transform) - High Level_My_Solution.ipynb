{
 "cells": [
  {
   "cell_type": "markdown",
   "metadata": {},
   "source": [
    "# Predicting Boston Housing Prices\n",
    "\n",
    "## Using XGBoost in SageMaker (Batch Transform)\n",
    "\n",
    "_Deep Learning Nanodegree Program | Deployment_\n",
    "\n",
    "---\n",
    "\n",
    "As an introduction to using SageMaker's High Level Python API we will look at a relatively simple problem. Namely, we will use the [Boston Housing Dataset](https://www.cs.toronto.edu/~delve/data/boston/bostonDetail.html) to predict the median value of a home in the area of Boston Mass.\n",
    "\n",
    "The documentation for the high level API can be found on the [ReadTheDocs page](http://sagemaker.readthedocs.io/en/latest/)\n",
    "\n",
    "## General Outline\n",
    "\n",
    "Typically, when using a notebook instance with SageMaker, you will proceed through the following steps. Of course, not every step will need to be done with each project. Also, there is quite a lot of room for variation in many of the steps, as you will see throughout these lessons.\n",
    "\n",
    "1. Download or otherwise retrieve the data.\n",
    "2. Process / Prepare the data.\n",
    "3. Upload the processed data to S3.\n",
    "4. Train a chosen model.\n",
    "5. Test the trained model (typically using a batch transform job).\n",
    "6. Deploy the trained model.\n",
    "7. Use the deployed model.\n",
    "\n",
    "In this notebook we will only be covering steps 1 through 5 as we just want to get a feel for using SageMaker. In later notebooks we will talk about deploying a trained model in much more detail."
   ]
  },
  {
   "cell_type": "markdown",
   "metadata": {},
   "source": [
    "## Step 0: Setting up the notebook\n",
    "\n",
    "We begin by setting up all of the necessary bits required to run our notebook. To start that means loading all of the Python modules we will need."
   ]
  },
  {
   "cell_type": "code",
   "execution_count": 1,
   "metadata": {},
   "outputs": [],
   "source": [
    "%matplotlib inline\n",
    "\n",
    "import os\n",
    "\n",
    "import numpy as np\n",
    "import pandas as pd\n",
    "\n",
    "import matplotlib.pyplot as plt\n",
    "\n",
    "from sklearn.datasets import load_boston\n",
    "import sklearn.model_selection"
   ]
  },
  {
   "cell_type": "markdown",
   "metadata": {},
   "source": [
    "In addition to the modules above, we need to import the various bits of SageMaker that we will be using. "
   ]
  },
  {
   "cell_type": "code",
   "execution_count": 5,
   "metadata": {},
   "outputs": [],
   "source": [
    "import sagemaker\n",
    "from sagemaker import get_execution_role\n",
    "from sagemaker.amazon.amazon_estimator import get_image_uri\n",
    "from sagemaker.predictor import csv_serializer\n",
    "\n",
    "# This is an object that represents the SageMaker session that we are currently operating in. This\n",
    "# object contains some useful information that we will need to access later such as our region.\n",
    "session = sagemaker.Session()\n",
    "# bucket = session.default_bucket()\n",
    "bucket = \"romeo-sandbox\"\n",
    "\n",
    "# This is an object that represents the IAM role that we are currently assigned. When we construct\n",
    "# and launch the training job later we will need to tell it what IAM role it should have. Since our\n",
    "# use case is relatively simple we will simply assign the training job the role we currently have.\n",
    "role = get_execution_role()"
   ]
  },
  {
   "cell_type": "code",
   "execution_count": 7,
   "metadata": {},
   "outputs": [
    {
     "name": "stdout",
     "output_type": "stream",
     "text": [
      "romeo-sandbox\n"
     ]
    }
   ],
   "source": [
    "print(bucket)"
   ]
  },
  {
   "cell_type": "markdown",
   "metadata": {},
   "source": [
    "## Step 1: Downloading the data\n",
    "\n",
    "Fortunately, this dataset can be retrieved using sklearn and so this step is relatively straightforward."
   ]
  },
  {
   "cell_type": "code",
   "execution_count": 8,
   "metadata": {},
   "outputs": [],
   "source": [
    "boston = load_boston()"
   ]
  },
  {
   "cell_type": "markdown",
   "metadata": {},
   "source": [
    "## Step 2: Preparing and splitting the data\n",
    "\n",
    "Given that this is clean tabular data, we don't need to do any processing. However, we do need to split the rows in the dataset up into train, test and validation sets."
   ]
  },
  {
   "cell_type": "code",
   "execution_count": 9,
   "metadata": {},
   "outputs": [],
   "source": [
    "# First we package up the input data and the target variable (the median value) as pandas dataframes. This\n",
    "# will make saving the data to a file a little easier later on.\n",
    "\n",
    "X_bos_pd = pd.DataFrame(boston.data, columns=boston.feature_names)\n",
    "Y_bos_pd = pd.DataFrame(boston.target)\n",
    "\n",
    "# We split the dataset into 2/3 training and 1/3 testing sets.\n",
    "X_train, X_test, Y_train, Y_test = sklearn.model_selection.train_test_split(X_bos_pd, Y_bos_pd, test_size=0.33)\n",
    "\n",
    "# Then we split the training set further into 2/3 training and 1/3 validation sets.\n",
    "X_train, X_val, Y_train, Y_val = sklearn.model_selection.train_test_split(X_train, Y_train, test_size=0.33)"
   ]
  },
  {
   "cell_type": "markdown",
   "metadata": {},
   "source": [
    "## Step 3: Uploading the data files to S3\n",
    "\n",
    "When a training job is constructed using SageMaker, a container is executed which performs the training operation. This container is given access to data that is stored in S3. This means that we need to upload the data we want to use for training to S3. In addition, when we perform a batch transform job, SageMaker expects the input data to be stored on S3. We can use the SageMaker API to do this and hide some of the details.\n",
    "\n",
    "### Save the data locally\n",
    "\n",
    "First we need to create the test, train and validation csv files which we will then upload to S3."
   ]
  },
  {
   "cell_type": "code",
   "execution_count": 10,
   "metadata": {},
   "outputs": [],
   "source": [
    "# This is our local data directory. We need to make sure that it exists.\n",
    "data_dir = '../data/boston'\n",
    "if not os.path.exists(data_dir):\n",
    "    os.makedirs(data_dir)"
   ]
  },
  {
   "cell_type": "code",
   "execution_count": 11,
   "metadata": {},
   "outputs": [],
   "source": [
    "# We use pandas to save our test, train and validation data to csv files. Note that we make sure not to include header\n",
    "# information or an index as this is required by the built in algorithms provided by Amazon. Also, for the train and\n",
    "# validation data, it is assumed that the first entry in each row is the target variable.\n",
    "\n",
    "X_test.to_csv(os.path.join(data_dir, 'test.csv'), header=False, index=False)\n",
    "\n",
    "pd.concat([Y_val, X_val], axis=1).to_csv(os.path.join(data_dir, 'validation.csv'), header=False, index=False)\n",
    "pd.concat([Y_train, X_train], axis=1).to_csv(os.path.join(data_dir, 'train.csv'), header=False, index=False)"
   ]
  },
  {
   "cell_type": "markdown",
   "metadata": {},
   "source": [
    "### Upload to S3\n",
    "\n",
    "Since we are currently running inside of a SageMaker session, we can use the object which represents this session to upload our data to the 'default' S3 bucket. Note that it is good practice to provide a custom prefix (essentially an S3 folder) to make sure that you don't accidentally interfere with data uploaded from some other notebook or project."
   ]
  },
  {
   "cell_type": "code",
   "execution_count": 12,
   "metadata": {},
   "outputs": [],
   "source": [
    "from sagemaker.s3 import S3Uploader"
   ]
  },
  {
   "cell_type": "code",
   "execution_count": 15,
   "metadata": {},
   "outputs": [
    {
     "name": "stderr",
     "output_type": "stream",
     "text": [
      "Parameter 'session' will be renamed to 'sagemaker_session' in SageMaker Python SDK v2.\n",
      "'upload_data' method will be deprecated in favor of 'S3Uploader' class (https://sagemaker.readthedocs.io/en/stable/s3.html#sagemaker.s3.S3Uploader) in SageMaker Python SDK v2.\n",
      "Parameter 'session' will be renamed to 'sagemaker_session' in SageMaker Python SDK v2.\n",
      "'upload_data' method will be deprecated in favor of 'S3Uploader' class (https://sagemaker.readthedocs.io/en/stable/s3.html#sagemaker.s3.S3Uploader) in SageMaker Python SDK v2.\n",
      "Parameter 'session' will be renamed to 'sagemaker_session' in SageMaker Python SDK v2.\n",
      "'upload_data' method will be deprecated in favor of 'S3Uploader' class (https://sagemaker.readthedocs.io/en/stable/s3.html#sagemaker.s3.S3Uploader) in SageMaker Python SDK v2.\n"
     ]
    }
   ],
   "source": [
    "prefix = 'boston-xgboost-HL'\n",
    "\n",
    "# sagemaker_session = session in  in SageMaker Python SDK v2 \n",
    "s3_kw = dict(session = session)\n",
    "desired_s3_uri = f\"s3://{bucket}/{prefix}\"\n",
    "\n",
    "test_location = S3Uploader.upload(os.path.join(data_dir, 'test.csv'), desired_s3_uri, **s3_kw)\n",
    "val_location = S3Uploader.upload(os.path.join(data_dir, 'validation.csv'), desired_s3_uri, **s3_kw)\n",
    "train_location = S3Uploader.upload(os.path.join(data_dir, 'train.csv'), desired_s3_uri, **s3_kw)"
   ]
  },
  {
   "cell_type": "code",
   "execution_count": 16,
   "metadata": {},
   "outputs": [
    {
     "name": "stdout",
     "output_type": "stream",
     "text": [
      "s3://romeo-sandbox/boston-xgboost-HL/train.csv\n"
     ]
    }
   ],
   "source": [
    "print(train_location)"
   ]
  },
  {
   "cell_type": "code",
   "execution_count": 17,
   "metadata": {},
   "outputs": [],
   "source": [
    "# prefix = 'boston-xgboost-HL'\n",
    "\n",
    "# test_location = session.upload_data(os.path.join(data_dir, 'test.csv'), key_prefix=prefix)\n",
    "# val_location = session.upload_data(os.path.join(data_dir, 'validation.csv'), key_prefix=prefix)\n",
    "# train_location = session.upload_data(os.path.join(data_dir, 'train.csv'), key_prefix=prefix)"
   ]
  },
  {
   "cell_type": "markdown",
   "metadata": {},
   "source": [
    "## Step 4: Train the XGBoost model\n",
    "\n",
    "Now that we have the training and validation data uploaded to S3, we can construct our XGBoost model and train it. We will be making use of the high level SageMaker API to do this which will make the resulting code a little easier to read at the cost of some flexibility.\n",
    "\n",
    "To construct an estimator, the object which we wish to train, we need to provide the location of a container which contains the training code. Since we are using a built in algorithm this container is provided by Amazon. However, the full name of the container is a bit lengthy and depends on the region that we are operating in. Fortunately, SageMaker provides a useful utility method called `get_image_uri` that constructs the image name for us.\n",
    "\n",
    "To use the `get_image_uri` method we need to provide it with our current region, which can be obtained from the session object, and the name of the algorithm we wish to use. In this notebook we will be using XGBoost however you could try another algorithm if you wish. The list of built in algorithms can be found in the list of [Common Parameters](https://docs.aws.amazon.com/sagemaker/latest/dg/sagemaker-algo-docker-registry-paths.html)."
   ]
  },
  {
   "cell_type": "code",
   "execution_count": 25,
   "metadata": {},
   "outputs": [
    {
     "name": "stderr",
     "output_type": "stream",
     "text": [
      "WARNING:sagemaker.amazon.amazon_estimator:'get_image_uri' method will be deprecated in favor of 'ImageURIProvider' class in SageMaker Python SDK v2.\n",
      "WARNING:root:There is a more up to date SageMaker XGBoost image. To use the newer image, please set 'repo_version'='1.0-1'. For example:\n",
      "\tget_image_uri(region, 'xgboost', '1.0-1').\n",
      "WARNING:root:Parameter image_name will be renamed to image_uri in SageMaker Python SDK v2.\n"
     ]
    },
    {
     "name": "stdout",
     "output_type": "stream",
     "text": [
      "433757028032.dkr.ecr.us-west-2.amazonaws.com/xgboost:1\n"
     ]
    }
   ],
   "source": [
    "# As stated above, we use this utility method to construct the image name for the training container.\n",
    "container = get_image_uri(session.boto_region_name, 'xgboost')\n",
    "print(container)\n",
    "\n",
    "# Now that we know which container to use, we can construct the estimator object.\n",
    "xgb = sagemaker.estimator.Estimator(container, # The image name of the training container\n",
    "                                    role,      # The IAM role to use (our current role in this case)\n",
    "                                    train_instance_count=1, # The number of instances to use for training\n",
    "                                    train_instance_type='ml.m4.xlarge', # The type of instance to use for training\n",
    "                                    output_path='s3://{}/{}/output'.format(bucket, prefix), # Where to save the output (the model artifacts)\n",
    "                                    tags=dict(owner='....'),\n",
    "                                    sagemaker_session=session) # The current SageMaker session"
   ]
  },
  {
   "cell_type": "markdown",
   "metadata": {},
   "source": [
    "Before asking SageMaker to begin the training job, we should probably set any model specific hyperparameters. There are quite a few that can be set when using the XGBoost algorithm, below are just a few of them. If you would like to change the hyperparameters below or modify additional ones you can find additional information on the [XGBoost hyperparameter page](https://docs.aws.amazon.com/sagemaker/latest/dg/xgboost_hyperparameters.html)"
   ]
  },
  {
   "cell_type": "code",
   "execution_count": 26,
   "metadata": {},
   "outputs": [],
   "source": [
    "xgb.set_hyperparameters(max_depth=5,\n",
    "                        eta=0.2,\n",
    "                        gamma=4,\n",
    "                        min_child_weight=6,\n",
    "                        subsample=0.8,\n",
    "                        objective='reg:linear',\n",
    "                        early_stopping_rounds=10,\n",
    "                        num_round=200)"
   ]
  },
  {
   "cell_type": "markdown",
   "metadata": {},
   "source": [
    "Now that we have our estimator object completely set up, it is time to train it. To do this we make sure that SageMaker knows our input data is in csv format and then execute the `fit` method."
   ]
  },
  {
   "cell_type": "code",
   "execution_count": 32,
   "metadata": {},
   "outputs": [
    {
     "data": {
      "text/plain": [
       "'s3://romeo-sandbox/boston-xgboost-HL/train.csv'"
      ]
     },
     "execution_count": 32,
     "metadata": {},
     "output_type": "execute_result"
    }
   ],
   "source": [
    "train_location"
   ]
  },
  {
   "cell_type": "code",
   "execution_count": 27,
   "metadata": {},
   "outputs": [
    {
     "name": "stderr",
     "output_type": "stream",
     "text": [
      "WARNING:sagemaker:'s3_input' class will be renamed to 'TrainingInput' in SageMaker Python SDK v2.\n",
      "WARNING:sagemaker:'s3_input' class will be renamed to 'TrainingInput' in SageMaker Python SDK v2.\n"
     ]
    },
    {
     "name": "stdout",
     "output_type": "stream",
     "text": [
      "2020-06-07 09:59:30 Starting - Starting the training job...\n",
      "2020-06-07 09:59:32 Starting - Launching requested ML instances......\n",
      "2020-06-07 10:00:39 Starting - Preparing the instances for training...\n",
      "2020-06-07 10:01:28 Downloading - Downloading input data...\n",
      "2020-06-07 10:01:50 Training - Downloading the training image...\n",
      "2020-06-07 10:02:25 Uploading - Uploading generated training model\n",
      "2020-06-07 10:02:25 Completed - Training job completed\n",
      "\u001B[34mArguments: train\u001B[0m\n",
      "\u001B[34m[2020-06-07:10:02:13:INFO] Running standalone xgboost training.\u001B[0m\n",
      "\u001B[34m[2020-06-07:10:02:13:INFO] File size need to be processed in the node: 0.02mb. Available memory size in the node: 8479.86mb\u001B[0m\n",
      "\u001B[34m[2020-06-07:10:02:13:INFO] Determined delimiter of CSV input is ','\u001B[0m\n",
      "\u001B[34m[10:02:13] S3DistributionType set as FullyReplicated\u001B[0m\n",
      "\u001B[34m[10:02:13] 227x13 matrix with 2951 entries loaded from /opt/ml/input/data/train?format=csv&label_column=0&delimiter=,\u001B[0m\n",
      "\u001B[34m[2020-06-07:10:02:13:INFO] Determined delimiter of CSV input is ','\u001B[0m\n",
      "\u001B[34m[10:02:13] S3DistributionType set as FullyReplicated\u001B[0m\n",
      "\u001B[34m[10:02:13] 112x13 matrix with 1456 entries loaded from /opt/ml/input/data/validation?format=csv&label_column=0&delimiter=,\u001B[0m\n",
      "\u001B[34m[10:02:13] src/tree/updater_prune.cc:74: tree pruning end, 1 roots, 6 extra nodes, 0 pruned nodes, max_depth=2\u001B[0m\n",
      "\u001B[34m[0]#011train-rmse:19.1032#011validation-rmse:21.167\u001B[0m\n",
      "\u001B[34mMultiple eval metrics have been passed: 'validation-rmse' will be used for early stopping.\n",
      "\u001B[0m\n",
      "\u001B[34mWill train until validation-rmse hasn't improved in 10 rounds.\u001B[0m\n",
      "\u001B[34m[10:02:13] src/tree/updater_prune.cc:74: tree pruning end, 1 roots, 8 extra nodes, 0 pruned nodes, max_depth=3\u001B[0m\n",
      "\u001B[34m[1]#011train-rmse:15.5607#011validation-rmse:17.4678\u001B[0m\n",
      "\u001B[34m[10:02:13] src/tree/updater_prune.cc:74: tree pruning end, 1 roots, 14 extra nodes, 0 pruned nodes, max_depth=4\u001B[0m\n",
      "\u001B[34m[2]#011train-rmse:12.7757#011validation-rmse:14.6452\u001B[0m\n",
      "\u001B[34m[10:02:13] src/tree/updater_prune.cc:74: tree pruning end, 1 roots, 14 extra nodes, 2 pruned nodes, max_depth=4\u001B[0m\n",
      "\u001B[34m[3]#011train-rmse:10.532#011validation-rmse:12.3863\u001B[0m\n",
      "\u001B[34m[10:02:13] src/tree/updater_prune.cc:74: tree pruning end, 1 roots, 14 extra nodes, 2 pruned nodes, max_depth=4\u001B[0m\n",
      "\u001B[34m[4]#011train-rmse:8.70971#011validation-rmse:10.5704\u001B[0m\n",
      "\u001B[34m[10:02:13] src/tree/updater_prune.cc:74: tree pruning end, 1 roots, 18 extra nodes, 0 pruned nodes, max_depth=5\u001B[0m\n",
      "\u001B[34m[5]#011train-rmse:7.25707#011validation-rmse:9.12082\u001B[0m\n",
      "\u001B[34m[10:02:13] src/tree/updater_prune.cc:74: tree pruning end, 1 roots, 18 extra nodes, 0 pruned nodes, max_depth=5\u001B[0m\n",
      "\u001B[34m[6]#011train-rmse:6.12556#011validation-rmse:7.9873\u001B[0m\n",
      "\u001B[34m[10:02:13] src/tree/updater_prune.cc:74: tree pruning end, 1 roots, 16 extra nodes, 2 pruned nodes, max_depth=5\u001B[0m\n",
      "\u001B[34m[7]#011train-rmse:5.21501#011validation-rmse:7.1585\u001B[0m\n",
      "\u001B[34m[10:02:13] src/tree/updater_prune.cc:74: tree pruning end, 1 roots, 24 extra nodes, 0 pruned nodes, max_depth=5\u001B[0m\n",
      "\u001B[34m[8]#011train-rmse:4.53581#011validation-rmse:6.5381\u001B[0m\n",
      "\u001B[34m[10:02:13] src/tree/updater_prune.cc:74: tree pruning end, 1 roots, 18 extra nodes, 4 pruned nodes, max_depth=5\u001B[0m\n",
      "\u001B[34m[9]#011train-rmse:3.99991#011validation-rmse:6.0878\u001B[0m\n",
      "\u001B[34m[10:02:13] src/tree/updater_prune.cc:74: tree pruning end, 1 roots, 16 extra nodes, 0 pruned nodes, max_depth=5\u001B[0m\n",
      "\u001B[34m[10]#011train-rmse:3.5463#011validation-rmse:5.74265\u001B[0m\n",
      "\u001B[34m[10:02:13] src/tree/updater_prune.cc:74: tree pruning end, 1 roots, 24 extra nodes, 0 pruned nodes, max_depth=5\u001B[0m\n",
      "\u001B[34m[11]#011train-rmse:3.17096#011validation-rmse:5.4488\u001B[0m\n",
      "\u001B[34m[10:02:13] src/tree/updater_prune.cc:74: tree pruning end, 1 roots, 14 extra nodes, 2 pruned nodes, max_depth=5\u001B[0m\n",
      "\u001B[34m[12]#011train-rmse:2.91832#011validation-rmse:5.19934\u001B[0m\n",
      "\u001B[34m[10:02:13] src/tree/updater_prune.cc:74: tree pruning end, 1 roots, 26 extra nodes, 6 pruned nodes, max_depth=5\u001B[0m\n",
      "\u001B[34m[13]#011train-rmse:2.70431#011validation-rmse:5.03243\u001B[0m\n",
      "\u001B[34m[10:02:13] src/tree/updater_prune.cc:74: tree pruning end, 1 roots, 18 extra nodes, 0 pruned nodes, max_depth=5\u001B[0m\n",
      "\u001B[34m[14]#011train-rmse:2.53966#011validation-rmse:4.9407\u001B[0m\n",
      "\u001B[34m[10:02:13] src/tree/updater_prune.cc:74: tree pruning end, 1 roots, 20 extra nodes, 0 pruned nodes, max_depth=5\u001B[0m\n",
      "\u001B[34m[15]#011train-rmse:2.36381#011validation-rmse:4.84829\u001B[0m\n",
      "\u001B[34m[10:02:13] src/tree/updater_prune.cc:74: tree pruning end, 1 roots, 16 extra nodes, 4 pruned nodes, max_depth=5\u001B[0m\n",
      "\u001B[34m[16]#011train-rmse:2.24589#011validation-rmse:4.79328\u001B[0m\n",
      "\u001B[34m[10:02:13] src/tree/updater_prune.cc:74: tree pruning end, 1 roots, 18 extra nodes, 0 pruned nodes, max_depth=5\u001B[0m\n",
      "\u001B[34m[17]#011train-rmse:2.15495#011validation-rmse:4.71729\u001B[0m\n",
      "\u001B[34m[10:02:13] src/tree/updater_prune.cc:74: tree pruning end, 1 roots, 18 extra nodes, 0 pruned nodes, max_depth=5\u001B[0m\n",
      "\u001B[34m[18]#011train-rmse:2.08957#011validation-rmse:4.66507\u001B[0m\n",
      "\u001B[34m[10:02:13] src/tree/updater_prune.cc:74: tree pruning end, 1 roots, 10 extra nodes, 0 pruned nodes, max_depth=5\u001B[0m\n",
      "\u001B[34m[19]#011train-rmse:2.04641#011validation-rmse:4.61286\u001B[0m\n",
      "\u001B[34m[10:02:13] src/tree/updater_prune.cc:74: tree pruning end, 1 roots, 12 extra nodes, 0 pruned nodes, max_depth=5\u001B[0m\n",
      "\u001B[34m[20]#011train-rmse:2.00041#011validation-rmse:4.56727\u001B[0m\n",
      "\u001B[34m[10:02:13] src/tree/updater_prune.cc:74: tree pruning end, 1 roots, 18 extra nodes, 0 pruned nodes, max_depth=5\u001B[0m\n",
      "\u001B[34m[21]#011train-rmse:1.9452#011validation-rmse:4.52982\u001B[0m\n",
      "\u001B[34m[10:02:13] src/tree/updater_prune.cc:74: tree pruning end, 1 roots, 20 extra nodes, 0 pruned nodes, max_depth=5\u001B[0m\n",
      "\u001B[34m[22]#011train-rmse:1.88869#011validation-rmse:4.50994\u001B[0m\n",
      "\u001B[34m[10:02:13] src/tree/updater_prune.cc:74: tree pruning end, 1 roots, 20 extra nodes, 0 pruned nodes, max_depth=5\u001B[0m\n",
      "\u001B[34m[23]#011train-rmse:1.85795#011validation-rmse:4.52789\u001B[0m\n",
      "\u001B[34m[10:02:13] src/tree/updater_prune.cc:74: tree pruning end, 1 roots, 12 extra nodes, 0 pruned nodes, max_depth=5\u001B[0m\n",
      "\u001B[34m[24]#011train-rmse:1.84496#011validation-rmse:4.5568\u001B[0m\n",
      "\u001B[34m[10:02:13] src/tree/updater_prune.cc:74: tree pruning end, 1 roots, 16 extra nodes, 0 pruned nodes, max_depth=5\u001B[0m\n",
      "\u001B[34m[25]#011train-rmse:1.82066#011validation-rmse:4.52802\u001B[0m\n",
      "\u001B[34m[10:02:13] src/tree/updater_prune.cc:74: tree pruning end, 1 roots, 24 extra nodes, 4 pruned nodes, max_depth=5\u001B[0m\n",
      "\u001B[34m[26]#011train-rmse:1.78818#011validation-rmse:4.49354\u001B[0m\n",
      "\u001B[34m[10:02:13] src/tree/updater_prune.cc:74: tree pruning end, 1 roots, 12 extra nodes, 0 pruned nodes, max_depth=5\u001B[0m\n",
      "\u001B[34m[27]#011train-rmse:1.75268#011validation-rmse:4.49361\u001B[0m\n",
      "\u001B[34m[10:02:13] src/tree/updater_prune.cc:74: tree pruning end, 1 roots, 14 extra nodes, 0 pruned nodes, max_depth=5\u001B[0m\n",
      "\u001B[34m[28]#011train-rmse:1.7324#011validation-rmse:4.50558\u001B[0m\n",
      "\u001B[34m[10:02:13] src/tree/updater_prune.cc:74: tree pruning end, 1 roots, 14 extra nodes, 0 pruned nodes, max_depth=5\u001B[0m\n",
      "\u001B[34m[29]#011train-rmse:1.70655#011validation-rmse:4.46474\u001B[0m\n",
      "\u001B[34m[10:02:13] src/tree/updater_prune.cc:74: tree pruning end, 1 roots, 14 extra nodes, 4 pruned nodes, max_depth=5\u001B[0m\n",
      "\u001B[34m[30]#011train-rmse:1.6807#011validation-rmse:4.44187\u001B[0m\n",
      "\u001B[34m[10:02:13] src/tree/updater_prune.cc:74: tree pruning end, 1 roots, 24 extra nodes, 0 pruned nodes, max_depth=5\u001B[0m\n",
      "\u001B[34m[31]#011train-rmse:1.64905#011validation-rmse:4.4606\u001B[0m\n",
      "\u001B[34m[10:02:13] src/tree/updater_prune.cc:74: tree pruning end, 1 roots, 20 extra nodes, 4 pruned nodes, max_depth=5\u001B[0m\n",
      "\u001B[34m[32]#011train-rmse:1.59724#011validation-rmse:4.41125\u001B[0m\n",
      "\u001B[34m[10:02:13] src/tree/updater_prune.cc:74: tree pruning end, 1 roots, 20 extra nodes, 4 pruned nodes, max_depth=5\u001B[0m\n",
      "\u001B[34m[33]#011train-rmse:1.56278#011validation-rmse:4.39716\u001B[0m\n",
      "\u001B[34m[10:02:13] src/tree/updater_prune.cc:74: tree pruning end, 1 roots, 10 extra nodes, 4 pruned nodes, max_depth=4\u001B[0m\n",
      "\u001B[34m[34]#011train-rmse:1.54127#011validation-rmse:4.38845\u001B[0m\n",
      "\u001B[34m[10:02:13] src/tree/updater_prune.cc:74: tree pruning end, 1 roots, 10 extra nodes, 2 pruned nodes, max_depth=5\u001B[0m\n",
      "\u001B[34m[35]#011train-rmse:1.51829#011validation-rmse:4.36587\u001B[0m\n",
      "\u001B[34m[10:02:13] src/tree/updater_prune.cc:74: tree pruning end, 1 roots, 12 extra nodes, 2 pruned nodes, max_depth=5\u001B[0m\n",
      "\u001B[34m[36]#011train-rmse:1.49917#011validation-rmse:4.38323\u001B[0m\n",
      "\u001B[34m[10:02:13] src/tree/updater_prune.cc:74: tree pruning end, 1 roots, 6 extra nodes, 4 pruned nodes, max_depth=3\u001B[0m\n",
      "\u001B[34m[37]#011train-rmse:1.4859#011validation-rmse:4.37035\u001B[0m\n",
      "\u001B[34m[10:02:13] src/tree/updater_prune.cc:74: tree pruning end, 1 roots, 12 extra nodes, 0 pruned nodes, max_depth=5\u001B[0m\n",
      "\u001B[34m[38]#011train-rmse:1.46135#011validation-rmse:4.38661\u001B[0m\n",
      "\u001B[34m[10:02:13] src/tree/updater_prune.cc:74: tree pruning end, 1 roots, 28 extra nodes, 10 pruned nodes, max_depth=5\u001B[0m\n",
      "\u001B[34m[39]#011train-rmse:1.38315#011validation-rmse:4.40599\u001B[0m\n",
      "\u001B[34m[10:02:13] src/tree/updater_prune.cc:74: tree pruning end, 1 roots, 14 extra nodes, 0 pruned nodes, max_depth=5\u001B[0m\n",
      "\u001B[34m[40]#011train-rmse:1.3721#011validation-rmse:4.43208\u001B[0m\n",
      "\u001B[34m[10:02:13] src/tree/updater_prune.cc:74: tree pruning end, 1 roots, 14 extra nodes, 4 pruned nodes, max_depth=5\u001B[0m\n",
      "\u001B[34m[41]#011train-rmse:1.35562#011validation-rmse:4.42833\u001B[0m\n",
      "\u001B[34m[10:02:13] src/tree/updater_prune.cc:74: tree pruning end, 1 roots, 10 extra nodes, 2 pruned nodes, max_depth=5\u001B[0m\n",
      "\u001B[34m[42]#011train-rmse:1.34598#011validation-rmse:4.4006\u001B[0m\n",
      "\u001B[34m[10:02:13] src/tree/updater_prune.cc:74: tree pruning end, 1 roots, 10 extra nodes, 2 pruned nodes, max_depth=5\u001B[0m\n",
      "\u001B[34m[43]#011train-rmse:1.32627#011validation-rmse:4.39099\u001B[0m\n",
      "\u001B[34m[10:02:13] src/tree/updater_prune.cc:74: tree pruning end, 1 roots, 10 extra nodes, 10 pruned nodes, max_depth=5\u001B[0m\n",
      "\u001B[34m[44]#011train-rmse:1.31862#011validation-rmse:4.41355\u001B[0m\n",
      "\u001B[34m[10:02:13] src/tree/updater_prune.cc:74: tree pruning end, 1 roots, 20 extra nodes, 4 pruned nodes, max_depth=5\u001B[0m\n",
      "\u001B[34m[45]#011train-rmse:1.28883#011validation-rmse:4.42359\u001B[0m\n",
      "\u001B[34mStopping. Best iteration:\u001B[0m\n",
      "\u001B[34m[35]#011train-rmse:1.51829#011validation-rmse:4.36587\n",
      "\u001B[0m\n",
      "Training seconds: 57\n",
      "Billable seconds: 57\n"
     ]
    }
   ],
   "source": [
    "# This is a wrapper around the location of our train and validation data, to make sure that SageMaker\n",
    "# knows our data is in csv format.\n",
    "s3_input_train = sagemaker.s3_input(s3_data=train_location, content_type='csv')\n",
    "s3_input_validation = sagemaker.s3_input(s3_data=val_location, content_type='csv')\n",
    "\n",
    "xgb.fit({'train': s3_input_train, 'validation': s3_input_validation})"
   ]
  },
  {
   "cell_type": "markdown",
   "metadata": {},
   "source": [
    "## Step 5: Test the model\n",
    "\n",
    "Now that we have fit our model to the training data, using the validation data to avoid overfitting, we can test our model. To do this we will make use of SageMaker's Batch Transform functionality. To start with, we need to build a transformer object from our fit model."
   ]
  },
  {
   "cell_type": "code",
   "execution_count": 33,
   "metadata": {},
   "outputs": [
    {
     "name": "stderr",
     "output_type": "stream",
     "text": [
      "WARNING:sagemaker:Parameter image will be renamed to image_uri in SageMaker Python SDK v2.\n",
      "WARNING:sagemaker:Using already existing model: xgboost-2020-06-07-09-59-29-837\n"
     ]
    }
   ],
   "source": [
    "xgb_transformer = xgb.transformer(instance_count = 1, instance_type = 'ml.m4.xlarge',\n",
    "                                  output_path=f\"s3://{bucket}/{prefix}/batch\")"
   ]
  },
  {
   "cell_type": "markdown",
   "metadata": {},
   "source": [
    "Next we ask SageMaker to begin a batch transform job using our trained model and applying it to the test data we previously stored in S3. We need to make sure to provide SageMaker with the type of data that we are providing to our model, in our case `text/csv`, so that it knows how to serialize our data. In addition, we need to make sure to let SageMaker know how to split our data up into chunks if the entire data set happens to be too large to send to our model all at once.\n",
    "\n",
    "Note that when we ask SageMaker to do this it will execute the batch transform job in the background. Since we need to wait for the results of this job before we can continue, we use the `wait()` method. An added benefit of this is that we get some output from our batch transform job which lets us know if anything went wrong."
   ]
  },
  {
   "cell_type": "code",
   "execution_count": 34,
   "metadata": {},
   "outputs": [],
   "source": [
    "xgb_transformer.transform(test_location, content_type='text/csv', split_type='Line')"
   ]
  },
  {
   "cell_type": "code",
   "execution_count": 37,
   "metadata": {},
   "outputs": [
    {
     "name": "stdout",
     "output_type": "stream",
     "text": [
      "..................\u001B[34mArguments: serve\u001B[0m\n",
      "\u001B[34m[2020-06-07 10:19:40 +0000] [1] [INFO] Starting gunicorn 19.7.1\u001B[0m\n",
      "\u001B[34m[2020-06-07 10:19:40 +0000] [1] [INFO] Listening at: http://0.0.0.0:8080 (1)\u001B[0m\n",
      "\u001B[34m[2020-06-07 10:19:40 +0000] [1] [INFO] Using worker: gevent\u001B[0m\n",
      "\u001B[34m[2020-06-07 10:19:40 +0000] [37] [INFO] Booting worker with pid: 37\u001B[0m\n",
      "\u001B[34m[2020-06-07 10:19:40 +0000] [38] [INFO] Booting worker with pid: 38\u001B[0m\n",
      "\u001B[34m[2020-06-07 10:19:40 +0000] [39] [INFO] Booting worker with pid: 39\u001B[0m\n",
      "\u001B[34m[2020-06-07:10:19:40:INFO] Model loaded successfully for worker : 37\u001B[0m\n",
      "\u001B[34m[2020-06-07 10:19:40 +0000] [40] [INFO] Booting worker with pid: 40\u001B[0m\n",
      "\u001B[34m[2020-06-07:10:19:40:INFO] Model loaded successfully for worker : 38\u001B[0m\n",
      "\u001B[34m[2020-06-07:10:19:40:INFO] Model loaded successfully for worker : 39\u001B[0m\n",
      "\u001B[34m[2020-06-07:10:19:40:INFO] Model loaded successfully for worker : 40\u001B[0m\n",
      "\n",
      "\u001B[34m[2020-06-07:10:20:14:INFO] Sniff delimiter as ','\u001B[0m\n",
      "\u001B[34m[2020-06-07:10:20:14:INFO] Determined delimiter of CSV input is ','\u001B[0m\n",
      "\u001B[35m[2020-06-07:10:20:14:INFO] Sniff delimiter as ','\u001B[0m\n",
      "\u001B[35m[2020-06-07:10:20:14:INFO] Determined delimiter of CSV input is ','\u001B[0m\n",
      "\u001B[32m2020-06-07T10:20:14.247:[sagemaker logs]: MaxConcurrentTransforms=4, MaxPayloadInMB=6, BatchStrategy=MULTI_RECORD\u001B[0m\n"
     ]
    }
   ],
   "source": [
    "xgb_transformer.wait()"
   ]
  },
  {
   "cell_type": "markdown",
   "metadata": {},
   "source": [
    "Now that the batch transform job has finished, the resulting output is stored on S3. Since we wish to analyze the output inside of our notebook we can use a bit of notebook magic to copy the output file from its S3 location and save it locally."
   ]
  },
  {
   "cell_type": "code",
   "execution_count": 38,
   "metadata": {},
   "outputs": [
    {
     "name": "stdout",
     "output_type": "stream",
     "text": [
      "results saved into: s3://romeo-sandbox/boston-xgboost-HL/batch\n"
     ]
    }
   ],
   "source": [
    "print(\"results saved into:\", xgb_transformer.output_path)"
   ]
  },
  {
   "cell_type": "code",
   "execution_count": 40,
   "metadata": {},
   "outputs": [
    {
     "data": {
      "text/plain": [
       "'../data/boston'"
      ]
     },
     "execution_count": 40,
     "metadata": {},
     "output_type": "execute_result"
    }
   ],
   "source": [
    "data_dir"
   ]
  },
  {
   "cell_type": "code",
   "execution_count": 39,
   "metadata": {},
   "outputs": [
    {
     "name": "stdout",
     "output_type": "stream",
     "text": [
      "download: s3://romeo-sandbox/boston-xgboost-HL/batch/test.csv.out to ../data/boston/test.csv.out\r\n"
     ]
    }
   ],
   "source": [
    "!aws s3 cp --recursive $xgb_transformer.output_path $data_dir"
   ]
  },
  {
   "cell_type": "markdown",
   "metadata": {},
   "source": [
    "To see how well our model works we can create a simple scatter plot between the predicted and actual values. If the model was completely accurate the resulting scatter plot would look like the line $x=y$. As we can see, our model seems to have done okay but there is room for improvement."
   ]
  },
  {
   "cell_type": "code",
   "execution_count": 41,
   "metadata": {},
   "outputs": [],
   "source": [
    "Y_pred = pd.read_csv(os.path.join(data_dir, 'test.csv.out'), header=None)"
   ]
  },
  {
   "cell_type": "code",
   "execution_count": 42,
   "metadata": {},
   "outputs": [
    {
     "data": {
      "text/plain": [
       "Text(0.5, 1.0, 'Median Price vs Predicted Price')"
      ]
     },
     "execution_count": 42,
     "metadata": {},
     "output_type": "execute_result"
    },
    {
     "data": {
      "image/png": "[encoded data removed]",
      "text/plain": [
       "<Figure size 432x288 with 1 Axes>"
      ]
     },
     "metadata": {
      "needs_background": "light"
     },
     "output_type": "display_data"
    }
   ],
   "source": [
    "plt.scatter(Y_test, Y_pred)\n",
    "plt.xlabel(\"Median Price\")\n",
    "plt.ylabel(\"Predicted Price\")\n",
    "plt.title(\"Median Price vs Predicted Price\")"
   ]
  },
  {
   "cell_type": "markdown",
   "metadata": {},
   "source": [
    "## Optional: Clean up\n",
    "\n",
    "The default notebook instance on SageMaker doesn't have a lot of excess disk space available. As you continue to complete and execute notebooks you will eventually fill up this disk space, leading to errors which can be difficult to diagnose. Once you are completely finished using a notebook it is a good idea to remove the files that you created along the way. Of course, you can do this from the terminal or from the notebook hub if you would like. The cell below contains some commands to clean up the created files from within the notebook."
   ]
  },
  {
   "cell_type": "code",
   "execution_count": 43,
   "metadata": {},
   "outputs": [],
   "source": [
    "# First we will remove all of the files contained in the data_dir directory\n",
    "!rm $data_dir/*\n",
    "\n",
    "# And then we delete the directory itself\n",
    "!rmdir $data_dir"
   ]
  },
  {
   "cell_type": "code",
   "execution_count": null,
   "metadata": {},
   "outputs": [],
   "source": []
  }
 ],
 "metadata": {
  "kernelspec": {
   "display_name": "conda_pytorch_p36",
   "language": "python",
   "name": "conda_pytorch_p36"
  },
  "language_info": {
   "codemirror_mode": {
    "name": "ipython",
    "version": 3
   },
   "file_extension": ".py",
   "mimetype": "text/x-python",
   "name": "python",
   "nbconvert_exporter": "python",
   "pygments_lexer": "ipython3",
   "version": "3.6.10"
  }
 },
 "nbformat": 4,
 "nbformat_minor": 2
}