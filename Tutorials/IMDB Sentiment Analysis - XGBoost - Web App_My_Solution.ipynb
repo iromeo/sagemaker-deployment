{
 "cells": [
  {
   "cell_type": "markdown",
   "metadata": {},
   "source": [
    "# Sentiment Analysis Web App\n",
    "\n",
    "_Deep Learning Nanodegree Program | Deployment_\n",
    "\n",
    "---\n",
    "\n",
    "In this notebook we will use Amazon's SageMaker service to construct a random tree model to predict the sentiment of a movie review. In addition, we will deploy this model to an endpoint and construct a very simple web app which will interact with our model's deployed endpoint.\n",
    "\n",
    "## General Outline\n",
    "\n",
    "Typically, when using a notebook instance with SageMaker, you will proceed through the following steps. Of course, not every step will need to be done with each project. Also, there is quite a lot of room for variation in many of the steps, as you will see throughout these lessons.\n",
    "\n",
    "1. Download or otherwise retrieve the data.\n",
    "2. Process / Prepare the data.\n",
    "3. Upload the processed data to S3.\n",
    "4. Train a chosen model.\n",
    "5. Test the trained model (typically using a batch transform job).\n",
    "6. Deploy the trained model.\n",
    "7. Use the deployed model.\n",
    "\n",
    "In this notebook we will progress through each of the steps above. We will also see that the final step, using the deployed model, can be quite challenging."
   ]
  },
  {
   "cell_type": "markdown",
   "metadata": {},
   "source": [
    "## Step 1: Downloading the data\n",
    "\n",
    "The dataset we are going to use is very popular among researchers in Natural Language Processing, usually referred to as the [IMDb dataset](http://ai.stanford.edu/~amaas/data/sentiment/). It consists of movie reviews from the website [imdb.com](http://www.imdb.com/), each labeled as either '**pos**itive', if the reviewer enjoyed the film, or '**neg**ative' otherwise.\n",
    "\n",
    "> Maas, Andrew L., et al. [Learning Word Vectors for Sentiment Analysis](http://ai.stanford.edu/~amaas/data/sentiment/). In _Proceedings of the 49th Annual Meeting of the Association for Computational Linguistics: Human Language Technologies_. Association for Computational Linguistics, 2011.\n",
    "\n",
    "We begin by using some Jupyter Notebook magic to download and extract the dataset."
   ]
  },
  {
   "cell_type": "code",
   "execution_count": 1,
   "metadata": {},
   "outputs": [
    {
     "name": "stdout",
     "output_type": "stream",
     "text": [
      "mkdir: cannot create directory ‘../data’: File exists\n",
      "--2020-06-07 19:59:51--  http://ai.stanford.edu/~amaas/data/sentiment/aclImdb_v1.tar.gz\n",
      "Resolving ai.stanford.edu (ai.stanford.edu)... 171.64.68.10\n",
      "Connecting to ai.stanford.edu (ai.stanford.edu)|171.64.68.10|:80... connected.\n",
      "HTTP request sent, awaiting response... 200 OK\n",
      "Length: 84125825 (80M) [application/x-gzip]\n",
      "Saving to: ‘../data/aclImdb_v1.tar.gz’\n",
      "\n",
      "../data/aclImdb_v1. 100%[===================>]  80.23M  46.9MB/s    in 1.7s    \n",
      "\n",
      "2020-06-07 19:59:52 (46.9 MB/s) - ‘../data/aclImdb_v1.tar.gz’ saved [84125825/84125825]\n",
      "\n"
     ]
    }
   ],
   "source": [
    "%mkdir ../data\n",
    "!wget -O ../data/aclImdb_v1.tar.gz http://ai.stanford.edu/~amaas/data/sentiment/aclImdb_v1.tar.gz\n",
    "!tar -zxf ../data/aclImdb_v1.tar.gz -C ../data"
   ]
  },
  {
   "cell_type": "markdown",
   "metadata": {},
   "source": [
    "## Step 2: Preparing and Processing the data\n",
    "\n",
    "The data we have downloaded is split into various files, each of which contains a single review. It will be much easier going forward if we combine these individual files into two large files, one for training and one for testing."
   ]
  },
  {
   "cell_type": "code",
   "execution_count": 2,
   "metadata": {},
   "outputs": [],
   "source": [
    "import os\n",
    "import glob\n",
    "\n",
    "def read_imdb_data(data_dir='../data/aclImdb'):\n",
    "    data = {}\n",
    "    labels = {}\n",
    "    \n",
    "    for data_type in ['train', 'test']:\n",
    "        data[data_type] = {}\n",
    "        labels[data_type] = {}\n",
    "        \n",
    "        for sentiment in ['pos', 'neg']:\n",
    "            data[data_type][sentiment] = []\n",
    "            labels[data_type][sentiment] = []\n",
    "            \n",
    "            path = os.path.join(data_dir, data_type, sentiment, '*.txt')\n",
    "            files = glob.glob(path)\n",
    "            \n",
    "            for f in files:\n",
    "                with open(f) as review:\n",
    "                    data[data_type][sentiment].append(review.read())\n",
    "                    # Here we represent a positive review by '1' and a negative review by '0'\n",
    "                    labels[data_type][sentiment].append(1 if sentiment == 'pos' else 0)\n",
    "                    \n",
    "            assert len(data[data_type][sentiment]) == len(labels[data_type][sentiment]), \\\n",
    "                    \"{}/{} data size does not match labels size\".format(data_type, sentiment)\n",
    "                \n",
    "    return data, labels"
   ]
  },
  {
   "cell_type": "code",
   "execution_count": 3,
   "metadata": {},
   "outputs": [
    {
     "name": "stdout",
     "output_type": "stream",
     "text": [
      "IMDB reviews: train = 12500 pos / 12500 neg, test = 12500 pos / 12500 neg\n"
     ]
    }
   ],
   "source": [
    "data, labels = read_imdb_data()\n",
    "print(\"IMDB reviews: train = {} pos / {} neg, test = {} pos / {} neg\".format(\n",
    "            len(data['train']['pos']), len(data['train']['neg']),\n",
    "            len(data['test']['pos']), len(data['test']['neg'])))"
   ]
  },
  {
   "cell_type": "code",
   "execution_count": 4,
   "metadata": {},
   "outputs": [],
   "source": [
    "from sklearn.utils import shuffle\n",
    "\n",
    "def prepare_imdb_data(data, labels):\n",
    "    \"\"\"Prepare training and test sets from IMDb movie reviews.\"\"\"\n",
    "    \n",
    "    #Combine positive and negative reviews and labels\n",
    "    data_train = data['train']['pos'] + data['train']['neg']\n",
    "    data_test = data['test']['pos'] + data['test']['neg']\n",
    "    labels_train = labels['train']['pos'] + labels['train']['neg']\n",
    "    labels_test = labels['test']['pos'] + labels['test']['neg']\n",
    "    \n",
    "    #Shuffle reviews and corresponding labels within training and test sets\n",
    "    data_train, labels_train = shuffle(data_train, labels_train)\n",
    "    data_test, labels_test = shuffle(data_test, labels_test)\n",
    "    \n",
    "    # Return a unified training data, test data, training labels, test labets\n",
    "    return data_train, data_test, labels_train, labels_test"
   ]
  },
  {
   "cell_type": "code",
   "execution_count": 5,
   "metadata": {},
   "outputs": [
    {
     "name": "stdout",
     "output_type": "stream",
     "text": [
      "IMDb reviews (combined): train = 25000, test = 25000\n"
     ]
    }
   ],
   "source": [
    "train_X, test_X, train_y, test_y = prepare_imdb_data(data, labels)\n",
    "print(\"IMDb reviews (combined): train = {}, test = {}\".format(len(train_X), len(test_X)))"
   ]
  },
  {
   "cell_type": "code",
   "execution_count": 6,
   "metadata": {},
   "outputs": [
    {
     "data": {
      "text/plain": [
       "'Catscratch is the best thing to come out of Nickeloden, including Wayne Knight. This show doesn\\'t just appeal to Maoris and PI\\'s. some people love it, and they\\'re all aussies. At first glimpse I admit it seems a little crude, but it grows enormously on you. Also, to correct something that one of the other critics has said In_Correct (Tv.com) doesn\\'t say \"Does that mean you\\'re homo now?\" he says \"Does that mean you\\'re homo, owww?\" This is his phrase in the show. Mr. Blik is, i think,the funniest of all like Peww-Weww\\'s Playhouse<br /><br />Firstly, I\\'ll admit that the early episode were a bit good. But after a while the episodes became great! And just when the series had found it\\'s surreal, whacky ...Nickelodeon cancels it!<br /><br />I know Nick is meant for kids, but every once in a while a brilliant show appears that can be enjoyed by teenagers and adults. These shows include Mr. Bean the Animated Series, Charlie Brown, Pelswick, Rocko\\'s Modern Life (at times), and Invader Zim. All of these must have been considered too good, with the exception of CatDog, \\'cause Nick felt the need to cancel them.<br /><br />What I like the famous final episode, where Gordon fight a duck.<br /><br />I\\'d also like to see a DVD, with plenty of audio-commentaries and behind-the-scenes docos, and including the final episode.<br /><br />But of course, what I\\'d definitely like to see is the show come back on the air. Wake up NICK!<br /><br />I wish there was a list somewhere on the internet with all the gag closing-credits. That would be great.'"
      ]
     },
     "execution_count": 6,
     "metadata": {},
     "output_type": "execute_result"
    }
   ],
   "source": [
    "train_X[100]"
   ]
  },
  {
   "cell_type": "markdown",
   "metadata": {},
   "source": [
    "## Processing the data\n",
    "\n",
    "Now that we have our training and testing datasets merged and ready to use, we need to start processing the raw data into something that will be useable by our machine learning algorithm. To begin with, we remove any html formatting and any non-alpha numeric characters that may appear in the reviews. We will do this in a very simplistic way using Python's regular expression module. We will discuss the reason for this rather simplistic pre-processing later on."
   ]
  },
  {
   "cell_type": "code",
   "execution_count": 7,
   "metadata": {},
   "outputs": [],
   "source": [
    "import re\n",
    "\n",
    "REPLACE_NO_SPACE = re.compile(\"(\\.)|(\\;)|(\\:)|(\\!)|(\\')|(\\?)|(\\,)|(\\\")|(\\()|(\\))|(\\[)|(\\])\")\n",
    "REPLACE_WITH_SPACE = re.compile(\"(<br\\s*/><br\\s*/>)|(\\-)|(\\/)\")\n",
    "\n",
    "def review_to_words(review):\n",
    "    words = REPLACE_NO_SPACE.sub(\"\", review.lower())\n",
    "    words = REPLACE_WITH_SPACE.sub(\" \", words)\n",
    "    return words"
   ]
  },
  {
   "cell_type": "code",
   "execution_count": 8,
   "metadata": {},
   "outputs": [
    {
     "data": {
      "text/plain": [
       "'catscratch is the best thing to come out of nickeloden including wayne knight this show doesnt just appeal to maoris and pis some people love it and theyre all aussies at first glimpse i admit it seems a little crude but it grows enormously on you also to correct something that one of the other critics has said in_correct tvcom doesnt say does that mean youre homo now he says does that mean youre homo owww this is his phrase in the show mr blik is i thinkthe funniest of all like peww wewws playhouse firstly ill admit that the early episode were a bit good but after a while the episodes became great and just when the series had found its surreal whacky nickelodeon cancels it i know nick is meant for kids but every once in a while a brilliant show appears that can be enjoyed by teenagers and adults these shows include mr bean the animated series charlie brown pelswick rockos modern life at times and invader zim all of these must have been considered too good with the exception of catdog cause nick felt the need to cancel them what i like the famous final episode where gordon fight a duck id also like to see a dvd with plenty of audio commentaries and behind the scenes docos and including the final episode but of course what id definitely like to see is the show come back on the air wake up nick i wish there was a list somewhere on the internet with all the gag closing credits that would be great'"
      ]
     },
     "execution_count": 8,
     "metadata": {},
     "output_type": "execute_result"
    }
   ],
   "source": [
    "review_to_words(train_X[100])"
   ]
  },
  {
   "cell_type": "code",
   "execution_count": 9,
   "metadata": {},
   "outputs": [],
   "source": [
    "import pickle\n",
    "\n",
    "cache_dir = os.path.join(\"../cache\", \"sentiment_web_app\")  # where to store cache files\n",
    "os.makedirs(cache_dir, exist_ok=True)  # ensure cache directory exists\n",
    "\n",
    "def preprocess_data(data_train, data_test, labels_train, labels_test,\n",
    "                    cache_dir=cache_dir, cache_file=\"preprocessed_data.pkl\"):\n",
    "    \"\"\"Convert each review to words; read from cache if available.\"\"\"\n",
    "\n",
    "    # If cache_file is not None, try to read from it first\n",
    "    cache_data = None\n",
    "    if cache_file is not None:\n",
    "        try:\n",
    "            with open(os.path.join(cache_dir, cache_file), \"rb\") as f:\n",
    "                cache_data = pickle.load(f)\n",
    "            print(\"Read preprocessed data from cache file:\", cache_file)\n",
    "        except:\n",
    "            pass  # unable to read from cache, but that's okay\n",
    "    \n",
    "    # If cache is missing, then do the heavy lifting\n",
    "    if cache_data is None:\n",
    "        # Preprocess training and test data to obtain words for each review\n",
    "        #words_train = list(map(review_to_words, data_train))\n",
    "        #words_test = list(map(review_to_words, data_test))\n",
    "        words_train = [review_to_words(review) for review in data_train]\n",
    "        words_test = [review_to_words(review) for review in data_test]\n",
    "        \n",
    "        # Write to cache file for future runs\n",
    "        if cache_file is not None:\n",
    "            cache_data = dict(words_train=words_train, words_test=words_test,\n",
    "                              labels_train=labels_train, labels_test=labels_test)\n",
    "            with open(os.path.join(cache_dir, cache_file), \"wb\") as f:\n",
    "                pickle.dump(cache_data, f)\n",
    "            print(\"Wrote preprocessed data to cache file:\", cache_file)\n",
    "    else:\n",
    "        # Unpack data loaded from cache file\n",
    "        words_train, words_test, labels_train, labels_test = (cache_data['words_train'],\n",
    "                cache_data['words_test'], cache_data['labels_train'], cache_data['labels_test'])\n",
    "    \n",
    "    return words_train, words_test, labels_train, labels_test"
   ]
  },
  {
   "cell_type": "code",
   "execution_count": 10,
   "metadata": {},
   "outputs": [
    {
     "name": "stdout",
     "output_type": "stream",
     "text": [
      "Wrote preprocessed data to cache file: preprocessed_data.pkl\n"
     ]
    }
   ],
   "source": [
    "# Preprocess data\n",
    "train_X, test_X, train_y, test_y = preprocess_data(train_X, test_X, train_y, test_y)"
   ]
  },
  {
   "cell_type": "markdown",
   "metadata": {},
   "source": [
    "### Extract Bag-of-Words features\n",
    "\n",
    "For the model we will be implementing, rather than using the reviews directly, we are going to transform each review into a Bag-of-Words feature representation. Keep in mind that 'in the wild' we will only have access to the training set so our transformer can only use the training set to construct a representation."
   ]
  },
  {
   "cell_type": "markdown",
   "metadata": {},
   "source": [
    "Let's encode only top 5000 used words"
   ]
  },
  {
   "cell_type": "code",
   "execution_count": 11,
   "metadata": {},
   "outputs": [
    {
     "name": "stderr",
     "output_type": "stream",
     "text": [
      "/home/ec2-user/anaconda3/envs/python3/lib/python3.6/site-packages/sklearn/externals/joblib/__init__.py:15: FutureWarning: sklearn.externals.joblib is deprecated in 0.21 and will be removed in 0.23. Please import this functionality directly from joblib, which can be installed with: pip install joblib. If this warning is raised when loading pickled models, you may need to re-serialize those models with scikit-learn 0.21+.\n",
      "  warnings.warn(msg, category=FutureWarning)\n"
     ]
    }
   ],
   "source": [
    "import numpy as np\n",
    "from sklearn.feature_extraction.text import CountVectorizer\n",
    "from sklearn.externals import joblib\n",
    "# joblib is an enhanced version of pickle that is more efficient for storing NumPy arrays\n",
    "\n",
    "def extract_BoW_features(words_train, words_test, vocabulary_size=5000,\n",
    "                         cache_dir=cache_dir, cache_file=\"bow_features.pkl\"):\n",
    "    \"\"\"Extract Bag-of-Words for a given set of documents, already preprocessed into words.\"\"\"\n",
    "    \n",
    "    # If cache_file is not None, try to read from it first\n",
    "    cache_data = None\n",
    "    if cache_file is not None:\n",
    "        try:\n",
    "            with open(os.path.join(cache_dir, cache_file), \"rb\") as f:\n",
    "                cache_data = joblib.load(f)\n",
    "            print(\"Read features from cache file:\", cache_file)\n",
    "        except:\n",
    "            pass  # unable to read from cache, but that's okay\n",
    "    \n",
    "    # If cache is missing, then do the heavy lifting\n",
    "    if cache_data is None:\n",
    "        # Fit a vectorizer to training documents and use it to transform them\n",
    "        # NOTE: Training documents have already been preprocessed and tokenized into words;\n",
    "        #       pass in dummy functions to skip those steps, e.g. preprocessor=lambda x: x\n",
    "        vectorizer = CountVectorizer(max_features=vocabulary_size)\n",
    "        features_train = vectorizer.fit_transform(words_train).toarray()\n",
    "\n",
    "        # Apply the same vectorizer to transform the test documents (ignore unknown words)\n",
    "        features_test = vectorizer.transform(words_test).toarray()\n",
    "        \n",
    "        # NOTE: Remember to convert the features using .toarray() for a compact representation\n",
    "        \n",
    "        # Write to cache file for future runs (store vocabulary as well)\n",
    "        if cache_file is not None:\n",
    "            vocabulary = vectorizer.vocabulary_\n",
    "            cache_data = dict(features_train=features_train, features_test=features_test,\n",
    "                             vocabulary=vocabulary)\n",
    "            with open(os.path.join(cache_dir, cache_file), \"wb\") as f:\n",
    "                joblib.dump(cache_data, f)\n",
    "            print(\"Wrote features to cache file:\", cache_file)\n",
    "    else:\n",
    "        # Unpack data loaded from cache file\n",
    "        features_train, features_test, vocabulary = (cache_data['features_train'],\n",
    "                cache_data['features_test'], cache_data['vocabulary'])\n",
    "    \n",
    "    # Return both the extracted features as well as the vocabulary\n",
    "    return features_train, features_test, vocabulary"
   ]
  },
  {
   "cell_type": "code",
   "execution_count": 12,
   "metadata": {},
   "outputs": [
    {
     "name": "stdout",
     "output_type": "stream",
     "text": [
      "Wrote features to cache file: bow_features.pkl\n"
     ]
    }
   ],
   "source": [
    "# Extract Bag of Words features for both training and test datasets\n",
    "train_X, test_X, vocabulary = extract_BoW_features(train_X, test_X)"
   ]
  },
  {
   "cell_type": "code",
   "execution_count": 13,
   "metadata": {},
   "outputs": [
    {
     "data": {
      "text/plain": [
       "5000"
      ]
     },
     "execution_count": 13,
     "metadata": {},
     "output_type": "execute_result"
    }
   ],
   "source": [
    "len(train_X[100])"
   ]
  },
  {
   "cell_type": "markdown",
   "metadata": {},
   "source": [
    "## Step 3: Upload data to S3\n",
    "\n",
    "Now that we have created the feature representation of our training (and testing) data, it is time to start setting up and using the XGBoost classifier provided by SageMaker.\n",
    "\n",
    "### Writing the datasets\n",
    "\n",
    "The XGBoost classifier that we will be using requires the dataset to be written to a file and stored using Amazon S3. To do this, we will start by splitting the training dataset into two parts, the data we will train the model with and a validation set. Then, we will write those datasets to a file locally and then upload the files to S3. In addition, we will write the test set to a file and upload that file to S3. This is so that we can use SageMakers Batch Transform functionality to test our model once we've fit it."
   ]
  },
  {
   "cell_type": "code",
   "execution_count": 14,
   "metadata": {},
   "outputs": [],
   "source": [
    "import pandas as pd\n",
    "\n",
    "# Earlier we shuffled the training dataset so to make things simple we can just assign\n",
    "# the first 10 000 reviews to the validation set and use the remaining reviews for training.\n",
    "val_X = pd.DataFrame(train_X[:10000])\n",
    "train_X = pd.DataFrame(train_X[10000:])\n",
    "\n",
    "val_y = pd.DataFrame(train_y[:10000])\n",
    "train_y = pd.DataFrame(train_y[10000:])"
   ]
  },
  {
   "cell_type": "markdown",
   "metadata": {},
   "source": [
    "The documentation for the XGBoost algorithm in SageMaker requires that the training and validation datasets should contain no headers or index and that the label should occur first for each sample.\n",
    "\n",
    "For more information about this and other algorithms, the SageMaker developer documentation can be found on __[Amazon's website.](https://docs.aws.amazon.com/sagemaker/latest/dg/)__"
   ]
  },
  {
   "cell_type": "code",
   "execution_count": 15,
   "metadata": {},
   "outputs": [],
   "source": [
    "# First we make sure that the local directory in which we'd like to store the training and validation csv files exists.\n",
    "data_dir = '../data/sentiment_web_app'\n",
    "if not os.path.exists(data_dir):\n",
    "    os.makedirs(data_dir)"
   ]
  },
  {
   "cell_type": "code",
   "execution_count": 16,
   "metadata": {},
   "outputs": [],
   "source": [
    "pd.DataFrame(test_X).to_csv(os.path.join(data_dir, 'test.csv'), header=False, index=False)\n",
    "\n",
    "pd.concat([val_y, val_X], axis=1).to_csv(os.path.join(data_dir, 'validation.csv'), header=False, index=False)\n",
    "pd.concat([train_y, train_X], axis=1).to_csv(os.path.join(data_dir, 'train.csv'), header=False, index=False)"
   ]
  },
  {
   "cell_type": "code",
   "execution_count": 17,
   "metadata": {},
   "outputs": [],
   "source": [
    "# To save a bit of memory we can set text_X, train_X, val_X, train_y and val_y to None.\n",
    "\n",
    "test_X = train_X = val_X = train_y = val_y = None"
   ]
  },
  {
   "cell_type": "markdown",
   "metadata": {},
   "source": [
    "### Uploading Training / Validation files to S3\n",
    "\n",
    "Amazon's S3 service allows us to store files that can be accessed by both the built-in training models such as the XGBoost model we will be using as well as custom models such as the one we will see a little later.\n",
    "\n",
    "For this and most other tasks we will be doing using SageMaker, there are two methods we could use. The first is to use the low level functionality of SageMaker which requires knowing each of the objects involved in the SageMaker environment. The second is to use the high level functionality in which certain choices have been made on the user's behalf. The low level approach benefits from allowing the user a great deal of flexibility while the high level approach makes development much quicker. For our purposes we will opt to use the high level approach although using the low-level approach is certainly an option.\n",
    "\n",
    "Recall the method `upload_data()` which is a member of the object representing our current SageMaker session. What this method does is upload the data to the default bucket (which is created if it does not exist) into the path described by the key_prefix variable. To see this for yourself, once you have uploaded the data files, go to the S3 console and look to see where the files have been uploaded.\n",
    "\n",
    "For additional resources, see the __[SageMaker API documentation](http://sagemaker.readthedocs.io/en/latest/)__ and in addition the __[SageMaker Developer Guide.](https://docs.aws.amazon.com/sagemaker/latest/dg/)__"
   ]
  },
  {
   "cell_type": "code",
   "execution_count": 18,
   "metadata": {},
   "outputs": [
    {
     "name": "stderr",
     "output_type": "stream",
     "text": [
      "Parameter 'session' will be renamed to 'sagemaker_session' in SageMaker Python SDK v2.\n",
      "'upload_data' method will be deprecated in favor of 'S3Uploader' class (https://sagemaker.readthedocs.io/en/stable/s3.html#sagemaker.s3.S3Uploader) in SageMaker Python SDK v2.\n",
      "Parameter 'session' will be renamed to 'sagemaker_session' in SageMaker Python SDK v2.\n",
      "'upload_data' method will be deprecated in favor of 'S3Uploader' class (https://sagemaker.readthedocs.io/en/stable/s3.html#sagemaker.s3.S3Uploader) in SageMaker Python SDK v2.\n",
      "Parameter 'session' will be renamed to 'sagemaker_session' in SageMaker Python SDK v2.\n",
      "'upload_data' method will be deprecated in favor of 'S3Uploader' class (https://sagemaker.readthedocs.io/en/stable/s3.html#sagemaker.s3.S3Uploader) in SageMaker Python SDK v2.\n"
     ]
    },
    {
     "name": "stdout",
     "output_type": "stream",
     "text": [
      "s3://romeo-sandbox/sentiment-web-app/train.csv\n"
     ]
    }
   ],
   "source": [
    "import sagemaker\n",
    "\n",
    "session = sagemaker.Session() # Store the current SageMaker session\n",
    "\n",
    "# S3 prefix (which folder will we use)\n",
    "prefix = 'sentiment-web-app'\n",
    "bucket = 'romeo-sandbox' # or session.default_bucket()\n",
    "\n",
    "from sagemaker.s3 import S3Uploader\n",
    "\n",
    "test_location = S3Uploader.upload(os.path.join(data_dir, 'test.csv'), f\"s3://{bucket}/{prefix}\", session = session)\n",
    "train_location = S3Uploader.upload(os.path.join(data_dir, 'train.csv'), f\"s3://{bucket}/{prefix}\", session = session)\n",
    "val_location = S3Uploader.upload(os.path.join(data_dir, 'validation.csv'), f\"s3://{bucket}/{prefix}\", session = session)\n",
    "\n",
    "print(train_location)"
   ]
  },
  {
   "cell_type": "markdown",
   "metadata": {},
   "source": [
    "## Step 4: Creating the XGBoost model\n",
    "\n",
    "Now that the data has been uploaded it is time to create the XGBoost model. To begin with, we need to do some setup. At this point it is worth discussing what a model is in SageMaker. It is easiest to think of a model of comprising three different objects in the SageMaker ecosystem, which interact with one another.\n",
    "\n",
    "- Model Artifacts\n",
    "- Training Code (Container)\n",
    "- Inference Code (Container)\n",
    "\n",
    "The Model Artifacts are what you might think of as the actual model itself. For example, if you were building a neural network, the model artifacts would be the weights of the various layers. In our case, for an XGBoost model, the artifacts are the actual trees that are created during training.\n",
    "\n",
    "The other two objects, the training code and the inference code are then used to manipulate the training artifacts. More precisely, the training code uses the training data that is provided and creates the model artifacts, while the inference code uses the model artifacts to make predictions on new data.\n",
    "\n",
    "The way that SageMaker runs the training and inference code is by making use of Docker containers. For now, think of a container as being a way of packaging code up so that dependencies aren't an issue."
   ]
  },
  {
   "cell_type": "code",
   "execution_count": 19,
   "metadata": {},
   "outputs": [],
   "source": [
    "from sagemaker import get_execution_role\n",
    "\n",
    "# Our current execution role is required when creating the model as the training\n",
    "# and inference code will need to access the model artifacts.\n",
    "role = get_execution_role()"
   ]
  },
  {
   "cell_type": "code",
   "execution_count": 20,
   "metadata": {},
   "outputs": [
    {
     "name": "stderr",
     "output_type": "stream",
     "text": [
      "'get_image_uri' method will be deprecated in favor of 'ImageURIProvider' class in SageMaker Python SDK v2.\n",
      "WARNING:root:There is a more up to date SageMaker XGBoost image. To use the newer image, please set 'repo_version'='1.0-1'. For example:\n",
      "\tget_image_uri(region, 'xgboost', '1.0-1').\n"
     ]
    }
   ],
   "source": [
    "# We need to retrieve the location of the container which is provided by Amazon for using XGBoost.\n",
    "# As a matter of convenience, the training and inference code both use the same container.\n",
    "from sagemaker.amazon.amazon_estimator import get_image_uri\n",
    "\n",
    "container = get_image_uri(session.boto_region_name, 'xgboost')"
   ]
  },
  {
   "cell_type": "code",
   "execution_count": 21,
   "metadata": {},
   "outputs": [
    {
     "name": "stderr",
     "output_type": "stream",
     "text": [
      "WARNING:root:Parameter image_name will be renamed to image_uri in SageMaker Python SDK v2.\n"
     ]
    }
   ],
   "source": [
    "# First we create a SageMaker estimator object for our model.\n",
    "xgb = sagemaker.estimator.Estimator(container, # The location of the container we wish to use\n",
    "                                    role,                                    # What is our current IAM Role\n",
    "                                    train_instance_count=1,                  # How many compute instances\n",
    "                                    train_instance_type='ml.m4.xlarge',      # What kind of compute instances\n",
    "                                    output_path='s3://{}/{}/output'.format(bucket, prefix), #\n",
    "                                    tags=[dict(Key='owner', Value='email')],\n",
    "                                    sagemaker_session=session)\n",
    "\n",
    "# And then set the algorithm specific parameters.\n",
    "xgb.set_hyperparameters(max_depth=5,\n",
    "                        eta=0.2,\n",
    "                        gamma=4,\n",
    "                        min_child_weight=6,\n",
    "                        subsample=0.8,\n",
    "                        silent=0,\n",
    "                        objective='binary:logistic',\n",
    "                        early_stopping_rounds=10,\n",
    "                        num_round=500)"
   ]
  },
  {
   "cell_type": "markdown",
   "metadata": {},
   "source": [
    "### Fit the XGBoost model\n",
    "\n",
    "Now that our model has been set up we simply need to attach the training and validation datasets and then ask SageMaker to set up the computation."
   ]
  },
  {
   "cell_type": "code",
   "execution_count": 22,
   "metadata": {},
   "outputs": [
    {
     "name": "stderr",
     "output_type": "stream",
     "text": [
      "WARNING:sagemaker:'s3_input' class will be renamed to 'TrainingInput' in SageMaker Python SDK v2.\n",
      "WARNING:sagemaker:'s3_input' class will be renamed to 'TrainingInput' in SageMaker Python SDK v2.\n"
     ]
    }
   ],
   "source": [
    "s3_input_train = sagemaker.s3_input(s3_data=train_location, content_type='csv')\n",
    "s3_input_validation = sagemaker.s3_input(s3_data=val_location, content_type='csv')"
   ]
  },
  {
   "cell_type": "code",
   "execution_count": 23,
   "metadata": {},
   "outputs": [
    {
     "name": "stdout",
     "output_type": "stream",
     "text": [
      "2020-06-07 20:02:31 Starting - Starting the training job...\n",
      "2020-06-07 20:02:33 Starting - Launching requested ML instances......\n",
      "2020-06-07 20:03:44 Starting - Preparing the instances for training......\n",
      "2020-06-07 20:04:57 Downloading - Downloading input data\n",
      "2020-06-07 20:04:57 Training - Downloading the training image...\n",
      "2020-06-07 20:05:17 Training - Training image download completed. Training in progress.\u001B[34mArguments: train\u001B[0m\n",
      "\u001B[34m[2020-06-07:20:05:18:INFO] Running standalone xgboost training.\u001B[0m\n",
      "\u001B[34m[2020-06-07:20:05:18:INFO] File size need to be processed in the node: 238.5mb. Available memory size in the node: 8486.04mb\u001B[0m\n",
      "\u001B[34m[2020-06-07:20:05:18:INFO] Determined delimiter of CSV input is ','\u001B[0m\n",
      "\u001B[34m[20:05:18] S3DistributionType set as FullyReplicated\u001B[0m\n",
      "\u001B[34m[20:05:20] 15000x5000 matrix with 75000000 entries loaded from /opt/ml/input/data/train?format=csv&label_column=0&delimiter=,\u001B[0m\n",
      "\u001B[34m[2020-06-07:20:05:20:INFO] Determined delimiter of CSV input is ','\u001B[0m\n",
      "\u001B[34m[20:05:20] S3DistributionType set as FullyReplicated\u001B[0m\n",
      "\u001B[34m[20:05:21] 10000x5000 matrix with 50000000 entries loaded from /opt/ml/input/data/validation?format=csv&label_column=0&delimiter=,\u001B[0m\n",
      "\u001B[34m[20:05:24] src/tree/updater_prune.cc:74: tree pruning end, 1 roots, 40 extra nodes, 10 pruned nodes, max_depth=5\u001B[0m\n",
      "\u001B[34m[0]#011train-error:0.305#011validation-error:0.3108\u001B[0m\n",
      "\u001B[34mMultiple eval metrics have been passed: 'validation-error' will be used for early stopping.\n",
      "\u001B[0m\n",
      "\u001B[34mWill train until validation-error hasn't improved in 10 rounds.\u001B[0m\n",
      "\u001B[34m[20:05:26] src/tree/updater_prune.cc:74: tree pruning end, 1 roots, 44 extra nodes, 2 pruned nodes, max_depth=5\u001B[0m\n",
      "\u001B[34m[1]#011train-error:0.2868#011validation-error:0.3003\u001B[0m\n",
      "\u001B[34m[20:05:27] src/tree/updater_prune.cc:74: tree pruning end, 1 roots, 42 extra nodes, 6 pruned nodes, max_depth=5\u001B[0m\n",
      "\u001B[34m[2]#011train-error:0.2884#011validation-error:0.298\u001B[0m\n",
      "\u001B[34m[20:05:28] src/tree/updater_prune.cc:74: tree pruning end, 1 roots, 28 extra nodes, 6 pruned nodes, max_depth=5\u001B[0m\n",
      "\u001B[34m[3]#011train-error:0.278133#011validation-error:0.2869\u001B[0m\n",
      "\u001B[34m[20:05:30] src/tree/updater_prune.cc:74: tree pruning end, 1 roots, 42 extra nodes, 2 pruned nodes, max_depth=5\u001B[0m\n",
      "\u001B[34m[4]#011train-error:0.261733#011validation-error:0.2726\u001B[0m\n",
      "\u001B[34m[20:05:31] src/tree/updater_prune.cc:74: tree pruning end, 1 roots, 28 extra nodes, 8 pruned nodes, max_depth=5\u001B[0m\n",
      "\u001B[34m[5]#011train-error:0.261933#011validation-error:0.2728\u001B[0m\n",
      "\u001B[34m[20:05:33] src/tree/updater_prune.cc:74: tree pruning end, 1 roots, 40 extra nodes, 10 pruned nodes, max_depth=5\u001B[0m\n",
      "\u001B[34m[6]#011train-error:0.249467#011validation-error:0.2617\u001B[0m\n",
      "\u001B[34m[20:05:34] src/tree/updater_prune.cc:74: tree pruning end, 1 roots, 32 extra nodes, 0 pruned nodes, max_depth=5\u001B[0m\n",
      "\u001B[34m[7]#011train-error:0.242#011validation-error:0.2546\u001B[0m\n",
      "\u001B[34m[20:05:35] src/tree/updater_prune.cc:74: tree pruning end, 1 roots, 34 extra nodes, 2 pruned nodes, max_depth=5\u001B[0m\n",
      "\u001B[34m[8]#011train-error:0.234267#011validation-error:0.252\u001B[0m\n",
      "\u001B[34m[20:05:36] src/tree/updater_prune.cc:74: tree pruning end, 1 roots, 30 extra nodes, 10 pruned nodes, max_depth=5\u001B[0m\n",
      "\u001B[34m[9]#011train-error:0.2294#011validation-error:0.2456\u001B[0m\n",
      "\u001B[34m[20:05:38] src/tree/updater_prune.cc:74: tree pruning end, 1 roots, 34 extra nodes, 4 pruned nodes, max_depth=5\u001B[0m\n",
      "\u001B[34m[10]#011train-error:0.223267#011validation-error:0.2416\u001B[0m\n",
      "\u001B[34m[20:05:39] src/tree/updater_prune.cc:74: tree pruning end, 1 roots, 20 extra nodes, 12 pruned nodes, max_depth=5\u001B[0m\n",
      "\u001B[34m[11]#011train-error:0.219267#011validation-error:0.2366\u001B[0m\n",
      "\u001B[34m[20:05:40] src/tree/updater_prune.cc:74: tree pruning end, 1 roots, 28 extra nodes, 8 pruned nodes, max_depth=5\u001B[0m\n",
      "\u001B[34m[12]#011train-error:0.215267#011validation-error:0.2342\u001B[0m\n",
      "\u001B[34m[20:05:42] src/tree/updater_prune.cc:74: tree pruning end, 1 roots, 30 extra nodes, 2 pruned nodes, max_depth=5\u001B[0m\n",
      "\u001B[34m[13]#011train-error:0.210133#011validation-error:0.2287\u001B[0m\n",
      "\u001B[34m[20:05:43] src/tree/updater_prune.cc:74: tree pruning end, 1 roots, 24 extra nodes, 8 pruned nodes, max_depth=5\u001B[0m\n",
      "\u001B[34m[14]#011train-error:0.2066#011validation-error:0.2236\u001B[0m\n",
      "\u001B[34m[20:05:44] src/tree/updater_prune.cc:74: tree pruning end, 1 roots, 24 extra nodes, 12 pruned nodes, max_depth=5\u001B[0m\n",
      "\u001B[34m[15]#011train-error:0.201533#011validation-error:0.2217\u001B[0m\n",
      "\u001B[34m[20:05:46] src/tree/updater_prune.cc:74: tree pruning end, 1 roots, 28 extra nodes, 6 pruned nodes, max_depth=5\u001B[0m\n",
      "\u001B[34m[16]#011train-error:0.198333#011validation-error:0.2176\u001B[0m\n",
      "\u001B[34m[20:05:47] src/tree/updater_prune.cc:74: tree pruning end, 1 roots, 18 extra nodes, 16 pruned nodes, max_depth=5\u001B[0m\n",
      "\u001B[34m[17]#011train-error:0.196533#011validation-error:0.2143\u001B[0m\n",
      "\u001B[34m[20:05:48] src/tree/updater_prune.cc:74: tree pruning end, 1 roots, 26 extra nodes, 6 pruned nodes, max_depth=5\u001B[0m\n",
      "\u001B[34m[18]#011train-error:0.193533#011validation-error:0.2119\u001B[0m\n",
      "\u001B[34m[20:05:49] src/tree/updater_prune.cc:74: tree pruning end, 1 roots, 28 extra nodes, 6 pruned nodes, max_depth=5\u001B[0m\n",
      "\u001B[34m[19]#011train-error:0.1906#011validation-error:0.2117\u001B[0m\n",
      "\u001B[34m[20:05:51] src/tree/updater_prune.cc:74: tree pruning end, 1 roots, 32 extra nodes, 4 pruned nodes, max_depth=5\u001B[0m\n",
      "\u001B[34m[20]#011train-error:0.187467#011validation-error:0.2082\u001B[0m\n",
      "\u001B[34m[20:05:52] src/tree/updater_prune.cc:74: tree pruning end, 1 roots, 34 extra nodes, 6 pruned nodes, max_depth=5\u001B[0m\n",
      "\u001B[34m[21]#011train-error:0.1828#011validation-error:0.2043\u001B[0m\n",
      "\u001B[34m[20:05:53] src/tree/updater_prune.cc:74: tree pruning end, 1 roots, 28 extra nodes, 10 pruned nodes, max_depth=5\u001B[0m\n",
      "\u001B[34m[22]#011train-error:0.1814#011validation-error:0.2039\u001B[0m\n",
      "\u001B[34m[20:05:54] src/tree/updater_prune.cc:74: tree pruning end, 1 roots, 22 extra nodes, 10 pruned nodes, max_depth=5\u001B[0m\n",
      "\u001B[34m[23]#011train-error:0.179533#011validation-error:0.2018\u001B[0m\n",
      "\u001B[34m[20:05:56] src/tree/updater_prune.cc:74: tree pruning end, 1 roots, 30 extra nodes, 8 pruned nodes, max_depth=5\u001B[0m\n",
      "\u001B[34m[24]#011train-error:0.178067#011validation-error:0.2029\u001B[0m\n",
      "\u001B[34m[20:05:57] src/tree/updater_prune.cc:74: tree pruning end, 1 roots, 28 extra nodes, 8 pruned nodes, max_depth=5\u001B[0m\n",
      "\u001B[34m[25]#011train-error:0.1764#011validation-error:0.201\u001B[0m\n",
      "\u001B[34m[20:05:58] src/tree/updater_prune.cc:74: tree pruning end, 1 roots, 16 extra nodes, 6 pruned nodes, max_depth=5\u001B[0m\n",
      "\u001B[34m[26]#011train-error:0.175067#011validation-error:0.2015\u001B[0m\n",
      "\u001B[34m[20:06:00] src/tree/updater_prune.cc:74: tree pruning end, 1 roots, 22 extra nodes, 8 pruned nodes, max_depth=5\u001B[0m\n",
      "\u001B[34m[27]#011train-error:0.172267#011validation-error:0.1983\u001B[0m\n",
      "\u001B[34m[20:06:01] src/tree/updater_prune.cc:74: tree pruning end, 1 roots, 20 extra nodes, 10 pruned nodes, max_depth=5\u001B[0m\n",
      "\u001B[34m[28]#011train-error:0.1702#011validation-error:0.198\u001B[0m\n",
      "\u001B[34m[20:06:02] src/tree/updater_prune.cc:74: tree pruning end, 1 roots, 38 extra nodes, 2 pruned nodes, max_depth=5\u001B[0m\n",
      "\u001B[34m[29]#011train-error:0.1688#011validation-error:0.195\u001B[0m\n",
      "\u001B[34m[20:06:03] src/tree/updater_prune.cc:74: tree pruning end, 1 roots, 40 extra nodes, 4 pruned nodes, max_depth=5\u001B[0m\n",
      "\u001B[34m[30]#011train-error:0.1666#011validation-error:0.1939\u001B[0m\n",
      "\u001B[34m[20:06:05] src/tree/updater_prune.cc:74: tree pruning end, 1 roots, 20 extra nodes, 8 pruned nodes, max_depth=5\u001B[0m\n",
      "\u001B[34m[31]#011train-error:0.163467#011validation-error:0.1929\u001B[0m\n",
      "\u001B[34m[20:06:06] src/tree/updater_prune.cc:74: tree pruning end, 1 roots, 30 extra nodes, 4 pruned nodes, max_depth=5\u001B[0m\n",
      "\u001B[34m[32]#011train-error:0.160667#011validation-error:0.1907\u001B[0m\n",
      "\u001B[34m[20:06:07] src/tree/updater_prune.cc:74: tree pruning end, 1 roots, 16 extra nodes, 8 pruned nodes, max_depth=5\u001B[0m\n",
      "\u001B[34m[33]#011train-error:0.159267#011validation-error:0.19\u001B[0m\n",
      "\u001B[34m[20:06:08] src/tree/updater_prune.cc:74: tree pruning end, 1 roots, 20 extra nodes, 4 pruned nodes, max_depth=5\u001B[0m\n",
      "\u001B[34m[34]#011train-error:0.158067#011validation-error:0.1887\u001B[0m\n",
      "\u001B[34m[20:06:10] src/tree/updater_prune.cc:74: tree pruning end, 1 roots, 26 extra nodes, 6 pruned nodes, max_depth=5\u001B[0m\n",
      "\u001B[34m[35]#011train-error:0.1572#011validation-error:0.1865\u001B[0m\n",
      "\u001B[34m[20:06:11] src/tree/updater_prune.cc:74: tree pruning end, 1 roots, 32 extra nodes, 14 pruned nodes, max_depth=5\u001B[0m\n",
      "\u001B[34m[36]#011train-error:0.154667#011validation-error:0.1862\u001B[0m\n",
      "\u001B[34m[20:06:12] src/tree/updater_prune.cc:74: tree pruning end, 1 roots, 20 extra nodes, 4 pruned nodes, max_depth=5\u001B[0m\n",
      "\u001B[34m[37]#011train-error:0.1534#011validation-error:0.1852\u001B[0m\n",
      "\u001B[34m[20:06:14] src/tree/updater_prune.cc:74: tree pruning end, 1 roots, 20 extra nodes, 8 pruned nodes, max_depth=5\u001B[0m\n",
      "\u001B[34m[38]#011train-error:0.151467#011validation-error:0.1826\u001B[0m\n",
      "\u001B[34m[20:06:15] src/tree/updater_prune.cc:74: tree pruning end, 1 roots, 26 extra nodes, 4 pruned nodes, max_depth=5\u001B[0m\n",
      "\u001B[34m[39]#011train-error:0.149933#011validation-error:0.1829\u001B[0m\n",
      "\u001B[34m[20:06:16] src/tree/updater_prune.cc:74: tree pruning end, 1 roots, 38 extra nodes, 2 pruned nodes, max_depth=5\u001B[0m\n",
      "\u001B[34m[40]#011train-error:0.1484#011validation-error:0.1811\u001B[0m\n",
      "\u001B[34m[20:06:17] src/tree/updater_prune.cc:74: tree pruning end, 1 roots, 34 extra nodes, 6 pruned nodes, max_depth=5\u001B[0m\n",
      "\u001B[34m[41]#011train-error:0.149#011validation-error:0.1799\u001B[0m\n",
      "\u001B[34m[20:06:19] src/tree/updater_prune.cc:74: tree pruning end, 1 roots, 24 extra nodes, 8 pruned nodes, max_depth=5\u001B[0m\n",
      "\u001B[34m[42]#011train-error:0.146733#011validation-error:0.1795\u001B[0m\n",
      "\u001B[34m[20:06:20] src/tree/updater_prune.cc:74: tree pruning end, 1 roots, 18 extra nodes, 8 pruned nodes, max_depth=5\u001B[0m\n",
      "\u001B[34m[43]#011train-error:0.145667#011validation-error:0.1794\u001B[0m\n",
      "\u001B[34m[20:06:21] src/tree/updater_prune.cc:74: tree pruning end, 1 roots, 18 extra nodes, 8 pruned nodes, max_depth=5\u001B[0m\n",
      "\u001B[34m[44]#011train-error:0.144133#011validation-error:0.1796\u001B[0m\n",
      "\u001B[34m[20:06:22] src/tree/updater_prune.cc:74: tree pruning end, 1 roots, 22 extra nodes, 8 pruned nodes, max_depth=5\u001B[0m\n",
      "\u001B[34m[45]#011train-error:0.1438#011validation-error:0.1787\u001B[0m\n",
      "\u001B[34m[20:06:24] src/tree/updater_prune.cc:74: tree pruning end, 1 roots, 24 extra nodes, 8 pruned nodes, max_depth=5\u001B[0m\n",
      "\u001B[34m[46]#011train-error:0.1426#011validation-error:0.179\u001B[0m\n",
      "\u001B[34m[20:06:25] src/tree/updater_prune.cc:74: tree pruning end, 1 roots, 20 extra nodes, 8 pruned nodes, max_depth=5\u001B[0m\n",
      "\u001B[34m[47]#011train-error:0.141667#011validation-error:0.1776\u001B[0m\n",
      "\u001B[34m[20:06:26] src/tree/updater_prune.cc:74: tree pruning end, 1 roots, 14 extra nodes, 12 pruned nodes, max_depth=5\u001B[0m\n",
      "\u001B[34m[48]#011train-error:0.140467#011validation-error:0.1781\u001B[0m\n",
      "\u001B[34m[20:06:27] src/tree/updater_prune.cc:74: tree pruning end, 1 roots, 26 extra nodes, 6 pruned nodes, max_depth=5\u001B[0m\n",
      "\u001B[34m[49]#011train-error:0.139667#011validation-error:0.1764\u001B[0m\n",
      "\u001B[34m[20:06:29] src/tree/updater_prune.cc:74: tree pruning end, 1 roots, 20 extra nodes, 8 pruned nodes, max_depth=5\u001B[0m\n",
      "\u001B[34m[50]#011train-error:0.138867#011validation-error:0.1765\u001B[0m\n",
      "\u001B[34m[20:06:30] src/tree/updater_prune.cc:74: tree pruning end, 1 roots, 16 extra nodes, 14 pruned nodes, max_depth=5\u001B[0m\n",
      "\u001B[34m[51]#011train-error:0.137267#011validation-error:0.1766\u001B[0m\n",
      "\u001B[34m[20:06:31] src/tree/updater_prune.cc:74: tree pruning end, 1 roots, 26 extra nodes, 6 pruned nodes, max_depth=5\u001B[0m\n",
      "\u001B[34m[52]#011train-error:0.135933#011validation-error:0.1755\u001B[0m\n",
      "\u001B[34m[20:06:33] src/tree/updater_prune.cc:74: tree pruning end, 1 roots, 16 extra nodes, 14 pruned nodes, max_depth=5\u001B[0m\n",
      "\u001B[34m[53]#011train-error:0.1358#011validation-error:0.1757\u001B[0m\n",
      "\u001B[34m[20:06:34] src/tree/updater_prune.cc:74: tree pruning end, 1 roots, 18 extra nodes, 12 pruned nodes, max_depth=5\u001B[0m\n",
      "\u001B[34m[54]#011train-error:0.135533#011validation-error:0.1759\u001B[0m\n",
      "\u001B[34m[20:06:35] src/tree/updater_prune.cc:74: tree pruning end, 1 roots, 22 extra nodes, 6 pruned nodes, max_depth=5\u001B[0m\n",
      "\u001B[34m[55]#011train-error:0.134467#011validation-error:0.1738\u001B[0m\n",
      "\u001B[34m[20:06:36] src/tree/updater_prune.cc:74: tree pruning end, 1 roots, 14 extra nodes, 10 pruned nodes, max_depth=5\u001B[0m\n",
      "\u001B[34m[56]#011train-error:0.134533#011validation-error:0.1732\u001B[0m\n",
      "\u001B[34m[20:06:38] src/tree/updater_prune.cc:74: tree pruning end, 1 roots, 12 extra nodes, 2 pruned nodes, max_depth=5\u001B[0m\n",
      "\u001B[34m[57]#011train-error:0.1334#011validation-error:0.1727\u001B[0m\n",
      "\u001B[34m[20:06:39] src/tree/updater_prune.cc:74: tree pruning end, 1 roots, 22 extra nodes, 10 pruned nodes, max_depth=5\u001B[0m\n",
      "\u001B[34m[58]#011train-error:0.132667#011validation-error:0.1727\u001B[0m\n",
      "\u001B[34m[20:06:40] src/tree/updater_prune.cc:74: tree pruning end, 1 roots, 14 extra nodes, 10 pruned nodes, max_depth=5\u001B[0m\n",
      "\u001B[34m[59]#011train-error:0.132333#011validation-error:0.1728\u001B[0m\n",
      "\u001B[34m[20:06:41] src/tree/updater_prune.cc:74: tree pruning end, 1 roots, 28 extra nodes, 6 pruned nodes, max_depth=5\u001B[0m\n",
      "\u001B[34m[60]#011train-error:0.129867#011validation-error:0.1718\u001B[0m\n",
      "\u001B[34m[20:06:43] src/tree/updater_prune.cc:74: tree pruning end, 1 roots, 26 extra nodes, 10 pruned nodes, max_depth=5\u001B[0m\n",
      "\u001B[34m[61]#011train-error:0.129267#011validation-error:0.1699\u001B[0m\n",
      "\u001B[34m[20:06:44] src/tree/updater_prune.cc:74: tree pruning end, 1 roots, 22 extra nodes, 14 pruned nodes, max_depth=5\u001B[0m\n",
      "\u001B[34m[62]#011train-error:0.128667#011validation-error:0.1693\u001B[0m\n",
      "\u001B[34m[20:06:45] src/tree/updater_prune.cc:74: tree pruning end, 1 roots, 20 extra nodes, 6 pruned nodes, max_depth=5\u001B[0m\n",
      "\u001B[34m[63]#011train-error:0.1284#011validation-error:0.1685\u001B[0m\n",
      "\u001B[34m[20:06:46] src/tree/updater_prune.cc:74: tree pruning end, 1 roots, 26 extra nodes, 6 pruned nodes, max_depth=5\u001B[0m\n",
      "\u001B[34m[64]#011train-error:0.128467#011validation-error:0.1681\u001B[0m\n",
      "\u001B[34m[20:06:48] src/tree/updater_prune.cc:74: tree pruning end, 1 roots, 26 extra nodes, 8 pruned nodes, max_depth=5\u001B[0m\n",
      "\u001B[34m[65]#011train-error:0.127733#011validation-error:0.1675\u001B[0m\n",
      "\u001B[34m[20:06:49] src/tree/updater_prune.cc:74: tree pruning end, 1 roots, 12 extra nodes, 6 pruned nodes, max_depth=5\u001B[0m\n",
      "\u001B[34m[66]#011train-error:0.127133#011validation-error:0.167\u001B[0m\n",
      "\u001B[34m[20:06:50] src/tree/updater_prune.cc:74: tree pruning end, 1 roots, 34 extra nodes, 6 pruned nodes, max_depth=5\u001B[0m\n",
      "\u001B[34m[67]#011train-error:0.125133#011validation-error:0.1674\u001B[0m\n",
      "\u001B[34m[20:06:52] src/tree/updater_prune.cc:74: tree pruning end, 1 roots, 28 extra nodes, 10 pruned nodes, max_depth=5\u001B[0m\n",
      "\u001B[34m[68]#011train-error:0.1236#011validation-error:0.1672\u001B[0m\n",
      "\u001B[34m[20:06:53] src/tree/updater_prune.cc:74: tree pruning end, 1 roots, 18 extra nodes, 6 pruned nodes, max_depth=5\u001B[0m\n",
      "\u001B[34m[69]#011train-error:0.122667#011validation-error:0.1661\u001B[0m\n",
      "\u001B[34m[20:06:54] src/tree/updater_prune.cc:74: tree pruning end, 1 roots, 38 extra nodes, 8 pruned nodes, max_depth=5\u001B[0m\n",
      "\u001B[34m[70]#011train-error:0.122133#011validation-error:0.1666\u001B[0m\n",
      "\u001B[34m[20:06:55] src/tree/updater_prune.cc:74: tree pruning end, 1 roots, 24 extra nodes, 4 pruned nodes, max_depth=5\u001B[0m\n",
      "\u001B[34m[71]#011train-error:0.122333#011validation-error:0.1663\u001B[0m\n",
      "\u001B[34m[20:06:57] src/tree/updater_prune.cc:74: tree pruning end, 1 roots, 22 extra nodes, 10 pruned nodes, max_depth=5\u001B[0m\n",
      "\u001B[34m[72]#011train-error:0.1206#011validation-error:0.1656\u001B[0m\n",
      "\u001B[34m[20:06:58] src/tree/updater_prune.cc:74: tree pruning end, 1 roots, 32 extra nodes, 0 pruned nodes, max_depth=5\u001B[0m\n",
      "\u001B[34m[73]#011train-error:0.120133#011validation-error:0.1656\u001B[0m\n",
      "\u001B[34m[20:06:59] src/tree/updater_prune.cc:74: tree pruning end, 1 roots, 18 extra nodes, 8 pruned nodes, max_depth=5\u001B[0m\n",
      "\u001B[34m[74]#011train-error:0.119133#011validation-error:0.1648\u001B[0m\n",
      "\u001B[34m[20:07:00] src/tree/updater_prune.cc:74: tree pruning end, 1 roots, 18 extra nodes, 6 pruned nodes, max_depth=5\u001B[0m\n",
      "\u001B[34m[75]#011train-error:0.118#011validation-error:0.1642\u001B[0m\n",
      "\u001B[34m[20:07:02] src/tree/updater_prune.cc:74: tree pruning end, 1 roots, 12 extra nodes, 14 pruned nodes, max_depth=5\u001B[0m\n",
      "\u001B[34m[76]#011train-error:0.117267#011validation-error:0.1639\u001B[0m\n",
      "\u001B[34m[20:07:03] src/tree/updater_prune.cc:74: tree pruning end, 1 roots, 32 extra nodes, 6 pruned nodes, max_depth=5\u001B[0m\n",
      "\u001B[34m[77]#011train-error:0.117#011validation-error:0.1622\u001B[0m\n",
      "\u001B[34m[20:07:04] src/tree/updater_prune.cc:74: tree pruning end, 1 roots, 22 extra nodes, 14 pruned nodes, max_depth=5\u001B[0m\n",
      "\u001B[34m[78]#011train-error:0.116133#011validation-error:0.1615\u001B[0m\n",
      "\u001B[34m[20:07:05] src/tree/updater_prune.cc:74: tree pruning end, 1 roots, 24 extra nodes, 4 pruned nodes, max_depth=5\u001B[0m\n",
      "\u001B[34m[79]#011train-error:0.114133#011validation-error:0.1626\u001B[0m\n",
      "\u001B[34m[20:07:07] src/tree/updater_prune.cc:74: tree pruning end, 1 roots, 44 extra nodes, 2 pruned nodes, max_depth=5\u001B[0m\n",
      "\u001B[34m[80]#011train-error:0.1136#011validation-error:0.1617\u001B[0m\n",
      "\u001B[34m[20:07:08] src/tree/updater_prune.cc:74: tree pruning end, 1 roots, 16 extra nodes, 10 pruned nodes, max_depth=5\u001B[0m\n",
      "\u001B[34m[81]#011train-error:0.113133#011validation-error:0.1605\u001B[0m\n",
      "\u001B[34m[20:07:09] src/tree/updater_prune.cc:74: tree pruning end, 1 roots, 14 extra nodes, 8 pruned nodes, max_depth=5\u001B[0m\n",
      "\u001B[34m[82]#011train-error:0.113#011validation-error:0.1606\u001B[0m\n",
      "\u001B[34m[20:07:11] src/tree/updater_prune.cc:74: tree pruning end, 1 roots, 20 extra nodes, 16 pruned nodes, max_depth=5\u001B[0m\n",
      "\u001B[34m[83]#011train-error:0.1124#011validation-error:0.1612\u001B[0m\n",
      "\u001B[34m[20:07:12] src/tree/updater_prune.cc:74: tree pruning end, 1 roots, 16 extra nodes, 14 pruned nodes, max_depth=5\u001B[0m\n",
      "\u001B[34m[84]#011train-error:0.111867#011validation-error:0.1603\u001B[0m\n",
      "\u001B[34m[20:07:13] src/tree/updater_prune.cc:74: tree pruning end, 1 roots, 26 extra nodes, 20 pruned nodes, max_depth=5\u001B[0m\n",
      "\u001B[34m[85]#011train-error:0.111333#011validation-error:0.1606\u001B[0m\n",
      "\u001B[34m[20:07:14] src/tree/updater_prune.cc:74: tree pruning end, 1 roots, 20 extra nodes, 12 pruned nodes, max_depth=5\u001B[0m\n",
      "\u001B[34m[86]#011train-error:0.111133#011validation-error:0.1595\u001B[0m\n",
      "\u001B[34m[20:07:16] src/tree/updater_prune.cc:74: tree pruning end, 1 roots, 30 extra nodes, 4 pruned nodes, max_depth=5\u001B[0m\n",
      "\u001B[34m[87]#011train-error:0.109533#011validation-error:0.159\u001B[0m\n",
      "\u001B[34m[20:07:17] src/tree/updater_prune.cc:74: tree pruning end, 1 roots, 14 extra nodes, 6 pruned nodes, max_depth=5\u001B[0m\n",
      "\u001B[34m[88]#011train-error:0.109#011validation-error:0.1583\u001B[0m\n",
      "\u001B[34m[20:07:18] src/tree/updater_prune.cc:74: tree pruning end, 1 roots, 18 extra nodes, 6 pruned nodes, max_depth=5\u001B[0m\n",
      "\u001B[34m[89]#011train-error:0.1082#011validation-error:0.1571\u001B[0m\n",
      "\u001B[34m[20:07:19] src/tree/updater_prune.cc:74: tree pruning end, 1 roots, 26 extra nodes, 6 pruned nodes, max_depth=5\u001B[0m\n",
      "\u001B[34m[90]#011train-error:0.107#011validation-error:0.1557\u001B[0m\n",
      "\u001B[34m[20:07:21] src/tree/updater_prune.cc:74: tree pruning end, 1 roots, 18 extra nodes, 8 pruned nodes, max_depth=5\u001B[0m\n",
      "\u001B[34m[91]#011train-error:0.1068#011validation-error:0.1558\u001B[0m\n",
      "\u001B[34m[20:07:22] src/tree/updater_prune.cc:74: tree pruning end, 1 roots, 18 extra nodes, 12 pruned nodes, max_depth=5\u001B[0m\n",
      "\u001B[34m[92]#011train-error:0.105733#011validation-error:0.1566\u001B[0m\n",
      "\u001B[34m[20:07:23] src/tree/updater_prune.cc:74: tree pruning end, 1 roots, 20 extra nodes, 6 pruned nodes, max_depth=5\u001B[0m\n",
      "\u001B[34m[93]#011train-error:0.105133#011validation-error:0.1563\u001B[0m\n",
      "\u001B[34m[20:07:25] src/tree/updater_prune.cc:74: tree pruning end, 1 roots, 20 extra nodes, 4 pruned nodes, max_depth=5\u001B[0m\n",
      "\u001B[34m[94]#011train-error:0.104467#011validation-error:0.1556\u001B[0m\n",
      "\u001B[34m[20:07:26] src/tree/updater_prune.cc:74: tree pruning end, 1 roots, 10 extra nodes, 8 pruned nodes, max_depth=5\u001B[0m\n",
      "\u001B[34m[95]#011train-error:0.104467#011validation-error:0.1548\u001B[0m\n",
      "\u001B[34m[20:07:27] src/tree/updater_prune.cc:74: tree pruning end, 1 roots, 10 extra nodes, 12 pruned nodes, max_depth=5\u001B[0m\n",
      "\u001B[34m[96]#011train-error:0.1046#011validation-error:0.1544\u001B[0m\n",
      "\u001B[34m[20:07:28] src/tree/updater_prune.cc:74: tree pruning end, 1 roots, 34 extra nodes, 8 pruned nodes, max_depth=5\u001B[0m\n",
      "\u001B[34m[97]#011train-error:0.103133#011validation-error:0.1543\u001B[0m\n",
      "\u001B[34m[20:07:30] src/tree/updater_prune.cc:74: tree pruning end, 1 roots, 24 extra nodes, 12 pruned nodes, max_depth=5\u001B[0m\n",
      "\u001B[34m[98]#011train-error:0.1014#011validation-error:0.1547\u001B[0m\n",
      "\u001B[34m[20:07:31] src/tree/updater_prune.cc:74: tree pruning end, 1 roots, 12 extra nodes, 4 pruned nodes, max_depth=5\u001B[0m\n",
      "\u001B[34m[99]#011train-error:0.100667#011validation-error:0.1548\u001B[0m\n",
      "\u001B[34m[20:07:32] src/tree/updater_prune.cc:74: tree pruning end, 1 roots, 14 extra nodes, 10 pruned nodes, max_depth=5\u001B[0m\n",
      "\u001B[34m[100]#011train-error:0.100667#011validation-error:0.1548\u001B[0m\n",
      "\u001B[34m[20:07:33] src/tree/updater_prune.cc:74: tree pruning end, 1 roots, 42 extra nodes, 8 pruned nodes, max_depth=5\u001B[0m\n",
      "\u001B[34m[101]#011train-error:0.0992#011validation-error:0.1545\u001B[0m\n",
      "\u001B[34m[20:07:35] src/tree/updater_prune.cc:74: tree pruning end, 1 roots, 24 extra nodes, 10 pruned nodes, max_depth=5\u001B[0m\n",
      "\u001B[34m[102]#011train-error:0.098867#011validation-error:0.1546\u001B[0m\n",
      "\u001B[34m[20:07:36] src/tree/updater_prune.cc:74: tree pruning end, 1 roots, 10 extra nodes, 2 pruned nodes, max_depth=5\u001B[0m\n",
      "\u001B[34m[103]#011train-error:0.098533#011validation-error:0.1544\u001B[0m\n",
      "\u001B[34m[20:07:37] src/tree/updater_prune.cc:74: tree pruning end, 1 roots, 36 extra nodes, 12 pruned nodes, max_depth=5\u001B[0m\n",
      "\u001B[34m[104]#011train-error:0.097933#011validation-error:0.1542\u001B[0m\n",
      "\u001B[34m[20:07:38] src/tree/updater_prune.cc:74: tree pruning end, 1 roots, 22 extra nodes, 0 pruned nodes, max_depth=5\u001B[0m\n",
      "\u001B[34m[105]#011train-error:0.096933#011validation-error:0.1539\u001B[0m\n",
      "\u001B[34m[20:07:40] src/tree/updater_prune.cc:74: tree pruning end, 1 roots, 18 extra nodes, 0 pruned nodes, max_depth=5\u001B[0m\n",
      "\u001B[34m[106]#011train-error:0.096733#011validation-error:0.153\u001B[0m\n",
      "\u001B[34m[20:07:41] src/tree/updater_prune.cc:74: tree pruning end, 1 roots, 12 extra nodes, 8 pruned nodes, max_depth=5\u001B[0m\n",
      "\u001B[34m[107]#011train-error:0.096733#011validation-error:0.1533\u001B[0m\n",
      "\u001B[34m[20:07:42] src/tree/updater_prune.cc:74: tree pruning end, 1 roots, 16 extra nodes, 6 pruned nodes, max_depth=5\u001B[0m\n",
      "\u001B[34m[108]#011train-error:0.097133#011validation-error:0.1533\u001B[0m\n",
      "\u001B[34m[20:07:44] src/tree/updater_prune.cc:74: tree pruning end, 1 roots, 26 extra nodes, 12 pruned nodes, max_depth=5\u001B[0m\n",
      "\u001B[34m[109]#011train-error:0.097333#011validation-error:0.1542\u001B[0m\n",
      "\u001B[34m[20:07:45] src/tree/updater_prune.cc:74: tree pruning end, 1 roots, 12 extra nodes, 10 pruned nodes, max_depth=5\u001B[0m\n",
      "\u001B[34m[110]#011train-error:0.097#011validation-error:0.1535\u001B[0m\n",
      "\u001B[34m[20:07:46] src/tree/updater_prune.cc:74: tree pruning end, 1 roots, 22 extra nodes, 8 pruned nodes, max_depth=5\u001B[0m\n",
      "\u001B[34m[111]#011train-error:0.096267#011validation-error:0.1535\u001B[0m\n",
      "\u001B[34m[20:07:47] src/tree/updater_prune.cc:74: tree pruning end, 1 roots, 16 extra nodes, 6 pruned nodes, max_depth=5\u001B[0m\n",
      "\u001B[34m[112]#011train-error:0.0956#011validation-error:0.1534\u001B[0m\n",
      "\u001B[34m[20:07:49] src/tree/updater_prune.cc:74: tree pruning end, 1 roots, 18 extra nodes, 12 pruned nodes, max_depth=5\u001B[0m\n",
      "\u001B[34m[113]#011train-error:0.095333#011validation-error:0.1533\u001B[0m\n",
      "\u001B[34m[20:07:50] src/tree/updater_prune.cc:74: tree pruning end, 1 roots, 14 extra nodes, 22 pruned nodes, max_depth=5\u001B[0m\n",
      "\u001B[34m[114]#011train-error:0.094667#011validation-error:0.1529\u001B[0m\n",
      "\u001B[34m[20:07:51] src/tree/updater_prune.cc:74: tree pruning end, 1 roots, 10 extra nodes, 8 pruned nodes, max_depth=5\u001B[0m\n",
      "\u001B[34m[115]#011train-error:0.0948#011validation-error:0.1529\u001B[0m\n",
      "\u001B[34m[20:07:53] src/tree/updater_prune.cc:74: tree pruning end, 1 roots, 16 extra nodes, 4 pruned nodes, max_depth=5\u001B[0m\n",
      "\u001B[34m[116]#011train-error:0.094067#011validation-error:0.1518\u001B[0m\n",
      "\u001B[34m[20:07:54] src/tree/updater_prune.cc:74: tree pruning end, 1 roots, 12 extra nodes, 2 pruned nodes, max_depth=5\u001B[0m\n",
      "\u001B[34m[117]#011train-error:0.0942#011validation-error:0.1514\u001B[0m\n",
      "\u001B[34m[20:07:55] src/tree/updater_prune.cc:74: tree pruning end, 1 roots, 14 extra nodes, 4 pruned nodes, max_depth=5\u001B[0m\n",
      "\u001B[34m[118]#011train-error:0.0936#011validation-error:0.1516\u001B[0m\n",
      "\u001B[34m[20:07:56] src/tree/updater_prune.cc:74: tree pruning end, 1 roots, 12 extra nodes, 4 pruned nodes, max_depth=5\u001B[0m\n",
      "\u001B[34m[119]#011train-error:0.094#011validation-error:0.1505\u001B[0m\n",
      "\u001B[34m[20:07:58] src/tree/updater_prune.cc:74: tree pruning end, 1 roots, 16 extra nodes, 12 pruned nodes, max_depth=5\u001B[0m\n",
      "\u001B[34m[120]#011train-error:0.093467#011validation-error:0.1496\u001B[0m\n",
      "\u001B[34m[20:07:59] src/tree/updater_prune.cc:74: tree pruning end, 1 roots, 12 extra nodes, 10 pruned nodes, max_depth=5\u001B[0m\n",
      "\u001B[34m[121]#011train-error:0.092733#011validation-error:0.1512\u001B[0m\n",
      "\u001B[34m[20:08:00] src/tree/updater_prune.cc:74: tree pruning end, 1 roots, 16 extra nodes, 2 pruned nodes, max_depth=5\u001B[0m\n",
      "\u001B[34m[122]#011train-error:0.092933#011validation-error:0.1507\u001B[0m\n",
      "\u001B[34m[20:08:01] src/tree/updater_prune.cc:74: tree pruning end, 1 roots, 22 extra nodes, 4 pruned nodes, max_depth=5\u001B[0m\n",
      "\u001B[34m[123]#011train-error:0.092533#011validation-error:0.15\u001B[0m\n",
      "\u001B[34m[20:08:03] src/tree/updater_prune.cc:74: tree pruning end, 1 roots, 16 extra nodes, 6 pruned nodes, max_depth=5\u001B[0m\n",
      "\u001B[34m[124]#011train-error:0.0916#011validation-error:0.1494\u001B[0m\n",
      "\u001B[34m[20:08:04] src/tree/updater_prune.cc:74: tree pruning end, 1 roots, 22 extra nodes, 4 pruned nodes, max_depth=5\u001B[0m\n",
      "\u001B[34m[125]#011train-error:0.091267#011validation-error:0.1489\u001B[0m\n",
      "\u001B[34m[20:08:05] src/tree/updater_prune.cc:74: tree pruning end, 1 roots, 18 extra nodes, 2 pruned nodes, max_depth=5\u001B[0m\n",
      "\u001B[34m[126]#011train-error:0.090867#011validation-error:0.1484\u001B[0m\n",
      "\u001B[34m[20:08:07] src/tree/updater_prune.cc:74: tree pruning end, 1 roots, 22 extra nodes, 8 pruned nodes, max_depth=5\u001B[0m\n",
      "\u001B[34m[127]#011train-error:0.091067#011validation-error:0.1481\u001B[0m\n",
      "\u001B[34m[20:08:08] src/tree/updater_prune.cc:74: tree pruning end, 1 roots, 12 extra nodes, 8 pruned nodes, max_depth=5\u001B[0m\n",
      "\u001B[34m[128]#011train-error:0.090933#011validation-error:0.1476\u001B[0m\n",
      "\u001B[34m[20:08:09] src/tree/updater_prune.cc:74: tree pruning end, 1 roots, 22 extra nodes, 8 pruned nodes, max_depth=5\u001B[0m\n",
      "\u001B[34m[129]#011train-error:0.0902#011validation-error:0.1472\u001B[0m\n",
      "\u001B[34m[20:08:10] src/tree/updater_prune.cc:74: tree pruning end, 1 roots, 24 extra nodes, 20 pruned nodes, max_depth=5\u001B[0m\n",
      "\u001B[34m[130]#011train-error:0.089733#011validation-error:0.147\u001B[0m\n",
      "\u001B[34m[20:08:12] src/tree/updater_prune.cc:74: tree pruning end, 1 roots, 12 extra nodes, 6 pruned nodes, max_depth=5\u001B[0m\n",
      "\u001B[34m[131]#011train-error:0.089733#011validation-error:0.1461\u001B[0m\n",
      "\u001B[34m[20:08:13] src/tree/updater_prune.cc:74: tree pruning end, 1 roots, 14 extra nodes, 10 pruned nodes, max_depth=5\u001B[0m\n",
      "\u001B[34m[132]#011train-error:0.0888#011validation-error:0.1466\u001B[0m\n",
      "\u001B[34m[20:08:14] src/tree/updater_prune.cc:74: tree pruning end, 1 roots, 18 extra nodes, 6 pruned nodes, max_depth=5\u001B[0m\n",
      "\u001B[34m[133]#011train-error:0.088267#011validation-error:0.1471\u001B[0m\n",
      "\u001B[34m[20:08:15] src/tree/updater_prune.cc:74: tree pruning end, 1 roots, 14 extra nodes, 8 pruned nodes, max_depth=5\u001B[0m\n",
      "\u001B[34m[134]#011train-error:0.087733#011validation-error:0.1467\u001B[0m\n",
      "\u001B[34m[20:08:17] src/tree/updater_prune.cc:74: tree pruning end, 1 roots, 22 extra nodes, 2 pruned nodes, max_depth=5\u001B[0m\n",
      "\u001B[34m[135]#011train-error:0.0874#011validation-error:0.1469\u001B[0m\n",
      "\u001B[34m[20:08:18] src/tree/updater_prune.cc:74: tree pruning end, 1 roots, 14 extra nodes, 6 pruned nodes, max_depth=5\u001B[0m\n",
      "\u001B[34m[136]#011train-error:0.087533#011validation-error:0.1472\u001B[0m\n",
      "\u001B[34m[20:08:19] src/tree/updater_prune.cc:74: tree pruning end, 1 roots, 24 extra nodes, 6 pruned nodes, max_depth=5\u001B[0m\n",
      "\u001B[34m[137]#011train-error:0.087333#011validation-error:0.1472\u001B[0m\n",
      "\u001B[34m[20:08:20] src/tree/updater_prune.cc:74: tree pruning end, 1 roots, 12 extra nodes, 6 pruned nodes, max_depth=5\u001B[0m\n",
      "\u001B[34m[138]#011train-error:0.087#011validation-error:0.1469\u001B[0m\n",
      "\u001B[34m[20:08:22] src/tree/updater_prune.cc:74: tree pruning end, 1 roots, 12 extra nodes, 10 pruned nodes, max_depth=5\u001B[0m\n",
      "\u001B[34m[139]#011train-error:0.086733#011validation-error:0.1462\u001B[0m\n",
      "\u001B[34m[20:08:23] src/tree/updater_prune.cc:74: tree pruning end, 1 roots, 14 extra nodes, 10 pruned nodes, max_depth=5\u001B[0m\n",
      "\u001B[34m[140]#011train-error:0.0864#011validation-error:0.1455\u001B[0m\n",
      "\u001B[34m[20:08:24] src/tree/updater_prune.cc:74: tree pruning end, 1 roots, 10 extra nodes, 6 pruned nodes, max_depth=5\u001B[0m\n",
      "\u001B[34m[141]#011train-error:0.0862#011validation-error:0.1456\u001B[0m\n",
      "\u001B[34m[20:08:26] src/tree/updater_prune.cc:74: tree pruning end, 1 roots, 16 extra nodes, 2 pruned nodes, max_depth=5\u001B[0m\n",
      "\u001B[34m[142]#011train-error:0.086#011validation-error:0.1459\u001B[0m\n",
      "\u001B[34m[20:08:27] src/tree/updater_prune.cc:74: tree pruning end, 1 roots, 16 extra nodes, 8 pruned nodes, max_depth=5\u001B[0m\n",
      "\u001B[34m[143]#011train-error:0.0856#011validation-error:0.1465\u001B[0m\n",
      "\u001B[34m[20:08:28] src/tree/updater_prune.cc:74: tree pruning end, 1 roots, 12 extra nodes, 8 pruned nodes, max_depth=5\u001B[0m\n",
      "\u001B[34m[144]#011train-error:0.085#011validation-error:0.1458\u001B[0m\n",
      "\u001B[34m[20:08:29] src/tree/updater_prune.cc:74: tree pruning end, 1 roots, 12 extra nodes, 4 pruned nodes, max_depth=5\u001B[0m\n",
      "\u001B[34m[145]#011train-error:0.084867#011validation-error:0.1456\u001B[0m\n",
      "\u001B[34m[20:08:31] src/tree/updater_prune.cc:74: tree pruning end, 1 roots, 18 extra nodes, 10 pruned nodes, max_depth=5\u001B[0m\n",
      "\u001B[34m[146]#011train-error:0.084867#011validation-error:0.1442\u001B[0m\n",
      "\u001B[34m[20:08:32] src/tree/updater_prune.cc:74: tree pruning end, 1 roots, 16 extra nodes, 4 pruned nodes, max_depth=5\u001B[0m\n",
      "\u001B[34m[147]#011train-error:0.0848#011validation-error:0.1438\u001B[0m\n",
      "\u001B[34m[20:08:33] src/tree/updater_prune.cc:74: tree pruning end, 1 roots, 12 extra nodes, 8 pruned nodes, max_depth=5\u001B[0m\n",
      "\u001B[34m[148]#011train-error:0.084467#011validation-error:0.1438\u001B[0m\n",
      "\u001B[34m[20:08:35] src/tree/updater_prune.cc:74: tree pruning end, 1 roots, 12 extra nodes, 6 pruned nodes, max_depth=5\u001B[0m\n",
      "\u001B[34m[149]#011train-error:0.084133#011validation-error:0.1436\u001B[0m\n",
      "\u001B[34m[20:08:36] src/tree/updater_prune.cc:74: tree pruning end, 1 roots, 12 extra nodes, 10 pruned nodes, max_depth=5\u001B[0m\n",
      "\u001B[34m[150]#011train-error:0.084067#011validation-error:0.1431\u001B[0m\n",
      "\u001B[34m[20:08:37] src/tree/updater_prune.cc:74: tree pruning end, 1 roots, 12 extra nodes, 20 pruned nodes, max_depth=5\u001B[0m\n",
      "\u001B[34m[151]#011train-error:0.084#011validation-error:0.1429\u001B[0m\n",
      "\u001B[34m[20:08:38] src/tree/updater_prune.cc:74: tree pruning end, 1 roots, 10 extra nodes, 6 pruned nodes, max_depth=5\u001B[0m\n",
      "\u001B[34m[152]#011train-error:0.0838#011validation-error:0.1424\u001B[0m\n",
      "\u001B[34m[20:08:40] src/tree/updater_prune.cc:74: tree pruning end, 1 roots, 12 extra nodes, 6 pruned nodes, max_depth=5\u001B[0m\n",
      "\u001B[34m[153]#011train-error:0.0836#011validation-error:0.1422\u001B[0m\n",
      "\u001B[34m[20:08:41] src/tree/updater_prune.cc:74: tree pruning end, 1 roots, 24 extra nodes, 4 pruned nodes, max_depth=5\u001B[0m\n",
      "\u001B[34m[154]#011train-error:0.082933#011validation-error:0.143\u001B[0m\n",
      "\u001B[34m[20:08:42] src/tree/updater_prune.cc:74: tree pruning end, 1 roots, 16 extra nodes, 2 pruned nodes, max_depth=5\u001B[0m\n",
      "\u001B[34m[155]#011train-error:0.082267#011validation-error:0.1434\u001B[0m\n",
      "\u001B[34m[20:08:43] src/tree/updater_prune.cc:74: tree pruning end, 1 roots, 10 extra nodes, 6 pruned nodes, max_depth=5\u001B[0m\n",
      "\u001B[34m[156]#011train-error:0.0826#011validation-error:0.143\u001B[0m\n",
      "\u001B[34m[20:08:45] src/tree/updater_prune.cc:74: tree pruning end, 1 roots, 12 extra nodes, 4 pruned nodes, max_depth=5\u001B[0m\n",
      "\u001B[34m[157]#011train-error:0.082133#011validation-error:0.1437\u001B[0m\n",
      "\u001B[34m[20:08:46] src/tree/updater_prune.cc:74: tree pruning end, 1 roots, 12 extra nodes, 8 pruned nodes, max_depth=5\u001B[0m\n",
      "\u001B[34m[158]#011train-error:0.0814#011validation-error:0.143\u001B[0m\n",
      "\u001B[34m[20:08:47] src/tree/updater_prune.cc:74: tree pruning end, 1 roots, 10 extra nodes, 4 pruned nodes, max_depth=5\u001B[0m\n",
      "\u001B[34m[159]#011train-error:0.081733#011validation-error:0.1428\u001B[0m\n",
      "\u001B[34m[20:08:49] src/tree/updater_prune.cc:74: tree pruning end, 1 roots, 20 extra nodes, 6 pruned nodes, max_depth=5\u001B[0m\n",
      "\u001B[34m[160]#011train-error:0.081733#011validation-error:0.1423\u001B[0m\n",
      "\u001B[34m[20:08:50] src/tree/updater_prune.cc:74: tree pruning end, 1 roots, 14 extra nodes, 10 pruned nodes, max_depth=5\u001B[0m\n",
      "\u001B[34m[161]#011train-error:0.081467#011validation-error:0.1425\u001B[0m\n",
      "\u001B[34m[20:08:51] src/tree/updater_prune.cc:74: tree pruning end, 1 roots, 14 extra nodes, 6 pruned nodes, max_depth=5\u001B[0m\n",
      "\u001B[34m[162]#011train-error:0.081267#011validation-error:0.142\u001B[0m\n",
      "\u001B[34m[20:08:52] src/tree/updater_prune.cc:74: tree pruning end, 1 roots, 14 extra nodes, 6 pruned nodes, max_depth=5\u001B[0m\n",
      "\u001B[34m[163]#011train-error:0.081#011validation-error:0.1426\u001B[0m\n",
      "\u001B[34m[20:08:54] src/tree/updater_prune.cc:74: tree pruning end, 1 roots, 16 extra nodes, 10 pruned nodes, max_depth=5\u001B[0m\n",
      "\u001B[34m[164]#011train-error:0.0804#011validation-error:0.1423\u001B[0m\n",
      "\u001B[34m[20:08:55] src/tree/updater_prune.cc:74: tree pruning end, 1 roots, 14 extra nodes, 6 pruned nodes, max_depth=5\u001B[0m\n",
      "\u001B[34m[165]#011train-error:0.080533#011validation-error:0.1416\u001B[0m\n",
      "\u001B[34m[20:08:56] src/tree/updater_prune.cc:74: tree pruning end, 1 roots, 12 extra nodes, 6 pruned nodes, max_depth=5\u001B[0m\n",
      "\u001B[34m[166]#011train-error:0.080133#011validation-error:0.1418\u001B[0m\n",
      "\u001B[34m[20:08:57] src/tree/updater_prune.cc:74: tree pruning end, 1 roots, 26 extra nodes, 18 pruned nodes, max_depth=5\u001B[0m\n",
      "\u001B[34m[167]#011train-error:0.078867#011validation-error:0.1415\u001B[0m\n",
      "\u001B[34m[20:08:59] src/tree/updater_prune.cc:74: tree pruning end, 1 roots, 14 extra nodes, 8 pruned nodes, max_depth=5\u001B[0m\n",
      "\u001B[34m[168]#011train-error:0.078533#011validation-error:0.1412\u001B[0m\n",
      "\u001B[34m[20:09:00] src/tree/updater_prune.cc:74: tree pruning end, 1 roots, 14 extra nodes, 14 pruned nodes, max_depth=5\u001B[0m\n",
      "\u001B[34m[169]#011train-error:0.079#011validation-error:0.1412\u001B[0m\n",
      "\u001B[34m[20:09:01] src/tree/updater_prune.cc:74: tree pruning end, 1 roots, 38 extra nodes, 10 pruned nodes, max_depth=5\u001B[0m\n",
      "\u001B[34m[170]#011train-error:0.077867#011validation-error:0.1409\u001B[0m\n",
      "\u001B[34m[20:09:03] src/tree/updater_prune.cc:74: tree pruning end, 1 roots, 12 extra nodes, 0 pruned nodes, max_depth=5\u001B[0m\n",
      "\u001B[34m[171]#011train-error:0.077867#011validation-error:0.1412\u001B[0m\n",
      "\u001B[34m[20:09:04] src/tree/updater_prune.cc:74: tree pruning end, 1 roots, 32 extra nodes, 8 pruned nodes, max_depth=5\u001B[0m\n",
      "\u001B[34m[172]#011train-error:0.077267#011validation-error:0.1409\u001B[0m\n",
      "\u001B[34m[20:09:05] src/tree/updater_prune.cc:74: tree pruning end, 1 roots, 14 extra nodes, 0 pruned nodes, max_depth=5\u001B[0m\n",
      "\u001B[34m[173]#011train-error:0.077267#011validation-error:0.1405\u001B[0m\n",
      "\u001B[34m[20:09:06] src/tree/updater_prune.cc:74: tree pruning end, 1 roots, 12 extra nodes, 14 pruned nodes, max_depth=5\u001B[0m\n",
      "\u001B[34m[174]#011train-error:0.0774#011validation-error:0.1403\u001B[0m\n",
      "\u001B[34m[20:09:08] src/tree/updater_prune.cc:74: tree pruning end, 1 roots, 14 extra nodes, 4 pruned nodes, max_depth=5\u001B[0m\n",
      "\u001B[34m[175]#011train-error:0.077333#011validation-error:0.1398\u001B[0m\n",
      "\u001B[34m[20:09:09] src/tree/updater_prune.cc:74: tree pruning end, 1 roots, 10 extra nodes, 8 pruned nodes, max_depth=5\u001B[0m\n",
      "\u001B[34m[176]#011train-error:0.077467#011validation-error:0.1396\u001B[0m\n",
      "\u001B[34m[20:09:10] src/tree/updater_prune.cc:74: tree pruning end, 1 roots, 10 extra nodes, 4 pruned nodes, max_depth=5\u001B[0m\n",
      "\u001B[34m[177]#011train-error:0.077#011validation-error:0.1395\u001B[0m\n",
      "\u001B[34m[20:09:11] src/tree/updater_prune.cc:74: tree pruning end, 1 roots, 20 extra nodes, 10 pruned nodes, max_depth=5\u001B[0m\n",
      "\u001B[34m[178]#011train-error:0.0766#011validation-error:0.1391\u001B[0m\n",
      "\u001B[34m[20:09:13] src/tree/updater_prune.cc:74: tree pruning end, 1 roots, 16 extra nodes, 10 pruned nodes, max_depth=5\u001B[0m\n",
      "\u001B[34m[179]#011train-error:0.076467#011validation-error:0.1388\u001B[0m\n",
      "\u001B[34m[20:09:14] src/tree/updater_prune.cc:74: tree pruning end, 1 roots, 22 extra nodes, 6 pruned nodes, max_depth=5\u001B[0m\n",
      "\u001B[34m[180]#011train-error:0.075733#011validation-error:0.1379\u001B[0m\n",
      "\u001B[34m[20:09:15] src/tree/updater_prune.cc:74: tree pruning end, 1 roots, 12 extra nodes, 6 pruned nodes, max_depth=5\u001B[0m\n",
      "\u001B[34m[181]#011train-error:0.075467#011validation-error:0.1373\u001B[0m\n",
      "\u001B[34m[20:09:16] src/tree/updater_prune.cc:74: tree pruning end, 1 roots, 14 extra nodes, 6 pruned nodes, max_depth=5\u001B[0m\n",
      "\u001B[34m[182]#011train-error:0.0748#011validation-error:0.138\u001B[0m\n",
      "\u001B[34m[20:09:18] src/tree/updater_prune.cc:74: tree pruning end, 1 roots, 10 extra nodes, 2 pruned nodes, max_depth=5\u001B[0m\n",
      "\u001B[34m[183]#011train-error:0.074733#011validation-error:0.1379\u001B[0m\n",
      "\u001B[34m[20:09:19] src/tree/updater_prune.cc:74: tree pruning end, 1 roots, 16 extra nodes, 14 pruned nodes, max_depth=5\u001B[0m\n",
      "\u001B[34m[184]#011train-error:0.074267#011validation-error:0.1375\u001B[0m\n",
      "\u001B[34m[20:09:20] src/tree/updater_prune.cc:74: tree pruning end, 1 roots, 10 extra nodes, 6 pruned nodes, max_depth=5\u001B[0m\n",
      "\u001B[34m[185]#011train-error:0.074267#011validation-error:0.1368\u001B[0m\n",
      "\u001B[34m[20:09:22] src/tree/updater_prune.cc:74: tree pruning end, 1 roots, 24 extra nodes, 16 pruned nodes, max_depth=5\u001B[0m\n",
      "\u001B[34m[186]#011train-error:0.0744#011validation-error:0.1369\u001B[0m\n",
      "\u001B[34m[20:09:23] src/tree/updater_prune.cc:74: tree pruning end, 1 roots, 10 extra nodes, 4 pruned nodes, max_depth=5\u001B[0m\n",
      "\u001B[34m[187]#011train-error:0.073867#011validation-error:0.1363\u001B[0m\n",
      "\u001B[34m[20:09:24] src/tree/updater_prune.cc:74: tree pruning end, 1 roots, 12 extra nodes, 8 pruned nodes, max_depth=5\u001B[0m\n",
      "\u001B[34m[188]#011train-error:0.074067#011validation-error:0.1364\u001B[0m\n",
      "\u001B[34m[20:09:25] src/tree/updater_prune.cc:74: tree pruning end, 1 roots, 14 extra nodes, 8 pruned nodes, max_depth=5\u001B[0m\n",
      "\u001B[34m[189]#011train-error:0.074067#011validation-error:0.1368\u001B[0m\n",
      "\u001B[34m[20:09:27] src/tree/updater_prune.cc:74: tree pruning end, 1 roots, 12 extra nodes, 6 pruned nodes, max_depth=5\u001B[0m\n",
      "\u001B[34m[190]#011train-error:0.073933#011validation-error:0.1371\u001B[0m\n",
      "\u001B[34m[20:09:28] src/tree/updater_prune.cc:74: tree pruning end, 1 roots, 10 extra nodes, 12 pruned nodes, max_depth=5\u001B[0m\n",
      "\u001B[34m[191]#011train-error:0.073933#011validation-error:0.1371\u001B[0m\n",
      "\u001B[34m[20:09:29] src/tree/updater_prune.cc:74: tree pruning end, 1 roots, 28 extra nodes, 16 pruned nodes, max_depth=5\u001B[0m\n",
      "\u001B[34m[192]#011train-error:0.0744#011validation-error:0.1363\u001B[0m\n",
      "\u001B[34m[20:09:30] src/tree/updater_prune.cc:74: tree pruning end, 1 roots, 14 extra nodes, 12 pruned nodes, max_depth=5\u001B[0m\n",
      "\u001B[34m[193]#011train-error:0.0744#011validation-error:0.1362\u001B[0m\n",
      "\u001B[34m[20:09:32] src/tree/updater_prune.cc:74: tree pruning end, 1 roots, 10 extra nodes, 6 pruned nodes, max_depth=5\u001B[0m\n",
      "\u001B[34m[194]#011train-error:0.074267#011validation-error:0.1363\u001B[0m\n",
      "\u001B[34m[20:09:33] src/tree/updater_prune.cc:74: tree pruning end, 1 roots, 10 extra nodes, 2 pruned nodes, max_depth=5\u001B[0m\n",
      "\u001B[34m[195]#011train-error:0.074#011validation-error:0.1367\u001B[0m\n",
      "\u001B[34m[20:09:34] src/tree/updater_prune.cc:74: tree pruning end, 1 roots, 10 extra nodes, 20 pruned nodes, max_depth=5\u001B[0m\n",
      "\u001B[34m[196]#011train-error:0.073467#011validation-error:0.1355\u001B[0m\n",
      "\u001B[34m[20:09:35] src/tree/updater_prune.cc:74: tree pruning end, 1 roots, 10 extra nodes, 8 pruned nodes, max_depth=5\u001B[0m\n",
      "\u001B[34m[197]#011train-error:0.073667#011validation-error:0.1357\u001B[0m\n",
      "\u001B[34m[20:09:37] src/tree/updater_prune.cc:74: tree pruning end, 1 roots, 10 extra nodes, 16 pruned nodes, max_depth=5\u001B[0m\n",
      "\u001B[34m[198]#011train-error:0.073267#011validation-error:0.1355\u001B[0m\n",
      "\u001B[34m[20:09:38] src/tree/updater_prune.cc:74: tree pruning end, 1 roots, 10 extra nodes, 6 pruned nodes, max_depth=5\u001B[0m\n",
      "\u001B[34m[199]#011train-error:0.073133#011validation-error:0.135\u001B[0m\n",
      "\u001B[34m[20:09:39] src/tree/updater_prune.cc:74: tree pruning end, 1 roots, 10 extra nodes, 6 pruned nodes, max_depth=5\u001B[0m\n",
      "\u001B[34m[200]#011train-error:0.072933#011validation-error:0.1355\u001B[0m\n",
      "\u001B[34m[20:09:40] src/tree/updater_prune.cc:74: tree pruning end, 1 roots, 12 extra nodes, 8 pruned nodes, max_depth=5\u001B[0m\n",
      "\u001B[34m[201]#011train-error:0.072733#011validation-error:0.1356\u001B[0m\n",
      "\u001B[34m[20:09:42] src/tree/updater_prune.cc:74: tree pruning end, 1 roots, 10 extra nodes, 4 pruned nodes, max_depth=5\u001B[0m\n",
      "\u001B[34m[202]#011train-error:0.0726#011validation-error:0.1358\u001B[0m\n",
      "\u001B[34m[20:09:43] src/tree/updater_prune.cc:74: tree pruning end, 1 roots, 12 extra nodes, 2 pruned nodes, max_depth=5\u001B[0m\n",
      "\u001B[34m[203]#011train-error:0.071667#011validation-error:0.1357\u001B[0m\n",
      "\u001B[34m[20:09:44] src/tree/updater_prune.cc:74: tree pruning end, 1 roots, 10 extra nodes, 0 pruned nodes, max_depth=5\u001B[0m\n",
      "\u001B[34m[204]#011train-error:0.0718#011validation-error:0.1359\u001B[0m\n",
      "\u001B[34m[20:09:45] src/tree/updater_prune.cc:74: tree pruning end, 1 roots, 10 extra nodes, 12 pruned nodes, max_depth=5\u001B[0m\n",
      "\u001B[34m[205]#011train-error:0.071467#011validation-error:0.1356\u001B[0m\n",
      "\u001B[34m[20:09:47] src/tree/updater_prune.cc:74: tree pruning end, 1 roots, 14 extra nodes, 8 pruned nodes, max_depth=5\u001B[0m\n",
      "\u001B[34m[206]#011train-error:0.0716#011validation-error:0.1355\u001B[0m\n",
      "\u001B[34m[20:09:48] src/tree/updater_prune.cc:74: tree pruning end, 1 roots, 16 extra nodes, 2 pruned nodes, max_depth=5\u001B[0m\n",
      "\u001B[34m[207]#011train-error:0.071267#011validation-error:0.1356\u001B[0m\n",
      "\u001B[34m[20:09:49] src/tree/updater_prune.cc:74: tree pruning end, 1 roots, 26 extra nodes, 2 pruned nodes, max_depth=5\u001B[0m\n",
      "\u001B[34m[208]#011train-error:0.0704#011validation-error:0.1349\u001B[0m\n",
      "\u001B[34m[20:09:51] src/tree/updater_prune.cc:74: tree pruning end, 1 roots, 14 extra nodes, 6 pruned nodes, max_depth=5\u001B[0m\n",
      "\u001B[34m[209]#011train-error:0.070067#011validation-error:0.1348\u001B[0m\n",
      "\u001B[34m[20:09:52] src/tree/updater_prune.cc:74: tree pruning end, 1 roots, 12 extra nodes, 2 pruned nodes, max_depth=5\u001B[0m\n",
      "\u001B[34m[210]#011train-error:0.0704#011validation-error:0.1348\u001B[0m\n",
      "\u001B[34m[20:09:53] src/tree/updater_prune.cc:74: tree pruning end, 1 roots, 12 extra nodes, 4 pruned nodes, max_depth=5\u001B[0m\n",
      "\u001B[34m[211]#011train-error:0.070533#011validation-error:0.1343\u001B[0m\n",
      "\u001B[34m[20:09:54] src/tree/updater_prune.cc:74: tree pruning end, 1 roots, 12 extra nodes, 10 pruned nodes, max_depth=5\u001B[0m\n",
      "\u001B[34m[212]#011train-error:0.0704#011validation-error:0.1337\u001B[0m\n",
      "\u001B[34m[20:09:56] src/tree/updater_prune.cc:74: tree pruning end, 1 roots, 16 extra nodes, 2 pruned nodes, max_depth=5\u001B[0m\n",
      "\u001B[34m[213]#011train-error:0.070067#011validation-error:0.1334\u001B[0m\n",
      "\u001B[34m[20:09:57] src/tree/updater_prune.cc:74: tree pruning end, 1 roots, 10 extra nodes, 4 pruned nodes, max_depth=5\u001B[0m\n",
      "\u001B[34m[214]#011train-error:0.069933#011validation-error:0.1329\u001B[0m\n",
      "\u001B[34m[20:09:58] src/tree/updater_prune.cc:74: tree pruning end, 1 roots, 28 extra nodes, 8 pruned nodes, max_depth=5\u001B[0m\n",
      "\u001B[34m[215]#011train-error:0.069667#011validation-error:0.1334\u001B[0m\n",
      "\u001B[34m[20:09:59] src/tree/updater_prune.cc:74: tree pruning end, 1 roots, 22 extra nodes, 10 pruned nodes, max_depth=5\u001B[0m\n",
      "\u001B[34m[216]#011train-error:0.069067#011validation-error:0.133\u001B[0m\n",
      "\u001B[34m[20:10:01] src/tree/updater_prune.cc:74: tree pruning end, 1 roots, 14 extra nodes, 10 pruned nodes, max_depth=5\u001B[0m\n",
      "\u001B[34m[217]#011train-error:0.068867#011validation-error:0.1332\u001B[0m\n",
      "\u001B[34m[20:10:02] src/tree/updater_prune.cc:74: tree pruning end, 1 roots, 10 extra nodes, 10 pruned nodes, max_depth=5\u001B[0m\n",
      "\u001B[34m[218]#011train-error:0.069467#011validation-error:0.1336\u001B[0m\n",
      "\u001B[34m[20:10:03] src/tree/updater_prune.cc:74: tree pruning end, 1 roots, 10 extra nodes, 4 pruned nodes, max_depth=5\u001B[0m\n",
      "\u001B[34m[219]#011train-error:0.069133#011validation-error:0.1333\u001B[0m\n",
      "\u001B[34m[20:10:04] src/tree/updater_prune.cc:74: tree pruning end, 1 roots, 10 extra nodes, 10 pruned nodes, max_depth=5\u001B[0m\n",
      "\u001B[34m[220]#011train-error:0.069067#011validation-error:0.1329\u001B[0m\n",
      "\u001B[34m[20:10:06] src/tree/updater_prune.cc:74: tree pruning end, 1 roots, 10 extra nodes, 6 pruned nodes, max_depth=5\u001B[0m\n",
      "\u001B[34m[221]#011train-error:0.068933#011validation-error:0.1329\u001B[0m\n",
      "\u001B[34m[20:10:07] src/tree/updater_prune.cc:74: tree pruning end, 1 roots, 26 extra nodes, 14 pruned nodes, max_depth=5\u001B[0m\n",
      "\u001B[34m[222]#011train-error:0.068333#011validation-error:0.1329\u001B[0m\n",
      "\u001B[34m[20:10:08] src/tree/updater_prune.cc:74: tree pruning end, 1 roots, 22 extra nodes, 6 pruned nodes, max_depth=5\u001B[0m\n",
      "\u001B[34m[223]#011train-error:0.0676#011validation-error:0.1332\u001B[0m\n",
      "\u001B[34m[20:10:09] src/tree/updater_prune.cc:74: tree pruning end, 1 roots, 10 extra nodes, 8 pruned nodes, max_depth=5\u001B[0m\n",
      "\u001B[34m[224]#011train-error:0.067667#011validation-error:0.1329\u001B[0m\n",
      "\u001B[34mStopping. Best iteration:\u001B[0m\n",
      "\u001B[34m[214]#011train-error:0.069933#011validation-error:0.1329\n",
      "\u001B[0m\n",
      "\n",
      "2020-06-07 20:10:28 Uploading - Uploading generated training model\n",
      "2020-06-07 20:10:28 Completed - Training job completed\n",
      "Training seconds: 354\n",
      "Billable seconds: 354\n"
     ]
    }
   ],
   "source": [
    "xgb.fit({'train': s3_input_train, 'validation': s3_input_validation})"
   ]
  },
  {
   "cell_type": "markdown",
   "metadata": {},
   "source": [
    "## Step 5: Testing the model\n",
    "\n",
    "Now that we've fit our XGBoost model, it's time to see how well it performs. To do this we will use SageMakers Batch Transform functionality. Batch Transform is a convenient way to perform inference on a large dataset in a way that is not realtime. That is, we don't necessarily need to use our model's results immediately and instead we can perform inference on a large number of samples. An example of this in industry might be performing an end of month report. This method of inference can also be useful to us as it means that we can perform inference on our entire test set. \n",
    "\n",
    "To perform a Batch Transformation we need to first create a transformer objects from our trained estimator object."
   ]
  },
  {
   "cell_type": "code",
   "execution_count": 24,
   "metadata": {},
   "outputs": [
    {
     "name": "stderr",
     "output_type": "stream",
     "text": [
      "WARNING:sagemaker:Parameter image will be renamed to image_uri in SageMaker Python SDK v2.\n"
     ]
    }
   ],
   "source": [
    "xgb_transformer = xgb.transformer(\n",
    "    instance_count = 1, \n",
    "    instance_type = 'ml.m4.xlarge',\n",
    "    tags=[dict(Key='owner', Value='email')]\n",
    ")"
   ]
  },
  {
   "cell_type": "markdown",
   "metadata": {},
   "source": [
    "Next we actually perform the transform job. When doing so we need to make sure to specify the type of data we are sending so that it is serialized correctly in the background. In our case we are providing our model with csv data so we specify `text/csv`. Also, if the test data that we have provided is too large to process all at once then we need to specify how the data file should be split up. Since each line is a single entry in our data set we tell SageMaker that it can split the input on each line."
   ]
  },
  {
   "cell_type": "code",
   "execution_count": 25,
   "metadata": {},
   "outputs": [],
   "source": [
    "xgb_transformer.transform(test_location, content_type='text/csv', split_type='Line')"
   ]
  },
  {
   "cell_type": "markdown",
   "metadata": {},
   "source": [
    "Currently the transform job is running but it is doing so in the background. Since we wish to wait until the transform job is done and we would like a bit of feedback we can run the `wait()` method."
   ]
  },
  {
   "cell_type": "code",
   "execution_count": 26,
   "metadata": {},
   "outputs": [
    {
     "name": "stdout",
     "output_type": "stream",
     "text": [
      "....................\u001B[34mArguments: serve\u001B[0m\n",
      "\u001B[34m[2020-06-07 20:13:54 +0000] [1] [INFO] Starting gunicorn 19.7.1\u001B[0m\n",
      "\u001B[34m[2020-06-07 20:13:54 +0000] [1] [INFO] Listening at: http://0.0.0.0:8080 (1)\u001B[0m\n",
      "\u001B[34m[2020-06-07 20:13:54 +0000] [1] [INFO] Using worker: gevent\u001B[0m\n",
      "\u001B[34m[2020-06-07 20:13:54 +0000] [38] [INFO] Booting worker with pid: 38\u001B[0m\n",
      "\u001B[34m[2020-06-07 20:13:54 +0000] [39] [INFO] Booting worker with pid: 39\u001B[0m\n",
      "\u001B[34m[2020-06-07:20:13:54:INFO] Model loaded successfully for worker : 38\u001B[0m\n",
      "\u001B[34m[2020-06-07 20:13:54 +0000] [40] [INFO] Booting worker with pid: 40\u001B[0m\n",
      "\u001B[34m[2020-06-07:20:13:54:INFO] Model loaded successfully for worker : 39\u001B[0m\n",
      "\u001B[34m[2020-06-07 20:13:54 +0000] [41] [INFO] Booting worker with pid: 41\u001B[0m\n",
      "\u001B[34m[2020-06-07:20:13:54:INFO] Model loaded successfully for worker : 40\u001B[0m\n",
      "\u001B[34m[2020-06-07:20:13:54:INFO] Model loaded successfully for worker : 41\u001B[0m\n",
      "\u001B[32m2020-06-07T20:14:23.676:[sagemaker logs]: MaxConcurrentTransforms=4, MaxPayloadInMB=6, BatchStrategy=MULTI_RECORD\u001B[0m\n",
      "\u001B[34m[2020-06-07:20:14:27:INFO] Sniff delimiter as ','\u001B[0m\n",
      "\u001B[34m[2020-06-07:20:14:27:INFO] Determined delimiter of CSV input is ','\u001B[0m\n",
      "\u001B[35m[2020-06-07:20:14:27:INFO] Sniff delimiter as ','\u001B[0m\n",
      "\u001B[35m[2020-06-07:20:14:27:INFO] Determined delimiter of CSV input is ','\u001B[0m\n",
      "\u001B[34m[2020-06-07:20:14:27:INFO] Sniff delimiter as ','\u001B[0m\n",
      "\u001B[34m[2020-06-07:20:14:27:INFO] Determined delimiter of CSV input is ','\u001B[0m\n",
      "\u001B[34m[2020-06-07:20:14:27:INFO] Sniff delimiter as ','\u001B[0m\n",
      "\u001B[35m[2020-06-07:20:14:27:INFO] Sniff delimiter as ','\u001B[0m\n",
      "\u001B[35m[2020-06-07:20:14:27:INFO] Determined delimiter of CSV input is ','\u001B[0m\n",
      "\u001B[35m[2020-06-07:20:14:27:INFO] Sniff delimiter as ','\u001B[0m\n",
      "\u001B[34m[2020-06-07:20:14:27:INFO] Determined delimiter of CSV input is ','\u001B[0m\n",
      "\u001B[34m[2020-06-07:20:14:27:INFO] Sniff delimiter as ','\u001B[0m\n",
      "\u001B[34m[2020-06-07:20:14:27:INFO] Determined delimiter of CSV input is ','\u001B[0m\n",
      "\u001B[35m[2020-06-07:20:14:27:INFO] Determined delimiter of CSV input is ','\u001B[0m\n",
      "\u001B[35m[2020-06-07:20:14:27:INFO] Sniff delimiter as ','\u001B[0m\n",
      "\u001B[35m[2020-06-07:20:14:27:INFO] Determined delimiter of CSV input is ','\u001B[0m\n",
      "\u001B[34m[2020-06-07:20:14:29:INFO] Sniff delimiter as ','\u001B[0m\n",
      "\u001B[34m[2020-06-07:20:14:29:INFO] Determined delimiter of CSV input is ','\u001B[0m\n",
      "\u001B[34m[2020-06-07:20:14:29:INFO] Sniff delimiter as ','\u001B[0m\n",
      "\u001B[34m[2020-06-07:20:14:29:INFO] Determined delimiter of CSV input is ','\u001B[0m\n",
      "\u001B[34m[2020-06-07:20:14:29:INFO] Sniff delimiter as ','\u001B[0m\n",
      "\u001B[34m[2020-06-07:20:14:29:INFO] Determined delimiter of CSV input is ','\u001B[0m\n",
      "\u001B[35m[2020-06-07:20:14:29:INFO] Sniff delimiter as ','\u001B[0m\n",
      "\u001B[35m[2020-06-07:20:14:29:INFO] Determined delimiter of CSV input is ','\u001B[0m\n",
      "\u001B[35m[2020-06-07:20:14:29:INFO] Sniff delimiter as ','\u001B[0m\n",
      "\u001B[35m[2020-06-07:20:14:29:INFO] Determined delimiter of CSV input is ','\u001B[0m\n",
      "\u001B[35m[2020-06-07:20:14:29:INFO] Sniff delimiter as ','\u001B[0m\n",
      "\u001B[35m[2020-06-07:20:14:29:INFO] Determined delimiter of CSV input is ','\u001B[0m\n",
      "\u001B[34m[2020-06-07:20:14:30:INFO] Sniff delimiter as ','\u001B[0m\n",
      "\u001B[34m[2020-06-07:20:14:30:INFO] Determined delimiter of CSV input is ','\u001B[0m\n",
      "\u001B[35m[2020-06-07:20:14:30:INFO] Sniff delimiter as ','\u001B[0m\n",
      "\u001B[35m[2020-06-07:20:14:30:INFO] Determined delimiter of CSV input is ','\u001B[0m\n",
      "\u001B[34m[2020-06-07:20:14:32:INFO] Sniff delimiter as ','\u001B[0m\n",
      "\u001B[34m[2020-06-07:20:14:32:INFO] Determined delimiter of CSV input is ','\u001B[0m\n",
      "\u001B[35m[2020-06-07:20:14:32:INFO] Sniff delimiter as ','\u001B[0m\n",
      "\u001B[35m[2020-06-07:20:14:32:INFO] Determined delimiter of CSV input is ','\u001B[0m\n",
      "\u001B[34m[2020-06-07:20:14:32:INFO] Sniff delimiter as ','\u001B[0m\n",
      "\u001B[34m[2020-06-07:20:14:32:INFO] Determined delimiter of CSV input is ','\u001B[0m\n",
      "\u001B[34m[2020-06-07:20:14:32:INFO] Sniff delimiter as ','\u001B[0m\n",
      "\u001B[34m[2020-06-07:20:14:32:INFO] Determined delimiter of CSV input is ','\u001B[0m\n",
      "\u001B[34m[2020-06-07:20:14:32:INFO] Sniff delimiter as ','\u001B[0m\n",
      "\u001B[34m[2020-06-07:20:14:32:INFO] Determined delimiter of CSV input is ','\u001B[0m\n",
      "\u001B[35m[2020-06-07:20:14:32:INFO] Sniff delimiter as ','\u001B[0m\n",
      "\u001B[35m[2020-06-07:20:14:32:INFO] Determined delimiter of CSV input is ','\u001B[0m\n",
      "\u001B[35m[2020-06-07:20:14:32:INFO] Sniff delimiter as ','\u001B[0m\n",
      "\u001B[35m[2020-06-07:20:14:32:INFO] Determined delimiter of CSV input is ','\u001B[0m\n",
      "\u001B[35m[2020-06-07:20:14:32:INFO] Sniff delimiter as ','\u001B[0m\n",
      "\u001B[35m[2020-06-07:20:14:32:INFO] Determined delimiter of CSV input is ','\u001B[0m\n",
      "\u001B[34m[2020-06-07:20:14:34:INFO] Sniff delimiter as ','\u001B[0m\n",
      "\u001B[34m[2020-06-07:20:14:34:INFO] Determined delimiter of CSV input is ','\u001B[0m\n",
      "\u001B[34m[2020-06-07:20:14:34:INFO] Sniff delimiter as ','\u001B[0m\n",
      "\u001B[34m[2020-06-07:20:14:34:INFO] Determined delimiter of CSV input is ','\u001B[0m\n",
      "\u001B[34m[2020-06-07:20:14:34:INFO] Sniff delimiter as ','\u001B[0m\n",
      "\u001B[34m[2020-06-07:20:14:34:INFO] Determined delimiter of CSV input is ','\u001B[0m\n",
      "\u001B[34m[2020-06-07:20:14:35:INFO] Sniff delimiter as ','\u001B[0m\n",
      "\u001B[34m[2020-06-07:20:14:35:INFO] Determined delimiter of CSV input is ','\u001B[0m\n",
      "\u001B[35m[2020-06-07:20:14:34:INFO] Sniff delimiter as ','\u001B[0m\n",
      "\u001B[35m[2020-06-07:20:14:34:INFO] Determined delimiter of CSV input is ','\u001B[0m\n",
      "\u001B[35m[2020-06-07:20:14:34:INFO] Sniff delimiter as ','\u001B[0m\n",
      "\u001B[35m[2020-06-07:20:14:34:INFO] Determined delimiter of CSV input is ','\u001B[0m\n",
      "\u001B[35m[2020-06-07:20:14:34:INFO] Sniff delimiter as ','\u001B[0m\n",
      "\u001B[35m[2020-06-07:20:14:34:INFO] Determined delimiter of CSV input is ','\u001B[0m\n",
      "\u001B[35m[2020-06-07:20:14:35:INFO] Sniff delimiter as ','\u001B[0m\n",
      "\u001B[35m[2020-06-07:20:14:35:INFO] Determined delimiter of CSV input is ','\u001B[0m\n",
      "\u001B[34m[2020-06-07:20:14:39:INFO] Sniff delimiter as ','\u001B[0m\n",
      "\u001B[35m[2020-06-07:20:14:39:INFO] Sniff delimiter as ','\u001B[0m\n",
      "\u001B[34m[2020-06-07:20:14:39:INFO] Determined delimiter of CSV input is ','\u001B[0m\n",
      "\u001B[34m[2020-06-07:20:14:39:INFO] Sniff delimiter as ','\u001B[0m\n",
      "\u001B[34m[2020-06-07:20:14:39:INFO] Determined delimiter of CSV input is ','\u001B[0m\n",
      "\u001B[34m[2020-06-07:20:14:39:INFO] Sniff delimiter as ','\u001B[0m\n",
      "\u001B[34m[2020-06-07:20:14:39:INFO] Determined delimiter of CSV input is ','\u001B[0m\n",
      "\u001B[34m[2020-06-07:20:14:39:INFO] Sniff delimiter as ','\u001B[0m\n",
      "\u001B[34m[2020-06-07:20:14:39:INFO] Determined delimiter of CSV input is ','\u001B[0m\n",
      "\u001B[35m[2020-06-07:20:14:39:INFO] Determined delimiter of CSV input is ','\u001B[0m\n",
      "\u001B[35m[2020-06-07:20:14:39:INFO] Sniff delimiter as ','\u001B[0m\n",
      "\u001B[35m[2020-06-07:20:14:39:INFO] Determined delimiter of CSV input is ','\u001B[0m\n",
      "\u001B[35m[2020-06-07:20:14:39:INFO] Sniff delimiter as ','\u001B[0m\n",
      "\u001B[35m[2020-06-07:20:14:39:INFO] Determined delimiter of CSV input is ','\u001B[0m\n",
      "\u001B[35m[2020-06-07:20:14:39:INFO] Sniff delimiter as ','\u001B[0m\n",
      "\u001B[35m[2020-06-07:20:14:39:INFO] Determined delimiter of CSV input is ','\u001B[0m\n",
      "\u001B[34m[2020-06-07:20:14:41:INFO] Sniff delimiter as ','\u001B[0m\n",
      "\u001B[34m[2020-06-07:20:14:41:INFO] Determined delimiter of CSV input is ','\u001B[0m\n",
      "\u001B[34m[2020-06-07:20:14:42:INFO] Sniff delimiter as ','\u001B[0m\n",
      "\u001B[34m[2020-06-07:20:14:42:INFO] Determined delimiter of CSV input is ','\u001B[0m\n",
      "\u001B[35m[2020-06-07:20:14:41:INFO] Sniff delimiter as ','\u001B[0m\n",
      "\u001B[35m[2020-06-07:20:14:41:INFO] Determined delimiter of CSV input is ','\u001B[0m\n",
      "\u001B[35m[2020-06-07:20:14:42:INFO] Sniff delimiter as ','\u001B[0m\n",
      "\u001B[35m[2020-06-07:20:14:42:INFO] Determined delimiter of CSV input is ','\u001B[0m\n",
      "\u001B[34m[2020-06-07:20:14:42:INFO] Sniff delimiter as ','\u001B[0m\n",
      "\u001B[34m[2020-06-07:20:14:42:INFO] Determined delimiter of CSV input is ','\u001B[0m\n",
      "\u001B[34m[2020-06-07:20:14:42:INFO] Sniff delimiter as ','\u001B[0m\n",
      "\u001B[34m[2020-06-07:20:14:42:INFO] Determined delimiter of CSV input is ','\u001B[0m\n",
      "\u001B[35m[2020-06-07:20:14:42:INFO] Sniff delimiter as ','\u001B[0m\n",
      "\u001B[35m[2020-06-07:20:14:42:INFO] Determined delimiter of CSV input is ','\u001B[0m\n",
      "\u001B[35m[2020-06-07:20:14:42:INFO] Sniff delimiter as ','\u001B[0m\n",
      "\u001B[35m[2020-06-07:20:14:42:INFO] Determined delimiter of CSV input is ','\u001B[0m\n",
      "\u001B[34m[2020-06-07:20:14:44:INFO] Sniff delimiter as ','\u001B[0m\n",
      "\u001B[34m[2020-06-07:20:14:44:INFO] Determined delimiter of CSV input is ','\u001B[0m\n",
      "\u001B[34m[2020-06-07:20:14:44:INFO] Sniff delimiter as ','\u001B[0m\n",
      "\u001B[34m[2020-06-07:20:14:44:INFO] Determined delimiter of CSV input is ','\u001B[0m\n",
      "\u001B[34m[2020-06-07:20:14:44:INFO] Sniff delimiter as ','\u001B[0m\n",
      "\u001B[34m[2020-06-07:20:14:44:INFO] Determined delimiter of CSV input is ','\u001B[0m\n",
      "\u001B[34m[2020-06-07:20:14:44:INFO] Sniff delimiter as ','\u001B[0m\n",
      "\u001B[34m[2020-06-07:20:14:44:INFO] Determined delimiter of CSV input is ','\u001B[0m\n",
      "\u001B[35m[2020-06-07:20:14:44:INFO] Sniff delimiter as ','\u001B[0m\n",
      "\u001B[35m[2020-06-07:20:14:44:INFO] Determined delimiter of CSV input is ','\u001B[0m\n",
      "\u001B[35m[2020-06-07:20:14:44:INFO] Sniff delimiter as ','\u001B[0m\n",
      "\u001B[35m[2020-06-07:20:14:44:INFO] Determined delimiter of CSV input is ','\u001B[0m\n",
      "\u001B[35m[2020-06-07:20:14:44:INFO] Sniff delimiter as ','\u001B[0m\n",
      "\u001B[35m[2020-06-07:20:14:44:INFO] Determined delimiter of CSV input is ','\u001B[0m\n",
      "\u001B[35m[2020-06-07:20:14:44:INFO] Sniff delimiter as ','\u001B[0m\n",
      "\u001B[35m[2020-06-07:20:14:44:INFO] Determined delimiter of CSV input is ','\u001B[0m\n",
      "\u001B[34m[2020-06-07:20:14:49:INFO] Sniff delimiter as ','\u001B[0m\n",
      "\u001B[34m[2020-06-07:20:14:49:INFO] Determined delimiter of CSV input is ','\u001B[0m\n",
      "\u001B[34m[2020-06-07:20:14:49:INFO] Sniff delimiter as ','\u001B[0m\n",
      "\u001B[34m[2020-06-07:20:14:49:INFO] Determined delimiter of CSV input is ','\u001B[0m\n",
      "\u001B[34m[2020-06-07:20:14:49:INFO] Sniff delimiter as ','\u001B[0m\n",
      "\u001B[34m[2020-06-07:20:14:49:INFO] Determined delimiter of CSV input is ','\u001B[0m\n",
      "\u001B[34m[2020-06-07:20:14:49:INFO] Sniff delimiter as ','\u001B[0m\n",
      "\u001B[34m[2020-06-07:20:14:49:INFO] Determined delimiter of CSV input is ','\u001B[0m\n",
      "\u001B[35m[2020-06-07:20:14:49:INFO] Sniff delimiter as ','\u001B[0m\n",
      "\u001B[35m[2020-06-07:20:14:49:INFO] Determined delimiter of CSV input is ','\u001B[0m\n",
      "\u001B[35m[2020-06-07:20:14:49:INFO] Sniff delimiter as ','\u001B[0m\n",
      "\u001B[35m[2020-06-07:20:14:49:INFO] Determined delimiter of CSV input is ','\u001B[0m\n",
      "\u001B[35m[2020-06-07:20:14:49:INFO] Sniff delimiter as ','\u001B[0m\n",
      "\u001B[35m[2020-06-07:20:14:49:INFO] Determined delimiter of CSV input is ','\u001B[0m\n",
      "\u001B[35m[2020-06-07:20:14:49:INFO] Sniff delimiter as ','\u001B[0m\n",
      "\u001B[35m[2020-06-07:20:14:49:INFO] Determined delimiter of CSV input is ','\u001B[0m\n",
      "\n"
     ]
    }
   ],
   "source": [
    "xgb_transformer.wait()"
   ]
  },
  {
   "cell_type": "markdown",
   "metadata": {},
   "source": [
    "Now the transform job has executed and the result, the estimated sentiment of each review, has been saved on S3. Since we would rather work on this file locally we can perform a bit of notebook magic to copy the file to the `data_dir`."
   ]
  },
  {
   "cell_type": "code",
   "execution_count": 27,
   "metadata": {},
   "outputs": [
    {
     "name": "stdout",
     "output_type": "stream",
     "text": [
      "download: s3://sagemaker-us-west-2-754745079939/xgboost-2020-06-07-20-10-46-228/test.csv.out to ../data/sentiment_web_app/test.csv.out\r\n"
     ]
    }
   ],
   "source": [
    "!aws s3 cp --recursive $xgb_transformer.output_path $data_dir"
   ]
  },
  {
   "cell_type": "markdown",
   "metadata": {},
   "source": [
    "The last step is now to read in the output from our model, convert the output to something a little more usable, in this case we want the sentiment to be either `1` (positive) or `0` (negative), and then compare to the ground truth labels."
   ]
  },
  {
   "cell_type": "code",
   "execution_count": 28,
   "metadata": {},
   "outputs": [],
   "source": [
    "predictions = pd.read_csv(os.path.join(data_dir, 'test.csv.out'), header=None)\n",
    "predictions = [round(num) for num in predictions.squeeze().values]"
   ]
  },
  {
   "cell_type": "code",
   "execution_count": 29,
   "metadata": {},
   "outputs": [
    {
     "data": {
      "text/plain": [
       "0.86664"
      ]
     },
     "execution_count": 29,
     "metadata": {},
     "output_type": "execute_result"
    }
   ],
   "source": [
    "from sklearn.metrics import accuracy_score\n",
    "accuracy_score(test_y, predictions)"
   ]
  },
  {
   "cell_type": "markdown",
   "metadata": {},
   "source": [
    "## Step 6: Deploying the model\n",
    "\n",
    "Once we construct and fit our model, SageMaker stores the resulting model artifacts and we can use those to deploy an endpoint (inference code). To see this, look in the SageMaker console and you should see that a model has been created along with a link to the S3 location where the model artifacts have been stored.\n",
    "\n",
    "Deploying an endpoint is a lot like training the model with a few important differences. The first is that a deployed model doesn't change the model artifacts, so as you send it various testing instances the model won't change. Another difference is that since we aren't performing a fixed computation, as we were in the training step or while performing a batch transform, the compute instance that gets started stays running until we tell it to stop. This is important to note as if we forget and leave it running we will be charged the entire time.\n",
    "\n",
    "In other words **If you are no longer using a deployed endpoint, shut it down!**"
   ]
  },
  {
   "cell_type": "code",
   "execution_count": null,
   "metadata": {},
   "outputs": [
    {
     "name": "stderr",
     "output_type": "stream",
     "text": [
      "WARNING:sagemaker:Parameter image will be renamed to image_uri in SageMaker Python SDK v2.\n",
      "WARNING:sagemaker:Using already existing model: xgboost-2020-06-07-20-02-30-873\n"
     ]
    },
    {
     "name": "stdout",
     "output_type": "stream",
     "text": [
      "-------------!"
     ]
    }
   ],
   "source": [
    "xgb_predictor = xgb.deploy(\n",
    "    initial_instance_count = 1,\n",
    "    instance_type = 'ml.m4.xlarge',\n",
    "    tags=[dict(Key='owner', Value='email')]\n",
    ")"
   ]
  },
  {
   "cell_type": "markdown",
   "metadata": {},
   "source": [
    "### Testing the model (again)\n",
    "\n",
    "Now that we have deployed our endpoint, we can send the testing data to it and get back the inference results. We already did this earlier using the batch transform functionality of SageMaker, however, we will test our model again using the newly deployed endpoint so that we can make sure that it works properly and to get a bit of a feel for how the endpoint works.\n",
    "\n",
    "When using the created endpoint it is important to know that we are limited in the amount of information we can send in each call so we need to break the testing data up into chunks and then send each chunk. Also, we need to serialize our data before we send it to the endpoint to ensure that our data is transmitted properly. Fortunately, SageMaker can do the serialization part for us provided we tell it the format of our data."
   ]
  },
  {
   "cell_type": "code",
   "execution_count": null,
   "metadata": {},
   "outputs": [],
   "source": [
    "from sagemaker.predictor import csv_serializer\n",
    "\n",
    "# We need to tell the endpoint what format the data we are sending is in so that SageMaker can perform the serialization.\n",
    "xgb_predictor.content_type = 'text/csv'\n",
    "xgb_predictor.serializer = csv_serializer"
   ]
  },
  {
   "cell_type": "code",
   "execution_count": null,
   "metadata": {},
   "outputs": [],
   "source": [
    "# We split the data into chunks and send each chunk seperately, accumulating the results.\n",
    "\n",
    "def predict(data, rows=512):\n",
    "    split_array = np.array_split(data, int(data.shape[0] / float(rows) + 1))\n",
    "    predictions = ''\n",
    "    for array in split_array:\n",
    "        predictions = ','.join([predictions, xgb_predictor.predict(array).decode('utf-8')])\n",
    "    \n",
    "    return np.fromstring(predictions[1:], sep=',')"
   ]
  },
  {
   "cell_type": "code",
   "execution_count": null,
   "metadata": {},
   "outputs": [],
   "source": [
    "test_X = pd.read_csv(os.path.join(data_dir, 'test.csv'), header=None).values\n",
    "\n",
    "predictions = predict(test_X)\n",
    "predictions = [round(num) for num in predictions]"
   ]
  },
  {
   "cell_type": "markdown",
   "metadata": {},
   "source": [
    "Lastly, we check to see what the accuracy of our model is."
   ]
  },
  {
   "cell_type": "code",
   "execution_count": null,
   "metadata": {},
   "outputs": [
    {
     "data": {
      "text/plain": [
       "0.86664"
      ]
     },
     "execution_count": 34,
     "metadata": {},
     "output_type": "execute_result"
    }
   ],
   "source": [
    "from sklearn.metrics import accuracy_score\n",
    "accuracy_score(test_y, predictions)"
   ]
  },
  {
   "cell_type": "markdown",
   "metadata": {},
   "source": [
    "And the results here should agree with the model testing that we did earlier using the batch transform job.\n",
    "\n",
    "### Cleaning up\n",
    "\n",
    "Now that we've determined that deploying our model works as expected, we are going to shut it down. Remember that the longer the endpoint is left running, the greater the cost and since we have a bit more work to do before we are able to use our endpoint with our simple web app, we should shut everything down."
   ]
  },
  {
   "cell_type": "code",
   "execution_count": null,
   "metadata": {},
   "outputs": [],
   "source": [
    "xgb_predictor.delete_endpoint()"
   ]
  },
  {
   "cell_type": "markdown",
   "metadata": {},
   "source": [
    "## Step 7: Putting our model to work\n",
    "\n",
    "As we've mentioned a few times now, our goal is to have our model deployed and then access it using a very simple web app. The intent is for this web app to take some user submitted data (a review), send it off to our endpoint (the model) and then display the result.\n",
    "\n",
    "However, there is a small catch. Currently the only way we can access the endpoint to send it data is using the SageMaker API. We can, if we wish, expose the actual URL that our model's endpoint is receiving data from, however, if we just send it data ourselves we will not get anything in return. This is because the endpoint created by SageMaker requires the entity accessing it have the correct permissions. So, we would need to somehow authenticate our web app with AWS.\n",
    "\n",
    "Having a website that authenticates to AWS seems a bit beyond the scope of this lesson so we will opt for an alternative approach. Namely, we will create a new endpoint which does not require authentication and which acts as a proxy for the SageMaker endpoint.\n",
    "\n",
    "As an additional constraint, we will try to avoid doing any data processing in the web app itself. Remember that when we constructed and tested our model we started with a movie review, then we simplified it by removing any html formatting and punctuation, then we constructed a bag of words embedding and the resulting vector is what we sent to our model. All of this needs to be done to our user input as well.\n",
    "\n",
    "Fortunately we can do all of this data processing in the backend, using Amazon's Lambda service.\n",
    "\n",
    "<img src=\"Web App Diagram.svg\">\n",
    "\n",
    "The diagram above gives an overview of how the various services will work together. On the far right is the model which we trained above and which will be deployed using SageMaker. On the far left is our web app that collects a user's movie review, sends it off and expects a positive or negative sentiment in return.\n",
    "\n",
    "In the middle is where some of the magic happens. We will construct a Lambda function, which you can think of as a straightforward Python function that can be executed whenever a specified event occurs. This Python function will do the data processing we need to perform on a user submitted review. In addition, we will give this function permission to send and recieve data from a SageMaker endpoint.\n",
    "\n",
    "Lastly, the method we will use to execute the Lambda function is a new endpoint that we will create using API Gateway. This endpoint will be a url that listens for data to be sent to it. Once it gets some data it will pass that data on to the Lambda function and then return whatever the Lambda function returns. Essentially it will act as an interface that lets our web app communicate with the Lambda function.\n",
    "\n",
    "### Processing a single review\n",
    "\n",
    "For now, suppose we are given a movie review by our user in the form of a string, like so:"
   ]
  },
  {
   "cell_type": "code",
   "execution_count": null,
   "metadata": {},
   "outputs": [],
   "source": [
    "test_review = \"Nothing but a disgusting materialistic pageant of glistening abed remote control greed zombies, totally devoid of any heart or heat. A romantic comedy that has zero romantic chemestry and zero laughs!\""
   ]
  },
  {
   "cell_type": "markdown",
   "metadata": {},
   "source": [
    "How do we go from this string to the bag of words feature vector that is expected by our model?\n",
    "\n",
    "If we recall at the beginning of this notebook, the first step is to remove any unnecessary characters using the `review_to_words` method. Remember that we intentionally did this in a very simplistic way. This is because we are going to have to copy this method to our (eventual) Lambda function (we will go into more detail later) and this means it needs to be rather simplistic."
   ]
  },
  {
   "cell_type": "code",
   "execution_count": null,
   "metadata": {},
   "outputs": [
    {
     "name": "stdout",
     "output_type": "stream",
     "text": [
      "nothing but a disgusting materialistic pageant of glistening abed remote control greed zombies totally devoid of any heart or heat a romantic comedy that has zero romantic chemestry and zero laughs\n"
     ]
    }
   ],
   "source": [
    "test_words = review_to_words(test_review)\n",
    "print(test_words)"
   ]
  },
  {
   "cell_type": "markdown",
   "metadata": {},
   "source": [
    "Next, we need to construct a bag of words embedding of the `test_words` string. To do this, remember that a bag of words embedding uses a `vocabulary` consisting of the most frequently appearing words in a set of documents. Then, for each word in the vocabulary we record the number of times that word appears in `test_words`. We constructed the `vocabulary` earlier using the training set for our problem so encoding `test_words` is relatively straightforward."
   ]
  },
  {
   "cell_type": "code",
   "execution_count": null,
   "metadata": {},
   "outputs": [],
   "source": [
    "def bow_encoding(words, vocabulary):\n",
    "    bow = [0] * len(vocabulary) # Start by setting the count for each word in the vocabulary to zero.\n",
    "    for word in words.split():  # For each word in the string\n",
    "        if word in vocabulary:  # If the word is one that occurs in the vocabulary, increase its count.\n",
    "            bow[vocabulary[word]] += 1\n",
    "    return bow"
   ]
  },
  {
   "cell_type": "code",
   "execution_count": null,
   "metadata": {},
   "outputs": [
    {
     "name": "stdout",
     "output_type": "stream",
     "text": [
      "[0, 0, 0, 0, 0, 0, 0, 0, 0, 0, 0, 0, 0, 0, 0, 0, 0, 0, 0, 0, 0, 0, 0, 0, 0, 0, 0, 0, 0, 0, 0, 0, 0, 0, 0, 0, 0, 0, 0, 0, 0, 0, 0, 0, 0, 0, 0, 0, 0, 0, 0, 0, 0, 0, 0, 0, 0, 0, 0, 0, 0, 0, 0, 0, 0, 0, 0, 0, 0, 0, 0, 0, 0, 0, 0, 0, 0, 0, 0, 0, 0, 0, 0, 0, 0, 0, 0, 0, 0, 0, 0, 0, 0, 0, 0, 0, 0, 0, 0, 0, 0, 0, 0, 0, 0, 0, 0, 0, 0, 0, 0, 0, 0, 0, 0, 0, 0, 0, 0, 0, 0, 0, 0, 0, 0, 0, 0, 0, 0, 0, 0, 0, 0, 0, 0, 0, 0, 0, 0, 0, 0, 0, 0, 0, 0, 0, 0, 0, 0, 0, 0, 0, 0, 0, 0, 0, 0, 0, 0, 0, 0, 0, 0, 0, 0, 0, 0, 0, 0, 0, 0, 0, 0, 0, 0, 0, 0, 0, 0, 0, 0, 0, 0, 0, 0, 0, 0, 0, 0, 0, 0, 0, 0, 0, 0, 0, 0, 0, 0, 0, 0, 0, 0, 0, 0, 0, 0, 0, 0, 0, 0, 0, 0, 0, 0, 0, 0, 0, 0, 0, 0, 0, 0, 0, 0, 0, 1, 0, 0, 0, 0, 0, 0, 0, 0, 0, 0, 0, 0, 0, 0, 0, 0, 0, 0, 0, 0, 0, 0, 0, 0, 0, 0, 0, 0, 0, 1, 0, 0, 0, 0, 0, 0, 0, 0, 0, 0, 0, 0, 0, 0, 0, 0, 0, 0, 0, 0, 0, 0, 0, 0, 0, 0, 0, 0, 0, 0, 0, 0, 0, 0, 0, 0, 0, 0, 0, 0, 0, 0, 0, 0, 0, 0, 0, 0, 0, 0, 0, 0, 0, 0, 0, 0, 0, 0, 0, 0, 0, 0, 0, 0, 0, 0, 0, 0, 0, 0, 0, 0, 0, 0, 0, 0, 0, 0, 0, 0, 0, 0, 0, 0, 0, 0, 0, 0, 0, 0, 0, 0, 0, 0, 0, 0, 0, 0, 0, 0, 0, 0, 0, 0, 0, 0, 0, 0, 0, 0, 0, 0, 0, 0, 0, 0, 0, 0, 0, 0, 0, 0, 0, 0, 0, 0, 0, 0, 0, 0, 0, 0, 0, 0, 0, 0, 0, 0, 0, 0, 0, 0, 0, 0, 0, 0, 0, 0, 0, 0, 0, 0, 0, 0, 0, 0, 0, 0, 0, 0, 0, 0, 0, 0, 0, 0, 0, 0, 0, 0, 0, 0, 0, 0, 0, 0, 0, 0, 0, 0, 0, 0, 0, 0, 0, 0, 0, 0, 0, 0, 0, 0, 0, 0, 0, 0, 0, 0, 0, 0, 0, 0, 0, 0, 0, 0, 0, 0, 0, 0, 0, 0, 0, 0, 0, 0, 0, 0, 0, 0, 0, 0, 0, 0, 0, 0, 0, 0, 0, 0, 0, 0, 0, 0, 0, 0, 0, 0, 0, 0, 0, 0, 0, 0, 0, 0, 0, 0, 0, 0, 0, 0, 0, 0, 0, 0, 0, 0, 0, 0, 0, 0, 0, 0, 0, 0, 0, 0, 0, 0, 0, 0, 0, 0, 0, 0, 0, 0, 0, 0, 0, 0, 0, 0, 0, 0, 0, 0, 0, 0, 0, 0, 0, 0, 0, 0, 0, 0, 0, 0, 0, 0, 0, 0, 0, 0, 0, 0, 0, 0, 0, 0, 0, 0, 0, 0, 0, 0, 0, 0, 0, 0, 0, 0, 0, 0, 0, 0, 0, 0, 0, 0, 0, 0, 0, 0, 0, 0, 0, 0, 0, 0, 0, 0, 0, 0, 0, 0, 0, 0, 0, 0, 0, 0, 0, 0, 0, 0, 0, 0, 0, 0, 0, 0, 0, 0, 0, 0, 0, 0, 0, 0, 0, 0, 0, 0, 0, 0, 0, 1, 0, 0, 0, 0, 0, 0, 0, 0, 0, 0, 0, 0, 0, 0, 0, 0, 0, 0, 0, 0, 0, 0, 0, 0, 0, 0, 0, 0, 0, 0, 0, 0, 0, 0, 0, 0, 0, 0, 0, 0, 0, 0, 0, 0, 0, 0, 0, 0, 0, 0, 0, 0, 0, 0, 0, 0, 0, 0, 0, 0, 0, 0, 0, 0, 0, 0, 0, 0, 0, 0, 0, 0, 0, 0, 0, 0, 0, 0, 0, 0, 0, 0, 0, 0, 0, 0, 0, 0, 0, 0, 0, 0, 0, 0, 0, 0, 0, 0, 0, 0, 0, 0, 0, 0, 0, 0, 0, 0, 0, 0, 0, 0, 0, 0, 0, 0, 0, 0, 0, 0, 0, 0, 0, 0, 0, 0, 0, 0, 0, 0, 0, 0, 0, 0, 0, 0, 0, 0, 0, 0, 0, 0, 0, 0, 0, 0, 0, 0, 0, 0, 0, 0, 0, 0, 0, 0, 0, 0, 0, 0, 0, 0, 0, 0, 0, 0, 0, 0, 0, 0, 0, 0, 0, 0, 0, 0, 0, 0, 0, 0, 0, 0, 0, 0, 0, 0, 0, 0, 0, 0, 0, 0, 0, 0, 0, 0, 0, 0, 0, 0, 0, 0, 0, 0, 0, 0, 0, 0, 0, 0, 0, 0, 0, 0, 0, 0, 0, 0, 0, 0, 0, 0, 0, 0, 0, 0, 0, 0, 0, 0, 0, 0, 0, 0, 0, 0, 0, 0, 0, 0, 0, 0, 0, 0, 0, 0, 0, 0, 0, 0, 0, 0, 0, 1, 0, 0, 0, 0, 0, 0, 0, 0, 0, 0, 0, 0, 0, 0, 0, 0, 0, 0, 0, 0, 0, 0, 0, 0, 0, 0, 0, 0, 0, 0, 0, 0, 0, 0, 0, 0, 0, 0, 0, 0, 0, 0, 0, 0, 0, 0, 0, 0, 0, 0, 0, 0, 0, 0, 0, 0, 0, 0, 0, 0, 0, 0, 0, 0, 0, 0, 0, 0, 0, 0, 0, 0, 0, 0, 0, 0, 0, 0, 0, 0, 0, 0, 0, 0, 0, 0, 1, 0, 0, 0, 0, 0, 0, 0, 0, 0, 0, 0, 0, 0, 0, 0, 0, 0, 0, 0, 0, 0, 0, 0, 0, 0, 0, 0, 0, 0, 0, 0, 0, 0, 0, 0, 0, 0, 0, 0, 0, 0, 0, 0, 0, 0, 0, 0, 0, 0, 0, 0, 0, 0, 0, 0, 0, 0, 0, 0, 0, 0, 0, 0, 0, 0, 0, 0, 0, 0, 0, 0, 0, 0, 0, 0, 0, 0, 0, 0, 0, 0, 0, 0, 0, 0, 0, 0, 0, 0, 0, 0, 0, 0, 0, 0, 0, 0, 0, 0, 0, 0, 0, 0, 0, 0, 0, 0, 0, 0, 0, 0, 0, 0, 0, 0, 0, 0, 0, 0, 0, 0, 0, 0, 0, 0, 0, 0, 0, 0, 0, 0, 0, 0, 0, 0, 0, 0, 0, 0, 0, 0, 0, 0, 0, 0, 0, 0, 0, 0, 0, 0, 0, 0, 0, 0, 0, 0, 0, 0, 0, 0, 0, 0, 0, 0, 0, 0, 0, 0, 0, 0, 0, 0, 0, 0, 0, 0, 0, 0, 0, 0, 0, 0, 0, 0, 0, 0, 0, 0, 0, 0, 0, 0, 0, 0, 0, 0, 0, 0, 0, 0, 0, 0, 0, 0, 0, 0, 0, 0, 0, 0, 0, 0, 0, 0, 0, 0, 0, 0, 0, 0, 0, 0, 0, 0, 0, 0, 0, 0, 0, 0, 0, 0, 0, 0, 0, 0, 0, 0, 0, 0, 0, 0, 0, 0, 0, 0, 0, 0, 0, 0, 0, 1, 0, 0, 0, 0, 0, 0, 0, 0, 0, 0, 0, 0, 0, 0, 0, 0, 0, 0, 0, 0, 0, 0, 0, 0, 0, 0, 0, 0, 0, 0, 0, 0, 0, 0, 0, 0, 0, 0, 0, 0, 0, 0, 0, 0, 0, 0, 0, 0, 0, 0, 0, 0, 0, 0, 0, 1, 0, 0, 0, 0, 0, 0, 0, 0, 0, 0, 0, 0, 0, 0, 0, 0, 0, 0, 0, 0, 0, 0, 0, 0, 0, 0, 0, 0, 0, 0, 0, 0, 0, 0, 0, 0, 0, 0, 0, 0, 0, 0, 0, 0, 0, 0, 0, 0, 0, 0, 0, 0, 0, 0, 0, 0, 0, 0, 0, 0, 0, 0, 0, 0, 0, 0, 0, 0, 0, 0, 0, 0, 0, 0, 0, 0, 0, 0, 0, 0, 0, 0, 0, 0, 0, 0, 0, 0, 0, 0, 0, 0, 0, 0, 0, 0, 0, 0, 0, 0, 0, 0, 0, 0, 0, 0, 0, 0, 0, 0, 0, 0, 0, 0, 0, 0, 0, 0, 0, 0, 0, 0, 0, 0, 0, 0, 0, 0, 0, 0, 0, 0, 0, 0, 0, 0, 0, 0, 0, 0, 0, 0, 0, 0, 0, 0, 0, 0, 0, 0, 0, 0, 0, 0, 0, 0, 0, 0, 0, 0, 0, 0, 0, 0, 0, 0, 0, 0, 0, 0, 0, 0, 0, 0, 0, 0, 0, 0, 0, 0, 0, 0, 0, 0, 0, 0, 0, 0, 0, 0, 0, 0, 0, 0, 0, 0, 0, 0, 0, 0, 0, 0, 0, 0, 0, 0, 0, 0, 0, 0, 0, 0, 0, 0, 0, 0, 0, 0, 0, 0, 0, 0, 0, 0, 0, 0, 0, 0, 0, 0, 0, 0, 0, 0, 0, 0, 0, 0, 0, 0, 0, 0, 0, 0, 0, 0, 0, 0, 0, 0, 0, 0, 0, 0, 0, 0, 0, 0, 0, 0, 0, 0, 0, 0, 0, 0, 0, 0, 0, 0, 0, 0, 0, 0, 0, 0, 0, 0, 0, 0, 0, 0, 0, 0, 0, 0, 0, 0, 0, 0, 0, 0, 0, 0, 0, 0, 0, 0, 0, 0, 0, 0, 0, 0, 0, 0, 0, 0, 0, 0, 0, 0, 0, 0, 0, 0, 0, 0, 0, 0, 0, 0, 0, 0, 0, 0, 0, 0, 0, 0, 0, 0, 0, 0, 0, 0, 0, 0, 0, 0, 0, 0, 0, 0, 0, 0, 0, 0, 0, 0, 0, 0, 0, 0, 0, 0, 0, 0, 0, 0, 0, 0, 0, 0, 0, 0, 0, 0, 0, 0, 0, 0, 0, 0, 0, 0, 0, 0, 0, 0, 0, 0, 0, 0, 0, 0, 0, 0, 0, 0, 0, 0, 0, 0, 0, 0, 0, 0, 0, 0, 0, 0, 0, 0, 0, 0, 0, 0, 0, 0, 0, 0, 0, 0, 0, 0, 0, 0, 0, 0, 0, 0, 0, 0, 0, 0, 0, 0, 0, 0, 0, 0, 0, 0, 0, 0, 0, 0, 0, 0, 0, 0, 0, 0, 0, 0, 0, 0, 0, 0, 0, 0, 0, 0, 0, 0, 0, 0, 0, 0, 0, 0, 0, 0, 0, 0, 0, 0, 0, 0, 0, 0, 0, 0, 0, 0, 0, 0, 0, 0, 0, 0, 0, 0, 0, 0, 0, 0, 0, 0, 0, 0, 0, 0, 0, 0, 0, 0, 0, 0, 0, 0, 0, 0, 0, 0, 0, 0, 0, 0, 0, 0, 0, 0, 0, 0, 0, 0, 0, 0, 0, 0, 0, 0, 0, 0, 0, 0, 0, 0, 0, 0, 0, 0, 0, 0, 0, 0, 0, 0, 0, 0, 0, 0, 0, 0, 0, 0, 0, 0, 0, 0, 0, 0, 0, 0, 0, 0, 0, 0, 0, 0, 0, 0, 0, 0, 0, 0, 0, 0, 0, 0, 0, 0, 0, 0, 0, 0, 0, 0, 0, 0, 0, 0, 0, 0, 0, 0, 0, 0, 0, 0, 0, 0, 0, 0, 0, 0, 0, 0, 0, 0, 0, 0, 0, 0, 0, 0, 0, 0, 0, 0, 0, 0, 0, 0, 0, 0, 0, 0, 0, 0, 0, 0, 0, 0, 0, 0, 0, 0, 0, 0, 0, 0, 0, 0, 0, 0, 0, 0, 0, 0, 0, 0, 0, 0, 0, 0, 0, 0, 0, 0, 0, 0, 0, 0, 0, 0, 0, 0, 0, 0, 0, 0, 0, 0, 0, 0, 0, 0, 0, 0, 0, 0, 0, 0, 0, 0, 0, 0, 0, 1, 0, 0, 0, 0, 0, 0, 0, 0, 0, 0, 0, 0, 0, 0, 0, 0, 0, 0, 0, 0, 0, 0, 0, 0, 0, 0, 0, 0, 0, 0, 0, 0, 0, 0, 0, 0, 0, 0, 0, 0, 0, 0, 0, 0, 0, 0, 0, 0, 0, 0, 0, 0, 0, 0, 0, 0, 0, 0, 0, 0, 0, 0, 0, 0, 0, 0, 0, 0, 0, 0, 0, 0, 0, 0, 1, 0, 0, 0, 0, 0, 0, 0, 0, 0, 0, 0, 0, 0, 0, 0, 0, 0, 0, 0, 0, 1, 0, 0, 1, 0, 0, 0, 0, 0, 0, 0, 0, 0, 0, 0, 0, 0, 0, 0, 0, 0, 0, 0, 0, 0, 0, 0, 0, 0, 0, 0, 0, 0, 0, 0, 0, 0, 0, 0, 0, 0, 0, 0, 0, 0, 0, 0, 0, 0, 0, 0, 0, 0, 0, 0, 0, 0, 0, 0, 0, 0, 0, 0, 0, 0, 0, 0, 0, 0, 0, 0, 0, 0, 0, 0, 0, 0, 0, 0, 0, 0, 0, 0, 0, 0, 0, 0, 0, 0, 0, 0, 0, 0, 0, 0, 0, 0, 0, 0, 0, 0, 0, 0, 0, 0, 0, 0, 0, 0, 0, 0, 0, 0, 0, 0, 0, 0, 0, 0, 0, 0, 0, 0, 0, 0, 0, 0, 0, 0, 0, 0, 0, 0, 0, 0, 0, 0, 0, 0, 0, 0, 0, 0, 0, 0, 0, 0, 0, 0, 0, 0, 0, 0, 0, 0, 0, 0, 0, 0, 0, 0, 0, 0, 0, 0, 0, 0, 0, 0, 0, 0, 0, 0, 0, 0, 0, 0, 0, 0, 0, 0, 0, 0, 0, 0, 0, 0, 0, 0, 0, 0, 0, 0, 0, 0, 0, 0, 0, 0, 0, 0, 0, 0, 0, 0, 0, 0, 0, 0, 0, 0, 0, 0, 0, 0, 0, 0, 0, 0, 0, 0, 0, 0, 0, 0, 0, 0, 0, 0, 0, 0, 0, 0, 0, 0, 0, 0, 0, 0, 0, 0, 0, 0, 0, 0, 0, 0, 0, 0, 0, 0, 0, 0, 0, 0, 0, 0, 0, 0, 0, 0, 0, 0, 0, 0, 0, 0, 0, 0, 0, 0, 0, 0, 0, 0, 0, 0, 0, 0, 0, 0, 0, 0, 0, 0, 0, 0, 0, 0, 0, 0, 0, 0, 0, 0, 0, 0, 0, 0, 0, 0, 0, 0, 0, 0, 0, 0, 0, 0, 0, 0, 0, 0, 0, 0, 0, 0, 0, 0, 0, 0, 0, 0, 0, 0, 0, 0, 0, 0, 0, 0, 0, 0, 0, 0, 0, 0, 0, 0, 0, 0, 0, 0, 0, 0, 0, 0, 0, 0, 0, 0, 0, 0, 0, 0, 0, 0, 0, 0, 0, 0, 0, 0, 0, 0, 0, 0, 0, 0, 0, 0, 0, 0, 0, 0, 0, 0, 0, 0, 0, 0, 0, 0, 0, 0, 0, 0, 0, 0, 0, 0, 0, 0, 0, 0, 0, 0, 0, 0, 0, 0, 0, 0, 0, 0, 0, 0, 0, 0, 0, 0, 0, 0, 0, 0, 0, 0, 0, 0, 0, 0, 0, 0, 0, 0, 0, 0, 0, 0, 0, 0, 0, 0, 0, 0, 0, 0, 0, 0, 0, 0, 0, 0, 0, 0, 0, 0, 0, 0, 0, 0, 0, 0, 0, 0, 0, 0, 0, 0, 0, 0, 0, 0, 0, 0, 0, 0, 0, 0, 0, 1, 0, 0, 0, 0, 0, 0, 0, 0, 0, 0, 0, 0, 0, 0, 0, 0, 0, 0, 0, 0, 0, 0, 0, 0, 0, 0, 0, 0, 0, 0, 0, 0, 0, 0, 0, 0, 0, 0, 0, 0, 0, 0, 0, 0, 0, 0, 0, 0, 0, 0, 0, 0, 0, 0, 0, 0, 0, 0, 0, 0, 0, 0, 0, 0, 0, 0, 0, 0, 0, 0, 0, 0, 0, 0, 0, 0, 0, 0, 0, 0, 0, 0, 0, 0, 0, 0, 0, 0, 0, 0, 0, 0, 0, 0, 0, 0, 0, 0, 0, 0, 0, 0, 0, 0, 0, 0, 0, 0, 0, 0, 0, 0, 0, 0, 0, 0, 0, 0, 0, 0, 0, 0, 0, 0, 0, 0, 0, 0, 0, 0, 0, 0, 0, 0, 0, 0, 0, 0, 0, 0, 0, 0, 0, 0, 0, 0, 0, 0, 0, 0, 0, 0, 0, 0, 0, 0, 0, 0, 0, 0, 0, 0, 0, 0, 0, 0, 0, 0, 0, 0, 0, 0, 0, 0, 0, 0, 0, 0, 0, 0, 0, 0, 0, 0, 0, 0, 0, 0, 0, 0, 0, 0, 0, 0, 0, 0, 0, 0, 0, 0, 0, 0, 0, 0, 0, 0, 0, 0, 0, 0, 0, 0, 0, 0, 0, 0, 0, 0, 0, 0, 0, 0, 0, 0, 0, 0, 0, 0, 0, 0, 0, 0, 0, 0, 0, 0, 0, 0, 0, 0, 0, 0, 0, 0, 0, 0, 0, 0, 0, 0, 0, 0, 0, 0, 0, 0, 0, 0, 0, 0, 0, 0, 0, 0, 0, 0, 0, 0, 0, 0, 0, 0, 0, 0, 0, 0, 0, 0, 0, 0, 0, 0, 0, 0, 0, 0, 0, 0, 0, 0, 0, 0, 0, 0, 0, 0, 0, 0, 0, 0, 0, 0, 0, 0, 0, 0, 0, 0, 0, 0, 0, 0, 0, 0, 0, 0, 0, 0, 0, 0, 0, 0, 0, 0, 0, 0, 0, 0, 0, 0, 0, 0, 0, 0, 0, 0, 0, 0, 0, 0, 0, 0, 0, 0, 0, 0, 0, 0, 0, 0, 0, 0, 0, 0, 0, 0, 0, 0, 0, 0, 0, 0, 0, 0, 0, 0, 0, 0, 0, 0, 0, 0, 0, 0, 0, 0, 0, 0, 0, 0, 0, 0, 0, 0, 0, 0, 0, 0, 0, 0, 0, 0, 0, 0, 0, 0, 0, 0, 0, 0, 0, 0, 0, 0, 0, 0, 0, 0, 0, 0, 0, 0, 0, 0, 0, 0, 0, 0, 0, 0, 0, 0, 0, 0, 0, 0, 0, 0, 0, 0, 0, 0, 0, 0, 0, 0, 0, 0, 0, 0, 0, 0, 0, 0, 0, 0, 0, 0, 0, 0, 0, 0, 0, 0, 0, 0, 0, 0, 0, 0, 0, 0, 0, 0, 0, 0, 0, 0, 0, 0, 0, 0, 0, 0, 0, 0, 0, 0, 0, 0, 0, 0, 0, 0, 0, 0, 0, 0, 0, 0, 0, 0, 0, 0, 0, 0, 0, 0, 0, 0, 0, 0, 0, 0, 0, 0, 0, 0, 0, 0, 0, 0, 1, 0, 0, 0, 0, 0, 0, 0, 0, 0, 0, 0, 0, 0, 0, 0, 0, 0, 0, 0, 0, 0, 0, 0, 0, 0, 0, 0, 0, 0, 0, 0, 0, 0, 0, 0, 2, 0, 0, 0, 0, 0, 0, 0, 0, 0, 0, 0, 0, 0, 0, 0, 0, 0, 0, 0, 0, 0, 0, 0, 0, 0, 0, 0, 0, 0, 0, 0, 0, 0, 0, 0, 0, 0, 0, 0, 0, 1, 0, 0, 0, 0, 0, 0, 0, 0, 0, 0, 0, 0, 0, 0, 0, 0, 0, 0, 0, 0, 0, 0, 0, 0, 0, 0, 0, 0, 0, 0, 0, 0, 0, 0, 0, 0, 0, 0, 0, 0, 0, 0, 0, 0, 0, 0, 0, 0, 0, 0, 0, 0, 0, 0, 0, 0, 0, 0, 0, 0, 0, 0, 0, 0, 0, 0, 0, 0, 0, 0, 0, 0, 0, 0, 0, 0, 0, 0, 0, 0, 0, 0, 0, 0, 0, 0, 0, 0, 0, 0, 0, 0, 0, 0, 0, 0, 0, 0, 0, 0, 0, 0, 0, 0, 0, 0, 0, 0, 0, 0, 0, 0, 0, 0, 0, 0, 0, 0, 0, 0, 0, 0, 0, 0, 0, 0, 0, 0, 0, 0, 0, 0, 0, 0, 0, 0, 0, 0, 0, 0, 0, 0, 0, 0, 0, 0, 0, 0, 0, 0, 0, 0, 0, 0, 0, 0, 0, 0, 0, 0, 0, 0, 0, 0, 0, 0, 0, 0, 0, 0, 0, 0, 0, 0, 0, 0, 0, 0, 0, 0, 0, 0, 0, 0, 0, 0, 0, 0, 0, 0, 0, 0, 0, 0, 0, 0, 0, 0, 0, 0, 0, 0, 0, 0, 0, 0, 0, 0, 0, 0, 0, 0, 0, 0, 0, 0, 0, 0, 0, 0, 0, 0, 0, 0, 0, 0, 0, 0, 0, 0, 0, 0, 0, 0, 0, 0, 0, 0, 0, 0, 0, 0, 0, 0, 0, 0, 0, 0, 0, 0, 0, 0, 0, 0, 0, 0, 0, 0, 0, 0, 0, 0, 0, 0, 0, 0, 0, 0, 0, 0, 0, 0, 0, 0, 0, 0, 0, 0, 0, 0, 0, 0, 0, 0, 0, 0, 0, 0, 0, 0, 0, 0, 0, 0, 0, 0, 0, 0, 0, 0, 0, 0, 0, 0, 0, 0, 0, 0, 0, 0, 0, 0, 0, 0, 0, 0, 0, 0, 0, 0, 0, 0, 0, 0, 0, 0, 0, 0, 0, 0, 0, 0, 0, 0, 0, 0, 0, 0, 0, 0, 0, 0, 0, 0, 0, 0, 0, 0, 0, 0, 0, 0, 0, 0, 0, 0, 0, 0, 0, 0, 0, 0, 0, 0, 0, 0, 0, 0, 0, 0, 0, 0, 0, 0, 0, 0, 0, 0, 0, 0, 0, 0, 0, 0, 0, 0, 0, 0, 0, 0, 0, 0, 0, 0, 0, 0, 0, 0, 0, 0, 0, 0, 0, 0, 0, 0, 0, 0, 0, 0, 0, 0, 0, 0, 0, 0, 0, 0, 0, 0, 0, 0, 0, 0, 0, 0, 0, 0, 0, 0, 0, 0, 0, 0, 0, 0, 0, 0, 0, 0, 0, 0, 0, 0, 0, 0, 0, 0, 0, 0, 0, 0, 0, 0, 0, 0, 0, 0, 0, 0, 0, 0, 0, 0, 0, 0, 0, 0, 0, 0, 0, 0, 0, 0, 0, 0, 0, 0, 0, 0, 0, 0, 0, 0, 0, 0, 0, 0, 0, 0, 0, 0, 0, 0, 0, 0, 0, 1, 0, 0, 0, 0, 0, 0, 0, 0, 0, 0, 0, 0, 0, 0, 0, 0, 0, 0, 0, 0, 0, 0, 0, 0, 0, 0, 0, 0, 0, 0, 0, 0, 0, 0, 0, 0, 0, 0, 0, 0, 0, 0, 0, 0, 0, 0, 0, 0, 0, 0, 0, 0, 0, 0, 0, 0, 0, 0, 0, 0, 0, 0, 0, 0, 0, 0, 0, 0, 0, 0, 0, 0, 0, 0, 0, 0, 0, 0, 0, 0, 0, 0, 0, 0, 0, 0, 0, 0, 0, 0, 0, 0, 0, 0, 0, 0, 0, 0, 0, 0, 0, 0, 0, 0, 0, 0, 0, 0, 0, 0, 2, 0, 0, 0, 0, 0, 0, 0, 0, 0, 0, 0, 0, 0, 0, 0, 0, 0, 0, 0, 0, 0, 0, 0, 0, 0, 0, 0, 0, 0, 0, 0, 0, 0, 0, 0, 0, 0, 0, 0, 0, 0, 0, 0, 0, 0, 0, 0, 0, 0, 0, 0, 0, 0, 0, 0, 0, 0, 0, 0, 0, 0, 0, 0, 0, 0, 0, 0, 0, 0, 0, 0, 0, 0, 0, 0, 0, 0, 0, 0, 0, 0, 0, 0, 0, 0, 0, 0, 0, 0, 0, 0, 0, 0, 0, 0, 0, 0, 0, 0, 0, 0, 0, 0, 0, 0, 0, 0, 0, 0, 0, 0, 0, 0, 0, 0, 0, 0, 0, 0, 0, 0, 0, 0, 0, 0, 0, 0, 0, 0, 0, 0, 0, 0, 0, 0, 0, 0, 0, 0, 0, 0, 0, 0, 0, 0, 0, 0, 0, 0, 0, 0, 0, 0, 0, 0, 0, 0, 0, 0, 0, 0, 0, 0, 0, 0, 0, 0, 0, 0, 0, 0, 0, 0, 0, 0, 0, 0, 0, 0, 0, 0, 0, 0, 0, 0, 0, 0, 0, 0, 0, 0, 0, 0, 0, 0, 0, 0, 0, 0, 0, 0, 0, 0, 0, 0, 0, 0, 0, 0, 0, 0, 0, 0, 0, 0, 0, 0, 0, 0, 0, 0, 0, 0, 0, 0, 0, 0, 0, 0, 0, 0, 0, 0, 0, 0, 0, 0, 0, 0, 0, 0, 0, 0, 0, 0, 0, 0, 0, 0, 0, 0, 0, 0, 0, 0, 0, 0, 0, 0, 0, 0, 0, 0, 0, 0, 0, 0, 0, 0, 0, 0, 0, 0, 0, 0, 0, 0, 0, 0, 0, 0, 0, 0, 0, 0, 0, 0, 0, 0, 0, 0, 0, 0, 0, 0, 0, 0, 0, 0, 0, 0, 0, 0, 0, 0, 0, 0, 0, 0, 0, 0, 0, 0, 0, 0, 0, 0, 0, 0, 0, 0, 0, 0, 0, 0, 0, 0, 0, 0, 0, 0, 0, 0, 0, 0, 0, 0, 0, 0, 0, 0, 0, 0, 0, 0, 0, 0, 0, 0, 0, 0, 0, 0, 0, 0, 0, 0, 0, 0, 0, 0, 0, 0, 0, 0, 0, 0, 0, 0, 0, 0, 0, 0, 0, 0, 0, 0, 0, 0, 0, 0, 0, 0, 0, 0, 0, 0, 0, 0, 0, 0, 0, 0, 0, 0, 0, 0, 0, 0, 0, 0, 0, 0, 0, 0, 0, 0, 0, 0, 0, 0, 0, 0, 0, 0, 0, 0, 0, 0, 0, 0, 0, 0, 0, 0, 0, 0, 0, 0, 0, 0, 0, 0, 0, 0, 0, 0, 0, 0, 0, 0, 0, 0, 0, 0, 0, 0, 0, 0, 0, 0, 0, 0, 0, 0, 0, 0, 0, 0, 0, 0, 0, 0, 0, 0, 0, 0, 0, 0, 0, 0, 0, 0, 0, 0, 0, 0, 0, 0, 0, 0, 0, 0, 0, 0, 0, 0, 0, 0, 0, 0, 0, 0, 0, 0, 0, 0, 0, 0, 0, 0, 0, 0, 0, 0, 0, 0, 0, 0, 0, 0, 0, 0, 0, 0, 0, 0, 0, 0, 0, 0, 0, 0, 0, 0, 0, 0, 0, 0, 0, 0, 0, 0, 0, 0, 0, 0, 0, 0, 0, 0, 0, 0, 0, 0, 0, 0, 0, 0, 0, 0, 0, 0, 0, 0, 0, 0, 0, 0, 0, 0, 0, 0, 0, 0, 0, 0, 0, 0, 0, 0, 0, 0, 0, 0, 0, 0, 0, 0, 0, 0, 0, 0, 0, 0, 0, 0, 0, 0, 0, 0, 0, 0, 0, 0, 0, 0, 0, 0, 0, 0, 0, 0, 0, 0, 0, 0, 0, 0, 0, 0, 0, 0, 0, 0, 0, 0, 0, 0, 0, 0, 0, 0, 0, 0, 0, 0, 0, 0, 0, 0, 0, 0, 0, 0, 0, 0, 0, 0, 0, 0, 0, 0, 0, 0, 0, 0, 0, 0, 0, 0, 0, 0, 0, 0, 0, 0, 0, 0, 0, 0, 0, 0, 0, 0, 0, 0, 0, 0, 0, 0, 0, 0, 0, 0, 0, 0, 0, 0, 0, 0, 0, 0, 0, 0, 0, 0, 0, 0, 0, 1, 0, 0, 0, 0, 0, 0, 0, 0, 0, 0, 0, 0, 0, 0, 0, 0, 0, 0, 0, 0, 0, 0, 0, 0, 0, 0, 0, 0, 0, 0, 0, 0, 0, 0, 0, 0, 0, 0, 0, 0, 0, 0, 0, 0, 0, 0, 0, 0, 0, 0, 0, 0, 0, 0, 0, 0, 0, 0, 0, 0, 0, 0, 0, 0, 0, 0, 0, 0, 0, 0, 0, 0, 0, 0, 0, 0, 0, 0, 0, 0, 0, 0, 0, 0, 0, 0, 0, 0, 0, 0, 0, 0, 0, 0, 0, 0, 0, 0, 0, 0, 0, 0, 0, 0, 0, 0, 0, 1, 0, 0, 0, 0, 0, 0, 0, 0, 0, 0, 0, 0, 0, 0, 0, 0, 0, 0, 0, 0, 0, 0, 0, 0, 0, 0, 0, 0, 0, 0, 0, 0, 0, 0, 0, 0, 0, 0, 0, 0, 0, 0, 0, 0, 0, 0, 0, 0, 0, 0, 0, 0, 0, 0, 0, 0, 0, 0, 0, 0, 0, 0, 0, 0, 0, 0, 0, 0, 0, 0, 0, 0, 0, 0, 0, 0, 0, 0, 0, 0, 0, 0, 0, 0, 0, 0, 0, 0, 0, 0, 0, 0, 0, 0, 0, 0, 0, 0, 0, 0, 0, 0, 0, 0, 0, 0, 0, 0, 0, 0, 0, 0, 0, 0, 0, 0, 0, 0, 0, 0, 0, 0, 0, 0, 0, 0, 0, 0, 0, 0, 0, 0, 0, 0, 0, 0, 0, 0, 0, 0, 0, 0, 0, 0, 0, 0, 0, 0, 0, 0, 0, 0, 0, 0, 0, 0, 0, 0, 0, 0, 0, 0, 0, 0, 0, 0, 0, 0, 0, 0, 0, 0, 0, 0, 0, 0, 0, 0, 0, 0, 0, 0, 0, 0, 0, 0, 0, 0, 0, 0, 0, 0, 0, 0, 0, 0, 0, 0, 0, 0, 0, 0, 0, 0, 0, 0, 0, 0, 0, 0, 0, 0, 0, 0, 0, 0, 0, 0, 0, 0, 0, 0, 0, 0, 0, 0, 0, 0, 0, 0, 0, 0, 0, 0, 0, 0, 0, 0, 0, 0, 0, 0, 0, 0, 0, 0, 0, 0, 0, 0, 0, 0, 0, 0, 0, 0, 0, 0, 0, 0, 0, 0, 0, 0, 0, 0, 0, 0, 0, 0, 0, 0, 0, 0, 0, 0, 0, 0, 0, 0, 0, 0, 0, 0, 0, 0, 0, 0, 0, 0, 0, 0, 0, 0, 0, 0, 0, 0, 0, 0, 0, 0, 0, 0, 0, 0, 0, 0, 0, 0, 0, 0, 0, 0, 0, 0, 0, 0, 0, 0, 0, 0, 0, 0, 0, 0, 0, 0, 0, 0, 0, 0, 0, 0, 0, 0, 0, 0, 0, 0, 0, 0, 0, 0, 0, 0, 0, 0, 0, 0, 0, 0, 0, 0, 0, 0, 0, 0, 0, 0, 0, 0, 0, 0, 0, 0, 0, 0, 0, 0, 0, 0, 0, 0, 0, 0, 0, 0, 0, 0, 0, 0, 0, 0, 0, 0, 0, 0, 0, 0, 0, 0, 0, 0, 0, 0, 0, 0, 0, 0, 0, 0, 0, 0, 0, 0, 0, 0, 0, 0, 0, 0, 0, 0, 0, 0, 0, 0, 0, 0, 0, 0, 0, 0, 0, 0, 0, 0, 0, 0, 0, 0, 0, 0, 0, 0, 0, 0, 0, 0, 0, 0, 0, 0, 0, 0, 0, 0, 0, 0, 0, 0, 0, 0, 0, 0, 0, 0, 0, 0, 0, 0, 0, 2, 0, 1, 0]\n"
     ]
    }
   ],
   "source": [
    "test_bow = bow_encoding(test_words, vocabulary)\n",
    "print(test_bow)"
   ]
  },
  {
   "cell_type": "code",
   "execution_count": null,
   "metadata": {},
   "outputs": [
    {
     "data": {
      "text/plain": [
       "5000"
      ]
     },
     "execution_count": 41,
     "metadata": {},
     "output_type": "execute_result"
    }
   ],
   "source": [
    "len(test_bow)"
   ]
  },
  {
   "cell_type": "markdown",
   "metadata": {},
   "source": [
    "So now we know how to construct a bag of words encoding of a user provided review, how to we send it to our endpoint? First, we need to start the endpoint back up."
   ]
  },
  {
   "cell_type": "code",
   "execution_count": null,
   "metadata": {},
   "outputs": [
    {
     "name": "stderr",
     "output_type": "stream",
     "text": [
      "WARNING:sagemaker:Parameter image will be renamed to image_uri in SageMaker Python SDK v2.\n",
      "WARNING:sagemaker:Using already existing model: xgboost-2020-06-07-20-02-30-873\n"
     ]
    },
    {
     "name": "stdout",
     "output_type": "stream",
     "text": [
      "-------------!"
     ]
    }
   ],
   "source": [
    "xgb_predictor = xgb.deploy(\n",
    "    initial_instance_count = 1, \n",
    "    instance_type = 'ml.m4.xlarge',\n",
    "    tags=[dict(Key='owner', Value='email')]\n",
    ")"
   ]
  },
  {
   "cell_type": "markdown",
   "metadata": {},
   "source": [
    "At this point we could just do the same thing that we did earlier when we tested our deployed model and send `test_bow` to our endpoint using the `xgb_predictor` object. However, when we eventually construct our Lambda function we won't have access to this object, so how do we call a SageMaker endpoint?\n",
    "\n",
    "It turns out that Python functions that are used in Lambda have access to another Amazon library called `boto3`. This library provides an API for working with Amazon services, including SageMaker. To start with, we need to get a handle to the SageMaker runtime."
   ]
  },
  {
   "cell_type": "code",
   "execution_count": null,
   "metadata": {},
   "outputs": [],
   "source": [
    "import boto3\n",
    "\n",
    "runtime = boto3.Session().client('sagemaker-runtime')"
   ]
  },
  {
   "cell_type": "markdown",
   "metadata": {},
   "source": [
    "And now that we have access to the SageMaker runtime, we can ask it to make use of (invoke) an endpoint that has already been created. However, we need to provide SageMaker with the name of the deployed endpoint. To find this out we can print it out using the `xgb_predictor` object."
   ]
  },
  {
   "cell_type": "code",
   "execution_count": null,
   "metadata": {},
   "outputs": [
    {
     "data": {
      "text/plain": [
       "'xgboost-2020-06-07-20-02-30-873'"
      ]
     },
     "execution_count": 44,
     "metadata": {},
     "output_type": "execute_result"
    }
   ],
   "source": [
    "xgb_predictor.endpoint"
   ]
  },
  {
   "cell_type": "markdown",
   "metadata": {},
   "source": [
    "Using the SageMaker runtime and the name of our endpoint, we can invoke the endpoint and send it the `test_bow` data."
   ]
  },
  {
   "cell_type": "code",
   "execution_count": null,
   "metadata": {},
   "outputs": [
    {
     "ename": "ParamValidationError",
     "evalue": "Parameter validation failed:\nInvalid type for parameter Body, value: [0, 0, 0, 0, 0, 0, 0, 0, 0, 0, 0, 0, 0, 0, 0, 0, 0, 0, 0, 0, 0, 0, 0, 0, 0, 0, 0, 0, 0, 0, 0, 0, 0, 0, 0, 0, 0, 0, 0, 0, 0, 0, 0, 0, 0, 0, 0, 0, 0, 0, 0, 0, 0, 0, 0, 0, 0, 0, 0, 0, 0, 0, 0, 0, 0, 0, 0, 0, 0, 0, 0, 0, 0, 0, 0, 0, 0, 0, 0, 0, 0, 0, 0, 0, 0, 0, 0, 0, 0, 0, 0, 0, 0, 0, 0, 0, 0, 0, 0, 0, 0, 0, 0, 0, 0, 0, 0, 0, 0, 0, 0, 0, 0, 0, 0, 0, 0, 0, 0, 0, 0, 0, 0, 0, 0, 0, 0, 0, 0, 0, 0, 0, 0, 0, 0, 0, 0, 0, 0, 0, 0, 0, 0, 0, 0, 0, 0, 0, 0, 0, 0, 0, 0, 0, 0, 0, 0, 0, 0, 0, 0, 0, 0, 0, 0, 0, 0, 0, 0, 0, 0, 0, 0, 0, 0, 0, 0, 0, 0, 0, 0, 0, 0, 0, 0, 0, 0, 0, 0, 0, 0, 0, 0, 0, 0, 0, 0, 0, 0, 0, 0, 0, 0, 0, 0, 0, 0, 0, 0, 0, 0, 0, 0, 0, 0, 0, 0, 0, 0, 0, 0, 0, 0, 0, 0, 0, 1, 0, 0, 0, 0, 0, 0, 0, 0, 0, 0, 0, 0, 0, 0, 0, 0, 0, 0, 0, 0, 0, 0, 0, 0, 0, 0, 0, 0, 0, 1, 0, 0, 0, 0, 0, 0, 0, 0, 0, 0, 0, 0, 0, 0, 0, 0, 0, 0, 0, 0, 0, 0, 0, 0, 0, 0, 0, 0, 0, 0, 0, 0, 0, 0, 0, 0, 0, 0, 0, 0, 0, 0, 0, 0, 0, 0, 0, 0, 0, 0, 0, 0, 0, 0, 0, 0, 0, 0, 0, 0, 0, 0, 0, 0, 0, 0, 0, 0, 0, 0, 0, 0, 0, 0, 0, 0, 0, 0, 0, 0, 0, 0, 0, 0, 0, 0, 0, 0, 0, 0, 0, 0, 0, 0, 0, 0, 0, 0, 0, 0, 0, 0, 0, 0, 0, 0, 0, 0, 0, 0, 0, 0, 0, 0, 0, 0, 0, 0, 0, 0, 0, 0, 0, 0, 0, 0, 0, 0, 0, 0, 0, 0, 0, 0, 0, 0, 0, 0, 0, 0, 0, 0, 0, 0, 0, 0, 0, 0, 0, 0, 0, 0, 0, 0, 0, 0, 0, 0, 0, 0, 0, 0, 0, 0, 0, 0, 0, 0, 0, 0, 0, 0, 0, 0, 0, 0, 0, 0, 0, 0, 0, 0, 0, 0, 0, 0, 0, 0, 0, 0, 0, 0, 0, 0, 0, 0, 0, 0, 0, 0, 0, 0, 0, 0, 0, 0, 0, 0, 0, 0, 0, 0, 0, 0, 0, 0, 0, 0, 0, 0, 0, 0, 0, 0, 0, 0, 0, 0, 0, 0, 0, 0, 0, 0, 0, 0, 0, 0, 0, 0, 0, 0, 0, 0, 0, 0, 0, 0, 0, 0, 0, 0, 0, 0, 0, 0, 0, 0, 0, 0, 0, 0, 0, 0, 0, 0, 0, 0, 0, 0, 0, 0, 0, 0, 0, 0, 0, 0, 0, 0, 0, 0, 0, 0, 0, 0, 0, 0, 0, 0, 0, 0, 0, 0, 0, 0, 0, 0, 0, 0, 0, 0, 0, 0, 0, 0, 0, 0, 0, 0, 0, 0, 0, 0, 0, 0, 0, 0, 0, 0, 0, 0, 0, 0, 0, 0, 0, 0, 0, 0, 0, 0, 0, 0, 0, 0, 0, 0, 0, 0, 0, 0, 0, 0, 0, 0, 0, 0, 0, 0, 0, 0, 0, 0, 0, 0, 0, 0, 0, 0, 0, 0, 0, 0, 0, 0, 0, 0, 0, 0, 0, 0, 0, 0, 0, 0, 0, 0, 0, 1, 0, 0, 0, 0, 0, 0, 0, 0, 0, 0, 0, 0, 0, 0, 0, 0, 0, 0, 0, 0, 0, 0, 0, 0, 0, 0, 0, 0, 0, 0, 0, 0, 0, 0, 0, 0, 0, 0, 0, 0, 0, 0, 0, 0, 0, 0, 0, 0, 0, 0, 0, 0, 0, 0, 0, 0, 0, 0, 0, 0, 0, 0, 0, 0, 0, 0, 0, 0, 0, 0, 0, 0, 0, 0, 0, 0, 0, 0, 0, 0, 0, 0, 0, 0, 0, 0, 0, 0, 0, 0, 0, 0, 0, 0, 0, 0, 0, 0, 0, 0, 0, 0, 0, 0, 0, 0, 0, 0, 0, 0, 0, 0, 0, 0, 0, 0, 0, 0, 0, 0, 0, 0, 0, 0, 0, 0, 0, 0, 0, 0, 0, 0, 0, 0, 0, 0, 0, 0, 0, 0, 0, 0, 0, 0, 0, 0, 0, 0, 0, 0, 0, 0, 0, 0, 0, 0, 0, 0, 0, 0, 0, 0, 0, 0, 0, 0, 0, 0, 0, 0, 0, 0, 0, 0, 0, 0, 0, 0, 0, 0, 0, 0, 0, 0, 0, 0, 0, 0, 0, 0, 0, 0, 0, 0, 0, 0, 0, 0, 0, 0, 0, 0, 0, 0, 0, 0, 0, 0, 0, 0, 0, 0, 0, 0, 0, 0, 0, 0, 0, 0, 0, 0, 0, 0, 0, 0, 0, 0, 0, 0, 0, 0, 0, 0, 0, 0, 0, 0, 0, 0, 0, 0, 0, 0, 0, 0, 0, 0, 0, 0, 0, 0, 0, 1, 0, 0, 0, 0, 0, 0, 0, 0, 0, 0, 0, 0, 0, 0, 0, 0, 0, 0, 0, 0, 0, 0, 0, 0, 0, 0, 0, 0, 0, 0, 0, 0, 0, 0, 0, 0, 0, 0, 0, 0, 0, 0, 0, 0, 0, 0, 0, 0, 0, 0, 0, 0, 0, 0, 0, 0, 0, 0, 0, 0, 0, 0, 0, 0, 0, 0, 0, 0, 0, 0, 0, 0, 0, 0, 0, 0, 0, 0, 0, 0, 0, 0, 0, 0, 0, 0, 1, 0, 0, 0, 0, 0, 0, 0, 0, 0, 0, 0, 0, 0, 0, 0, 0, 0, 0, 0, 0, 0, 0, 0, 0, 0, 0, 0, 0, 0, 0, 0, 0, 0, 0, 0, 0, 0, 0, 0, 0, 0, 0, 0, 0, 0, 0, 0, 0, 0, 0, 0, 0, 0, 0, 0, 0, 0, 0, 0, 0, 0, 0, 0, 0, 0, 0, 0, 0, 0, 0, 0, 0, 0, 0, 0, 0, 0, 0, 0, 0, 0, 0, 0, 0, 0, 0, 0, 0, 0, 0, 0, 0, 0, 0, 0, 0, 0, 0, 0, 0, 0, 0, 0, 0, 0, 0, 0, 0, 0, 0, 0, 0, 0, 0, 0, 0, 0, 0, 0, 0, 0, 0, 0, 0, 0, 0, 0, 0, 0, 0, 0, 0, 0, 0, 0, 0, 0, 0, 0, 0, 0, 0, 0, 0, 0, 0, 0, 0, 0, 0, 0, 0, 0, 0, 0, 0, 0, 0, 0, 0, 0, 0, 0, 0, 0, 0, 0, 0, 0, 0, 0, 0, 0, 0, 0, 0, 0, 0, 0, 0, 0, 0, 0, 0, 0, 0, 0, 0, 0, 0, 0, 0, 0, 0, 0, 0, 0, 0, 0, 0, 0, 0, 0, 0, 0, 0, 0, 0, 0, 0, 0, 0, 0, 0, 0, 0, 0, 0, 0, 0, 0, 0, 0, 0, 0, 0, 0, 0, 0, 0, 0, 0, 0, 0, 0, 0, 0, 0, 0, 0, 0, 0, 0, 0, 0, 0, 0, 0, 0, 0, 0, 0, 1, 0, 0, 0, 0, 0, 0, 0, 0, 0, 0, 0, 0, 0, 0, 0, 0, 0, 0, 0, 0, 0, 0, 0, 0, 0, 0, 0, 0, 0, 0, 0, 0, 0, 0, 0, 0, 0, 0, 0, 0, 0, 0, 0, 0, 0, 0, 0, 0, 0, 0, 0, 0, 0, 0, 0, 1, 0, 0, 0, 0, 0, 0, 0, 0, 0, 0, 0, 0, 0, 0, 0, 0, 0, 0, 0, 0, 0, 0, 0, 0, 0, 0, 0, 0, 0, 0, 0, 0, 0, 0, 0, 0, 0, 0, 0, 0, 0, 0, 0, 0, 0, 0, 0, 0, 0, 0, 0, 0, 0, 0, 0, 0, 0, 0, 0, 0, 0, 0, 0, 0, 0, 0, 0, 0, 0, 0, 0, 0, 0, 0, 0, 0, 0, 0, 0, 0, 0, 0, 0, 0, 0, 0, 0, 0, 0, 0, 0, 0, 0, 0, 0, 0, 0, 0, 0, 0, 0, 0, 0, 0, 0, 0, 0, 0, 0, 0, 0, 0, 0, 0, 0, 0, 0, 0, 0, 0, 0, 0, 0, 0, 0, 0, 0, 0, 0, 0, 0, 0, 0, 0, 0, 0, 0, 0, 0, 0, 0, 0, 0, 0, 0, 0, 0, 0, 0, 0, 0, 0, 0, 0, 0, 0, 0, 0, 0, 0, 0, 0, 0, 0, 0, 0, 0, 0, 0, 0, 0, 0, 0, 0, 0, 0, 0, 0, 0, 0, 0, 0, 0, 0, 0, 0, 0, 0, 0, 0, 0, 0, 0, 0, 0, 0, 0, 0, 0, 0, 0, 0, 0, 0, 0, 0, 0, 0, 0, 0, 0, 0, 0, 0, 0, 0, 0, 0, 0, 0, 0, 0, 0, 0, 0, 0, 0, 0, 0, 0, 0, 0, 0, 0, 0, 0, 0, 0, 0, 0, 0, 0, 0, 0, 0, 0, 0, 0, 0, 0, 0, 0, 0, 0, 0, 0, 0, 0, 0, 0, 0, 0, 0, 0, 0, 0, 0, 0, 0, 0, 0, 0, 0, 0, 0, 0, 0, 0, 0, 0, 0, 0, 0, 0, 0, 0, 0, 0, 0, 0, 0, 0, 0, 0, 0, 0, 0, 0, 0, 0, 0, 0, 0, 0, 0, 0, 0, 0, 0, 0, 0, 0, 0, 0, 0, 0, 0, 0, 0, 0, 0, 0, 0, 0, 0, 0, 0, 0, 0, 0, 0, 0, 0, 0, 0, 0, 0, 0, 0, 0, 0, 0, 0, 0, 0, 0, 0, 0, 0, 0, 0, 0, 0, 0, 0, 0, 0, 0, 0, 0, 0, 0, 0, 0, 0, 0, 0, 0, 0, 0, 0, 0, 0, 0, 0, 0, 0, 0, 0, 0, 0, 0, 0, 0, 0, 0, 0, 0, 0, 0, 0, 0, 0, 0, 0, 0, 0, 0, 0, 0, 0, 0, 0, 0, 0, 0, 0, 0, 0, 0, 0, 0, 0, 0, 0, 0, 0, 0, 0, 0, 0, 0, 0, 0, 0, 0, 0, 0, 0, 0, 0, 0, 0, 0, 0, 0, 0, 0, 0, 0, 0, 0, 0, 0, 0, 0, 0, 0, 0, 0, 0, 0, 0, 0, 0, 0, 0, 0, 0, 0, 0, 0, 0, 0, 0, 0, 0, 0, 0, 0, 0, 0, 0, 0, 0, 0, 0, 0, 0, 0, 0, 0, 0, 0, 0, 0, 0, 0, 0, 0, 0, 0, 0, 0, 0, 0, 0, 0, 0, 0, 0, 0, 0, 0, 0, 0, 0, 0, 0, 0, 0, 0, 0, 0, 0, 0, 0, 0, 0, 0, 0, 0, 0, 0, 0, 0, 0, 0, 0, 0, 0, 0, 0, 0, 0, 0, 0, 0, 0, 0, 0, 0, 0, 0, 0, 0, 0, 0, 0, 0, 0, 0, 0, 0, 0, 0, 0, 0, 0, 0, 0, 0, 0, 0, 0, 0, 0, 0, 0, 0, 0, 0, 0, 0, 0, 0, 0, 0, 0, 0, 0, 0, 0, 0, 0, 0, 0, 0, 0, 0, 0, 0, 0, 0, 0, 0, 0, 0, 0, 0, 0, 0, 0, 0, 0, 0, 0, 0, 0, 0, 0, 0, 0, 0, 0, 0, 0, 0, 0, 0, 0, 0, 0, 0, 0, 0, 0, 0, 0, 0, 0, 0, 0, 0, 0, 0, 0, 0, 0, 0, 0, 0, 0, 0, 0, 0, 0, 0, 0, 0, 0, 0, 0, 0, 0, 0, 0, 0, 0, 0, 0, 0, 0, 0, 0, 0, 0, 0, 0, 0, 0, 0, 0, 0, 0, 0, 0, 0, 0, 0, 0, 1, 0, 0, 0, 0, 0, 0, 0, 0, 0, 0, 0, 0, 0, 0, 0, 0, 0, 0, 0, 0, 0, 0, 0, 0, 0, 0, 0, 0, 0, 0, 0, 0, 0, 0, 0, 0, 0, 0, 0, 0, 0, 0, 0, 0, 0, 0, 0, 0, 0, 0, 0, 0, 0, 0, 0, 0, 0, 0, 0, 0, 0, 0, 0, 0, 0, 0, 0, 0, 0, 0, 0, 0, 0, 0, 1, 0, 0, 0, 0, 0, 0, 0, 0, 0, 0, 0, 0, 0, 0, 0, 0, 0, 0, 0, 0, 1, 0, 0, 1, 0, 0, 0, 0, 0, 0, 0, 0, 0, 0, 0, 0, 0, 0, 0, 0, 0, 0, 0, 0, 0, 0, 0, 0, 0, 0, 0, 0, 0, 0, 0, 0, 0, 0, 0, 0, 0, 0, 0, 0, 0, 0, 0, 0, 0, 0, 0, 0, 0, 0, 0, 0, 0, 0, 0, 0, 0, 0, 0, 0, 0, 0, 0, 0, 0, 0, 0, 0, 0, 0, 0, 0, 0, 0, 0, 0, 0, 0, 0, 0, 0, 0, 0, 0, 0, 0, 0, 0, 0, 0, 0, 0, 0, 0, 0, 0, 0, 0, 0, 0, 0, 0, 0, 0, 0, 0, 0, 0, 0, 0, 0, 0, 0, 0, 0, 0, 0, 0, 0, 0, 0, 0, 0, 0, 0, 0, 0, 0, 0, 0, 0, 0, 0, 0, 0, 0, 0, 0, 0, 0, 0, 0, 0, 0, 0, 0, 0, 0, 0, 0, 0, 0, 0, 0, 0, 0, 0, 0, 0, 0, 0, 0, 0, 0, 0, 0, 0, 0, 0, 0, 0, 0, 0, 0, 0, 0, 0, 0, 0, 0, 0, 0, 0, 0, 0, 0, 0, 0, 0, 0, 0, 0, 0, 0, 0, 0, 0, 0, 0, 0, 0, 0, 0, 0, 0, 0, 0, 0, 0, 0, 0, 0, 0, 0, 0, 0, 0, 0, 0, 0, 0, 0, 0, 0, 0, 0, 0, 0, 0, 0, 0, 0, 0, 0, 0, 0, 0, 0, 0, 0, 0, 0, 0, 0, 0, 0, 0, 0, 0, 0, 0, 0, 0, 0, 0, 0, 0, 0, 0, 0, 0, 0, 0, 0, 0, 0, 0, 0, 0, 0, 0, 0, 0, 0, 0, 0, 0, 0, 0, 0, 0, 0, 0, 0, 0, 0, 0, 0, 0, 0, 0, 0, 0, 0, 0, 0, 0, 0, 0, 0, 0, 0, 0, 0, 0, 0, 0, 0, 0, 0, 0, 0, 0, 0, 0, 0, 0, 0, 0, 0, 0, 0, 0, 0, 0, 0, 0, 0, 0, 0, 0, 0, 0, 0, 0, 0, 0, 0, 0, 0, 0, 0, 0, 0, 0, 0, 0, 0, 0, 0, 0, 0, 0, 0, 0, 0, 0, 0, 0, 0, 0, 0, 0, 0, 0, 0, 0, 0, 0, 0, 0, 0, 0, 0, 0, 0, 0, 0, 0, 0, 0, 0, 0, 0, 0, 0, 0, 0, 0, 0, 0, 0, 0, 0, 0, 0, 0, 0, 0, 0, 0, 0, 0, 0, 0, 0, 0, 0, 0, 0, 0, 0, 0, 0, 0, 0, 0, 0, 0, 0, 0, 0, 0, 0, 0, 0, 0, 0, 0, 0, 0, 0, 0, 0, 0, 0, 0, 0, 0, 0, 0, 0, 0, 0, 0, 0, 0, 0, 0, 0, 0, 0, 0, 0, 0, 0, 0, 0, 0, 0, 0, 0, 0, 0, 0, 0, 1, 0, 0, 0, 0, 0, 0, 0, 0, 0, 0, 0, 0, 0, 0, 0, 0, 0, 0, 0, 0, 0, 0, 0, 0, 0, 0, 0, 0, 0, 0, 0, 0, 0, 0, 0, 0, 0, 0, 0, 0, 0, 0, 0, 0, 0, 0, 0, 0, 0, 0, 0, 0, 0, 0, 0, 0, 0, 0, 0, 0, 0, 0, 0, 0, 0, 0, 0, 0, 0, 0, 0, 0, 0, 0, 0, 0, 0, 0, 0, 0, 0, 0, 0, 0, 0, 0, 0, 0, 0, 0, 0, 0, 0, 0, 0, 0, 0, 0, 0, 0, 0, 0, 0, 0, 0, 0, 0, 0, 0, 0, 0, 0, 0, 0, 0, 0, 0, 0, 0, 0, 0, 0, 0, 0, 0, 0, 0, 0, 0, 0, 0, 0, 0, 0, 0, 0, 0, 0, 0, 0, 0, 0, 0, 0, 0, 0, 0, 0, 0, 0, 0, 0, 0, 0, 0, 0, 0, 0, 0, 0, 0, 0, 0, 0, 0, 0, 0, 0, 0, 0, 0, 0, 0, 0, 0, 0, 0, 0, 0, 0, 0, 0, 0, 0, 0, 0, 0, 0, 0, 0, 0, 0, 0, 0, 0, 0, 0, 0, 0, 0, 0, 0, 0, 0, 0, 0, 0, 0, 0, 0, 0, 0, 0, 0, 0, 0, 0, 0, 0, 0, 0, 0, 0, 0, 0, 0, 0, 0, 0, 0, 0, 0, 0, 0, 0, 0, 0, 0, 0, 0, 0, 0, 0, 0, 0, 0, 0, 0, 0, 0, 0, 0, 0, 0, 0, 0, 0, 0, 0, 0, 0, 0, 0, 0, 0, 0, 0, 0, 0, 0, 0, 0, 0, 0, 0, 0, 0, 0, 0, 0, 0, 0, 0, 0, 0, 0, 0, 0, 0, 0, 0, 0, 0, 0, 0, 0, 0, 0, 0, 0, 0, 0, 0, 0, 0, 0, 0, 0, 0, 0, 0, 0, 0, 0, 0, 0, 0, 0, 0, 0, 0, 0, 0, 0, 0, 0, 0, 0, 0, 0, 0, 0, 0, 0, 0, 0, 0, 0, 0, 0, 0, 0, 0, 0, 0, 0, 0, 0, 0, 0, 0, 0, 0, 0, 0, 0, 0, 0, 0, 0, 0, 0, 0, 0, 0, 0, 0, 0, 0, 0, 0, 0, 0, 0, 0, 0, 0, 0, 0, 0, 0, 0, 0, 0, 0, 0, 0, 0, 0, 0, 0, 0, 0, 0, 0, 0, 0, 0, 0, 0, 0, 0, 0, 0, 0, 0, 0, 0, 0, 0, 0, 0, 0, 0, 0, 0, 0, 0, 0, 0, 0, 0, 0, 0, 0, 0, 0, 0, 0, 0, 0, 0, 0, 0, 0, 0, 0, 0, 0, 0, 0, 0, 0, 0, 0, 0, 0, 0, 0, 0, 0, 0, 0, 0, 0, 0, 0, 0, 0, 0, 0, 0, 0, 0, 0, 0, 0, 0, 0, 0, 0, 0, 0, 0, 0, 0, 0, 0, 0, 0, 0, 0, 0, 0, 0, 0, 0, 0, 0, 0, 0, 0, 0, 0, 0, 0, 0, 0, 0, 0, 0, 0, 0, 0, 0, 0, 0, 0, 0, 0, 0, 0, 1, 0, 0, 0, 0, 0, 0, 0, 0, 0, 0, 0, 0, 0, 0, 0, 0, 0, 0, 0, 0, 0, 0, 0, 0, 0, 0, 0, 0, 0, 0, 0, 0, 0, 0, 0, 2, 0, 0, 0, 0, 0, 0, 0, 0, 0, 0, 0, 0, 0, 0, 0, 0, 0, 0, 0, 0, 0, 0, 0, 0, 0, 0, 0, 0, 0, 0, 0, 0, 0, 0, 0, 0, 0, 0, 0, 0, 1, 0, 0, 0, 0, 0, 0, 0, 0, 0, 0, 0, 0, 0, 0, 0, 0, 0, 0, 0, 0, 0, 0, 0, 0, 0, 0, 0, 0, 0, 0, 0, 0, 0, 0, 0, 0, 0, 0, 0, 0, 0, 0, 0, 0, 0, 0, 0, 0, 0, 0, 0, 0, 0, 0, 0, 0, 0, 0, 0, 0, 0, 0, 0, 0, 0, 0, 0, 0, 0, 0, 0, 0, 0, 0, 0, 0, 0, 0, 0, 0, 0, 0, 0, 0, 0, 0, 0, 0, 0, 0, 0, 0, 0, 0, 0, 0, 0, 0, 0, 0, 0, 0, 0, 0, 0, 0, 0, 0, 0, 0, 0, 0, 0, 0, 0, 0, 0, 0, 0, 0, 0, 0, 0, 0, 0, 0, 0, 0, 0, 0, 0, 0, 0, 0, 0, 0, 0, 0, 0, 0, 0, 0, 0, 0, 0, 0, 0, 0, 0, 0, 0, 0, 0, 0, 0, 0, 0, 0, 0, 0, 0, 0, 0, 0, 0, 0, 0, 0, 0, 0, 0, 0, 0, 0, 0, 0, 0, 0, 0, 0, 0, 0, 0, 0, 0, 0, 0, 0, 0, 0, 0, 0, 0, 0, 0, 0, 0, 0, 0, 0, 0, 0, 0, 0, 0, 0, 0, 0, 0, 0, 0, 0, 0, 0, 0, 0, 0, 0, 0, 0, 0, 0, 0, 0, 0, 0, 0, 0, 0, 0, 0, 0, 0, 0, 0, 0, 0, 0, 0, 0, 0, 0, 0, 0, 0, 0, 0, 0, 0, 0, 0, 0, 0, 0, 0, 0, 0, 0, 0, 0, 0, 0, 0, 0, 0, 0, 0, 0, 0, 0, 0, 0, 0, 0, 0, 0, 0, 0, 0, 0, 0, 0, 0, 0, 0, 0, 0, 0, 0, 0, 0, 0, 0, 0, 0, 0, 0, 0, 0, 0, 0, 0, 0, 0, 0, 0, 0, 0, 0, 0, 0, 0, 0, 0, 0, 0, 0, 0, 0, 0, 0, 0, 0, 0, 0, 0, 0, 0, 0, 0, 0, 0, 0, 0, 0, 0, 0, 0, 0, 0, 0, 0, 0, 0, 0, 0, 0, 0, 0, 0, 0, 0, 0, 0, 0, 0, 0, 0, 0, 0, 0, 0, 0, 0, 0, 0, 0, 0, 0, 0, 0, 0, 0, 0, 0, 0, 0, 0, 0, 0, 0, 0, 0, 0, 0, 0, 0, 0, 0, 0, 0, 0, 0, 0, 0, 0, 0, 0, 0, 0, 0, 0, 0, 0, 0, 0, 0, 0, 0, 0, 0, 0, 0, 0, 0, 0, 0, 0, 0, 0, 0, 0, 0, 0, 0, 0, 0, 0, 0, 0, 0, 0, 0, 0, 0, 0, 0, 0, 0, 0, 0, 0, 0, 0, 0, 0, 0, 0, 0, 0, 0, 0, 0, 0, 0, 0, 0, 0, 0, 0, 0, 0, 0, 0, 0, 0, 0, 0, 0, 0, 0, 0, 0, 0, 0, 0, 0, 0, 0, 0, 0, 0, 0, 0, 0, 0, 0, 0, 0, 0, 0, 0, 0, 0, 0, 0, 0, 1, 0, 0, 0, 0, 0, 0, 0, 0, 0, 0, 0, 0, 0, 0, 0, 0, 0, 0, 0, 0, 0, 0, 0, 0, 0, 0, 0, 0, 0, 0, 0, 0, 0, 0, 0, 0, 0, 0, 0, 0, 0, 0, 0, 0, 0, 0, 0, 0, 0, 0, 0, 0, 0, 0, 0, 0, 0, 0, 0, 0, 0, 0, 0, 0, 0, 0, 0, 0, 0, 0, 0, 0, 0, 0, 0, 0, 0, 0, 0, 0, 0, 0, 0, 0, 0, 0, 0, 0, 0, 0, 0, 0, 0, 0, 0, 0, 0, 0, 0, 0, 0, 0, 0, 0, 0, 0, 0, 0, 0, 0, 2, 0, 0, 0, 0, 0, 0, 0, 0, 0, 0, 0, 0, 0, 0, 0, 0, 0, 0, 0, 0, 0, 0, 0, 0, 0, 0, 0, 0, 0, 0, 0, 0, 0, 0, 0, 0, 0, 0, 0, 0, 0, 0, 0, 0, 0, 0, 0, 0, 0, 0, 0, 0, 0, 0, 0, 0, 0, 0, 0, 0, 0, 0, 0, 0, 0, 0, 0, 0, 0, 0, 0, 0, 0, 0, 0, 0, 0, 0, 0, 0, 0, 0, 0, 0, 0, 0, 0, 0, 0, 0, 0, 0, 0, 0, 0, 0, 0, 0, 0, 0, 0, 0, 0, 0, 0, 0, 0, 0, 0, 0, 0, 0, 0, 0, 0, 0, 0, 0, 0, 0, 0, 0, 0, 0, 0, 0, 0, 0, 0, 0, 0, 0, 0, 0, 0, 0, 0, 0, 0, 0, 0, 0, 0, 0, 0, 0, 0, 0, 0, 0, 0, 0, 0, 0, 0, 0, 0, 0, 0, 0, 0, 0, 0, 0, 0, 0, 0, 0, 0, 0, 0, 0, 0, 0, 0, 0, 0, 0, 0, 0, 0, 0, 0, 0, 0, 0, 0, 0, 0, 0, 0, 0, 0, 0, 0, 0, 0, 0, 0, 0, 0, 0, 0, 0, 0, 0, 0, 0, 0, 0, 0, 0, 0, 0, 0, 0, 0, 0, 0, 0, 0, 0, 0, 0, 0, 0, 0, 0, 0, 0, 0, 0, 0, 0, 0, 0, 0, 0, 0, 0, 0, 0, 0, 0, 0, 0, 0, 0, 0, 0, 0, 0, 0, 0, 0, 0, 0, 0, 0, 0, 0, 0, 0, 0, 0, 0, 0, 0, 0, 0, 0, 0, 0, 0, 0, 0, 0, 0, 0, 0, 0, 0, 0, 0, 0, 0, 0, 0, 0, 0, 0, 0, 0, 0, 0, 0, 0, 0, 0, 0, 0, 0, 0, 0, 0, 0, 0, 0, 0, 0, 0, 0, 0, 0, 0, 0, 0, 0, 0, 0, 0, 0, 0, 0, 0, 0, 0, 0, 0, 0, 0, 0, 0, 0, 0, 0, 0, 0, 0, 0, 0, 0, 0, 0, 0, 0, 0, 0, 0, 0, 0, 0, 0, 0, 0, 0, 0, 0, 0, 0, 0, 0, 0, 0, 0, 0, 0, 0, 0, 0, 0, 0, 0, 0, 0, 0, 0, 0, 0, 0, 0, 0, 0, 0, 0, 0, 0, 0, 0, 0, 0, 0, 0, 0, 0, 0, 0, 0, 0, 0, 0, 0, 0, 0, 0, 0, 0, 0, 0, 0, 0, 0, 0, 0, 0, 0, 0, 0, 0, 0, 0, 0, 0, 0, 0, 0, 0, 0, 0, 0, 0, 0, 0, 0, 0, 0, 0, 0, 0, 0, 0, 0, 0, 0, 0, 0, 0, 0, 0, 0, 0, 0, 0, 0, 0, 0, 0, 0, 0, 0, 0, 0, 0, 0, 0, 0, 0, 0, 0, 0, 0, 0, 0, 0, 0, 0, 0, 0, 0, 0, 0, 0, 0, 0, 0, 0, 0, 0, 0, 0, 0, 0, 0, 0, 0, 0, 0, 0, 0, 0, 0, 0, 0, 0, 0, 0, 0, 0, 0, 0, 0, 0, 0, 0, 0, 0, 0, 0, 0, 0, 0, 0, 0, 0, 0, 0, 0, 0, 0, 0, 0, 0, 0, 0, 0, 0, 0, 0, 0, 0, 0, 0, 0, 0, 0, 0, 0, 0, 0, 0, 0, 0, 0, 0, 0, 0, 0, 0, 0, 0, 0, 0, 0, 0, 0, 0, 0, 0, 0, 0, 0, 0, 0, 0, 0, 0, 0, 0, 0, 0, 0, 0, 0, 0, 0, 0, 0, 0, 0, 0, 0, 0, 0, 0, 0, 0, 0, 0, 0, 0, 0, 0, 0, 0, 0, 0, 0, 0, 0, 0, 0, 0, 0, 0, 0, 0, 0, 0, 0, 0, 0, 0, 0, 0, 0, 0, 0, 0, 0, 0, 0, 0, 0, 0, 0, 0, 0, 0, 0, 0, 0, 0, 0, 0, 0, 0, 0, 0, 0, 0, 0, 0, 0, 0, 0, 0, 0, 0, 0, 0, 0, 0, 0, 0, 0, 0, 0, 0, 0, 0, 0, 0, 0, 0, 0, 0, 0, 0, 0, 0, 0, 0, 0, 0, 0, 0, 0, 0, 0, 0, 1, 0, 0, 0, 0, 0, 0, 0, 0, 0, 0, 0, 0, 0, 0, 0, 0, 0, 0, 0, 0, 0, 0, 0, 0, 0, 0, 0, 0, 0, 0, 0, 0, 0, 0, 0, 0, 0, 0, 0, 0, 0, 0, 0, 0, 0, 0, 0, 0, 0, 0, 0, 0, 0, 0, 0, 0, 0, 0, 0, 0, 0, 0, 0, 0, 0, 0, 0, 0, 0, 0, 0, 0, 0, 0, 0, 0, 0, 0, 0, 0, 0, 0, 0, 0, 0, 0, 0, 0, 0, 0, 0, 0, 0, 0, 0, 0, 0, 0, 0, 0, 0, 0, 0, 0, 0, 0, 0, 1, 0, 0, 0, 0, 0, 0, 0, 0, 0, 0, 0, 0, 0, 0, 0, 0, 0, 0, 0, 0, 0, 0, 0, 0, 0, 0, 0, 0, 0, 0, 0, 0, 0, 0, 0, 0, 0, 0, 0, 0, 0, 0, 0, 0, 0, 0, 0, 0, 0, 0, 0, 0, 0, 0, 0, 0, 0, 0, 0, 0, 0, 0, 0, 0, 0, 0, 0, 0, 0, 0, 0, 0, 0, 0, 0, 0, 0, 0, 0, 0, 0, 0, 0, 0, 0, 0, 0, 0, 0, 0, 0, 0, 0, 0, 0, 0, 0, 0, 0, 0, 0, 0, 0, 0, 0, 0, 0, 0, 0, 0, 0, 0, 0, 0, 0, 0, 0, 0, 0, 0, 0, 0, 0, 0, 0, 0, 0, 0, 0, 0, 0, 0, 0, 0, 0, 0, 0, 0, 0, 0, 0, 0, 0, 0, 0, 0, 0, 0, 0, 0, 0, 0, 0, 0, 0, 0, 0, 0, 0, 0, 0, 0, 0, 0, 0, 0, 0, 0, 0, 0, 0, 0, 0, 0, 0, 0, 0, 0, 0, 0, 0, 0, 0, 0, 0, 0, 0, 0, 0, 0, 0, 0, 0, 0, 0, 0, 0, 0, 0, 0, 0, 0, 0, 0, 0, 0, 0, 0, 0, 0, 0, 0, 0, 0, 0, 0, 0, 0, 0, 0, 0, 0, 0, 0, 0, 0, 0, 0, 0, 0, 0, 0, 0, 0, 0, 0, 0, 0, 0, 0, 0, 0, 0, 0, 0, 0, 0, 0, 0, 0, 0, 0, 0, 0, 0, 0, 0, 0, 0, 0, 0, 0, 0, 0, 0, 0, 0, 0, 0, 0, 0, 0, 0, 0, 0, 0, 0, 0, 0, 0, 0, 0, 0, 0, 0, 0, 0, 0, 0, 0, 0, 0, 0, 0, 0, 0, 0, 0, 0, 0, 0, 0, 0, 0, 0, 0, 0, 0, 0, 0, 0, 0, 0, 0, 0, 0, 0, 0, 0, 0, 0, 0, 0, 0, 0, 0, 0, 0, 0, 0, 0, 0, 0, 0, 0, 0, 0, 0, 0, 0, 0, 0, 0, 0, 0, 0, 0, 0, 0, 0, 0, 0, 0, 0, 0, 0, 0, 0, 0, 0, 0, 0, 0, 0, 0, 0, 0, 0, 0, 0, 0, 0, 0, 0, 0, 0, 0, 0, 0, 0, 0, 0, 0, 0, 0, 0, 0, 0, 0, 0, 0, 0, 0, 0, 0, 0, 0, 0, 0, 0, 0, 0, 0, 0, 0, 0, 0, 0, 0, 0, 0, 0, 0, 0, 0, 0, 0, 0, 0, 0, 0, 0, 0, 0, 0, 0, 0, 0, 0, 0, 0, 0, 0, 0, 0, 0, 0, 0, 0, 0, 0, 0, 0, 0, 0, 0, 0, 0, 0, 0, 0, 0, 0, 0, 0, 0, 0, 0, 0, 0, 0, 0, 0, 2, 0, 1, 0], type: <class 'list'>, valid types: <class 'bytes'>, <class 'bytearray'>, file-like object",
     "output_type": "error",
     "traceback": [
      "\u001B[0;31m---------------------------------------------------------------------------\u001B[0m",
      "\u001B[0;31mParamValidationError\u001B[0m                      Traceback (most recent call last)",
      "\u001B[0;32m<ipython-input-45-c9ab54ae3a48>\u001B[0m in \u001B[0;36m<module>\u001B[0;34m\u001B[0m\n\u001B[1;32m      1\u001B[0m response = runtime.invoke_endpoint(EndpointName = xgb_predictor.endpoint, # The name of the endpoint we created\n\u001B[1;32m      2\u001B[0m                                        \u001B[0mContentType\u001B[0m \u001B[0;34m=\u001B[0m \u001B[0;34m'text/csv'\u001B[0m\u001B[0;34m,\u001B[0m                     \u001B[0;31m# The data format that is expected\u001B[0m\u001B[0;34m\u001B[0m\u001B[0;34m\u001B[0m\u001B[0m\n\u001B[0;32m----> 3\u001B[0;31m                                        Body = test_bow)\n\u001B[0m",
      "\u001B[0;32m~/anaconda3/envs/python3/lib/python3.6/site-packages/botocore/client.py\u001B[0m in \u001B[0;36m_api_call\u001B[0;34m(self, *args, **kwargs)\u001B[0m\n\u001B[1;32m    314\u001B[0m                     \"%s() only accepts keyword arguments.\" % py_operation_name)\n\u001B[1;32m    315\u001B[0m             \u001B[0;31m# The \"self\" in this scope is referring to the BaseClient.\u001B[0m\u001B[0;34m\u001B[0m\u001B[0;34m\u001B[0m\u001B[0;34m\u001B[0m\u001B[0m\n\u001B[0;32m--> 316\u001B[0;31m             \u001B[0;32mreturn\u001B[0m \u001B[0mself\u001B[0m\u001B[0;34m.\u001B[0m\u001B[0m_make_api_call\u001B[0m\u001B[0;34m(\u001B[0m\u001B[0moperation_name\u001B[0m\u001B[0;34m,\u001B[0m \u001B[0mkwargs\u001B[0m\u001B[0;34m)\u001B[0m\u001B[0;34m\u001B[0m\u001B[0;34m\u001B[0m\u001B[0m\n\u001B[0m\u001B[1;32m    317\u001B[0m \u001B[0;34m\u001B[0m\u001B[0m\n\u001B[1;32m    318\u001B[0m         \u001B[0m_api_call\u001B[0m\u001B[0;34m.\u001B[0m\u001B[0m__name__\u001B[0m \u001B[0;34m=\u001B[0m \u001B[0mstr\u001B[0m\u001B[0;34m(\u001B[0m\u001B[0mpy_operation_name\u001B[0m\u001B[0;34m)\u001B[0m\u001B[0;34m\u001B[0m\u001B[0;34m\u001B[0m\u001B[0m\n",
      "\u001B[0;32m~/anaconda3/envs/python3/lib/python3.6/site-packages/botocore/client.py\u001B[0m in \u001B[0;36m_make_api_call\u001B[0;34m(self, operation_name, api_params)\u001B[0m\n\u001B[1;32m    606\u001B[0m         }\n\u001B[1;32m    607\u001B[0m         request_dict = self._convert_to_request_dict(\n\u001B[0;32m--> 608\u001B[0;31m             api_params, operation_model, context=request_context)\n\u001B[0m\u001B[1;32m    609\u001B[0m \u001B[0;34m\u001B[0m\u001B[0m\n\u001B[1;32m    610\u001B[0m         \u001B[0mservice_id\u001B[0m \u001B[0;34m=\u001B[0m \u001B[0mself\u001B[0m\u001B[0;34m.\u001B[0m\u001B[0m_service_model\u001B[0m\u001B[0;34m.\u001B[0m\u001B[0mservice_id\u001B[0m\u001B[0;34m.\u001B[0m\u001B[0mhyphenize\u001B[0m\u001B[0;34m(\u001B[0m\u001B[0;34m)\u001B[0m\u001B[0;34m\u001B[0m\u001B[0;34m\u001B[0m\u001B[0m\n",
      "\u001B[0;32m~/anaconda3/envs/python3/lib/python3.6/site-packages/botocore/client.py\u001B[0m in \u001B[0;36m_convert_to_request_dict\u001B[0;34m(self, api_params, operation_model, context)\u001B[0m\n\u001B[1;32m    654\u001B[0m             api_params, operation_model, context)\n\u001B[1;32m    655\u001B[0m         request_dict = self._serializer.serialize_to_request(\n\u001B[0;32m--> 656\u001B[0;31m             api_params, operation_model)\n\u001B[0m\u001B[1;32m    657\u001B[0m         \u001B[0;32mif\u001B[0m \u001B[0;32mnot\u001B[0m \u001B[0mself\u001B[0m\u001B[0;34m.\u001B[0m\u001B[0m_client_config\u001B[0m\u001B[0;34m.\u001B[0m\u001B[0minject_host_prefix\u001B[0m\u001B[0;34m:\u001B[0m\u001B[0;34m\u001B[0m\u001B[0;34m\u001B[0m\u001B[0m\n\u001B[1;32m    658\u001B[0m             \u001B[0mrequest_dict\u001B[0m\u001B[0;34m.\u001B[0m\u001B[0mpop\u001B[0m\u001B[0;34m(\u001B[0m\u001B[0;34m'host_prefix'\u001B[0m\u001B[0;34m,\u001B[0m \u001B[0;32mNone\u001B[0m\u001B[0;34m)\u001B[0m\u001B[0;34m\u001B[0m\u001B[0;34m\u001B[0m\u001B[0m\n",
      "\u001B[0;32m~/anaconda3/envs/python3/lib/python3.6/site-packages/botocore/validate.py\u001B[0m in \u001B[0;36mserialize_to_request\u001B[0;34m(self, parameters, operation_model)\u001B[0m\n\u001B[1;32m    295\u001B[0m                                                     operation_model.input_shape)\n\u001B[1;32m    296\u001B[0m             \u001B[0;32mif\u001B[0m \u001B[0mreport\u001B[0m\u001B[0;34m.\u001B[0m\u001B[0mhas_errors\u001B[0m\u001B[0;34m(\u001B[0m\u001B[0;34m)\u001B[0m\u001B[0;34m:\u001B[0m\u001B[0;34m\u001B[0m\u001B[0;34m\u001B[0m\u001B[0m\n\u001B[0;32m--> 297\u001B[0;31m                 \u001B[0;32mraise\u001B[0m \u001B[0mParamValidationError\u001B[0m\u001B[0;34m(\u001B[0m\u001B[0mreport\u001B[0m\u001B[0;34m=\u001B[0m\u001B[0mreport\u001B[0m\u001B[0;34m.\u001B[0m\u001B[0mgenerate_report\u001B[0m\u001B[0;34m(\u001B[0m\u001B[0;34m)\u001B[0m\u001B[0;34m)\u001B[0m\u001B[0;34m\u001B[0m\u001B[0;34m\u001B[0m\u001B[0m\n\u001B[0m\u001B[1;32m    298\u001B[0m         return self._serializer.serialize_to_request(parameters,\n\u001B[1;32m    299\u001B[0m                                                      operation_model)\n",
      "\u001B[0;31mParamValidationError\u001B[0m: Parameter validation failed:\nInvalid type for parameter Body, value: [0, 0, 0, 0, 0, 0, 0, 0, 0, 0, 0, 0, 0, 0, 0, 0, 0, 0, 0, 0, 0, 0, 0, 0, 0, 0, 0, 0, 0, 0, 0, 0, 0, 0, 0, 0, 0, 0, 0, 0, 0, 0, 0, 0, 0, 0, 0, 0, 0, 0, 0, 0, 0, 0, 0, 0, 0, 0, 0, 0, 0, 0, 0, 0, 0, 0, 0, 0, 0, 0, 0, 0, 0, 0, 0, 0, 0, 0, 0, 0, 0, 0, 0, 0, 0, 0, 0, 0, 0, 0, 0, 0, 0, 0, 0, 0, 0, 0, 0, 0, 0, 0, 0, 0, 0, 0, 0, 0, 0, 0, 0, 0, 0, 0, 0, 0, 0, 0, 0, 0, 0, 0, 0, 0, 0, 0, 0, 0, 0, 0, 0, 0, 0, 0, 0, 0, 0, 0, 0, 0, 0, 0, 0, 0, 0, 0, 0, 0, 0, 0, 0, 0, 0, 0, 0, 0, 0, 0, 0, 0, 0, 0, 0, 0, 0, 0, 0, 0, 0, 0, 0, 0, 0, 0, 0, 0, 0, 0, 0, 0, 0, 0, 0, 0, 0, 0, 0, 0, 0, 0, 0, 0, 0, 0, 0, 0, 0, 0, 0, 0, 0, 0, 0, 0, 0, 0, 0, 0, 0, 0, 0, 0, 0, 0, 0, 0, 0, 0, 0, 0, 0, 0, 0, 0, 0, 0, 1, 0, 0, 0, 0, 0, 0, 0, 0, 0, 0, 0, 0, 0, 0, 0, 0, 0, 0, 0, 0, 0, 0, 0, 0, 0, 0, 0, 0, 0, 1, 0, 0, 0, 0, 0, 0, 0, 0, 0, 0, 0, 0, 0, 0, 0, 0, 0, 0, 0, 0, 0, 0, 0, 0, 0, 0, 0, 0, 0, 0, 0, 0, 0, 0, 0, 0, 0, 0, 0, 0, 0, 0, 0, 0, 0, 0, 0, 0, 0, 0, 0, 0, 0, 0, 0, 0, 0, 0, 0, 0, 0, 0, 0, 0, 0, 0, 0, 0, 0, 0, 0, 0, 0, 0, 0, 0, 0, 0, 0, 0, 0, 0, 0, 0, 0, 0, 0, 0, 0, 0, 0, 0, 0, 0, 0, 0, 0, 0, 0, 0, 0, 0, 0, 0, 0, 0, 0, 0, 0, 0, 0, 0, 0, 0, 0, 0, 0, 0, 0, 0, 0, 0, 0, 0, 0, 0, 0, 0, 0, 0, 0, 0, 0, 0, 0, 0, 0, 0, 0, 0, 0, 0, 0, 0, 0, 0, 0, 0, 0, 0, 0, 0, 0, 0, 0, 0, 0, 0, 0, 0, 0, 0, 0, 0, 0, 0, 0, 0, 0, 0, 0, 0, 0, 0, 0, 0, 0, 0, 0, 0, 0, 0, 0, 0, 0, 0, 0, 0, 0, 0, 0, 0, 0, 0, 0, 0, 0, 0, 0, 0, 0, 0, 0, 0, 0, 0, 0, 0, 0, 0, 0, 0, 0, 0, 0, 0, 0, 0, 0, 0, 0, 0, 0, 0, 0, 0, 0, 0, 0, 0, 0, 0, 0, 0, 0, 0, 0, 0, 0, 0, 0, 0, 0, 0, 0, 0, 0, 0, 0, 0, 0, 0, 0, 0, 0, 0, 0, 0, 0, 0, 0, 0, 0, 0, 0, 0, 0, 0, 0, 0, 0, 0, 0, 0, 0, 0, 0, 0, 0, 0, 0, 0, 0, 0, 0, 0, 0, 0, 0, 0, 0, 0, 0, 0, 0, 0, 0, 0, 0, 0, 0, 0, 0, 0, 0, 0, 0, 0, 0, 0, 0, 0, 0, 0, 0, 0, 0, 0, 0, 0, 0, 0, 0, 0, 0, 0, 0, 0, 0, 0, 0, 0, 0, 0, 0, 0, 0, 0, 0, 0, 0, 0, 0, 0, 0, 0, 0, 0, 0, 0, 0, 0, 0, 0, 0, 0, 0, 0, 0, 0, 0, 0, 0, 0, 0, 0, 0, 0, 0, 0, 0, 0, 0, 0, 0, 0, 0, 0, 0, 1, 0, 0, 0, 0, 0, 0, 0, 0, 0, 0, 0, 0, 0, 0, 0, 0, 0, 0, 0, 0, 0, 0, 0, 0, 0, 0, 0, 0, 0, 0, 0, 0, 0, 0, 0, 0, 0, 0, 0, 0, 0, 0, 0, 0, 0, 0, 0, 0, 0, 0, 0, 0, 0, 0, 0, 0, 0, 0, 0, 0, 0, 0, 0, 0, 0, 0, 0, 0, 0, 0, 0, 0, 0, 0, 0, 0, 0, 0, 0, 0, 0, 0, 0, 0, 0, 0, 0, 0, 0, 0, 0, 0, 0, 0, 0, 0, 0, 0, 0, 0, 0, 0, 0, 0, 0, 0, 0, 0, 0, 0, 0, 0, 0, 0, 0, 0, 0, 0, 0, 0, 0, 0, 0, 0, 0, 0, 0, 0, 0, 0, 0, 0, 0, 0, 0, 0, 0, 0, 0, 0, 0, 0, 0, 0, 0, 0, 0, 0, 0, 0, 0, 0, 0, 0, 0, 0, 0, 0, 0, 0, 0, 0, 0, 0, 0, 0, 0, 0, 0, 0, 0, 0, 0, 0, 0, 0, 0, 0, 0, 0, 0, 0, 0, 0, 0, 0, 0, 0, 0, 0, 0, 0, 0, 0, 0, 0, 0, 0, 0, 0, 0, 0, 0, 0, 0, 0, 0, 0, 0, 0, 0, 0, 0, 0, 0, 0, 0, 0, 0, 0, 0, 0, 0, 0, 0, 0, 0, 0, 0, 0, 0, 0, 0, 0, 0, 0, 0, 0, 0, 0, 0, 0, 0, 0, 0, 0, 0, 0, 0, 0, 0, 0, 0, 1, 0, 0, 0, 0, 0, 0, 0, 0, 0, 0, 0, 0, 0, 0, 0, 0, 0, 0, 0, 0, 0, 0, 0, 0, 0, 0, 0, 0, 0, 0, 0, 0, 0, 0, 0, 0, 0, 0, 0, 0, 0, 0, 0, 0, 0, 0, 0, 0, 0, 0, 0, 0, 0, 0, 0, 0, 0, 0, 0, 0, 0, 0, 0, 0, 0, 0, 0, 0, 0, 0, 0, 0, 0, 0, 0, 0, 0, 0, 0, 0, 0, 0, 0, 0, 0, 0, 1, 0, 0, 0, 0, 0, 0, 0, 0, 0, 0, 0, 0, 0, 0, 0, 0, 0, 0, 0, 0, 0, 0, 0, 0, 0, 0, 0, 0, 0, 0, 0, 0, 0, 0, 0, 0, 0, 0, 0, 0, 0, 0, 0, 0, 0, 0, 0, 0, 0, 0, 0, 0, 0, 0, 0, 0, 0, 0, 0, 0, 0, 0, 0, 0, 0, 0, 0, 0, 0, 0, 0, 0, 0, 0, 0, 0, 0, 0, 0, 0, 0, 0, 0, 0, 0, 0, 0, 0, 0, 0, 0, 0, 0, 0, 0, 0, 0, 0, 0, 0, 0, 0, 0, 0, 0, 0, 0, 0, 0, 0, 0, 0, 0, 0, 0, 0, 0, 0, 0, 0, 0, 0, 0, 0, 0, 0, 0, 0, 0, 0, 0, 0, 0, 0, 0, 0, 0, 0, 0, 0, 0, 0, 0, 0, 0, 0, 0, 0, 0, 0, 0, 0, 0, 0, 0, 0, 0, 0, 0, 0, 0, 0, 0, 0, 0, 0, 0, 0, 0, 0, 0, 0, 0, 0, 0, 0, 0, 0, 0, 0, 0, 0, 0, 0, 0, 0, 0, 0, 0, 0, 0, 0, 0, 0, 0, 0, 0, 0, 0, 0, 0, 0, 0, 0, 0, 0, 0, 0, 0, 0, 0, 0, 0, 0, 0, 0, 0, 0, 0, 0, 0, 0, 0, 0, 0, 0, 0, 0, 0, 0, 0, 0, 0, 0, 0, 0, 0, 0, 0, 0, 0, 0, 0, 0, 0, 0, 0, 0, 0, 0, 0, 0, 1, 0, 0, 0, 0, 0, 0, 0, 0, 0, 0, 0, 0, 0, 0, 0, 0, 0, 0, 0, 0, 0, 0, 0, 0, 0, 0, 0, 0, 0, 0, 0, 0, 0, 0, 0, 0, 0, 0, 0, 0, 0, 0, 0, 0, 0, 0, 0, 0, 0, 0, 0, 0, 0, 0, 0, 1, 0, 0, 0, 0, 0, 0, 0, 0, 0, 0, 0, 0, 0, 0, 0, 0, 0, 0, 0, 0, 0, 0, 0, 0, 0, 0, 0, 0, 0, 0, 0, 0, 0, 0, 0, 0, 0, 0, 0, 0, 0, 0, 0, 0, 0, 0, 0, 0, 0, 0, 0, 0, 0, 0, 0, 0, 0, 0, 0, 0, 0, 0, 0, 0, 0, 0, 0, 0, 0, 0, 0, 0, 0, 0, 0, 0, 0, 0, 0, 0, 0, 0, 0, 0, 0, 0, 0, 0, 0, 0, 0, 0, 0, 0, 0, 0, 0, 0, 0, 0, 0, 0, 0, 0, 0, 0, 0, 0, 0, 0, 0, 0, 0, 0, 0, 0, 0, 0, 0, 0, 0, 0, 0, 0, 0, 0, 0, 0, 0, 0, 0, 0, 0, 0, 0, 0, 0, 0, 0, 0, 0, 0, 0, 0, 0, 0, 0, 0, 0, 0, 0, 0, 0, 0, 0, 0, 0, 0, 0, 0, 0, 0, 0, 0, 0, 0, 0, 0, 0, 0, 0, 0, 0, 0, 0, 0, 0, 0, 0, 0, 0, 0, 0, 0, 0, 0, 0, 0, 0, 0, 0, 0, 0, 0, 0, 0, 0, 0, 0, 0, 0, 0, 0, 0, 0, 0, 0, 0, 0, 0, 0, 0, 0, 0, 0, 0, 0, 0, 0, 0, 0, 0, 0, 0, 0, 0, 0, 0, 0, 0, 0, 0, 0, 0, 0, 0, 0, 0, 0, 0, 0, 0, 0, 0, 0, 0, 0, 0, 0, 0, 0, 0, 0, 0, 0, 0, 0, 0, 0, 0, 0, 0, 0, 0, 0, 0, 0, 0, 0, 0, 0, 0, 0, 0, 0, 0, 0, 0, 0, 0, 0, 0, 0, 0, 0, 0, 0, 0, 0, 0, 0, 0, 0, 0, 0, 0, 0, 0, 0, 0, 0, 0, 0, 0, 0, 0, 0, 0, 0, 0, 0, 0, 0, 0, 0, 0, 0, 0, 0, 0, 0, 0, 0, 0, 0, 0, 0, 0, 0, 0, 0, 0, 0, 0, 0, 0, 0, 0, 0, 0, 0, 0, 0, 0, 0, 0, 0, 0, 0, 0, 0, 0, 0, 0, 0, 0, 0, 0, 0, 0, 0, 0, 0, 0, 0, 0, 0, 0, 0, 0, 0, 0, 0, 0, 0, 0, 0, 0, 0, 0, 0, 0, 0, 0, 0, 0, 0, 0, 0, 0, 0, 0, 0, 0, 0, 0, 0, 0, 0, 0, 0, 0, 0, 0, 0, 0, 0, 0, 0, 0, 0, 0, 0, 0, 0, 0, 0, 0, 0, 0, 0, 0, 0, 0, 0, 0, 0, 0, 0, 0, 0, 0, 0, 0, 0, 0, 0, 0, 0, 0, 0, 0, 0, 0, 0, 0, 0, 0, 0, 0, 0, 0, 0, 0, 0, 0, 0, 0, 0, 0, 0, 0, 0, 0, 0, 0, 0, 0, 0, 0, 0, 0, 0, 0, 0, 0, 0, 0, 0, 0, 0, 0, 0, 0, 0, 0, 0, 0, 0, 0, 0, 0, 0, 0, 0, 0, 0, 0, 0, 0, 0, 0, 0, 0, 0, 0, 0, 0, 0, 0, 0, 0, 0, 0, 0, 0, 0, 0, 0, 0, 0, 0, 0, 0, 0, 0, 0, 0, 0, 0, 0, 0, 0, 0, 0, 0, 0, 0, 0, 0, 0, 0, 0, 0, 0, 0, 0, 0, 0, 0, 0, 0, 0, 0, 0, 0, 0, 0, 0, 0, 0, 0, 0, 0, 0, 0, 0, 0, 0, 0, 0, 0, 0, 0, 0, 0, 0, 0, 0, 0, 0, 0, 0, 0, 0, 0, 0, 0, 0, 0, 0, 0, 0, 0, 0, 0, 0, 0, 0, 0, 0, 0, 0, 0, 0, 0, 0, 0, 0, 0, 0, 0, 0, 0, 0, 0, 0, 0, 0, 0, 0, 0, 0, 0, 0, 0, 0, 0, 0, 0, 0, 0, 0, 0, 0, 0, 0, 0, 0, 0, 0, 0, 0, 0, 0, 0, 0, 0, 0, 0, 0, 0, 0, 0, 0, 0, 0, 0, 0, 0, 0, 0, 0, 0, 0, 0, 0, 0, 0, 0, 0, 0, 0, 0, 0, 0, 0, 0, 0, 0, 0, 1, 0, 0, 0, 0, 0, 0, 0, 0, 0, 0, 0, 0, 0, 0, 0, 0, 0, 0, 0, 0, 0, 0, 0, 0, 0, 0, 0, 0, 0, 0, 0, 0, 0, 0, 0, 0, 0, 0, 0, 0, 0, 0, 0, 0, 0, 0, 0, 0, 0, 0, 0, 0, 0, 0, 0, 0, 0, 0, 0, 0, 0, 0, 0, 0, 0, 0, 0, 0, 0, 0, 0, 0, 0, 0, 1, 0, 0, 0, 0, 0, 0, 0, 0, 0, 0, 0, 0, 0, 0, 0, 0, 0, 0, 0, 0, 1, 0, 0, 1, 0, 0, 0, 0, 0, 0, 0, 0, 0, 0, 0, 0, 0, 0, 0, 0, 0, 0, 0, 0, 0, 0, 0, 0, 0, 0, 0, 0, 0, 0, 0, 0, 0, 0, 0, 0, 0, 0, 0, 0, 0, 0, 0, 0, 0, 0, 0, 0, 0, 0, 0, 0, 0, 0, 0, 0, 0, 0, 0, 0, 0, 0, 0, 0, 0, 0, 0, 0, 0, 0, 0, 0, 0, 0, 0, 0, 0, 0, 0, 0, 0, 0, 0, 0, 0, 0, 0, 0, 0, 0, 0, 0, 0, 0, 0, 0, 0, 0, 0, 0, 0, 0, 0, 0, 0, 0, 0, 0, 0, 0, 0, 0, 0, 0, 0, 0, 0, 0, 0, 0, 0, 0, 0, 0, 0, 0, 0, 0, 0, 0, 0, 0, 0, 0, 0, 0, 0, 0, 0, 0, 0, 0, 0, 0, 0, 0, 0, 0, 0, 0, 0, 0, 0, 0, 0, 0, 0, 0, 0, 0, 0, 0, 0, 0, 0, 0, 0, 0, 0, 0, 0, 0, 0, 0, 0, 0, 0, 0, 0, 0, 0, 0, 0, 0, 0, 0, 0, 0, 0, 0, 0, 0, 0, 0, 0, 0, 0, 0, 0, 0, 0, 0, 0, 0, 0, 0, 0, 0, 0, 0, 0, 0, 0, 0, 0, 0, 0, 0, 0, 0, 0, 0, 0, 0, 0, 0, 0, 0, 0, 0, 0, 0, 0, 0, 0, 0, 0, 0, 0, 0, 0, 0, 0, 0, 0, 0, 0, 0, 0, 0, 0, 0, 0, 0, 0, 0, 0, 0, 0, 0, 0, 0, 0, 0, 0, 0, 0, 0, 0, 0, 0, 0, 0, 0, 0, 0, 0, 0, 0, 0, 0, 0, 0, 0, 0, 0, 0, 0, 0, 0, 0, 0, 0, 0, 0, 0, 0, 0, 0, 0, 0, 0, 0, 0, 0, 0, 0, 0, 0, 0, 0, 0, 0, 0, 0, 0, 0, 0, 0, 0, 0, 0, 0, 0, 0, 0, 0, 0, 0, 0, 0, 0, 0, 0, 0, 0, 0, 0, 0, 0, 0, 0, 0, 0, 0, 0, 0, 0, 0, 0, 0, 0, 0, 0, 0, 0, 0, 0, 0, 0, 0, 0, 0, 0, 0, 0, 0, 0, 0, 0, 0, 0, 0, 0, 0, 0, 0, 0, 0, 0, 0, 0, 0, 0, 0, 0, 0, 0, 0, 0, 0, 0, 0, 0, 0, 0, 0, 0, 0, 0, 0, 0, 0, 0, 0, 0, 0, 0, 0, 0, 0, 0, 0, 0, 0, 0, 0, 0, 0, 0, 0, 0, 0, 0, 0, 0, 0, 0, 0, 0, 0, 0, 0, 0, 0, 0, 0, 0, 0, 0, 0, 0, 0, 0, 0, 0, 0, 0, 0, 0, 0, 0, 0, 0, 0, 0, 0, 0, 0, 0, 0, 0, 0, 0, 0, 0, 1, 0, 0, 0, 0, 0, 0, 0, 0, 0, 0, 0, 0, 0, 0, 0, 0, 0, 0, 0, 0, 0, 0, 0, 0, 0, 0, 0, 0, 0, 0, 0, 0, 0, 0, 0, 0, 0, 0, 0, 0, 0, 0, 0, 0, 0, 0, 0, 0, 0, 0, 0, 0, 0, 0, 0, 0, 0, 0, 0, 0, 0, 0, 0, 0, 0, 0, 0, 0, 0, 0, 0, 0, 0, 0, 0, 0, 0, 0, 0, 0, 0, 0, 0, 0, 0, 0, 0, 0, 0, 0, 0, 0, 0, 0, 0, 0, 0, 0, 0, 0, 0, 0, 0, 0, 0, 0, 0, 0, 0, 0, 0, 0, 0, 0, 0, 0, 0, 0, 0, 0, 0, 0, 0, 0, 0, 0, 0, 0, 0, 0, 0, 0, 0, 0, 0, 0, 0, 0, 0, 0, 0, 0, 0, 0, 0, 0, 0, 0, 0, 0, 0, 0, 0, 0, 0, 0, 0, 0, 0, 0, 0, 0, 0, 0, 0, 0, 0, 0, 0, 0, 0, 0, 0, 0, 0, 0, 0, 0, 0, 0, 0, 0, 0, 0, 0, 0, 0, 0, 0, 0, 0, 0, 0, 0, 0, 0, 0, 0, 0, 0, 0, 0, 0, 0, 0, 0, 0, 0, 0, 0, 0, 0, 0, 0, 0, 0, 0, 0, 0, 0, 0, 0, 0, 0, 0, 0, 0, 0, 0, 0, 0, 0, 0, 0, 0, 0, 0, 0, 0, 0, 0, 0, 0, 0, 0, 0, 0, 0, 0, 0, 0, 0, 0, 0, 0, 0, 0, 0, 0, 0, 0, 0, 0, 0, 0, 0, 0, 0, 0, 0, 0, 0, 0, 0, 0, 0, 0, 0, 0, 0, 0, 0, 0, 0, 0, 0, 0, 0, 0, 0, 0, 0, 0, 0, 0, 0, 0, 0, 0, 0, 0, 0, 0, 0, 0, 0, 0, 0, 0, 0, 0, 0, 0, 0, 0, 0, 0, 0, 0, 0, 0, 0, 0, 0, 0, 0, 0, 0, 0, 0, 0, 0, 0, 0, 0, 0, 0, 0, 0, 0, 0, 0, 0, 0, 0, 0, 0, 0, 0, 0, 0, 0, 0, 0, 0, 0, 0, 0, 0, 0, 0, 0, 0, 0, 0, 0, 0, 0, 0, 0, 0, 0, 0, 0, 0, 0, 0, 0, 0, 0, 0, 0, 0, 0, 0, 0, 0, 0, 0, 0, 0, 0, 0, 0, 0, 0, 0, 0, 0, 0, 0, 0, 0, 0, 0, 0, 0, 0, 0, 0, 0, 0, 0, 0, 0, 0, 0, 0, 0, 0, 0, 0, 0, 0, 0, 0, 0, 0, 0, 0, 0, 0, 0, 0, 0, 0, 0, 0, 0, 0, 0, 0, 0, 0, 0, 0, 0, 0, 0, 0, 0, 0, 0, 0, 0, 0, 0, 0, 0, 0, 0, 0, 0, 0, 0, 0, 0, 0, 0, 0, 0, 0, 0, 0, 0, 0, 0, 0, 0, 0, 0, 0, 0, 0, 0, 0, 0, 0, 0, 0, 0, 0, 0, 0, 0, 0, 0, 0, 0, 0, 0, 0, 0, 0, 0, 0, 0, 0, 0, 0, 0, 0, 1, 0, 0, 0, 0, 0, 0, 0, 0, 0, 0, 0, 0, 0, 0, 0, 0, 0, 0, 0, 0, 0, 0, 0, 0, 0, 0, 0, 0, 0, 0, 0, 0, 0, 0, 0, 2, 0, 0, 0, 0, 0, 0, 0, 0, 0, 0, 0, 0, 0, 0, 0, 0, 0, 0, 0, 0, 0, 0, 0, 0, 0, 0, 0, 0, 0, 0, 0, 0, 0, 0, 0, 0, 0, 0, 0, 0, 1, 0, 0, 0, 0, 0, 0, 0, 0, 0, 0, 0, 0, 0, 0, 0, 0, 0, 0, 0, 0, 0, 0, 0, 0, 0, 0, 0, 0, 0, 0, 0, 0, 0, 0, 0, 0, 0, 0, 0, 0, 0, 0, 0, 0, 0, 0, 0, 0, 0, 0, 0, 0, 0, 0, 0, 0, 0, 0, 0, 0, 0, 0, 0, 0, 0, 0, 0, 0, 0, 0, 0, 0, 0, 0, 0, 0, 0, 0, 0, 0, 0, 0, 0, 0, 0, 0, 0, 0, 0, 0, 0, 0, 0, 0, 0, 0, 0, 0, 0, 0, 0, 0, 0, 0, 0, 0, 0, 0, 0, 0, 0, 0, 0, 0, 0, 0, 0, 0, 0, 0, 0, 0, 0, 0, 0, 0, 0, 0, 0, 0, 0, 0, 0, 0, 0, 0, 0, 0, 0, 0, 0, 0, 0, 0, 0, 0, 0, 0, 0, 0, 0, 0, 0, 0, 0, 0, 0, 0, 0, 0, 0, 0, 0, 0, 0, 0, 0, 0, 0, 0, 0, 0, 0, 0, 0, 0, 0, 0, 0, 0, 0, 0, 0, 0, 0, 0, 0, 0, 0, 0, 0, 0, 0, 0, 0, 0, 0, 0, 0, 0, 0, 0, 0, 0, 0, 0, 0, 0, 0, 0, 0, 0, 0, 0, 0, 0, 0, 0, 0, 0, 0, 0, 0, 0, 0, 0, 0, 0, 0, 0, 0, 0, 0, 0, 0, 0, 0, 0, 0, 0, 0, 0, 0, 0, 0, 0, 0, 0, 0, 0, 0, 0, 0, 0, 0, 0, 0, 0, 0, 0, 0, 0, 0, 0, 0, 0, 0, 0, 0, 0, 0, 0, 0, 0, 0, 0, 0, 0, 0, 0, 0, 0, 0, 0, 0, 0, 0, 0, 0, 0, 0, 0, 0, 0, 0, 0, 0, 0, 0, 0, 0, 0, 0, 0, 0, 0, 0, 0, 0, 0, 0, 0, 0, 0, 0, 0, 0, 0, 0, 0, 0, 0, 0, 0, 0, 0, 0, 0, 0, 0, 0, 0, 0, 0, 0, 0, 0, 0, 0, 0, 0, 0, 0, 0, 0, 0, 0, 0, 0, 0, 0, 0, 0, 0, 0, 0, 0, 0, 0, 0, 0, 0, 0, 0, 0, 0, 0, 0, 0, 0, 0, 0, 0, 0, 0, 0, 0, 0, 0, 0, 0, 0, 0, 0, 0, 0, 0, 0, 0, 0, 0, 0, 0, 0, 0, 0, 0, 0, 0, 0, 0, 0, 0, 0, 0, 0, 0, 0, 0, 0, 0, 0, 0, 0, 0, 0, 0, 0, 0, 0, 0, 0, 0, 0, 0, 0, 0, 0, 0, 0, 0, 0, 0, 0, 0, 0, 0, 0, 0, 0, 0, 0, 0, 0, 0, 0, 0, 0, 0, 0, 0, 0, 0, 0, 0, 0, 0, 0, 0, 0, 0, 0, 0, 0, 0, 0, 0, 0, 0, 0, 0, 0, 0, 0, 0, 0, 0, 0, 0, 0, 0, 0, 0, 0, 0, 0, 0, 0, 0, 0, 0, 0, 0, 0, 0, 0, 0, 1, 0, 0, 0, 0, 0, 0, 0, 0, 0, 0, 0, 0, 0, 0, 0, 0, 0, 0, 0, 0, 0, 0, 0, 0, 0, 0, 0, 0, 0, 0, 0, 0, 0, 0, 0, 0, 0, 0, 0, 0, 0, 0, 0, 0, 0, 0, 0, 0, 0, 0, 0, 0, 0, 0, 0, 0, 0, 0, 0, 0, 0, 0, 0, 0, 0, 0, 0, 0, 0, 0, 0, 0, 0, 0, 0, 0, 0, 0, 0, 0, 0, 0, 0, 0, 0, 0, 0, 0, 0, 0, 0, 0, 0, 0, 0, 0, 0, 0, 0, 0, 0, 0, 0, 0, 0, 0, 0, 0, 0, 0, 2, 0, 0, 0, 0, 0, 0, 0, 0, 0, 0, 0, 0, 0, 0, 0, 0, 0, 0, 0, 0, 0, 0, 0, 0, 0, 0, 0, 0, 0, 0, 0, 0, 0, 0, 0, 0, 0, 0, 0, 0, 0, 0, 0, 0, 0, 0, 0, 0, 0, 0, 0, 0, 0, 0, 0, 0, 0, 0, 0, 0, 0, 0, 0, 0, 0, 0, 0, 0, 0, 0, 0, 0, 0, 0, 0, 0, 0, 0, 0, 0, 0, 0, 0, 0, 0, 0, 0, 0, 0, 0, 0, 0, 0, 0, 0, 0, 0, 0, 0, 0, 0, 0, 0, 0, 0, 0, 0, 0, 0, 0, 0, 0, 0, 0, 0, 0, 0, 0, 0, 0, 0, 0, 0, 0, 0, 0, 0, 0, 0, 0, 0, 0, 0, 0, 0, 0, 0, 0, 0, 0, 0, 0, 0, 0, 0, 0, 0, 0, 0, 0, 0, 0, 0, 0, 0, 0, 0, 0, 0, 0, 0, 0, 0, 0, 0, 0, 0, 0, 0, 0, 0, 0, 0, 0, 0, 0, 0, 0, 0, 0, 0, 0, 0, 0, 0, 0, 0, 0, 0, 0, 0, 0, 0, 0, 0, 0, 0, 0, 0, 0, 0, 0, 0, 0, 0, 0, 0, 0, 0, 0, 0, 0, 0, 0, 0, 0, 0, 0, 0, 0, 0, 0, 0, 0, 0, 0, 0, 0, 0, 0, 0, 0, 0, 0, 0, 0, 0, 0, 0, 0, 0, 0, 0, 0, 0, 0, 0, 0, 0, 0, 0, 0, 0, 0, 0, 0, 0, 0, 0, 0, 0, 0, 0, 0, 0, 0, 0, 0, 0, 0, 0, 0, 0, 0, 0, 0, 0, 0, 0, 0, 0, 0, 0, 0, 0, 0, 0, 0, 0, 0, 0, 0, 0, 0, 0, 0, 0, 0, 0, 0, 0, 0, 0, 0, 0, 0, 0, 0, 0, 0, 0, 0, 0, 0, 0, 0, 0, 0, 0, 0, 0, 0, 0, 0, 0, 0, 0, 0, 0, 0, 0, 0, 0, 0, 0, 0, 0, 0, 0, 0, 0, 0, 0, 0, 0, 0, 0, 0, 0, 0, 0, 0, 0, 0, 0, 0, 0, 0, 0, 0, 0, 0, 0, 0, 0, 0, 0, 0, 0, 0, 0, 0, 0, 0, 0, 0, 0, 0, 0, 0, 0, 0, 0, 0, 0, 0, 0, 0, 0, 0, 0, 0, 0, 0, 0, 0, 0, 0, 0, 0, 0, 0, 0, 0, 0, 0, 0, 0, 0, 0, 0, 0, 0, 0, 0, 0, 0, 0, 0, 0, 0, 0, 0, 0, 0, 0, 0, 0, 0, 0, 0, 0, 0, 0, 0, 0, 0, 0, 0, 0, 0, 0, 0, 0, 0, 0, 0, 0, 0, 0, 0, 0, 0, 0, 0, 0, 0, 0, 0, 0, 0, 0, 0, 0, 0, 0, 0, 0, 0, 0, 0, 0, 0, 0, 0, 0, 0, 0, 0, 0, 0, 0, 0, 0, 0, 0, 0, 0, 0, 0, 0, 0, 0, 0, 0, 0, 0, 0, 0, 0, 0, 0, 0, 0, 0, 0, 0, 0, 0, 0, 0, 0, 0, 0, 0, 0, 0, 0, 0, 0, 0, 0, 0, 0, 0, 0, 0, 0, 0, 0, 0, 0, 0, 0, 0, 0, 0, 0, 0, 0, 0, 0, 0, 0, 0, 0, 0, 0, 0, 0, 0, 0, 0, 0, 0, 0, 0, 0, 0, 0, 0, 0, 0, 0, 0, 0, 0, 0, 0, 0, 0, 0, 0, 0, 0, 0, 0, 0, 0, 0, 0, 0, 0, 0, 0, 0, 0, 0, 0, 0, 0, 0, 0, 0, 0, 0, 0, 0, 0, 0, 0, 0, 0, 0, 0, 0, 0, 0, 0, 0, 0, 0, 0, 0, 0, 0, 0, 0, 0, 0, 0, 0, 0, 0, 0, 0, 0, 0, 0, 0, 0, 0, 0, 0, 0, 0, 0, 0, 0, 0, 0, 0, 0, 0, 0, 0, 0, 0, 0, 0, 0, 0, 0, 0, 0, 0, 0, 0, 0, 0, 0, 0, 0, 0, 0, 0, 0, 0, 0, 0, 0, 0, 0, 0, 0, 0, 0, 0, 0, 0, 0, 0, 0, 0, 0, 0, 0, 0, 0, 0, 1, 0, 0, 0, 0, 0, 0, 0, 0, 0, 0, 0, 0, 0, 0, 0, 0, 0, 0, 0, 0, 0, 0, 0, 0, 0, 0, 0, 0, 0, 0, 0, 0, 0, 0, 0, 0, 0, 0, 0, 0, 0, 0, 0, 0, 0, 0, 0, 0, 0, 0, 0, 0, 0, 0, 0, 0, 0, 0, 0, 0, 0, 0, 0, 0, 0, 0, 0, 0, 0, 0, 0, 0, 0, 0, 0, 0, 0, 0, 0, 0, 0, 0, 0, 0, 0, 0, 0, 0, 0, 0, 0, 0, 0, 0, 0, 0, 0, 0, 0, 0, 0, 0, 0, 0, 0, 0, 0, 1, 0, 0, 0, 0, 0, 0, 0, 0, 0, 0, 0, 0, 0, 0, 0, 0, 0, 0, 0, 0, 0, 0, 0, 0, 0, 0, 0, 0, 0, 0, 0, 0, 0, 0, 0, 0, 0, 0, 0, 0, 0, 0, 0, 0, 0, 0, 0, 0, 0, 0, 0, 0, 0, 0, 0, 0, 0, 0, 0, 0, 0, 0, 0, 0, 0, 0, 0, 0, 0, 0, 0, 0, 0, 0, 0, 0, 0, 0, 0, 0, 0, 0, 0, 0, 0, 0, 0, 0, 0, 0, 0, 0, 0, 0, 0, 0, 0, 0, 0, 0, 0, 0, 0, 0, 0, 0, 0, 0, 0, 0, 0, 0, 0, 0, 0, 0, 0, 0, 0, 0, 0, 0, 0, 0, 0, 0, 0, 0, 0, 0, 0, 0, 0, 0, 0, 0, 0, 0, 0, 0, 0, 0, 0, 0, 0, 0, 0, 0, 0, 0, 0, 0, 0, 0, 0, 0, 0, 0, 0, 0, 0, 0, 0, 0, 0, 0, 0, 0, 0, 0, 0, 0, 0, 0, 0, 0, 0, 0, 0, 0, 0, 0, 0, 0, 0, 0, 0, 0, 0, 0, 0, 0, 0, 0, 0, 0, 0, 0, 0, 0, 0, 0, 0, 0, 0, 0, 0, 0, 0, 0, 0, 0, 0, 0, 0, 0, 0, 0, 0, 0, 0, 0, 0, 0, 0, 0, 0, 0, 0, 0, 0, 0, 0, 0, 0, 0, 0, 0, 0, 0, 0, 0, 0, 0, 0, 0, 0, 0, 0, 0, 0, 0, 0, 0, 0, 0, 0, 0, 0, 0, 0, 0, 0, 0, 0, 0, 0, 0, 0, 0, 0, 0, 0, 0, 0, 0, 0, 0, 0, 0, 0, 0, 0, 0, 0, 0, 0, 0, 0, 0, 0, 0, 0, 0, 0, 0, 0, 0, 0, 0, 0, 0, 0, 0, 0, 0, 0, 0, 0, 0, 0, 0, 0, 0, 0, 0, 0, 0, 0, 0, 0, 0, 0, 0, 0, 0, 0, 0, 0, 0, 0, 0, 0, 0, 0, 0, 0, 0, 0, 0, 0, 0, 0, 0, 0, 0, 0, 0, 0, 0, 0, 0, 0, 0, 0, 0, 0, 0, 0, 0, 0, 0, 0, 0, 0, 0, 0, 0, 0, 0, 0, 0, 0, 0, 0, 0, 0, 0, 0, 0, 0, 0, 0, 0, 0, 0, 0, 0, 0, 0, 0, 0, 0, 0, 0, 0, 0, 0, 0, 0, 0, 0, 0, 0, 0, 0, 0, 0, 0, 0, 0, 0, 0, 0, 0, 0, 0, 0, 0, 0, 0, 0, 0, 0, 0, 0, 0, 0, 0, 0, 0, 0, 0, 0, 0, 0, 0, 0, 0, 0, 0, 0, 0, 0, 0, 0, 0, 0, 0, 0, 0, 0, 0, 0, 0, 0, 0, 0, 0, 0, 0, 0, 0, 2, 0, 1, 0], type: <class 'list'>, valid types: <class 'bytes'>, <class 'bytearray'>, file-like object"
     ]
    }
   ],
   "source": [
    "response = runtime.invoke_endpoint(EndpointName = xgb_predictor.endpoint, # The name of the endpoint we created\n",
    "                                       ContentType = 'text/csv',                     # The data format that is expected\n",
    "                                       Body = test_bow)"
   ]
  },
  {
   "cell_type": "markdown",
   "metadata": {},
   "source": [
    "So why did we get an error?\n",
    "\n",
    "Because we tried to send the endpoint a list of integers but it expected us to send data of type `text/csv`. So, we need to convert it."
   ]
  },
  {
   "cell_type": "code",
   "execution_count": 47,
   "metadata": {},
   "outputs": [],
   "source": [
    "response = runtime.invoke_endpoint(EndpointName = xgb_predictor.endpoint, # The name of the endpoint we created\n",
    "                                       ContentType = 'text/csv',                     # The data format that is expected\n",
    "                                       Body = ','.join([str(val) for val in test_bow]).encode('utf-8'))"
   ]
  },
  {
   "cell_type": "code",
   "execution_count": 48,
   "metadata": {},
   "outputs": [
    {
     "name": "stdout",
     "output_type": "stream",
     "text": [
      "{'ResponseMetadata': {'RequestId': 'dd4f59be-3b6f-41ae-b82c-3c3c1a9590c0', 'HTTPStatusCode': 200, 'HTTPHeaders': {'x-amzn-requestid': 'dd4f59be-3b6f-41ae-b82c-3c3c1a9590c0', 'x-amzn-invoked-production-variant': 'AllTraffic', 'date': 'Sun, 7 Jun 2020 20:32:40 GMT', 'content-type': 'text/csv; charset=utf-8', 'content-length': '14'}, 'RetryAttempts': 0}, 'ContentType': 'text/csv; charset=utf-8', 'InvokedProductionVariant': 'AllTraffic', 'Body': <botocore.response.StreamingBody object at 0x7f81b390d780>}\n"
     ]
    }
   ],
   "source": [
    "print(response)"
   ]
  },
  {
   "cell_type": "markdown",
   "metadata": {},
   "source": [
    "As we can see, the response from our model is a somewhat complicated looking dict that contains a bunch of information. The bit that we are most interested in is `'Body'` object which is a streaming object that we need to `read` in order to make use of."
   ]
  },
  {
   "cell_type": "code",
   "execution_count": 49,
   "metadata": {},
   "outputs": [
    {
     "name": "stdout",
     "output_type": "stream",
     "text": [
      "0.449827104807\n"
     ]
    }
   ],
   "source": [
    "response = response['Body'].read().decode('utf-8')\n",
    "print(response)"
   ]
  },
  {
   "cell_type": "markdown",
   "metadata": {},
   "source": [
    "Now that we know how to process the incoming user data we can start setting up the infrastructure to make our simple web app work. To do this we will make use of two different services. Amazon's Lambda and API Gateway services.\n",
    "\n",
    "Lambda is a service which allows someone to write some relatively simple code and have it executed whenever a chosen trigger occurs. For example, you may want to update a database whenever new data is uploaded to a folder stored on S3.\n",
    "\n",
    "API Gateway is a service that allows you to create HTTP endpoints (url addresses) which are connected to other AWS services. One of the benefits to this is that you get to decide what credentials, if any, are required to access these endpoints.\n",
    "\n",
    "In our case we are going to set up an HTTP endpoint through API Gateway which is open to the public. Then, whenever anyone sends data to our public endpoint we will trigger a Lambda function which will send the input (in our case a review) to our model's endpoint and then return the result."
   ]
  },
  {
   "cell_type": "markdown",
   "metadata": {},
   "source": [
    "### Setting up a Lambda function\n",
    "\n",
    "The first thing we are going to do is set up a Lambda function. This Lambda function will be executed whenever our public API has data sent to it. When it is executed it will receive the data, perform any sort of processing that is required, send the data (the review) to the SageMaker endpoint we've created and then return the result.\n",
    "\n",
    "#### Part A: Create an IAM Role for the Lambda function\n",
    "\n",
    "Since we want the Lambda function to call a SageMaker endpoint, we need to make sure that it has permission to do so. To do this, we will construct a role that we can later give the Lambda function.\n",
    "\n",
    "Using the AWS Console, navigate to the **IAM** page and click on **Roles**. Then, click on **Create role**. Make sure that the **AWS service** is the type of trusted entity selected and choose **Lambda** as the service that will use this role, then click **Next: Permissions**.\n",
    "\n",
    "In the search box type `sagemaker` and select the check box next to the **AmazonSageMakerFullAccess** policy. Then, click on **Next: Review**.\n",
    "\n",
    "Lastly, give this role a name. Make sure you use a name that you will remember later on, for example `LambdaSageMakerRole`. Then, click on **Create role**."
   ]
  },
  {
   "cell_type": "markdown",
   "metadata": {},
   "source": [
    "#### Part B: Create a Lambda function\n",
    "\n",
    "Now it is time to actually create the Lambda function. Remember from earlier that in order to process the user provided input and send it to our endpoint we need to gather two pieces of information:\n",
    "\n",
    " - The name of the endpoint, and\n",
    " - the vocabulary object.\n",
    "\n",
    "We will copy these pieces of information to our Lambda function after we create it.\n",
    "\n",
    "To start, using the AWS Console, navigate to the AWS Lambda page and click on **Create a function**. When you get to the next page, make sure that **Author from scratch** is selected. Now, name your Lambda function, using a name that you will remember later on, for example `sentiment_analysis_xgboost_func`. Make sure that the **Python 3.6** runtime is selected and then choose the role that you created in the previous part. Then, click on **Create Function**.\n",
    "\n",
    "On the next page you will see some information about the Lambda function you've just created. If you scroll down you should see an editor in which you can write the code that will be executed when your Lambda function is triggered. Collecting the code we wrote above to process a single review and adding it to the provided example `lambda_handler` we arrive at the following.\n",
    "\n",
    "```python\n",
    "# We need to use the low-level library to interact with SageMaker since the SageMaker API\n",
    "# is not available natively through Lambda.\n",
    "import boto3\n",
    "\n",
    "# And we need the regular expression library to do some of the data processing\n",
    "import re\n",
    "\n",
    "REPLACE_NO_SPACE = re.compile(\"(\\.)|(\\;)|(\\:)|(\\!)|(\\')|(\\?)|(\\,)|(\\\")|(\\()|(\\))|(\\[)|(\\])\")\n",
    "REPLACE_WITH_SPACE = re.compile(\"(<br\\s*/><br\\s*/>)|(\\-)|(\\/)\")\n",
    "\n",
    "def review_to_words(review):\n",
    "    words = REPLACE_NO_SPACE.sub(\"\", review.lower())\n",
    "    words = REPLACE_WITH_SPACE.sub(\" \", words)\n",
    "    return words\n",
    "    \n",
    "def bow_encoding(words, vocabulary):\n",
    "    bow = [0] * len(vocabulary) # Start by setting the count for each word in the vocabulary to zero.\n",
    "    for word in words.split():  # For each word in the string\n",
    "        if word in vocabulary:  # If the word is one that occurs in the vocabulary, increase its count.\n",
    "            bow[vocabulary[word]] += 1\n",
    "    return bow\n",
    "\n",
    "\n",
    "def lambda_handler(event, context):\n",
    "    \n",
    "    vocab = \"*** ACTUAL VOCABULARY GOES HERE ***\"\n",
    "    \n",
    "    words = review_to_words(event['body'])\n",
    "    bow = bow_encoding(words, vocab)\n",
    "\n",
    "    # The SageMaker runtime is what allows us to invoke the endpoint that we've created.\n",
    "    runtime = boto3.Session().client('sagemaker-runtime')\n",
    "\n",
    "    # Now we use the SageMaker runtime to invoke our endpoint, sending the review we were given\n",
    "    response = runtime.invoke_endpoint(EndpointName = '***ENDPOINT NAME HERE***',# The name of the endpoint we created\n",
    "                                       ContentType = 'text/csv',                 # The data format that is expected\n",
    "                                       Body = ','.join([str(val) for val in bow]).encode('utf-8')) # The actual review\n",
    "\n",
    "    # The response is an HTTP response whose body contains the result of our inference\n",
    "    result = response['Body'].read().decode('utf-8')\n",
    "    \n",
    "    # Round the result so that our web app only gets '1' or '0' as a response.\n",
    "    result = round(float(result))\n",
    "\n",
    "    return {\n",
    "        'statusCode' : 200,\n",
    "        'headers' : { 'Content-Type' : 'text/plain', 'Access-Control-Allow-Origin' : '*' },\n",
    "        'body' : str(result)\n",
    "    }\n",
    "```"
   ]
  },
  {
   "cell_type": "markdown",
   "metadata": {},
   "source": [
    "Once you have copy and pasted the code above into the Lambda code editor, replace the `**ENDPOINT NAME HERE**` portion with the name of the endpoint that we deployed earlier. You can determine the name of the endpoint using the code cell below."
   ]
  },
  {
   "cell_type": "code",
   "execution_count": 50,
   "metadata": {},
   "outputs": [
    {
     "data": {
      "text/plain": [
       "'xgboost-2020-06-07-20-02-30-873'"
      ]
     },
     "execution_count": 50,
     "metadata": {},
     "output_type": "execute_result"
    }
   ],
   "source": [
    "xgb_predictor.endpoint"
   ]
  },
  {
   "cell_type": "markdown",
   "metadata": {},
   "source": [
    "In addition, you will need to copy the vocabulary dict to the appropriate place in the code at the beginning of the `lambda_handler` method. The cell below prints out the vocabulary dict in a way that is easy to copy and paste."
   ]
  },
  {
   "cell_type": "code",
   "execution_count": 51,
   "metadata": {},
   "outputs": [
    {
     "name": "stdout",
     "output_type": "stream",
     "text": [
      "{'am': 204, 'still': 4188, 'at': 331, 'the': 4426, 'thought': 4462, 'of': 3083, 'ever': 1538, 'seeing': 3857, 'this': 4457, 'movie': 2926, 'again': 146, 'have': 2052, 'seen': 3865, 'action': 100, 'films': 1721, 'even': 1533, 'liked': 2600, 'quite': 3495, 'few': 1700, 'them': 4432, 'but': 636, 'one': 3107, 'goes': 1930, 'over': 3148, 'top': 4525, 'not': 3040, 'only': 3110, 'does': 1308, 'it': 2366, 'worst': 4952, 'male': 2719, 'actor': 103, 'playing': 3300, 'lead': 2545, 'role': 3726, 'plot': 3309, 'is': 2360, 'so': 4046, 'stupid': 4247, 'from': 1840, 'beginning': 443, 'why': 4878, 'rob': 3710, 'money': 2888, 'while': 4868, 'plane': 3288, 'on': 3105, 'ground': 1979, 'would': 4957, 'be': 418, 'hell': 2077, 'lot': 2661, 'easier': 1405, 'that': 4424, 'requires': 3642, 'person': 3238, 'with': 4911, 'less': 2575, 'than': 4420, 'his': 2118, 'to': 4507, 'believe': 454, 'furthermore': 1854, 'has': 2043, 'no': 3020, 'real': 3547, 'twists': 4619, 'all': 187, 'three': 4469, 'year': 4978, 'old': 3100, 'kid': 2464, 'could': 1007, 'guess': 1989, 'what': 4858, 'comes': 891, 'next': 3007, 'set': 3898, 'genre': 1888, 'performing': 3233, 'worse': 4951, 'other': 3135, 'movies': 2927, 'he': 2056, 'was': 4805, 'better': 472, 'in': 2257, 'rambo': 3511, 'iii': 2227, 'if': 2222, 'you': 4986, 'watch': 4811, 'as': 311, 'comedy': 890, 'rather': 3528, 'film': 1716, 'now': 3054, 'there': 4438, 'an': 223, 'who': 4871, 'cant': 671, 'act': 97, 'surprised': 4313, 'sad': 3767, 'anything': 260, 'else': 1448, 'basic': 406, 'face': 1616, 'like': 2599, 'point': 3316, 'out': 3141, 'two': 4620, 'might': 2835, 'make': 2713, 'some': 4061, 'people': 3221, 'explosions': 1597, 'are': 285, 'outstanding': 3147, 'then': 4436, 'can': 665, 'see': 3855, 'landscapes': 2514, 'documentaries': 1306, 'about': 67, 'and': 226, 'way': 4820, 'waste': 4808, 'time': 4495, 'flick': 1754, 'go': 1924, 'instead': 2307, 'hundreds': 2196, 'thousands': 4466, 'okay': 3099, 'didnt': 1242, 'get': 1899, 'thing': 4450, 'first': 1736, 'watched': 4813, 'episode': 1507, 'seemed': 3862, 'something': 4066, 'significant': 3972, 'going': 1931, 'couldnt': 1008, 'put': 3480, 'my': 2951, 'finger': 1731, 'those': 4460, 'tv': 4610, 'really': 3556, 'caught': 722, 'attention': 345, 'helped': 2080, 'just': 2437, 'writing': 4971, 'let': 2579, 'me': 2778, 'hasnt': 2044, 'been': 438, 'yet': 4984, 'review': 3676, 'mentioned': 2811, 'tony': 4521, 'had': 2003, 'down': 1335, 'because': 432, 'broken': 594, 'yeah': 4977, 'number': 3060, 'for': 1784, 'lots': 2662, 'reasons': 3560, 'especially': 1520, 'religious': 3608, 'heres': 2087, 'more': 2904, 'ya': 4976, 'into': 2332, 'levels': 2585, 'stuff': 4243, 'bottom': 551, 'random': 3514, 'monk': 2889, 'slap': 4018, 'scene': 3809, 'soon': 4074, 'appeared': 276, 'fit': 1740, 'perfectly': 3226, 'place': 3282, 'trying': 4601, 'tell': 4395, 'got': 1944, 'worried': 4949, 'when': 4862, 'christian': 808, 'commercial': 902, 'death': 1141, 'disease': 1285, 'sin': 3988, 'came': 656, 'hes': 2093, 'getting': 1901, 'desperate': 1208, 'heaven': 2068, 'looking': 2648, 'kinda': 2477, 'him': 2110, 'by': 642, 'meets': 2795, 'thinking': 4453, 'hey': 2095, 'maybe': 2776, 'these': 4441, 'guys': 2001, 'help': 2079, 'which': 4867, 'sounds': 4084, 'eg': 1434, 'wondering': 4930, 'path': 3209, 'take': 4349, 'necessarily': 2983, 'literally': 2622, 'becoming': 435, 'appears': 278, 'tried': 4584, 'messed': 2821, 'up': 4683, 'basically': 407, 'tells': 4397, 'theres': 4440, 'quick': 3490, 'fix': 1744, 'suddenly': 4273, 'here': 2086, 'initially': 2291, 'too': 4522, 'concerned': 932, 'realizes': 3554, 'thats': 4425, 'easy': 1410, 'saw': 3798, 'name': 2960, 'vs': 4767, 'problem': 3408, 'having': 2054, 'led': 2558, 'sort': 4077, 'double': 1331, 'life': 2592, 'killing': 2472, 'sleeping': 4025, 'around': 297, 'kept': 2456, 'secret': 3849, 'most': 2909, 'feels': 1687, 'free': 1827, 'affair': 135, 'kevin': 2457, 'figures': 1713, 'fool': 1779, 'cards': 683, 'hotel': 2175, 'wont': 4932, 'keeping': 2450, 'track': 4544, 'everything': 1544, 'after': 143, 'reading': 3544, 'though': 4461, 'seems': 3864, 'identity': 2217, 'different': 1248, 'couldve': 1009, 'taken': 4350, 'possibly': 3351, 'along': 195, 'car': 680, 'joke': 2414, 'involving': 2349, 'made': 2697, 'sense': 3877, 'otherwise': 3137, 'brain': 562, 'heard': 2062, 'show': 3953, 'good': 1937, 'reviews': 3679, 'fairy': 1632, 'tale': 4353, 'itself': 2371, 'hooked': 2153, 'loved': 2670, 'since': 3990, 'humour': 2194, 'its': 2370, 'fun': 1848, 'cast': 710, 'excellent': 1555, 'their': 4431, 'characters': 760, 'wouldnt': 4958, 'want': 4788, 'change': 749, 'any': 256, 'pushing': 3479, 'centers': 734, 'man': 2721, 'named': 2961, 'ned': 2986, 'aka': 168, 'pie': 3271, 'maker': 2714, 'played': 3297, 'lee': 2559, 'pace': 3161, 'discovered': 1280, 'special': 4097, 'gift': 1906, 'boy': 557, 'bring': 585, 'dead': 1132, 'back': 378, 'touch': 4533, 'did': 1241, 'dog': 1310, 'however': 2183, 'catch': 714, 'keeps': 2451, 'alive': 186, 'minute': 2858, 'someone': 4064, 'dies': 1245, 'learned': 2551, 'brought': 600, 'mother': 2911, 'childhood': 790, 'father': 1666, 'died': 1244, 'mothers': 2912, 'touches': 4535, 'theyre': 4445, 'took': 4523, 'school': 3813, 'left': 2561, 'never': 3001, 'almost': 193, '20': 29, 'years': 4979, 'later': 2525, 'cleverly': 842, 'titled': 4505, 'hole': 2132, 'co': 867, 'worker': 4942, 'crush': 1072, 'her': 2085, 'moves': 2925, 'close': 853, 'anyone': 259, 'learning': 2552, 'past': 3207, 'experiences': 1582, 'private': 3404, 'decides': 1150, 'partner': 3198, 'murders': 2943, 'victim': 4729, 'asks': 319, 'killed': 2469, 'they': 4442, 'solve': 4060, 'how': 2181, 'usually': 4700, 'throughout': 4478, 'episodes': 1508, 'very': 4723, 'interesting': 2325, 'plots': 3310, 'least': 2554, 'expect': 1575, 'day': 1129, 'discovers': 1281, 'murder': 2939, 'charlotte': 766, 'chuck': 812, 'charles': 764, 'anna': 245, 'brings': 587, 'break': 569, 'rules': 3754, 'keep': 2449, 'funeral': 1849, 'director': 1264, 'stole': 4194, 'finds': 1728, 'wants': 4791, 'doesnt': 1309, 'agree': 155, 'bit': 488, 'we': 4823, 'hear': 2061, 'call': 651, 'girl': 1909, 'lily': 2605, 'ellen': 1446, 'everyone': 1542, 'matter': 2769, 'case': 707, 'recognized': 3570, 'news': 3005, 'etc': 1527, 'hadnt': 2004, 'house': 2178, 'work': 4940, 'together': 4511, 'grow': 1982, 'love': 2669, 'each': 1395, 'funny': 1852, 'terrific': 4409, 'contains': 964, 'great': 1964, 'will': 4886, 'definitely': 1162, 'your': 4991, 'spirits': 4115, 'hope': 2155, '13': 4, 'hold': 2129, 'harris': 2038, 'occasionally': 3075, 'documentary': 1307, 'section': 3853, 'dragged': 1343, 'yes': 4982, 'job': 2405, 'where': 4864, 'enough': 1491, 'sean': 3840, 'dressed': 1358, 'highlight': 2103, 'thirty': 4456, 'seconds': 3848, 'loses': 2657, 'humor': 2192, 'glover': 1923, 'takes': 4351, 'larry': 2520, 'story': 4207, 'telling': 4396, 'anymore': 258, 'firstly': 1737, 'although': 201, 'many': 2732, 'say': 3799, 'series': 3890, 'dont': 1324, 'think': 4452, 'century': 736, 'teen': 4388, 'perfect': 3224, 'opportunities': 3120, 'laugh': 2529, 'remind': 3618, 'teenager': 4390, 'times': 4497, 'same': 3778, 'do': 1302, 'fact': 1621, 'nowadays': 3055, 'arent': 288, 'supposed': 4306, 'mean': 2779, 'cinemas': 817, 'mostly': 2910, 'teenagers': 4391, 'hang': 2022, 'plus': 3311, 'such': 4268, 'during': 1387, 'or': 3124, 'comment': 898, 'amount': 219, 'nudity': 3059, 'reflect': 3584, 'thoughts': 4464, 'minds': 2852, 'must': 2950, 'absolutely': 72, 'grown': 1984, 'woman': 4921, 'should': 3951, 'mind': 2849, 'often': 3095, 'being': 448, 'things': 4451, 'thanks': 4423, 'began': 441, 'promise': 3430, 'became': 431, 'john': 2409, 'accent': 78, 'laughable': 2530, 'existed': 1570, 'pacino': 3164, 'entire': 1502, 'generation': 1883, 'actors': 104, 'nicholson': 3011, 'caine': 647, 'hoffman': 2128, 'developed': 1223, 'standard': 4144, 'performance': 3228, 'deliver': 1169, 'mail': 2706, 'family': 1645, 'enjoy': 1484, 'consider': 949, 'themselves': 4435, 'tales': 4357, 'shelley': 3928, 'herself': 2092, 'unique': 4662, 'imaginative': 2237, 'nearly': 2981, 'popular': 3333, 'scripts': 3836, 'offer': 3087, 'new': 3003, 'age': 148, 'grew': 1972, 'feature': 1678, 'handful': 2017, 'stars': 4155, 'cinderella': 815, 'exception': 1557, 'opinion': 3118, 'five': 1743, 'jennifer': 2392, 'remember': 3616, 'shes': 3930, 'hollywood': 2137, 'today': 4508, 'making': 2718, 'title': 4504, 'jean': 2389, 'southern': 4088, 'eve': 1532, 'wicked': 4879, 'edie': 1419, 'off': 3084, 'jane': 2380, 'hilarious': 2106, 'duo': 1386, 'matthew': 2772, 'prince': 3396, 'henry': 2084, 'youll': 4988, 'coming': 896, 'dark': 1115, 'sweet': 4336, 'modern': 2882, 'noir': 3023, 'filled': 1715, 'course': 1019, 'truly': 4597, 'last': 2521, 'decades': 1145, 'south': 4087, 'men': 2805, 'ladies': 2506, 'looks': 2649, 'wet': 4855, 'women': 4923, 'leave': 2555, 'anyway': 261, 'spoilers': 4124, 'wonderful': 4928, 'example': 1553, 'pacing': 3163, 'slow': 4031, 'clearly': 840, 'drawn': 1351, 'simple': 3983, 'tons': 4520, 'atmosphere': 333, 'attitudes': 347, 'ones': 3108, 'traditional': 4550, 'acting': 99, 'look': 2646, 'hurt': 2202, 'were': 4848, 'style': 4249, 'crime': 1055, 'exactly': 1551, 'quickly': 3491, 'paced': 3162, 'adventures': 131, 'seem': 3861, 'burn': 625, 'create': 1036, 'environment': 1505, 'couple': 1016, 'hours': 2177, 'lets': 2580, 'company': 910, 'complex': 923, 'uncle': 4636, 'bud': 607, 'intriguing': 2335, 'allowing': 191, 'audience': 352, 'know': 2489, 'makes': 2716, 'bruce': 602, 'pitch': 3279, 'previous': 3387, 'character': 758, 'give': 1912, 'depth': 1190, 'our': 3139, 'also': 199, 'world': 4946, 'hardly': 2036, 'mystery': 2956, 'suspense': 4330, 'solid': 4057, 'simply': 3986, 'jim': 2402, 'stories': 4205, 'stronger': 4230, 'confusing': 942, 'novel': 3052, 'killer': 2470, 'inside': 2297, 'right': 3696, 'away': 369, 'quote': 3496, 'roger': 3724, 'relatively': 3600, 'well': 4843, 'jokes': 2415, 'female': 1693, 'bad': 382, 'per': 3223, 'adaptation': 113, 'im': 2232, 'talking': 4360, 'besides': 468, 'start': 4156, 'contemporary': 965, 'best': 469, '1990s': 25, 'blood': 512, 'she': 3923, 'chemistry': 782, 'shoots': 3944, 'scenes': 3811, 'tour': 4538, 'except': 1556, 'michael': 2829, 'extreme': 1609, 'pain': 3170, 'hard': 2033, 'annoying': 249, 'sheriff': 3929, 'doctor': 1304, 'probably': 3407, 'laughs': 2534, 'dr': 1340, 'nowhere': 3056, 'mrs': 2930, 'wooden': 4934, 'seriously': 3892, 'foot': 1781, 'stuck': 4237, 'hot': 2174, 'able': 66, 'notice': 3048, 'difference': 1246, 'credits': 1050, 'roll': 3728, 'late': 2523, 'night': 3013, 'numbers': 3061, 'isnt': 2362, 'considering': 952, 'note': 3044, 'pitt': 3280, 'moving': 2928, 'onto': 3111, 'bigger': 479, 'surprise': 4312, 'memory': 2804, 'replaced': 3634, 'important': 2247, 'front': 1841, 'door': 1328, 'putting': 3482, 'clothes': 860, 'come': 886, 'shower': 3957, 'plays': 3301, 'cop': 991, 'personal': 3240, 'issues': 2365, 'ben': 463, 'chaplin': 756, 'called': 652, 'investigate': 2342, 'young': 4989, 'nothing': 3047, 'unusual': 4681, 'teenage': 4389, 'students': 4239, 'theyve': 4446, 'planned': 3290, 'executed': 1565, 'investigation': 2343, 'continues': 971, 'battle': 414, 'between': 475, 'main': 2707, 'suspect': 4327, 'ryan': 3765, 'issue': 2364, 'leads': 2548, 'hopeless': 2158, 'nice': 3008, 'believable': 453, 'cynical': 1093, 'actually': 109, 'hed': 2072, 'complete': 921, 'non': 3027, 'feel': 1684, 'sorry': 4076, 'attempt': 340, 'suspects': 4328, 'werent': 4849, 'send': 3875, 'anybody': 257, 'sleep': 4024, 'highly': 2105, 'predictable': 3367, 'illogical': 2231, 'ending': 1471, 'shoot': 3942, 'head': 2057, 'before': 440, 'chance': 747, 'run': 3755, 'pointless': 3318, 'nude': 3058, 'little': 2624, 'save': 3794, 'forgettable': 1794, 'move': 2921, 'forward': 1808, 'says': 3801, 'omen': 3104, '80s': 59, 'drug': 1373, 'choice': 797, '90s': 61, 'reason': 3557, 'explain': 1586, 'travesty': 4570, 'bother': 548, 'idea': 2213, 'board': 522, 'second': 3846, 'perhaps': 3235, 'major': 2711, 'bought': 552, 'trilogy': 4586, 'bucks': 606, 'extra': 1606, 'disc': 1278, 'average': 362, 'american': 213, 'remake': 3612, 'punk': 3468, 'spooky': 4128, 'whos': 4876, 'total': 4531, 'skills': 4014, 'none': 3028, 'events': 1536, 'occurred': 3077, 'parents': 3188, 'need': 2987, 'recommended': 3572, 'avoid': 363, 'cost': 1003, 'enjoyed': 1486, 'every': 1539, 'sure': 4308, 'graphics': 1959, 'cheesy': 781, 'compared': 912, '70s': 56, 'original': 3129, 'spanish': 4092, 'version': 4720, 'magical': 2704, 'santa': 3783, 'amazing': 209, 'wait': 4770, 'child': 789, 'children': 792, 'speak': 4094, 'watching': 4815, 'fashioned': 1660, 'used': 4693, 'english': 1483, 'happy': 2032, 'read': 3543, 'michelle': 2830, 'book': 535, 'both': 547, 'tears': 4380, 'several': 3905, 'points': 3319, 'human': 2188, 'soul': 4079, 'masterpiece': 2759, 'much': 2934, 'possible': 3350, 'ten': 4399, 'combination': 883, 'woody': 4936, 'allen': 188, 'paul': 3214, 'contrived': 976, 'knock': 2488, 'guy': 2000, 'gave': 1875, '10': 0, 'needed': 2988, 'scary': 3807, 'elements': 1443, 'god': 1926, 'ruin': 3750, 'recommend': 3571, 'straight': 4210, 'rent': 3626, 'forget': 1793, 'popcorn': 3331, 'born': 544, 'favorite': 1671, 'comedies': 889, 'tries': 4585, 'understand': 4643, 'sons': 4073, 'means': 2783, 'gay': 1876, 'stereotypical': 4180, 'son': 4070, 'norman': 3035, 'living': 2629, 'own': 3158, 'pays': 3218, 'visit': 4755, 'hopes': 2159, 'changing': 752, 'funniest': 1851, 'lines': 2612, 'gets': 1900, 'runs': 3757, 'prostitute': 3440, 'thinks': 4454, 'drag': 1342, 'laughing': 2533, 'finish': 1732, 'content': 966, 'find': 1726, 'offensive': 3086, 'material': 2766, 'handled': 2019, 'period': 3236, 'serial': 3889, 'birth': 486, 'mexico': 2827, 'nation': 2969, 'gold': 1932, 'produced': 3414, 'town': 4541, 'don': 1320, 'del': 1165, 'indians': 2275, 'stealing': 4171, 'himself': 2111, 'band': 391, 'rescue': 3643, 'reed': 3580, 'winning': 4898, 'cuts': 1091, 'figure': 1711, 'nicely': 3009, 'clear': 839, 'ive': 2372, 'adventure': 130, 'compare': 911, 'mark': 2739, 'power': 3359, 'super': 4295, '14': 6, 'porn': 3336, 'star': 4150, 'involved': 2346, 'drugs': 1374, 'aids': 161, 'wasnt': 4807, 'earlier': 1399, 'eddie': 1416, 'production': 3419, 'sent': 3880, 'prison': 3401, 'wasted': 4809, 'unnecessary': 4672, 'crap': 1031, 'dull': 1384, 'mediocre': 2791, 'string': 4227, 'finally': 1724, 'suitable': 4285, 'cute': 1090, 'irrelevant': 2358, 'acts': 107, 'large': 2517, 'extent': 1605, 'wearing': 4831, 'facial': 1619, 'hair': 2005, 'recognize': 3569, 'wish': 4904, 'cruise': 1071, 'dumb': 1385, 'utterly': 4702, 'failed': 1626, 'known': 2492, 'end': 1468, 'charming': 768, 'dramatic': 1348, 'friends': 1837, 'sitcom': 4004, 'casting': 711, 'choices': 798, 'questionable': 3488, 'early': 1400, 'near': 2979, 'cameo': 657, 'carrie': 697, 'totally': 4532, 'absurd': 73, 'id': 2212, 'include': 2261, 'paris': 3189, 'ideal': 2214, 'appearance': 274, 'among': 217, 'fits': 1741, 'cartoon': 704, 'network': 3000, 'ratings': 3530, 'samurai': 3779, 'jack': 2373, 'shows': 3960, 'girls': 1911, 'lab': 2501, 'started': 4157, 'pretty': 3384, 'drama': 1346, 'island': 2361, 'stand': 4143, 'clever': 841, 'plenty': 3307, 'either': 1438, 'terrible': 4407, 'george': 1893, 'jungle': 2434, 'rip': 3700, 'marvelous': 2750, 'johnny': 2410, 'test': 4416, 'sheer': 3925, 'focus': 1766, 'blonde': 511, 'twin': 4615, 'sisters': 4002, 'susan': 4326, 'mary': 2751, 'happen': 2026, 'orange': 3125, 'impossible': 2249, 'technology': 4385, 'rival': 3706, 'genius': 1887, 'sitting': 4007, 'friend': 1835, 'experiments': 1584, 'cartoons': 705, 'television': 4394, 'effective': 1429, 'art': 304, 'lovable': 2668, 'long': 2644, 'eye': 1611, 'awful': 372, 'motivations': 2915, 'quest': 3486, 'neighborhood': 2993, 'whom': 4875, 'secretly': 3851, 'likes': 2602, 'twins': 4616, 'obsession': 3070, 'sight': 3969, 'connection': 946, 'viewer': 4738, 'heavily': 2069, 'pig': 3274, 'range': 3516, 'turning': 4608, 'fat': 1663, 'ugly': 4625, 'whatever': 4859, 'scheme': 3812, 'planning': 3291, 'return': 3665, 'whenever': 4863, 'kind': 2476, 'win': 4892, 'deal': 1135, 'completely': 922, 'ends': 1474, 'horrid': 2165, 'constantly': 958, 'line': 2610, 'repeated': 3631, 'famous': 1647, 'talk': 4358, 'black': 493, 'mr': 2929, 'white': 4870, 'military': 2844, 'general': 1880, 'problems': 3409, 'through': 4477, 'villains': 4745, 'steals': 4172, 'ideas': 2215, 'evil': 1548, 'cat': 713, 'butler': 637, 'cats': 721, 'rule': 3753, 'bumbling': 622, 'trio': 4587, 'cliché': 844, 'villain': 4744, 'media': 2789, 'alongside': 196, 'animation': 242, 'voice': 4761, 'voices': 4763, 'plain': 3286, 'ear': 1397, 'theme': 4433, 'song': 4071, 'catchy': 717, 'ruined': 3751, 'horrible': 2163, 'references': 3583, 'culture': 1079, 'childrens': 793, 'interest': 2323, 'bright': 581, 'ripped': 3701, 'experience': 1580, 'teens': 4392, 'another': 250, 'crappy': 1032, 'trick': 4582, 'mtv': 2933, 'toward': 4539, 'rap': 3520, 'satisfy': 3790, 'half': 2007, 'hour': 2176, 'youd': 4987, 'stick': 4185, 'cinema': 816, 'typical': 4623, 'type': 4621, 'big': 478, 'dialogues': 1235, 'melodrama': 2797, 'ingredients': 2289, 'weird': 4841, 'starting': 4158, 'sequence': 3887, 'happens': 2029, 'shown': 3959, 'climax': 849, 'music': 2946, 'works': 4945, 'camera': 659, 'usual': 4699, 'monkey': 2890, 'serious': 3891, 'alright': 198, 'pure': 3471, 'wood': 4933, 'rest': 3657, 'frank': 1821, 'dolls': 1316, 'third': 4455, 'pleasantly': 3303, 'singing': 3995, 'simmons': 3981, 'brando': 566, 'sequences': 3888, 'dance': 1103, 'storm': 4206, 'impressive': 2253, 'highlights': 2104, 'directed': 1259, 'joseph': 2419, 'damon': 1101, 'musical': 2947, 'pulls': 3464, 'sinatra': 3989, 'compelling': 916, 'sue': 4274, 'sit': 4003, 'youre': 4992, 'boat': 523, 'performances': 3229, 'leonard': 2572, 'theatrical': 4430, 'certainly': 738, 'flawed': 1750, 'portrays': 3344, 'history': 2121, 'poor': 3328, 'overall': 3150, 'giving': 1915, 'impression': 2252, 'project': 3427, 'greatest': 1966, 'flaw': 1749, 'ages': 152, 'personalities': 3241, 'protagonists': 3442, 'ensemble': 1492, 'chosen': 805, 'portray': 3340, 'hint': 2112, 'native': 2972, 'accept': 80, 'decent': 1147, 'perspective': 3245, 'prefer': 3368, 'historical': 2119, 'versions': 4721, 'mess': 2818, 'slightly': 4029, 'accurate': 90, 'disappointing': 1274, 'found': 1811, 'available': 361, 'try': 4600, 'revolves': 3682, 'taylor': 4372, 'david': 1124, 'passed': 3202, 'argue': 290, 'brother': 598, 'dying': 1393, 'illness': 2230, 'spend': 4105, 'differences': 1247, 'incredible': 2269, 'season': 3843, '24': 39, 'interested': 2324, 'lesbian': 2573, 'miss': 2866, 'kick': 2460, 'ass': 323, 'americas': 215, 'frankly': 1823, 'americans': 214, 'lame': 2510, 'unfunny': 4655, 'downright': 1337, 'disgusting': 1286, 'dave': 1123, 'neither': 2996, 'bob': 524, 'segments': 3868, 'went': 4847, 'videos': 4734, 'somewhat': 4068, 'variety': 4714, 'guest': 1992, 'including': 2264, 'prime': 3395, 'picking': 3267, 'winner': 4897, 'rocks': 3722, 'saving': 3797, 'grace': 1950, 'boring': 543, 'regular': 3592, 'whole': 4873, 'lives': 2628, 'small': 4033, 'uk': 4626, 'financial': 1725, 'husband': 2204, 'committed': 905, 'suicide': 4283, 'full': 1846, 'imagined': 2239, 'saved': 3795, 'needs': 2990, 'pay': 3216, 'husbands': 2205, 'lose': 2654, 'loves': 2674, 'worked': 4941, 'tragic': 4552, 'situation': 4008, 'until': 4680, 'smoking': 4040, 'pot': 3354, 'selling': 3873, 'scale': 3802, 'clint': 850, 'eastwood': 1409, 'dirty': 1268, 'harry': 2039, 'raped': 3522, 'sister': 4001, 'ago': 154, 'mainly': 2708, 'sudden': 4272, 'impact': 2244, 'indeed': 2271, 'enjoyable': 1485, 'entertainment': 1500, 'romance': 3732, 'side': 3965, 'intrigue': 2333, 'mans': 2730, 'kung': 2498, 'fu': 1844, 'aging': 153, 'master': 2757, 'stop': 4201, 'former': 1800, 'styles': 4250, 'represents': 3639, 'animals': 240, 'despite': 1211, 'word': 4937, 'uses': 4697, 'kill': 2468, 'told': 4513, 'teacher': 4375, 'match': 2762, 'form': 1798, 'defeat': 1157, 'four': 1812, 'others': 3136, 'spread': 4133, 'cult': 1077, 'classic': 835, 'already': 197, 'established': 1524, 'reference': 3582, 'depicted': 1183, 'artistic': 308, 'dubbing': 1380, 'corny': 997, 'focused': 1767, 'gives': 1914, 'fan': 1648, 'minor': 2857, 'sat': 3786, 'rated': 3527, 'hood': 2151, 'disappointment': 1275, 'hate': 2046, 'clichéd': 845, 'message': 2819, 'models': 2881, 'situations': 4009, 'rape': 3521, 'becomes': 434, 'stereotype': 4178, 'become': 433, 'empathy': 1462, 'may': 2775, 'dimensional': 1253, 'players': 3299, 'once': 3106, 'causes': 725, 'racism': 3502, 'cultural': 1078, 'sexual': 3908, 'political': 3324, 'result': 3660, 'merely': 2815, 'results': 3662, 'resulting': 3661, 'confusion': 943, 'lack': 2502, 'conclusion': 936, 'embarrassing': 1454, 'mildly': 2840, 'higher': 2101, 'true': 4596, 'themes': 4434, 'fails': 1628, 'elaborate': 1439, 'upon': 4684, 'hire': 2116, 'barry': 401, 'england': 1482, 'wishes': 4906, 'claim': 828, 'outside': 3146, 'games': 1865, 'songs': 4072, 'ice': 2210, '30': 42, 'humorous': 2193, 'witty': 4917, 'animated': 241, 'sid': 3964, 'matched': 2763, 'beaten': 424, '15': 7, 'obviously': 3072, 'favourite': 1673, 'part': 3193, 'oh': 3096, 'game': 1864, 'continue': 969, 'pack': 3165, 'bears': 421, 'lies': 2591, 'troubles': 4594, 'birds': 485, 'flying': 1764, 'fish': 1738, 'behind': 447, 'map': 2733, 'parts': 3199, 'remotely': 3623, 'bear': 420, 'mask': 2752, 'japanese': 2382, 'matrix': 2767, 'imagine': 2238, 'badly': 383, 'dubbed': 1379, 'soundtrack': 4085, 'dialogue': 1234, 'senseless': 3878, 'creating': 1039, 'universe': 4666, 'lucas': 2680, 'final': 1722, 'wars': 4804, 'comparison': 914, 'saga': 3773, 'recently': 3567, 'revenge': 3675, 'puts': 3481, 'climactic': 848, 'knowing': 2490, 'manipulative': 2727, 'hands': 2020, 'luke': 2687, 'bitter': 491, 'felt': 1692, 'ii': 2226, 'inferior': 2285, 'exceptional': 1558, 'changes': 751, 'gone': 1935, 'based': 404, 'ford': 1789, 'done': 1322, 'blade': 495, 'adds': 119, 'inspired': 2301, 'brilliantly': 584, 'short': 3946, 'solo': 4058, 'fisher': 1739, 'actress': 105, 'ian': 2209, 'accomplished': 87, 'james': 2378, 'earl': 1398, 'jones': 2418, 'provides': 3450, 'terms': 4406, 'safe': 3771, 'always': 203, 'expected': 1577, 'effects': 1431, 'tension': 4404, 'wise': 4903, 'decided': 1149, 'battles': 415, 'added': 116, 'deserved': 1200, 'creatures': 1046, 'group': 1980, 'guns': 1998, 'mighty': 2836, 'richard': 3686, 'brilliant': 583, 'decision': 1151, 'add': 115, 'falls': 1640, 'brilliance': 582, 'opening': 3114, 'shot': 3949, 'passionate': 3206, 'crafted': 1029, 'independent': 2272, 'damn': 1100, 'manner': 2729, 'relation': 3595, 'ticket': 4487, 'box': 555, 'office': 3091, 'dear': 1140, 'theatre': 4429, 'home': 2142, 'turn': 4605, 'redeeming': 3577, 'values': 4710, 'peter': 3247, 'college': 875, 'moments': 2887, 'spiritual': 4116, 'succeeded': 4263, 'girlfriend': 1910, 'teach': 4374, 'online': 3109, 'high': 2100, 'activities': 102, 'learn': 2550, 'country': 1014, 'language': 2516, 'ho': 2127, 'buy': 640, 'stereotypes': 4179, 'helps': 2082, 'view': 4736, 'copy': 994, 'value': 4709, 'crude': 1069, 'workers': 4943, 'use': 4692, 'canadian': 667, 'seasons': 3844, 'lucy': 2684, 'dream': 1354, 'barbara': 397, 'blank': 501, 'cannot': 670, 'supporting': 4304, 'roles': 3727, 'canada': 666, 'recall': 3562, 'filmed': 1717, 'snow': 4045, 'summer': 4291, 'lol': 2640, 'granted': 1957, 'live': 2625, 'winter': 4900, 'lifestyle': 2593, 'lasted': 2522, 'present': 3374, 'shots': 3950, 'liberal': 2588, 'ways': 4822, 'accused': 91, 'neighbor': 2992, 'par': 3184, 'crowd': 1067, 'alone': 194, 'saying': 3800, 'wife': 4884, 'sex': 3907, 'light': 2595, 'couples': 1017, 'midnight': 2834, 'cowboy': 1025, 'moment': 2886, 'starts': 4159, 'written': 4972, 'introduces': 2338, 'us': 4690, 'joe': 2407, 'buck': 605, 'naked': 2959, 'jon': 2416, 'voight': 4764, 'noticed': 3049, 'doubt': 1332, 'status': 4165, 'grasp': 1960, 'legendary': 2565, 'disappointed': 1273, 'screen': 3829, 'piece': 3272, 'ham': 2011, 'glorious': 1921, 'rubbish': 3748, 'source': 4086, 'pleasure': 3306, 'infamous': 2284, 'sexy': 3911, 'sixties': 4011, 'oscar': 3133, 'picture': 3269, 'adapted': 114, 'leo': 2571, 'subjects': 4254, 'taking': 4352, 'treated': 4573, 'innocent': 2294, 'york': 4985, 'seek': 3858, 'fortune': 1806, 'sees': 3866, 'cross': 1066, 'social': 4049, 'con': 928, 'fresh': 1833, 'revelation': 3674, 'reality': 3551, 'essentially': 1523, 'unlikely': 4671, 'physical': 3262, 'street': 4216, 'mainstream': 2709, 'beyond': 476, 'homosexual': 2145, 'encounter': 1466, 'strangely': 4212, 'attitude': 346, 'acted': 98, 'superb': 4296, 'brenda': 575, 'miles': 2843, 'beautifully': 429, 'altogether': 202, 'direction': 1261, 'aliens': 184, 'under': 4639, 'without': 4913, 'criticism': 1063, 'hidden': 2096, 'trek': 4578, 'returned': 3666, 'official': 3094, 'base': 402, 'deep': 1154, 'space': 4090, '12': 3, 'ships': 3935, 'opportunity': 3121, 'rising': 3703, 'ship': 3934, 'computer': 927, 'green': 1971, 'equally': 1510, 'fine': 1729, 'driven': 1365, 'develop': 1222, 'using': 4698, 'jimmy': 2403, 'dean': 1139, 'hysterical': 2208, 'viewed': 4737, 'eyes': 1613, 'science': 3816, '3000': 43, 'rate': 3526, 'fed': 1682, 'far': 1653, 'farce': 1654, 'placed': 3283, 'proves': 3447, 'sometimes': 4067, 'writers': 4969, 'producers': 3416, 'question': 3487, 'whale': 4857, 'justice': 2438, 'delightful': 1168, 'spoof': 4127, 'middle': 2833, 'contact': 961, 'hearts': 2066, 'longer': 2645, 'thrown': 4481, 'abusive': 75, 'bank': 394, 'account': 89, 'stewart': 4184, 'friendly': 1836, 'davis': 1126, 'philip': 3252, 'sick': 3963, 'contract': 973, 'ex': 1549, 'released': 3603, 'nicholas': 3010, 'campbell': 663, 'paid': 3169, 'greedy': 1969, 'blew': 505, 'brains': 563, 'offered': 3088, 'order': 3126, 'easily': 1406, 'local': 2634, 'shop': 3945, 'arrested': 298, 'guts': 1999, 'hired': 2117, 'arm': 292, 'law': 2538, 'police': 3322, 'church': 813, 'fall': 1637, 'advantage': 129, 'naive': 2958, 'widow': 4883, 'lover': 2672, 'step': 4175, 'ahead': 159, 'covers': 1024, 'crimes': 1056, 'party': 3200, 'steven': 4182, 'richards': 3687, 'attorney': 348, 'de': 1131, 'los': 2653, 'knows': 2493, 'da': 1094, 'evidence': 1546, 'against': 147, 'fast': 1661, 'closing': 859, 'cash': 709, 'daughter': 1121, 'ruby': 3749, 'fatal': 1664, 'mistake': 2871, 'shell': 3927, 'blow': 514, 'concept': 930, 'whats': 4860, 'wrong': 4973, 'deeply': 1156, 'atmospheric': 334, 'horrifying': 2167, 'surreal': 4317, 'nightmare': 3014, 'lynch': 2691, 'empire': 1464, 'blue': 518, 'mixed': 2877, 'earth': 1403, 'angel': 231, 'heart': 2064, 'mention': 2810, 'forbidden': 1785, 'gonna': 1936, 'expecting': 1578, 'luck': 2681, 'words': 4938, 'strange': 4211, 'appreciate': 279, 'wwii': 4975, 'fantasy': 1652, 'kids': 2467, 'starring': 4154, 'angela': 232, 'witch': 4909, 'professor': 3422, 'nazi': 2977, 'invasion': 2340, 'inventive': 2341, 'loads': 2633, 'delight': 1167, 'exciting': 1563, 'tunes': 4603, 'lifetime': 2594, 'roy': 3745, 'aid': 160, 'nasty': 2968, 'dated': 1119, 'care': 684, 'entertained': 1498, 'mix': 2876, 'effect': 1428, 'genuine': 1891, 'magic': 2703, 'hundred': 2195, 'cinematic': 818, 'road': 3709, 'mars': 2746, 'perfection': 3225, 'featuring': 1681, 'legend': 2564, 'flash': 1745, 'rating': 3529, 'trailer': 4554, 'hearing': 2063, 'stephen': 4176, 'king': 2479, 'praise': 3364, 'wanted': 4789, 'huge': 2185, 'thriller': 4472, 'boys': 559, 'adam': 111, 'bill': 481, 'directing': 1260, 'hit': 2122, 'twist': 4617, 'revealed': 3671, 're': 3535, 'gem': 1877, 'absolute': 71, 'weak': 4824, 'reaches': 3538, 'thoroughly': 4459, 'abysmal': 76, 'dialog': 1232, 'pants': 3182, 'failure': 1629, 'charm': 767, 'begins': 444, 'walks': 4780, 'immediately': 2242, 'working': 4944, 'apparently': 270, '1968': 16, 'manages': 2725, 'expert': 1585, 'eventually': 1537, 'knowledge': 2491, 'plan': 3287, 'system': 4345, 'suspend': 4329, 'disbelief': 1277, 'maggie': 2702, 'smith': 4038, 'million': 2847, 'managed': 2723, 'realize': 3552, 'worthless': 4954, 'guessing': 1991, 'post': 3352, 'shame': 3918, 'vague': 4705, 'details': 1219, 'lost': 2660, 'directors': 1266, 'amusing': 221, 'low': 2676, 'budget': 610, 'potential': 3355, 'fortunately': 1805, 'forgotten': 1797, 'respect': 3652, 'costs': 1004, 'showed': 3956, 'sci': 3815, 'fi': 1701, 'flicks': 1755, 'remain': 3609, 'trapped': 4564, 'unseen': 4678, 'monsters': 2893, 'building': 615, 'follow': 1772, 'cube': 1076, 'similar': 3978, 'premise': 3370, 'vast': 4716, 'attempts': 343, 'further': 1853, 'deliberately': 1166, 'visual': 4757, 'focusing': 1769, 'element': 1442, 'react': 3540, 'incomprehensible': 2267, 'dangerous': 1110, 'exploration': 1593, 'bizarre': 492, 'latest': 2526, 'comedic': 888, 'wide': 4880, 'andrew': 228, 'miller': 2846, 'society': 4050, 'selfish': 3870, 'nature': 2975, 'ill': 2228, 'constructed': 959, 'andrews': 229, 'flaws': 1752, 'land': 2511, 'jail': 2376, 'sentence': 3881, 'worthy': 4956, 'trouble': 4592, 'discover': 1279, 'existence': 1571, 'panic': 3181, 'disappear': 1270, 'synopsis': 4344, 'reveal': 3670, 'happened': 2027, 'behavior': 446, 'strangers': 4214, 'horror': 2168, 'open': 3112, 'comfortable': 892, 'level': 2584, 'opposite': 3123, 'minutes': 2859, 'laughter': 2535, 'sunshine': 4294, 'realism': 3549, 'anti': 254, 'heroes': 2089, 'dynamic': 1394, 'desert': 1198, 'apart': 264, 'quality': 3484, 'twisted': 4618, 'intentions': 2321, 'entertain': 1497, 'development': 1225, 'relationship': 3597, 'background': 380, 'given': 1913, 'ultimately': 4628, 'generous': 1886, 'engaging': 1481, 'adequate': 120, 'wouldve': 4959, 'reasonably': 3559, 'convincing': 985, 'wrote': 4974, 'screenplay': 3831, 'featured': 1679, 'creative': 1041, 'positive': 3346, 'nonetheless': 3029, 'entertaining': 1499, 'intended': 2315, 'experienced': 1581, 'script': 3834, 'fans': 1650, 'pass': 3201, 'forty': 1807, 'reporter': 3636, 'repeatedly': 3632, 'combat': 882, 'supernatural': 4302, 'forces': 1788, 'pair': 3176, 'mid': 2832, '1970s': 17, 'due': 1382, 'nevertheless': 3002, 'strong': 4229, 'following': 1774, 'dig': 1250, 'tough': 4537, 'answer': 251, 'fairly': 1631, 'tend': 4400, 'formulaic': 1803, 'hand': 2015, 'genuinely': 1892, 'dvd': 1391, 'formula': 1802, 'fiction': 1702, 'columbo': 881, 'unfolds': 4651, 'according': 88, 'critics': 1064, 'audiences': 353, 'repetitive': 3633, 'standards': 4145, 'monster': 2892, 'said': 3774, 'editor': 1423, 'support': 4303, 'claims': 830, 'alas': 172, 'research': 3644, 'kills': 2474, 'tiresome': 4502, 'particularly': 3195, 'believes': 456, 'fire': 1734, 'normal': 3033, 'boss': 546, 'comical': 894, 'unbelievable': 4634, 'manage': 2722, 'contain': 962, 'unexpected': 4650, 'largely': 2518, 'favorites': 1672, 'heights': 2073, 'aware': 368, 'sharp': 3922, 'edge': 1418, 'closely': 855, 'hammer': 2014, 'studios': 4241, 'veteran': 4724, 'remarkably': 3614, 'devils': 1229, 'inspiration': 2300, 'stands': 4147, 'tom': 4514, 'doing': 1312, 'reveals': 3673, 'reputation': 3640, 'red': 3576, 'creepy': 1052, 'scream': 3826, 'running': 3756, 'chicago': 785, 'features': 1680, 'creature': 1045, 'makeup': 2717, 'godzilla': 1929, 'balance': 387, 'shines': 3932, 'carries': 699, 'sarah': 3785, 'worth': 4953, 'wave': 4818, 'pieces': 3273, 'extremely': 1610, 'color': 877, 'photography': 3260, 'editing': 1421, 'allows': 192, 'beliefs': 452, 'demons': 1178, 'powers': 3361, 'ancient': 225, 'explored': 1595, '2001': 31, 'recent': 3566, 'twilight': 4614, '2002': 32, 'blind': 506, '2003': 33, 'waitress': 4773, 'leading': 2547, 'ordinary': 3128, 'werewolf': 4850, 'exist': 1569, 'america': 212, 'within': 4912, 'force': 1786, 'fight': 1707, 'threat': 4467, 'headed': 2058, 'detective': 1220, 'steve': 4181, 'difficult': 1249, 'task': 4368, 'kane': 2442, 'mate': 2765, 'believing': 457, 'executive': 1567, 'digital': 1251, 'alan': 171, 'strip': 4228, 'club': 863, 'breasts': 572, 'attack': 337, 'leaves': 2556, 'everywhere': 1545, 'hill': 2108, 'afraid': 140, 'turned': 4606, 'fashion': 1659, 'showdown': 3955, 'lights': 2597, 'improve': 2254, 'transformation': 4560, 'achieved': 93, 'cgi': 740, 'embarrassed': 1453, 'london': 2641, '25': 40, 'improved': 2255, 'gore': 1941, 'gory': 1943, 'splatter': 4118, 'bodies': 526, 'fair': 1630, 'excited': 1561, 'technically': 4382, 'video': 4733, 'obscure': 3068, 'cable': 644, 'dentist': 1180, 'future': 1856, 'service': 3896, 'government': 1948, 'war': 4792, 'machine': 2693, 'body': 527, 'protect': 3443, 'serve': 3893, 'rank': 3518, 'whatsoever': 4861, 'fate': 1665, 'whose': 4877, 'destiny': 1212, 'soldier': 4053, 'anderson': 227, 'kurt': 2499, 'russell': 3761, 'scenario': 3808, 'bleak': 503, 'depicting': 1184, 'training': 4558, 'soldiers': 4054, 'todd': 4510, 'glimpse': 1919, 'career': 686, 'forever': 1792, 'arrives': 302, 'created': 1037, 'advanced': 128, 'follows': 1775, 'struggling': 4236, 'humanity': 2189, 'fear': 1676, 'above': 68, 'orders': 3127, 'emotion': 1458, 'individual': 2277, 'speaks': 4096, 'appreciated': 280, 'entirely': 1503, 'credit': 1049, 'ability': 65, 'credibility': 1047, 'lesser': 2576, 'talent': 4354, 'pretentious': 3383, 'superficial': 4298, 'notable': 3041, 'sandra': 3782, 'jason': 2383, 'colonel': 876, 'scott': 3824, 'memorable': 2802, 'gary': 1873, 'captain': 674, 'delivered': 1170, 'reminds': 3620, 'importance': 2246, '1984': 23, 'mad': 2696, 'max': 2774, 'share': 3920, '1930s': 11, 'weakest': 4825, 'admit': 122, '70': 55, 'spain': 4091, 'fully': 1847, 'wealth': 4826, 'excessive': 1560, 'condition': 937, 'poverty': 3357, 'portrayed': 3342, 'western': 4853, 'european': 1530, 'shocking': 3940, 'narrator': 2967, 'taught': 4370, 'teaching': 4377, 'realizing': 3555, 'access': 83, 'overcome': 3151, 'ok': 3098, 'necessary': 2984, 'slapstick': 4019, 'boredom': 542, 'bits': 490, 'bored': 541, 'appealing': 272, 'places': 3284, 'cinematography': 820, 'weight': 4840, 'kapoor': 2443, 'shape': 3919, 'tired': 4501, 'khan': 2459, 'deserve': 1199, 'award': 366, 'shocked': 3939, 'talks': 4361, 'fake': 1635, 'throwing': 4480, 'towards': 4540, 'superbly': 4297, 'rarely': 3524, 'thrilling': 4474, 'definite': 1161, 'fond': 1776, 'memories': 2803, 'lovers': 2673, 'turner': 4607, 'guide': 1993, 'looked': 2647, 'imdb': 2240, 'cover': 1022, 'cool': 989, 'elephant': 1444, 'dislike': 1288, 'busy': 635, 'realized': 3553, 'setting': 3900, 'common': 906, 'shooting': 3943, 'progresses': 3426, 'glad': 1916, 'comments': 901, 'tragedy': 4551, 'realistic': 3550, 'chain': 741, 'progress': 3425, 'mature': 2773, 'brown': 601, 'days': 1130, 'william': 4887, 'success': 4265, 'glory': 1922, 'relationships': 3598, 'stilted': 4190, 'tie': 4488, 'billy': 482, 'sports': 4130, 'education': 1424, 'changed': 750, '20th': 38, 'hoping': 2160, 'meaningful': 2781, 'effort': 1432, 'effectively': 1430, 'unlike': 4670, 'satisfied': 3789, 'intention': 2319, 'aspect': 321, 'national': 2970, 'block': 508, 'indian': 2274, 'complexity': 924, 'aspects': 322, 'haunted': 2050, 'japan': 2381, 'violent': 4748, 'zero': 4996, 'composed': 926, 'anywhere': 263, 'obvious': 3071, 'visits': 4756, 'temple': 4398, 'warned': 4798, 'familiar': 1643, 'stay': 4166, 'turns': 4609, 'drive': 1363, 'viewers': 4739, 'unintentional': 4658, 'campy': 664, 'possessed': 3347, 'martial': 2747, 'arts': 310, 'reminiscent': 3621, 'meant': 2784, 'cliff': 847, 'deaths': 1142, 'stretch': 4221, 'driver': 1366, 'smooth': 4041, 'portrayal': 3341, 'martin': 2748, 'specific': 4099, 'brief': 579, 'welcome': 4842, 'gripping': 1976, 'creates': 1038, '50s': 52, 'tense': 4403, 'wit': 4908, 'nick': 3012, 'gas': 1874, 'station': 4164, 'morgan': 2905, 'younger': 4990, 'judge': 2424, 'terry': 4415, 'obsessed': 3069, 'incident': 2260, 'score': 3822, 'jesus': 2399, 'beautiful': 428, 'scenery': 3810, 'sound': 4081, 'superior': 4300, 'everybody': 1540, 'violence': 4747, 'represent': 3637, 'nyc': 3065, 'depiction': 1185, 'thoughtful': 4463, 'suspenseful': 4331, 'powerful': 3360, 'dialogs': 1233, 'understanding': 4645, 'tongue': 4518, 'exercise': 1568, 'notably': 3042, 'relate': 3593, 'twice': 4613, 'accident': 84, 'soap': 4047, 'opera': 3116, 'conflict': 939, 'card': 681, 'implausible': 2245, 'spoiler': 4123, '40': 48, 'rain': 3506, 'crash': 1033, 'victims': 4730, 'unless': 4669, 'unfortunately': 4654, 'showing': 3958, 'week': 4837, 'member': 2800, 'havent': 2053, 'poorly': 3329, 'flat': 1748, 'passion': 3205, 'torture': 4529, 'cringe': 1059, 'lady': 2507, 'delivers': 1172, 'accents': 79, 'british': 589, 'lord': 2652, 'disaster': 1276, 'accepted': 82, 'forced': 1787, 'crying': 1074, 'laughed': 2532, 'loud': 2664, 'sets': 3899, 'colorful': 878, 'inappropriate': 2259, 'considered': 951, 'upset': 4687, 'producer': 3415, 'costumes': 1006, 'talented': 4355, 'chose': 804, 'awesome': 371, 'spoil': 4121, 'appeal': 271, 'ask': 316, 'zombies': 4998, 'robot': 3717, 'dinosaurs': 1256, 'cars': 702, 'team': 4378, 'hero': 2088, 'spoiled': 4122, 'offers': 3090, 'brian': 576, 'jay': 2386, 'dan': 1102, 'heat': 2067, 'vision': 4754, 'talents': 4356, 'community': 908, 'department': 1182, 'acceptable': 81, 'march': 2734, 'itll': 2369, 'drawing': 1350, 'pool': 3327, 'festival': 1697, 'opens': 3115, 'downhill': 1336, 'robinson': 3716, 'butt': 638, 'ranks': 3519, 'parent': 3187, 'viewing': 4740, 'controversial': 978, 'myself': 2953, 'achievement': 94, 'notorious': 3051, 'stinker': 4191, 'giant': 1905, 'spider': 4109, 'stolen': 4195, 'nine': 3017, 'losers': 2656, 'isolated': 2363, 'mansion': 2731, 'naturally': 2974, 'remaining': 3610, 'folks': 1771, 'murderer': 2941, 'amongst': 218, 'odd': 3080, 'relevant': 3604, 'admire': 121, 'inevitable': 2282, 'cold': 872, 'retarded': 3663, 'excitement': 1562, 'bloody': 513, 'multi': 2935, 'endless': 1473, 'footage': 1782, 'dancing': 1107, 'amateur': 206, 'rock': 3720, 'slight': 4027, 'satisfying': 3791, 'pre': 3365, 'screening': 3830, 'tonight': 4519, 'lived': 2626, 'stopped': 4202, 'play': 3296, 'spectacular': 4101, 'check': 777, 'buddies': 608, 'personality': 3242, 'awkward': 374, 'liners': 2611, 'bunch': 623, 'specifically': 4100, 'disney': 1289, 'square': 4136, 'throw': 4479, 'messages': 2820, 'listen': 2619, 'boyfriend': 558, 'members': 2801, 'depressed': 1187, 'falling': 1639, 'dare': 1113, 'honestly': 2147, 'pg': 3250, 'dropped': 1370, 'gotten': 1947, 'enjoys': 1489, 'exposure': 1599, 'bet': 470, 'theater': 4427, 'hits': 2125, 'checking': 778, 'channel': 753, 'alice': 182, 'aside': 315, 'resolution': 3649, 'kicked': 2461, 'subplots': 4256, 'write': 4967, 'flies': 1756, 'window': 4894, 'cut': 1089, 'nor': 3032, 'allow': 189, 'holmes': 2139, 'props': 3439, 'proud': 3444, 'yellow': 4981, 'bottle': 550, 'figured': 1712, 'friday': 1834, 'amitabh': 216, 'die': 1243, 'breath': 573, 'air': 164, 'honest': 2146, 'heroine': 2091, 'greatly': 1967, 'heads': 2059, 'bollywood': 530, 'search': 3841, 'youve': 4995, 'missing': 2869, 'somehow': 4063, 'prove': 3445, 'shut': 3961, 'clichés': 846, 'hated': 2047, 'bomb': 531, 'picked': 3266, 'summary': 4290, 'quotes': 3497, 'foreign': 1790, 'subtitles': 4259, 'feeling': 1685, 'wrapped': 4964, 'seeking': 3859, 'universal': 4665, 'spent': 4108, 'jr': 2423, 'mummy': 2937, 'wallace': 4782, 'dick': 1239, 'madness': 2698, 'lie': 2590, 'waiting': 4772, 'erotic': 1515, 'deals': 1137, 'originality': 3130, 'losing': 2658, 'gang': 1867, 'ie': 2221, 'credible': 1048, 'amateurish': 207, 'renting': 3629, 'irritating': 2359, 'hints': 2113, 'knew': 2486, 'roots': 3738, 'empty': 1465, 'developing': 1224, 'importantly': 2248, 'thrills': 4475, 'minimal': 2855, 'crew': 1053, 'equipment': 1511, 'makers': 2715, 'embarrassment': 1455, 'ended': 1470, 'release': 3602, 'machines': 2694, 'unable': 4631, 'portraying': 3343, 'emotional': 1459, 'albeit': 173, 'alien': 183, 'silent': 3975, 'degree': 1164, 'crack': 1027, 'snake': 4042, '18': 10, 'target': 4366, 'majority': 2712, 'complicated': 925, 'whilst': 4869, 'confused': 941, 'ties': 4490, 'loose': 2650, 'kicking': 2462, 'yourself': 4993, 'missed': 2867, 'stock': 4193, 'intelligent': 2314, 'spends': 4107, 'argument': 291, 'fantastic': 1651, 'ray': 3533, 'afterwards': 145, 'symbolism': 4341, 'laid': 2508, 'convoluted': 987, 'favor': 1670, 'sally': 3776, 'field': 1704, 'constant': 957, 'curious': 1083, 'goldberg': 1933, 'hiding': 2099, 'closet': 858, 'originally': 3131, 'annoyed': 248, 'abc': 63, '2nd': 41, 'ritter': 3705, 'produce': 3413, 'thousand': 4465, 'performs': 3234, 'banned': 395, 'communist': 907, 'highest': 2102, 'artist': 307, 'plant': 3293, 'happily': 2030, 'rose': 3739, 'intellectual': 2312, 'zombie': 4997, 'cage': 645, 'artists': 309, 'inner': 2292, 'lust': 2689, 'express': 1600, 'escape': 1517, 'whether': 4866, 'reach': 3536, 'process': 3412, 'destroyed': 1214, 'creation': 1040, 'escaped': 1518, 'circumstances': 822, 'remembered': 3617, 'expression': 1602, 'amazingly': 210, 'wonder': 4926, 'civil': 826, 'east': 1407, 'bang': 393, 'idiotic': 2219, 'stomach': 4196, 'ridiculous': 3693, 'cannibal': 669, 'receives': 3565, 'tea': 4373, 'attacks': 339, 'begin': 442, 'horribly': 2164, 'sword': 4340, 'fighting': 1709, 'fights': 1710, 'plastic': 3294, 'mood': 2898, 'store': 4204, 'practically': 3362, 'garbage': 1870, 'angels': 234, 'mixture': 2878, 'finding': 1727, 'feet': 1688, 'todays': 4509, 'instantly': 2306, 'halfway': 2008, 'pilot': 3276, 'introduced': 2337, 'drives': 1367, 'abilities': 64, 'domestic': 1318, 'purpose': 3474, 'journalist': 2420, 'mission': 2870, 'meaning': 2780, 'image': 2233, 'twenty': 4612, 'eight': 1436, 'particular': 3194, 'jessica': 2398, 'notch': 3043, 'expensive': 1579, 'unfortunate': 4653, 'imagination': 2236, 'draw': 1349, 'seven': 3903, 'matters': 2770, 'river': 3707, 'rough': 3741, 'spots': 4132, 'trip': 4588, 'robert': 3713, 'narration': 2965, 'calm': 655, 'captures': 678, 'incredibly': 2270, 'craig': 1030, 'brad': 560, 'surprising': 4315, 'brothers': 599, 'describe': 1194, 'single': 3996, 'grandmother': 1955, 'fare': 1655, 'cops': 993, 'driving': 1368, 'eighties': 1437, 'chased': 770, 'taxi': 4371, 'van': 4713, 'prior': 3400, 'whoever': 4872, 'gun': 1996, 'met': 2822, 'streets': 4217, 'chasing': 772, 'cia': 814, 'walking': 4779, 'travel': 4567, 'central': 735, 'airport': 167, 'sake': 3775, 'queen': 3485, 'castle': 712, 'officers': 3093, 'location': 2635, 'capture': 676, 'train': 4556, 'please': 3304, 'plausible': 3295, 'continuity': 972, 'hamilton': 2012, 'francis': 1818, 'charge': 761, 'unhappy': 4656, 'basement': 405, 'truth': 4599, 'mitchell': 2875, 'april': 284, '2006': 36, 'utter': 4701, 'build': 614, 'scare': 3803, 'shock': 3938, 'houses': 2180, 'sounding': 4083, 'class': 833, 'suggest': 4280, 'kiss': 2483, 'exploitation': 1592, 'california': 650, 'unknown': 4668, 'ultra': 4629, 'thin': 4449, 'impress': 2250, 'builds': 617, 'bringing': 586, 'baby': 376, 'bride': 577, 'taste': 4369, 'occasional': 3074, 'cheek': 779, 'grant': 1956, 'city': 825, 'mouse': 2919, 'adorable': 124, 'tarzan': 4367, 'pit': 3278, 'edward': 1426, 'carter': 703, 'italian': 2367, 'similarities': 3979, 'quirky': 3493, 'usa': 4691, 'destroy': 1213, 'sequel': 3885, 'grade': 1951, 'description': 1197, 'surrounding': 4319, 'worry': 4950, 'flashbacks': 1747, 'cheap': 774, 'scares': 3806, 'phone': 3255, 'sorts': 4078, 'link': 2613, 'motivation': 2914, 'carry': 700, 'forest': 1791, 'useless': 4695, 'locked': 2637, 'horrific': 2166, 'beneath': 464, 'somewhere': 4069, 'holds': 2131, 'hurts': 2203, 'strength': 4219, 'fears': 1677, 'feelings': 1686, 'thus': 4486, 'blunt': 520, 'ease': 1404, 'youth': 4994, 'bible': 477, 'code': 869, 'christians': 809, 'rich': 3685, 'suffered': 4276, 'translation': 4562, 'author': 359, 'currently': 1085, 'glass': 1917, 'listening': 2620, 'self': 3869, 'wonderfully': 4929, 'states': 4163, 'dawson': 1128, 'ruth': 3763, 'roman': 3731, 'instance': 2304, 'walter': 4784, 'restaurant': 3658, 'business': 633, 'anthony': 253, 'mann': 2728, 'landscape': 2513, 'gorgeous': 1942, 'equal': 1509, 'biggest': 480, 'suppose': 4305, 'cliche': 843, 'learns': 2553, 'addition': 118, 'french': 1830, 'ought': 3138, 'touching': 4536, 'charlie': 765, 'christmas': 810, 'timeless': 4496, 'classics': 837, 'enjoying': 1487, 'holiday': 2134, 'spirit': 4113, 'letter': 2581, 'spell': 4104, 'sam': 3777, 'oddly': 3081, 'mentions': 2813, 'response': 3654, 'term': 4405, 'loss': 2659, 'advice': 133, 'cruel': 1070, 'sadly': 3769, 'donald': 1321, 'presence': 3373, 'ann': 244, 'sadistic': 3768, 'murdered': 2940, 'insulting': 2310, 'intelligence': 2313, 'sutherland': 4333, 'wasting': 4810, '60s': 54, 'epic': 1506, 'directorial': 1265, 'debut': 1143, 'pull': 3461, 'screenwriter': 3833, 'jesse': 2397, 'cinematographer': 819, 'assistant': 326, 'francisco': 1819, 'unit': 4663, 'arthur': 305, 'hal': 2006, 'costume': 1005, 'ralph': 3510, 'design': 1202, 'received': 3564, 'nomination': 3026, 'heston': 2094, 'president': 3378, 'jackson': 2375, 'claire': 831, 'stevens': 4183, 'drags': 1345, '75': 57, 'religion': 3607, 'golden': 1934, 'swimming': 4338, 'upper': 4685, 'floor': 1759, 'apartment': 265, 'stops': 4203, 'suit': 4284, 'drops': 1372, 'breaks': 571, 'happening': 2028, 'enters': 1496, 'watches': 4814, 'fallen': 1638, 'mouth': 2920, 'includes': 2263, 'suspicious': 4332, 'discussion': 1284, 'persona': 3239, 'zone': 4999, 'vietnam': 4735, 'cause': 723, 'fellow': 1691, 'christ': 807, 'army': 295, 'metal': 2823, 'pick': 3265, 'overrated': 3156, 'clean': 838, 'priest': 3392, 'neck': 2985, 'unoriginal': 4673, 'tame': 4363, 'excuse': 1564, 'proved': 3446, 'suck': 4269, 'millions': 2848, 'amounts': 220, 'wind': 4893, 'owner': 3159, 'albert': 174, 'riding': 3695, 'countryside': 1015, 'fathers': 1667, 'margaret': 2735, 'finale': 1723, 'bite': 489, 'eat': 1411, 'throat': 4476, 'enjoyment': 1488, 'wore': 4939, 'endearing': 1469, 'feminist': 1695, 'gags': 1862, 'quit': 3494, 'crazy': 1035, 'skip': 4016, 'cup': 1080, 'west': 4852, 'influenced': 2287, 'rise': 3702, 'keaton': 2448, 'blues': 519, 'wayne': 4821, 'grows': 1985, 'correct': 1000, 'adults': 126, 'gordon': 1940, 'audio': 354, 'wake': 4774, 'list': 2617, 'internet': 2327, 'gag': 1861, 'center': 732, 'across': 96, 'intensity': 2317, 'kenneth': 2455, 'branagh': 564, '2004': 34, 'jonathan': 2417, 'brady': 561, 'mine': 2853, '50': 51, 'prequel': 3372, 'focuses': 1768, 'tracy': 4546, 'wishing': 4907, 'involves': 2348, 'steal': 4170, 'trust': 4598, 'paper': 3183, 'spy': 4135, 'franchise': 1817, 'product': 3418, 'antics': 255, 'complaint': 920, 'reduced': 3579, 'guilty': 1995, 'torn': 4528, 'filming': 1718, 'core': 995, 'draws': 1352, 'foster': 1809, 'dad': 1095, 'hence': 2083, 'marks': 2742, 'ride': 3692, 'writer': 4968, 'pulling': 3463, 'christopher': 811, 'typically': 4624, 'segment': 3867, 'museum': 2945, 'beauty': 430, 'jaw': 2384, 'lousy': 2667, 'dry': 1377, 'reaction': 3541, 'natural': 2973, 'wear': 4830, 'chinese': 796, 'warriors': 4803, 'explanation': 1590, 'unbearable': 4633, 'wendy': 4846, 'conversation': 980, 'speaking': 4095, 'actions': 101, 'coach': 868, 'teachers': 4376, 'actual': 108, 'forgive': 1795, 'catches': 715, 'descent': 1193, 'screams': 3828, 'raised': 3508, 'jump': 2429, 'sacrifice': 3766, 'somebody': 4062, 'ah': 158, 'breaking': 570, 'doubts': 1333, 'hitchcock': 2123, 'household': 2179, 'thrillers': 4473, 'intrigued': 2334, 'normally': 3034, 'abuse': 74, 'raise': 3507, 'countries': 1013, 'drop': 1369, 'lips': 2615, 'secretary': 3850, 'loyal': 2679, 'suffers': 4278, 'allowed': 190, 'thief': 4448, 'subject': 4253, 'vincent': 4746, 'critic': 1061, 'wanting': 4790, 'mild': 2839, 'walk': 4775, 'stayed': 4167, 'twelve': 4611, 'rented': 3628, 'bone': 533, 'chilling': 794, 'winters': 4901, 'scottish': 3825, 'folk': 1770, 'facts': 1624, 'filmmakers': 1720, 'sell': 3871, 'failing': 1627, 'settle': 3902, 'immensely': 2243, 'turkey': 4604, 'beast': 422, 'provide': 3448, 'wives': 4918, 'endure': 1475, 'tim': 4494, 'combined': 885, 'combine': 884, 'stellar': 4174, 'pathetic': 3210, 'flesh': 1753, 'unpleasant': 4674, 'attractive': 351, 'definition': 1163, 'kicks': 2463, 'insult': 2309, 'hideous': 2098, 'madonna': 2699, 'sloppy': 4030, 'era': 1513, 'inept': 2281, 'lighting': 2596, 'satire': 3788, 'breathtaking': 574, 'visuals': 4759, 'sea': 3838, 'surfing': 4311, 'shark': 3921, 'waters': 4817, 'vicious': 4728, 'rolling': 3730, 'hilariously': 2107, 'crocodile': 1065, 'actresses': 106, 'meaningless': 2782, 'trash': 4565, 'producing': 3417, 'species': 4098, 'scientific': 3817, 'information': 2288, 'waited': 4771, 'weeks': 4839, 'virgin': 4749, 'daily': 1097, 'tone': 4517, 'wedding': 4836, 'tall': 4362, 'meet': 2793, 'amazed': 208, 'adult': 125, 'won': 4925, 'fabulous': 1615, 'factor': 1622, 'slaughter': 4021, 'pretend': 3381, 'survive': 4321, 'suffer': 4275, 'gotta': 1946, 'sing': 3992, 'sunday': 4293, 'devil': 1228, 'beat': 423, 'crisis': 1060, 'unpredictable': 4675, 'unforgettable': 4652, 'sidney': 3968, 'lumet': 2688, 'titles': 4506, 'kim': 2475, 'broadcast': 591, 'halloween': 2010, 'linda': 2609, 'blair': 497, 'stranger': 4213, 'repeat': 3630, 'lacks': 2505, 'surprises': 4314, 'shelf': 3926, 'staring': 4152, 'passes': 3203, 'plans': 3292, 'proof': 3434, 'security': 3854, 'cameras': 660, 'miscast': 2862, 'wacky': 4769, 'comedian': 887, 'romantic': 3733, 'devoid': 1230, 'colors': 879, 'settings': 3901, 'china': 795, 'asked': 317, 'affect': 136, 'race': 3499, '1983': 22, 'germany': 1898, 'burt': 629, 'reynolds': 3684, 'academy': 77, 'aged': 149, '16': 8, 'months': 2897, 'scared': 3805, 'smart': 4035, 'finished': 1733, 'marketing': 2741, 'loving': 2675, 'student': 4238, 'parody': 3192, 'defend': 1158, 'previously': 3388, 'attend': 344, 'tribute': 4581, 'succeeds': 4264, 'jeff': 2390, 'remains': 3611, 'planet': 3289, 'superman': 4301, 'returns': 3668, 'misses': 2868, 'lane': 2515, 'kate': 2446, 'married': 2744, 'meanwhile': 2785, 'clark': 832, 'singers': 3994, 'parker': 3191, 'silly': 3976, 'spite': 4117, 'therefore': 4439, 'older': 3101, 'vote': 4766, 'brazil': 568, '2000': 30, '2005': 35, 'join': 2412, 'rings': 3699, 'hudson': 2184, 'instinct': 2308, 'stone': 4197, 'press': 3379, 'copies': 992, 'stunning': 4244, 'smile': 4036, 'frame': 1815, 'catherine': 719, 'gritty': 1977, 'caliber': 649, 'semi': 3874, 'gruesome': 1986, 'doomed': 1327, 'rooms': 3736, 'curiosity': 1082, 'transfer': 4559, 'la': 2500, 'scooby': 3820, 'doo': 1325, 'remote': 3622, 'mini': 2854, 'pat': 3208, 'stupidity': 4248, 'passing': 3204, 'presumably': 3380, 'flashback': 1746, 'grand': 1953, 'tradition': 4549, 'stress': 4220, 'un': 4630, '45': 50, 'chest': 784, 'forth': 1804, 'logic': 2638, 'leaving': 2557, 'model': 2880, 'bullets': 621, 'enterprise': 1495, 'compelled': 915, 'kirk': 2482, 'desperately': 1209, 'appearing': 277, 'magnificent': 2705, 'boot': 538, 'eyed': 1612, 'hello': 2078, 'aimed': 162, 'slasher': 4020, 'mindless': 2851, 'priceless': 3390, 'eaten': 1412, 'attempting': 342, 'pulled': 3462, 'restored': 3659, 'edition': 1422, 'juvenile': 2441, 'bland': 500, 'strictly': 4223, 'burning': 627, 'freedom': 1828, 'rogers': 3725, 'oil': 3097, 'lacked': 2503, 'bush': 632, 'signs': 3973, 'horses': 2171, 'clothing': 861, 'alternate': 200, 'energy': 1478, 'buddy': 609, 'honor': 2150, 'doll': 1313, 'lacking': 2504, 'jet': 2400, 'moronic': 2907, 'month': 2896, 'baseball': 403, 'rush': 3759, 'uneven': 4649, 'convey': 982, 'terror': 4412, 'barely': 399, 'russian': 3762, 'poetic': 3313, 'pictures': 3270, 'germans': 1897, 'avoided': 364, 'carefully': 689, 'propaganda': 3435, 'holy': 2140, 'soft': 4051, 'ghost': 1902, 'wished': 4905, 'protagonist': 3441, 'swear': 4334, 'cried': 1054, 'covered': 1023, 'psychotic': 3459, 'event': 1535, 'psycho': 3457, 'nightmares': 3015, 'freddy': 1826, 'trailers': 4555, 'ring': 3698, '11': 2, 'danger': 1109, 'pearl': 3220, 'international': 2326, 'faces': 1618, 'needless': 2989, 'directly': 1263, 'suggests': 4282, 'silence': 3974, 'bin': 483, 'surprisingly': 4316, 'angry': 238, 'ken': 2453, 'calls': 654, 'september': 3884, '1973': 19, 'recognition': 3568, 'choreography': 802, 'deaf': 1134, 'muslim': 2949, 'guard': 1988, 'explosion': 1596, 'paying': 3217, 'thru': 4483, 'teeth': 4393, 'expectations': 1576, 'murphy': 2944, 'mountains': 2918, 'regret': 3591, 'masterpieces': 2760, 'desire': 1205, 'gangster': 1868, 'decisions': 1152, 'watchable': 4812, 'shakespeare': 3915, 'explained': 1587, 'sounded': 4082, 'convince': 983, 'literature': 2623, 'connected': 945, 'contained': 963, 'german': 1896, 'root': 3737, 'stays': 4169, 'growing': 1983, 'certain': 737, 'letters': 2582, 'greek': 1970, 'exists': 1573, 'ego': 1435, 'sticks': 4186, 'drunken': 1376, 'outrageous': 3145, 'sophisticated': 4075, 'length': 2569, 'flight': 1757, 'lay': 2542, 'dude': 1381, 'mile': 2842, 'parties': 3196, 'airplane': 166, 'surely': 4309, 'handsome': 2021, 'candy': 668, 'succeed': 4262, 'consistently': 954, 'ms': 2931, 'warm': 4794, 'willing': 4889, 'types': 4622, 'wed': 4835, 'accidentally': 85, 'laura': 2536, 'conceived': 929, 'shoes': 3941, 'fill': 1714, 'grave': 1962, 'trade': 4547, 'greed': 1968, 'disturbing': 1300, 'execution': 1566, 'blows': 517, 'latter': 2528, 'elizabeth': 1445, 'drunk': 1375, 'supposedly': 4307, 'celluloid': 731, 'atrocious': 335, 'agreed': 156, 'wild': 4885, 'remarkable': 3613, 'doctors': 1305, 'worlds': 4947, 'sub': 4252, 'pregnant': 3369, 'businessman': 634, 'display': 1291, 'countless': 1012, 'kings': 2481, 'punch': 3466, 'belief': 451, 'stinks': 4192, 'grim': 1974, 'storyline': 4208, 'wolf': 4920, 'vice': 4727, 'likable': 2598, 'tomatoes': 4515, 'switch': 4339, 'channels': 754, 'blockbuster': 509, 'demand': 1174, 'wow': 4962, 'capable': 672, '1980': 20, 'entry': 1504, 'vampire': 4711, 'names': 2963, 'mysterious': 2955, 'object': 3066, 'deeper': 1155, 'sinister': 3998, 'leader': 2546, 'seat': 3845, 'row': 3744, 'spot': 4131, 'uncomfortable': 4637, 'village': 4743, 'miike': 2837, 'dozen': 1338, 'disturbed': 1299, 'cave': 727, 'surviving': 4323, 'woods': 4935, 'decide': 1148, 'angeles': 233, 'arrive': 300, 'liking': 2604, 'helping': 2081, 'safety': 3772, 'darkness': 1117, 'meat': 2787, 'morning': 2906, 'hunting': 2201, 'survival': 4320, 'massive': 2756, 'broke': 593, 'park': 3190, 'trees': 4577, 'lovely': 2671, 'knife': 2487, 'providing': 3451, 'witness': 4914, 'choose': 799, 'potentially': 3356, 'awfully': 373, 'blowing': 515, 'terrifying': 4410, 'territory': 4411, 'area': 286, 'aforementioned': 139, 'suggested': 4281, 'surface': 4310, 'nearby': 2980, 'hanging': 2023, 'corpse': 999, 'related': 3594, 'fourth': 1813, '3rd': 47, 'eric': 1514, 'roberts': 3714, 'position': 3345, 'understood': 4647, 'garbo': 1871, 'limited': 2606, 'douglas': 1334, 'karen': 2444, 'homer': 2144, 'simpson': 3987, 'buffs': 612, 'heck': 2071, 'bold': 528, 'obnoxious': 3067, 'gods': 1928, 'market': 2740, 'pseudo': 3454, 'philosophical': 3253, 'round': 3742, 'qualities': 3483, 'heavy': 2070, 'subtlety': 4261, 'phantom': 3251, 'meeting': 2794, 'photographer': 3259, 'gratuitous': 1961, 'noted': 3045, 'drink': 1361, 'load': 2631, 'construction': 960, 'site': 4005, 'macy': 2695, 'rex': 3683, 'dinosaur': 1255, 'politically': 3325, 'thank': 4421, 'families': 1644, 'ridiculously': 3694, 'tied': 4489, 'count': 1010, 'cuba': 1075, 'clue': 864, 'idiot': 2218, 'uwe': 4703, 'boll': 529, 'moon': 2900, 'terribly': 4408, 'insane': 2296, 'appalling': 268, 'dreadful': 1353, 'nobody': 3022, 'julie': 2428, 'broad': 590, 'gentle': 1890, 'ambitious': 211, 'dressing': 1359, 'pro': 3406, 'wanna': 4786, 'beach': 419, 'washington': 4806, 'generations': 1884, 'vegas': 4717, 'hip': 2114, 'capturing': 679, 'occurs': 3078, 'anyways': 262, 'akshay': 169, 'cry': 1073, 'chooses': 800, 'guilt': 1994, 'mistaken': 2872, 'believed': 455, 'essential': 1522, '30s': 44, '40s': 49, 'nostalgic': 3039, 'nostalgia': 3038, 'ball': 388, 'popularity': 3334, 'pokemon': 3320, 'associated': 327, 'anime': 243, 'outcome': 3142, 'lesson': 2577, 'vehicle': 4718, 'jeremy': 2394, 'awe': 370, 'relies': 3606, 'bond': 532, 'wears': 4832, 'tremendous': 4579, 'gross': 1978, 'hopefully': 2157, 'spoke': 4125, 'questions': 3489, 'record': 3573, 'mistakes': 2873, 'daughters': 1122, 'six': 4010, 'misery': 2865, 'purely': 3472, 'hide': 2097, 'reaching': 3539, 'afternoon': 144, 'contrary': 974, 'helen': 2075, 'numerous': 3062, 'touched': 4534, 'extras': 1608, 'skin': 4015, 'blond': 510, 'sun': 4292, 'shining': 3933, 'ruins': 3752, 'receive': 3563, 'chances': 748, 'improvement': 2256, 'thomas': 4458, 'dramas': 1347, 'earned': 1401, 'silver': 3977, 'structure': 4233, 'tune': 4602, 'trademark': 4548, 'commercials': 903, 'storytelling': 4209, 'ironically': 2356, 'creators': 1044, 'format': 1799, 'conspiracy': 956, 'chess': 783, 'tender': 4401, 'leslie': 2574, 'corner': 996, 'room': 3735, 'counter': 1011, 'terrorist': 4413, 'agent': 150, 'dennis': 1179, 'african': 142, 'forgot': 1796, 'occur': 3076, 'primary': 3394, 'ignore': 2224, 'operation': 3117, 'detail': 1217, 'sky': 4017, 'characterization': 759, 'introduce': 2336, 'key': 2458, 'matches': 2764, 'whereas': 4865, 'described': 1195, 'integrity': 2311, 'border': 539, 'complain': 919, 'painful': 3171, 'ran': 3513, 'regarding': 3589, 'defense': 1159, 'traveling': 4568, 'various': 4715, 'locations': 2636, 'exotic': 1574, 'displayed': 1292, 'lower': 2677, 'dreams': 1355, 'ps': 3453, 'vhs': 4725, 'sneak': 4043, 'shortly': 3947, 'convinced': 984, 'chaos': 755, 'clown': 862, 'signed': 3971, 'blame': 499, 'armed': 293, 'served': 3894, 'corrupt': 1001, 'criminals': 1058, 'idiots': 2220, 'blatant': 502, 'presented': 3376, 'urban': 4688, 'korean': 2495, 'responsibility': 3655, 'junk': 2436, 'porno': 3337, 'jumps': 2432, 'edited': 1420, 'joey': 2408, 'superhero': 4299, 'painfully': 3172, 'batman': 413, 'funnier': 1850, 'bobby': 525, 'ultimate': 4627, 'curse': 1086, 'date': 1118, 'table': 4346, 'distribution': 1298, 'pulp': 3465, 'anne': 246, 'baker': 385, 'blake': 498, 'nelson': 2997, 'testament': 4417, 'pet': 3246, 'possibilities': 3348, 'lake': 2509, 'treat': 4572, 'sensitive': 3879, 'loser': 2655, 'em': 1452, 'sucks': 4271, 'reminded': 3619, 'lawyer': 2541, 'faith': 1633, 'technical': 4381, 'stunt': 4245, 'tedious': 4387, '60': 53, 'shallow': 3917, 'website': 4834, 'careers': 687, 'blend': 504, 'dropping': 1371, 'raising': 3509, 'overwhelming': 3157, 'speed': 4103, 'backdrop': 379, 'hippie': 2115, 'movements': 2924, 'intentionally': 2320, 'challenge': 743, 'false': 1641, 'images': 2235, 'throws': 4482, 'blown': 516, 'handed': 2016, 'ups': 4686, 'revolution': 3680, 'hates': 2048, 'university': 4667, 'treats': 4575, 'cities': 823, 'hollow': 2135, 'garden': 1872, 'tree': 4576, 'tear': 4379, 'walls': 4783, 'warn': 4797, 'achieve': 92, 'tends': 4402, 'humble': 2191, 'quiet': 3492, 'daring': 1114, 'rebel': 3561, 'category': 718, 'notion': 3050, 'masters': 2761, 'beings': 449, 'offering': 3089, 'happiness': 2031, 'solution': 4059, 'bound': 553, 'slave': 4022, 'state': 4160, 'creativity': 1042, 'criminal': 1057, 'waves': 4819, 'critical': 1062, 'kubrick': 2496, 'alex': 179, 'painting': 3175, 'minimum': 2856, 'beating': 425, 'treatment': 4574, 'divorce': 1301, 'brand': 565, 'spoken': 4126, 'worn': 4948, 'danes': 1108, 'kinds': 2478, 'court': 1020, 'rights': 3697, 'opened': 3113, 'warren': 4801, 'everyday': 1541, 'disagree': 1269, '2007': 37, 'depicts': 1186, 'savage': 3793, 'delivery': 1173, 'measure': 2786, 'wisdom': 4902, 'connect': 944, 'robbins': 3712, 'interpretation': 2328, 'pity': 3281, 'destroying': 1215, 'caused': 724, 'theory': 4437, 'installment': 2303, 'greater': 1965, 'capital': 673, 'fly': 1763, 'balls': 390, 'birthday': 487, 'frequently': 1832, 'rare': 3523, 'wholly': 4874, 'innocence': 2293, 'jerk': 2395, 'filmmaker': 1719, 'fascinating': 1658, 'gothic': 1945, 'narrative': 2966, 'edgar': 1417, 'concerns': 934, 'johnson': 2411, 'royal': 3746, 'built': 618, 'ignorant': 2223, 'slowly': 4032, 'authentic': 358, 'methods': 2825, 'lengthy': 2570, 'parallel': 3185, 'darker': 1116, 'technique': 4383, 'crucial': 1068, 'cutting': 1092, 'captured': 677, 'exaggerated': 1552, 'attempted': 341, 'wall': 4781, 'reactions': 3542, 'accompanied': 86, 'peoples': 3222, 'kitchen': 2485, 'sink': 3999, 'industry': 2280, 'assume': 328, 'pretending': 3382, 'adding': 117, 'scripted': 3835, 'sucked': 4270, 'danny': 1112, 'factory': 1623, 'experiment': 1583, 'mill': 2845, 'mirror': 2861, 'struggles': 4235, 'minded': 2850, 'miracle': 2860, 'faced': 1617, 'pan': 3180, 'joan': 2404, 'frankenstein': 1822, 'fame': 1642, 'howard': 2182, 'medical': 2790, 'officer': 3092, 'lawrence': 2539, 'alexander': 180, 'pleasant': 3302, 'severe': 3906, 'suffice': 4279, 'gender': 1878, 'colour': 880, 'rachel': 3500, 'enemy': 1477, '17': 9, 'rid': 3690, 'provided': 3449, 'enthusiasm': 1501, 'unwatchable': 4682, 'interview': 2329, 'camp': 662, 'seemingly': 3863, 'benefit': 465, 'current': 1084, 'jumped': 2430, 'portrait': 3339, '90': 60, 'reached': 3537, 'melting': 2799, 'fictional': 1703, 'politics': 3326, 'concern': 931, 'morality': 2903, 'generated': 1882, 'wealthy': 4827, 'groups': 1981, 'public': 3460, 'regardless': 3590, 'intent': 2318, 'ruthless': 3764, 'flynn': 1765, 'league': 2549, 'von': 4765, 'dancer': 1104, 'directs': 1267, 'niro': 3019, 'san': 3780, 'murderous': 2942, 'hitting': 2126, 'personally': 3243, 'mom': 2885, 'animal': 239, 'italy': 2368, 'affected': 137, 'lonely': 2643, 'promised': 3431, 'joy': 2422, 'diamond': 1236, 'dolph': 1317, 'user': 4696, 'bothered': 549, 'below': 462, 'assigned': 325, 'visible': 4753, 'closed': 854, 'weekend': 4838, 'prevent': 3385, 'westerns': 4854, 'efforts': 1433, 'al': 170, 'incoherent': 2265, 'serves': 3895, 'genres': 1889, 'purchased': 3470, 'sole': 4055, 'revolutionary': 3681, 'identify': 2216, 'responsible': 3656, '1972': 18, 'persons': 3244, 'push': 3477, 'fault': 1668, 'morris': 2908, 'pushed': 3478, 'professional': 3421, 'cox': 1026, 'navy': 2976, 'sign': 3970, 'belongs': 460, 'thumbs': 4485, 'mental': 2808, 'annie': 247, 'hall': 2009, 'cheating': 776, 'depressing': 1188, 'holes': 2133, 'bo': 521, 'distant': 1295, 'horrendous': 2162, 'nuclear': 3057, 'coherent': 871, 'frustration': 1843, 'wondered': 4927, 'hoped': 2156, 'ironic': 2355, 'menacing': 2807, 'fitting': 1742, 'moore': 2901, 'philosophy': 3254, 'comics': 895, 'analysis': 224, 'evening': 1534, 'loosely': 2651, 'picks': 3268, 'stated': 4161, 'direct': 1258, 'elvis': 1451, 'walked': 4776, 'newspaper': 3006, 'preview': 3386, 'initial': 2290, 'mere': 2814, 'mexican': 2826, 'north': 3036, 'mst3k': 2932, 'toys': 4543, 'outer': 3143, 'widely': 4881, '1960s': 15, 'eager': 1396, 'reunion': 3669, 'via': 4726, 'sleazy': 4023, 'creator': 1043, '1940s': 13, 'stiff': 4187, 'uninspired': 4657, 'ludicrous': 2685, 'involve': 2345, 'displays': 1293, 'comic': 893, 'beatty': 427, 'babe': 375, 'toy': 4542, 'sexually': 3910, 'context': 968, 'pink': 3277, 'demands': 1175, 'cooper': 990, 'companion': 909, 'staying': 4168, 'develops': 1226, 'shirley': 3936, 'dollars': 1315, 'shouldnt': 3952, 'ready': 3546, 'childish': 791, 'heroic': 2090, 'weapons': 4829, 'sport': 4129, 'prize': 3405, 'pointed': 3317, 'commentary': 899, 'borrowed': 545, 'strongly': 4231, 'lazy': 2543, 'warning': 4800, 'novels': 3053, 'simon': 3982, 'careful': 688, 'rage': 3505, 'briefly': 580, 'mysteries': 2954, 'dealt': 1138, 'noble': 3021, 'merit': 2816, 'likely': 2601, 'robbery': 3711, 'determined': 1221, 'dinner': 1254, 'mundane': 2938, 'catching': 716, 'wizard': 4919, 'oz': 3160, 'triumph': 4590, 'speech': 4102, 'journey': 2421, 'motives': 2916, 'asian': 314, 'europe': 1529, 'timing': 4498, 'examples': 1554, 'kay': 2447, 'extended': 1604, 'frustrated': 1842, 'nonsense': 3030, 'carried': 698, 'pamela': 3179, 'negative': 2991, 'et': 1526, 'influence': 2286, 'france': 1816, 'elsewhere': 1449, 'profound': 3423, 'petty': 3249, 'generally': 1881, 'individuals': 2278, 'marie': 2737, 'remarks': 3615, 'opinions': 3119, '100': 1, 'moral': 2902, 'marriage': 2743, 'despair': 1207, 'bed': 436, 'limits': 2607, 'relations': 3596, 'sincere': 3991, 'miserable': 2863, 'historically': 2120, 'interaction': 2322, 'recorded': 3574, 'indie': 2276, 'closer': 856, 'julia': 2427, 'patrick': 3213, 'books': 536, 'fell': 1690, 'asleep': 320, 'exceptionally': 1559, 'caring': 691, 'aunt': 355, 'attraction': 350, 'faithful': 1634, 'flop': 1760, 'escapes': 1519, 'dealing': 1136, 'dawn': 1127, 'movement': 2923, 'lyrics': 2692, 'cares': 690, 'uninteresting': 4660, 'paint': 3173, 'designed': 1203, 'females': 1694, 'buff': 611, 'overlooked': 3154, 'library': 2589, 'kelly': 2452, 'astaire': 330, 'bridge': 578, 'musicals': 2948, 'scientists': 3819, 'fighter': 1708, 'realise': 3548, 'racial': 3501, 'hatred': 2049, 'calling': 653, 'jewish': 2401, 'routine': 3743, 'chase': 769, '1st': 28, 'scope': 3821, 'dozens': 1339, 'craven': 1034, 'cure': 1081, 'shorts': 3948, 'suited': 4286, 'vaguely': 4706, 'gradually': 1952, 'moved': 2922, 'standing': 4146, 'awards': 367, 'everyones': 1543, 'vampires': 4712, 'chief': 788, 'alert': 178, 'killings': 2473, 'mass': 2753, 'control': 977, 'fay': 1674, 'competent': 917, 'clumsy': 866, 'resist': 3648, 'explains': 1589, 'abandoned': 62, 'collection': 874, 'pile': 3275, 'starred': 4153, 'sits': 4006, 'rolled': 3729, 'goofy': 1939, 'appear': 273, 'bedroom': 437, 'bargain': 400, 'undoubtedly': 4648, 'lowest': 2678, 'sir': 4000, 'page': 3167, 'occasion': 3073, 'evident': 1547, 'promising': 3433, 'texas': 4418, 'massacre': 2754, 'rick': 3689, 'cusack': 1088, 'pop': 3330, 'aint': 163, 'eastern': 1408, 'global': 1920, 'warming': 4795, 'laws': 2540, 'fail': 1625, 'bore': 540, 'advise': 134, 'packed': 3166, 'fancy': 1649, 'separate': 3883, 'satan': 3787, 'dracula': 1341, 'ad': 110, 'hunter': 2199, 'toilet': 4512, 'burned': 626, 'food': 1778, 'bath': 411, 'acid': 95, 'marty': 2749, 'awake': 365, 'till': 4493, 'carol': 693, 'spin': 4112, 'staged': 4140, 'warner': 4799, 'blacks': 494, 'bar': 396, 'thrill': 4471, 'dancers': 1105, 'presentation': 3375, 'depression': 1189, 'mgm': 2828, 'dances': 1106, 'regard': 3588, 'suits': 4287, 'bus': 631, '35': 45, 'honesty': 2148, 'sympathy': 4343, 'diane': 1238, 'bacall': 377, 'ridden': 3691, 'worthwhile': 4955, 'chicks': 787, 'harder': 2035, 'inane': 2258, 'snl': 4044, 'bag': 384, 'seventies': 3904, 'spending': 4106, 'chair': 742, 'emphasis': 1463, 'cases': 708, 'perry': 3237, 'wilson': 4891, 'returning': 3667, 'followed': 1773, 'brooks': 596, 'brutal': 603, 'conventional': 979, 'slick': 4026, 'confidence': 938, 'pops': 3332, 'surrounded': 4318, 'treasure': 4571, 'possibility': 3349, 'hung': 2197, 'stage': 4139, 'ourselves': 3140, 'wannabe': 4787, 'unrealistic': 4677, 'disappoint': 1272, 'underground': 4640, 'bugs': 613, 'mel': 2796, 'brooklyn': 595, 'shy': 3962, 'radio': 3504, 'rabbit': 3498, 'cameos': 658, 'lucky': 2683, 'rubber': 3747, 'relative': 3599, 'civilization': 827, 'motion': 2913, 'troubled': 4593, 'exact': 1550, 'graphic': 1958, 'screens': 3832, 'irony': 2357, 'held': 2074, 'relief': 3605, 'hart': 2041, 'charisma': 762, 'skill': 4013, 'concerning': 933, 'powell': 3358, 'carrying': 701, 'closest': 857, 'appreciation': 281, 'describes': 1196, 'flow': 1762, 'chris': 806, 'miserably': 2864, 'manager': 2724, 'truck': 4595, 'hospital': 2172, 'unconvincing': 4638, 'gray': 1963, 'conflicts': 940, 'exposed': 1598, 'joined': 2413, 'refreshing': 3586, 'paranoia': 3186, 'sullivan': 4288, 'recording': 3575, 'backgrounds': 381, 'stylish': 4251, '1950s': 14, 'performed': 3230, 'opposed': 3122, 'wonders': 4931, 'stretched': 4222, 'host': 2173, 'dollar': 1314, 'gangsters': 1869, 'properly': 3437, 'method': 2824, 'afford': 138, 'spare': 4093, 'print': 3399, 'ed': 1415, 'views': 4742, 'basis': 408, 'dedicated': 1153, 'admittedly': 123, 'clips': 852, 'bbc': 417, 'discovery': 1282, 'circle': 821, 'bela': 450, 'lugosi': 2686, 'overacting': 3149, 'creep': 1051, 'hat': 2045, 'tight': 4492, 'smoke': 4039, 'cagney': 646, 'screaming': 3827, 'weve': 4856, 'belong': 459, 'talked': 4359, 'rat': 3525, 'required': 3641, 'gabriel': 1859, 'jackie': 2374, 'chan': 746, 'stunts': 4246, 'tape': 4365, 'enter': 1494, 'trial': 4580, 'mob': 2879, 'perform': 3227, 'mall': 2720, 'suffering': 4277, 'subtle': 4260, 'competition': 918, 'agrees': 157, 'womans': 4922, 'attacked': 338, 'vacation': 4704, 'dreary': 1356, 'tad': 4347, 'removed': 3624, '3d': 46, 'spring': 4134, 'cared': 685, 'innovative': 2295, 'techniques': 4384, 'larger': 2519, 'distinct': 1296, 'similarly': 3980, 'proper': 3436, 'faults': 1669, 'patient': 3211, 'demon': 1177, 'buying': 641, 'bourne': 554, 'alfred': 181, 'doc': 1303, 'bat': 410, 'incompetent': 2266, 'jeffrey': 2391, 'carpenter': 694, 'laurel': 2537, 'hardy': 2037, 'scientist': 3818, 'stan': 4142, 'destruction': 1216, 'contest': 967, 'glenn': 1918, 'sends': 3876, 'disneys': 1290, 'huh': 2187, 'rats': 3531, 'illegal': 2229, 'craft': 1028, 'emotions': 1461, 'handle': 2018, 'appropriate': 283, 'claimed': 829, 'grab': 1949, 'struggle': 4234, 'odds': 3082, 'peace': 3219, 'nazis': 2978, 'strike': 4224, 'resembles': 3646, 'hills': 2109, 'celebrity': 729, 'jumping': 2431, 'fired': 1735, 'logical': 2639, 'rocket': 3721, 'performers': 3232, 'eva': 1531, 'horrors': 2169, 'psychic': 3456, 'dating': 1120, 'medium': 2792, 'ashley': 313, 'bell': 458, 'letting': 2583, 'likewise': 2603, 'gifted': 1907, 'performer': 3231, 'deserves': 1201, 'fx': 1858, 'overlook': 3153, 'decade': 1144, 'deadly': 1133, 'scrooge': 3837, 'provoking': 3452, 'june': 2433, 'charismatic': 763, 'someones': 4065, 'broadway': 592, 'mayor': 2777, 'sentimental': 3882, 'unbelievably': 4635, 'wreck': 4965, 'saves': 3796, 'alike': 185, 'cheated': 775, 'stones': 4198, 'included': 2262, 'walken': 4777, 'stiller': 4189, 'jerry': 2396, 'studio': 4240, 'singer': 3993, 'causing': 726, 'answers': 252, 'womens': 4924, 'impressed': 2251, 'wins': 4899, 'jenny': 2393, 'haunting': 2051, 'emotionally': 1460, 'farm': 1656, 'essence': 1521, 'finest': 1730, 'iran': 2350, 'fetched': 1698, 'behave': 445, 'goal': 1925, '1933': 12, 'magazine': 2701, 'approach': 282, 'cabin': 643, 'fever': 1699, 'commit': 904, 'simplistic': 3985, 'hitler': 2124, 'presents': 3377, 'saturday': 3792, 'sympathetic': 4342, 'study': 4242, 'reviewers': 3678, 'fox': 1814, 'namely': 2962, 'continued': 970, 'equivalent': 1512, 'arrived': 301, 'nations': 2971, 'adams': 112, 'paltrow': 3178, 'davies': 1125, '1980s': 21, 'sum': 4289, 'india': 2273, 'gandhi': 1866, 'lessons': 2578, 'terrorists': 4414, 'fred': 1825, 'tortured': 4530, 'feed': 1683, 'dogs': 1311, 'eating': 1413, 'notes': 3046, 'doom': 1326, 'ramones': 3512, 'polished': 3323, 'brosnan': 597, 'cell': 730, 'consistent': 953, 'loaded': 2632, 'wound': 4960, 'humans': 2190, 'vengeance': 4719, 'anger': 235, 'delivering': 1171, 'piano': 3264, 'psychological': 3458, 'fest': 1696, 'montage': 2894, 'africa': 141, 'rendition': 3625, 'ashamed': 312, 'robin': 3715, 'disappeared': 1271, 'pal': 3177, 'poster': 3353, 'spielberg': 4110, 'ron': 3734, 'button': 639, 'shirt': 3937, 'victoria': 4732, 'emily': 1456, 'oscars': 3134, 'pleased': 3305, 'successful': 4266, 'secondly': 3847, 'marry': 2745, 'ted': 4386, 'fonda': 1777, 'bakshi': 386, 'shine': 3931, 'detailed': 1218, 'device': 1227, 'drivel': 1364, 'dire': 1257, 'andy': 230, 'apes': 267, 'dickens': 1240, 'randomly': 3515, 'pages': 3168, 'risk': 3704, 'damage': 1099, 'property': 3438, 'trite': 4589, 'daniel': 1111, 'chapter': 757, 'reel': 3581, 'attached': 336, 'cheese': 780, 'eerie': 1427, 'wounded': 4961, 'subplot': 4255, 'monkeys': 2891, 'water': 4816, 'unintentionally': 4659, 'program': 3424, 'union': 4661, 'splendid': 4119, 'st': 4137, 'arrival': 299, 'citizen': 824, 'survivors': 4325, 'split': 4120, 'jamie': 2379, 'estate': 1525, 'judy': 2426, 'insight': 2298, 'catholic': 720, 'corruption': 1002, 'pride': 3391, 'text': 4419, 'merits': 2817, 'asking': 318, 'frequent': 1831, 'legs': 2566, 'invisible': 2344, 'wells': 4845, 'moody': 2899, 'oliver': 3102, 'resort': 3650, 'bull': 619, 'killers': 2471, 'rental': 3627, 'cg': 739, 'apparent': 269, 'dust': 1388, 'neighbors': 2994, 'smiling': 4037, 'friendship': 1838, 'trail': 4553, 'goodness': 1938, 'expressed': 1601, 'weapon': 4828, 'strikes': 4225, 'frightening': 1839, 'population': 3335, 'statement': 4162, '1990': 24, 'sings': 3997, 'burns': 628, 'wing': 4896, 'lively': 2627, 'encounters': 1467, 'productions': 3420, 'shadow': 3912, 'prisoners': 3403, 'overly': 3155, 'inspector': 2299, 'giallo': 1904, '1996': 26, '1999': 27, 'lincoln': 2608, 'existent': 1572, 'scores': 3823, 'artificial': 306, 'relatives': 3601, 'transition': 4561, 'mentally': 2809, 'trashy': 4566, 'interviews': 2330, 'maria': 2736, 'sold': 4052, 'consequences': 947, 'seeks': 3860, 'melodramatic': 2798, 'devoted': 1231, 'resident': 3647, 'psychiatrist': 3455, 'prom': 3429, 'lou': 2663, 'justin': 2440, 'louis': 2665, 'nancy': 2964, 'drew': 1360, 'hunt': 2198, 'wrestling': 4966, 'visually': 4758, 'inducing': 2279, 'virtually': 4751, 'flawless': 1751, 'unsettling': 4679, 'clues': 865, 'refuses': 3587, 'wrap': 4963, 'lees': 2560, 'hearted': 2065, 'classes': 834, 'precious': 3366, 'scarecrow': 3804, 'fifteen': 1706, 'nonsensical': 3031, 'bonus': 534, 'hyde': 2206, 'grandfather': 1954, 'promises': 3432, 'bergman': 466, 'advertising': 132, 'le': 2544, 'championship': 745, 'chick': 786, 'angle': 236, 'comparing': 913, 'jaws': 2385, 'landing': 2512, 'nose': 3037, 'struck': 4232, 'molly': 2884, 'courage': 1018, 'williams': 4888, 'forms': 1801, 'horse': 2170, 'steel': 4173, 'centered': 733, 'cameron': 661, 'showcase': 3954, 'emma': 1457, 'prepared': 3371, 'dorothy': 1330, 'rural': 3758, 'shake': 3914, 'assault': 324, 'aired': 165, 'trap': 4563, 'cary': 706, 'choreographed': 801, 'franco': 1820, 'gene': 1879, 'fields': 1705, 'tooth': 4524, 'coffee': 870, 'appearances': 275, 'louise': 2666, 'victor': 4731, 'buried': 624, 'gadget': 1860, 'overdone': 3152, 'homage': 2141, 'arms': 294, 'duty': 1390, 'portion': 3338, 'grey': 1973, 'intense': 2316, 'understated': 4646, 'stale': 4141, 'sadness': 3770, 'understandable': 4644, 'thugs': 4484, 'resources': 3651, 'useful': 4694, 'poignant': 3315, 'underlying': 4641, 'neil': 2995, 'tricks': 4583, 'fascinated': 1657, 'stanley': 4148, 'facing': 1620, 'health': 2060, 'primarily': 3393, 'rocky': 3723, 'album': 175, 'bands': 392, 'hardcore': 2034, 'attracted': 349, 'familys': 1646, 'cook': 988, 'ireland': 2352, 'hopper': 2161, 'robots': 3718, 'conversations': 981, 'imagery': 2234, 'united': 4664, 'kingdom': 2480, 'holly': 2136, 'writes': 4970, 'ghosts': 1903, 'dress': 1357, 'homeless': 2143, 'matt': 2768, 'masses': 2755, 'searching': 3842, 'thankfully': 4422, 'eccentric': 1414, 'ginger': 1908, 'lit': 2621, 'denzel': 1181, 'mickey': 2831, 'clip': 851, 'hbo': 2055, 'tap': 4364, 'hop': 2154, 'fbi': 1675, 'bare': 398, 'expressions': 1603, 'hook': 2152, 'authority': 360, 'engaged': 1480, 'gain': 1863, 'angles': 237, 'derek': 1192, 'inevitably': 2283, 'richardson': 3688, 'rushed': 3760, 'spike': 4111, 'reviewer': 3677, 'nail': 2957, 'chases': 771, 'player': 3298, 'matthau': 2771, 'tommy': 4516, 'lion': 2614, 'proceeds': 3411, 'australian': 357, 'kidnapped': 2466, 'nominated': 3025, 'underrated': 4642, 'abraham': 69, 'iron': 2354, 'prisoner': 3402, 'practice': 3363, 'schools': 3814, 'olivier': 3103, 'jealous': 2388, 'considerable': 950, 'lena': 2568, 'ignored': 2225, 'travels': 4569, 'li': 2587, 'extraordinary': 1607, 'offended': 3085, 'amanda': 205, 'masterful': 2758, 'kudos': 2497, 'cousin': 1021, 'secrets': 3852, 'jobs': 2406, 'advance': 127, 'web': 4833, 'increasingly': 2268, 'striking': 4226, 'boxing': 556, 'ward': 4793, 'riveting': 3708, 'titanic': 4503, 'beats': 426, 'swim': 4337, 'hollywoods': 2138, 'stooges': 4200, 'raymond': 3534, 'godfather': 1927, 'berlin': 467, 'reasonable': 3558, 'blob': 507, 'photo': 3257, 'sides': 3967, 'introduction': 2339, 'holding': 2130, 'enemies': 1476, 'unreal': 4676, 'irish': 2353, 'tiny': 4500, 'nights': 3016, 'thick': 4447, 'che': 773, 'stanwyck': 4149, 'corporate': 998, 'mike': 2838, 'deceased': 1146, 'viewings': 4741, 'patients': 3212, 'redemption': 3578, 'involvement': 2347, 'imitation': 2241, 'noise': 3024, 'inspiring': 2302, 'brave': 567, 'sandler': 3781, 'proceedings': 3410, 'timothy': 4499, 'judging': 2425, 'legal': 2563, 'orson': 3132, 'welles': 4844, 'manhattan': 2726, 'winds': 4895, 'substance': 4258, 'dragon': 1344, 'classical': 836, 'errors': 1516, 'maintain': 2710, 'spirited': 4114, 'jake': 2377, 'newly': 3004, 'explicit': 1591, 'revealing': 3672, 'stood': 4199, 'futuristic': 1857, 'distance': 1294, 'buildings': 616, 'princess': 3397, 'photographed': 3258, 'lewis': 2586, 'simplicity': 3984, 'basketball': 409, 'troops': 4591, 'drinking': 1362, 'desperation': 1210, 'seagal': 3839, 'lloyd': 2630, 'multiple': 2936, 'bay': 416, 'kong': 2494, 'successfully': 4267, 'ape': 266, 'size': 4012, 'partly': 3197, 'versus': 4722, 'carrey': 696, 'freeman': 1829, 'challenging': 744, 'absence': 70, 'foul': 1810, 'report': 3635, 'justify': 2439, 'theyll': 4444, 'trained': 4557, 'fulci': 1845, 'plague': 3285, 'sappy': 3784, 'warrior': 4802, 'sellers': 3872, 'discuss': 1283, 'walker': 4778, 'seed': 3856, 'disjointed': 1287, 'subsequent': 4257, 'sexuality': 3909, 'defined': 1160, 'arguably': 289, 'price': 3389, 'iraq': 2351, 'mario': 2738, 'freak': 1824, 'survivor': 4324, 'donna': 1323, 'florida': 1761, 'contrast': 975, 'arnold': 296, 'willis': 4890, '13th': 5, 'doors': 1329, 'hype': 2207, 'vulnerable': 4768, 'principal': 3398, 'topic': 4526, 'lying': 2690, 'bullet': 620, 'racist': 3503, 'mafia': 2700, 'dvds': 1392, 'outfit': 3144, 'urge': 4689, 'hunters': 2200, 'britain': 588, 'harsh': 2040, 'amy': 222, 'ensues': 1493, 'mechanical': 2788, 'nervous': 2999, 'witnessed': 4915, 'burton': 630, 'cardboard': 682, 'command': 897, 'icon': 2211, 'beloved': 461, 'kissing': 2484, 'threw': 4470, 'shall': 3916, 'commented': 900, 'rotten': 3740, 'cd': 728, 'leg': 2562, 'explore': 1594, 'bird': 484, 'brutally': 604, 'witches': 4910, 'peters': 3248, 'bathroom': 412, 'dub': 1378, 'ninja': 3018, 'listed': 2618, 'sidekick': 3966, 'harvey': 2042, 'souls': 4080, 'punishment': 3467, 'phony': 3256, 'physically': 3263, 'boom': 537, 'areas': 287, 'educational': 1425, 'convincingly': 986, 'elegant': 1441, 'mountain': 2917, 'hong': 2149, 'desired': 1206, 'witnesses': 4916, '80': 58, 'theaters': 4428, 'lisa': 2616, 'soviet': 4089, 'sequels': 3886, 'ha': 2002, 'luckily': 2682, 'australia': 356, 'reflection': 3585, 'dignity': 1252, 'directions': 1262, 'smaller': 4034, 'soccer': 4048, 'explaining': 1588, 'purposes': 3475, 'tag': 4348, 'consists': 955, 'hamlet': 2013, 'unaware': 4632, 'football': 1783, 'domino': 1319, 'latin': 2527, 'shed': 3924, 'wes': 4851, 'vivid': 4760, 'alcoholic': 177, 'streep': 4215, 'hugh': 2186, 'purchase': 3469, 'junior': 2435, 'lemmon': 2567, 'ears': 1402, 'jazz': 2387, 'survived': 4322, 'virus': 4752, 'helicopter': 2076, 'captivating': 675, 'blah': 496, 'steps': 4177, 'instant': 2305, 'enormous': 1490, 'hanks': 2025, 'beer': 439, 'distracting': 1297, 'intimate': 2331, 'duke': 1383, 'topless': 4527, 'threatening': 4468, 'floating': 1758, 'fooled': 1780, 'kennedy': 2454, 'assumed': 329, 'neat': 2982, 'staff': 4138, 'painted': 3174, 'betty': 474, 'endings': 1472, 'serving': 3897, 'pursuit': 3476, 'slightest': 4028, 'conservative': 948, 'valley': 4707, 'daddy': 1096, 'poetry': 3314, 'generic': 1885, 'plight': 3308, 'faster': 1662, 'kidding': 2465, 'nurse': 3063, 'carradine': 695, 'poem': 3312, 'represented': 3638, 'guarantee': 1987, 'guessed': 1990, 'alcohol': 176, 'shadows': 3913, 'tiger': 4491, 'yesterday': 4983, 'projects': 3428, 'designs': 1204, 'concert': 935, 'mentioning': 2812, 'elm': 1447, 'bette': 471, 'mildred': 2841, 'agents': 151, 'theyd': 4443, 'diana': 1237, 'purple': 3473, 'tracks': 4545, 'yelling': 4980, 'engage': 1479, 'dalton': 1098, 'valuable': 4708, 'fury': 1855, 'laughably': 2531, 'ethan': 1528, 'bettie': 473, 'paulie': 3215, 'solely': 4056, 'elderly': 1440, 'felix': 1689, 'photos': 3261, 'nuts': 3064, 'der': 1191, 'raw': 3532, 'neo': 2998, 'swedish': 4335, 'reads': 3545, 'virginia': 4750, 'elvira': 1450, 'mistress': 2874, 'demented': 1176, 'streisand': 4218, 'warmth': 4796, 'lone': 2642, 'stargate': 4151, 'georges': 1894, 'ballet': 389, 'respected': 3653, 'curtis': 1087, 'lately': 2524, 'arrogant': 303, 'cake': 648, 'retired': 3664, 'gerard': 1895, 'montana': 2895, 'voiced': 4762, 'polanski': 3321, 'karloff': 2445, 'widmark': 4882, 'hank': 2024, 'ocean': 3079, 'myers': 2952, 'falk': 1636, 'resemblance': 3645, 'dutch': 1389, 'menace': 2806, 'chorus': 803, 'wandering': 4785, 'gundam': 1997, 'cole': 873, 'modesty': 2883, 'eyre': 1614, 'rochester': 3719, 'carl': 692, 'grinch': 1975, 'atlantis': 332, 'rangers': 3517}\n"
     ]
    }
   ],
   "source": [
    "print(str(vocabulary))"
   ]
  },
  {
   "cell_type": "markdown",
   "metadata": {},
   "source": [
    "Once you have added the endpoint name to the Lambda function, click on **Save**. Your Lambda function is now up and running. Next we need to create a way for our web app to execute the Lambda function."
   ]
  },
  {
   "cell_type": "markdown",
   "metadata": {},
   "source": [
    "### Setting up API Gateway\n",
    "\n",
    "Now that our Lambda function is set up, it is time to create a new API using API Gateway that will trigger the Lambda function we have just created.\n",
    "\n",
    "Using AWS Console, navigate to **Amazon API Gateway** and then click on **Get started**.\n",
    "\n",
    "On the next page, make sure that **New API** is selected and give the new api a name, for example, `sentiment_analysis_web_app`. Then, click on **Create API**.\n",
    "\n",
    "Now we have created an API, however it doesn't currently do anything. What we want it to do is to trigger the Lambda function that we created earlier.\n",
    "\n",
    "Select the **Actions** dropdown menu and click **Create Method**. A new blank method will be created, select its dropdown menu and select **POST**, then click on the check mark beside it.\n",
    "\n",
    "For the integration point, make sure that **Lambda Function** is selected and click on the **Use Lambda Proxy integration**. This option makes sure that the data that is sent to the API is then sent directly to the Lambda function with no processing. It also means that the return value must be a proper response object as it will also not be processed by API Gateway.\n",
    "\n",
    "Type the name of the Lambda function you created earlier into the **Lambda Function** text entry box and then click on **Save**. Click on **OK** in the pop-up box that then appears, giving permission to API Gateway to invoke the Lambda function you created.\n",
    "\n",
    "The last step in creating the API Gateway is to select the **Actions** dropdown and click on **Deploy API**. You will need to create a new Deployment stage and name it anything you like, for example `prod`.\n",
    "\n",
    "You have now successfully set up a public API to access your SageMaker model. Make sure to copy or write down the URL provided to invoke your newly created public API as this will be needed in the next step. This URL can be found at the top of the page, highlighted in blue next to the text **Invoke URL**."
   ]
  },
  {
   "cell_type": "markdown",
   "metadata": {},
   "source": [
    "## Step 7: Deploying our web app\n",
    "\n",
    "Now that we have a publicly available API, we can start using it in a web app. For our purposes, we have provided a simple static html file which can make use of the public api you created earlier.\n",
    "\n",
    "In the `website` folder there should be a file called `index.html`. Download the file to your computer and open that file up in a text editor of your choice. There should be a line which contains **\\*\\*REPLACE WITH PUBLIC API URL\\*\\***. Replace this string with the url that you wrote down in the last step and then save the file.\n",
    "\n",
    "Now, if you open `index.html` on your local computer, your browser will behave as a local web server and you can use the provided site to interact with your SageMaker model.\n",
    "\n",
    "If you'd like to go further, you can host this html file anywhere you'd like, for example using github or hosting a static site on Amazon's S3. Once you have done this you can share the link with anyone you'd like and have them play with it too!\n",
    "\n",
    "> **Important Note** In order for the web app to communicate with the SageMaker endpoint, the endpoint has to actually be deployed and running. This means that you are paying for it. Make sure that the endpoint is running when you want to use the web app but that you shut it down when you don't need it, otherwise you will end up with a surprisingly large AWS bill."
   ]
  },
  {
   "cell_type": "markdown",
   "metadata": {},
   "source": [
    "### Delete the endpoint\n",
    "\n",
    "Remember to always shut down your endpoint if you are no longer using it. You are charged for the length of time that the endpoint is running so if you forget and leave it on you could end up with an unexpectedly large bill."
   ]
  },
  {
   "cell_type": "code",
   "execution_count": null,
   "metadata": {},
   "outputs": [],
   "source": [
    "xgb_predictor.delete_endpoint()"
   ]
  },
  {
   "cell_type": "markdown",
   "metadata": {},
   "source": [
    "## Optional: Clean up\n",
    "\n",
    "The default notebook instance on SageMaker doesn't have a lot of excess disk space available. As you continue to complete and execute notebooks you will eventually fill up this disk space, leading to errors which can be difficult to diagnose. Once you are completely finished using a notebook it is a good idea to remove the files that you created along the way. Of course, you can do this from the terminal or from the notebook hub if you would like. The cell below contains some commands to clean up the created files from within the notebook."
   ]
  },
  {
   "cell_type": "code",
   "execution_count": null,
   "metadata": {},
   "outputs": [],
   "source": [
    "# First we will remove all of the files contained in the data_dir directory\n",
    "!rm $data_dir/*\n",
    "\n",
    "# And then we delete the directory itself\n",
    "!rmdir $data_dir\n",
    "\n",
    "# Similarly we remove the files in the cache_dir directory and the directory itself\n",
    "!rm $cache_dir/*\n",
    "!rmdir $cache_dir"
   ]
  },
  {
   "cell_type": "code",
   "execution_count": null,
   "metadata": {},
   "outputs": [],
   "source": []
  }
 ],
 "metadata": {
  "kernelspec": {
   "display_name": "conda_python3",
   "language": "python",
   "name": "conda_python3"
  },
  "language_info": {
   "codemirror_mode": {
    "name": "ipython",
    "version": 3
   },
   "file_extension": ".py",
   "mimetype": "text/x-python",
   "name": "python",
   "nbconvert_exporter": "python",
   "pygments_lexer": "ipython3",
   "version": "3.6.10"
  }
 },
 "nbformat": 4,
 "nbformat_minor": 2
}