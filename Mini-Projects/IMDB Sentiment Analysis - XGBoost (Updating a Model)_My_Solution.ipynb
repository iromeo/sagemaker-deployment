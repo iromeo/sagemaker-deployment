{
 "cells": [
  {
   "cell_type": "markdown",
   "metadata": {},
   "source": [
    "# Sentiment Analysis\n",
    "\n",
    "## Updating a Model in SageMaker\n",
    "\n",
    "_Deep Learning Nanodegree Program | Deployment_\n",
    "\n",
    "---\n",
    "\n",
    "In this notebook we will consider a situation in which a model that we constructed is no longer working as we intended. In particular, we will look at the XGBoost sentiment analysis model that we constructed earlier. In this case, however, we have some new data that our model doesn't seem to perform very well on. As a result, we will re-train our model and update an existing endpoint so that it uses our new model.\n",
    "\n",
    "This notebook starts by re-creating the XGBoost sentiment analysis model that was created in earlier notebooks. This means that you will have already seen the cells up to the end of Step 4. The new content in this notebook begins at Step 5.\n",
    "\n",
    "## Instructions\n",
    "\n",
    "Some template code has already been provided for you, and you will need to implement additional functionality to successfully complete this notebook. You will not need to modify the included code beyond what is requested. Sections that begin with '**TODO**' in the header indicate that you need to complete or implement some portion within them. Instructions will be provided for each section and the specifics of the implementation are marked in the code block with a `# TODO: ...` comment. Please be sure to read the instructions carefully!\n",
    "\n",
    "In addition to implementing code, there will be questions for you to answer which relate to the task and your implementation. Each section where you will answer a question is preceded by a '**Question:**' header. Carefully read each question and provide your answer below the '**Answer:**' header by editing the Markdown cell.\n",
    "\n",
    "> **Note**: Code and Markdown cells can be executed using the **Shift+Enter** keyboard shortcut. In addition, a cell can be edited by typically clicking it (double-click for Markdown cells) or by pressing **Enter** while it is highlighted."
   ]
  },
  {
   "cell_type": "markdown",
   "metadata": {},
   "source": [
    "## Step 1: Downloading the data\n",
    "\n",
    "The dataset we are going to use is very popular among researchers in Natural Language Processing, usually referred to as the [IMDb dataset](http://ai.stanford.edu/~amaas/data/sentiment/). It consists of movie reviews from the website [imdb.com](http://www.imdb.com/), each labeled as either '**pos**itive', if the reviewer enjoyed the film, or '**neg**ative' otherwise.\n",
    "\n",
    "> Maas, Andrew L., et al. [Learning Word Vectors for Sentiment Analysis](http://ai.stanford.edu/~amaas/data/sentiment/). In _Proceedings of the 49th Annual Meeting of the Association for Computational Linguistics: Human Language Technologies_. Association for Computational Linguistics, 2011.\n",
    "\n",
    "We begin by using some Jupyter Notebook magic to download and extract the dataset."
   ]
  },
  {
   "cell_type": "code",
   "execution_count": null,
   "metadata": {},
   "outputs": [],
   "source": [
    "%mkdir ../data\n",
    "!wget -O ../data/aclImdb_v1.tar.gz http://ai.stanford.edu/~amaas/data/sentiment/aclImdb_v1.tar.gz\n",
    "!tar -zxf ../data/aclImdb_v1.tar.gz -C ../data"
   ]
  },
  {
   "cell_type": "markdown",
   "metadata": {},
   "source": [
    "## Step 2: Preparing the data\n",
    "\n",
    "The data we have downloaded is split into various files, each of which contains a single review. It will be much easier going forward if we combine these individual files into two large files, one for training and one for testing."
   ]
  },
  {
   "cell_type": "code",
   "execution_count": null,
   "metadata": {},
   "outputs": [],
   "source": [
    "import os\n",
    "import glob\n",
    "\n",
    "def read_imdb_data(data_dir='../data/aclImdb'):\n",
    "    data = {}\n",
    "    labels = {}\n",
    "    \n",
    "    for data_type in ['train', 'test']:\n",
    "        data[data_type] = {}\n",
    "        labels[data_type] = {}\n",
    "        \n",
    "        for sentiment in ['pos', 'neg']:\n",
    "            data[data_type][sentiment] = []\n",
    "            labels[data_type][sentiment] = []\n",
    "            \n",
    "            path = os.path.join(data_dir, data_type, sentiment, '*.txt')\n",
    "            files = glob.glob(path)\n",
    "            \n",
    "            for f in files:\n",
    "                with open(f) as review:\n",
    "                    data[data_type][sentiment].append(review.read())\n",
    "                    # Here we represent a positive review by '1' and a negative review by '0'\n",
    "                    labels[data_type][sentiment].append(1 if sentiment == 'pos' else 0)\n",
    "                    \n",
    "            assert len(data[data_type][sentiment]) == len(labels[data_type][sentiment]), \\\n",
    "                    \"{}/{} data size does not match labels size\".format(data_type, sentiment)\n",
    "                \n",
    "    return data, labels"
   ]
  },
  {
   "cell_type": "code",
   "execution_count": null,
   "metadata": {},
   "outputs": [],
   "source": [
    "data, labels = read_imdb_data()\n",
    "print(\"IMDB reviews: train = {} pos / {} neg, test = {} pos / {} neg\".format(\n",
    "            len(data['train']['pos']), len(data['train']['neg']),\n",
    "            len(data['test']['pos']), len(data['test']['neg'])))"
   ]
  },
  {
   "cell_type": "code",
   "execution_count": null,
   "metadata": {},
   "outputs": [],
   "source": [
    "from sklearn.utils import shuffle\n",
    "\n",
    "def prepare_imdb_data(data, labels):\n",
    "    \"\"\"Prepare training and test sets from IMDb movie reviews.\"\"\"\n",
    "    \n",
    "    #Combine positive and negative reviews and labels\n",
    "    data_train = data['train']['pos'] + data['train']['neg']\n",
    "    data_test = data['test']['pos'] + data['test']['neg']\n",
    "    labels_train = labels['train']['pos'] + labels['train']['neg']\n",
    "    labels_test = labels['test']['pos'] + labels['test']['neg']\n",
    "    \n",
    "    #Shuffle reviews and corresponding labels within training and test sets\n",
    "    data_train, labels_train = shuffle(data_train, labels_train)\n",
    "    data_test, labels_test = shuffle(data_test, labels_test)\n",
    "    \n",
    "    # Return a unified training data, test data, training labels, test labets\n",
    "    return data_train, data_test, labels_train, labels_test"
   ]
  },
  {
   "cell_type": "code",
   "execution_count": null,
   "metadata": {},
   "outputs": [],
   "source": [
    "train_X, test_X, train_y, test_y = prepare_imdb_data(data, labels)\n",
    "print(\"IMDb reviews (combined): train = {}, test = {}\".format(len(train_X), len(test_X)))"
   ]
  },
  {
   "cell_type": "code",
   "execution_count": null,
   "metadata": {},
   "outputs": [],
   "source": [
    "train_X[100]"
   ]
  },
  {
   "cell_type": "markdown",
   "metadata": {},
   "source": [
    "## Step 3: Processing the data\n",
    "\n",
    "Now that we have our training and testing datasets merged and ready to use, we need to start processing the raw data into something that will be useable by our machine learning algorithm. To begin with, we remove any html formatting that may appear in the reviews and perform some standard natural language processing in order to homogenize the data."
   ]
  },
  {
   "cell_type": "code",
   "execution_count": null,
   "metadata": {},
   "outputs": [],
   "source": [
    "import nltk\n",
    "nltk.download(\"stopwords\")\n",
    "from nltk.corpus import stopwords\n",
    "from nltk.stem.porter import *\n",
    "stemmer = PorterStemmer()"
   ]
  },
  {
   "cell_type": "code",
   "execution_count": 3,
   "metadata": {},
   "outputs": [],
   "source": [
    "import re\n",
    "from bs4 import BeautifulSoup\n",
    "\n",
    "def review_to_words(review):\n",
    "    text = BeautifulSoup(review, \"html.parser\").get_text() # Remove HTML tags\n",
    "    text = re.sub(r\"[^a-zA-Z0-9]\", \" \", text.lower()) # Convert to lower case\n",
    "    words = text.split() # Split string into words\n",
    "    words = [w for w in words if w not in stopwords.words(\"english\")] # Remove stopwords\n",
    "    words = [PorterStemmer().stem(w) for w in words] # stem\n",
    "    \n",
    "    return words"
   ]
  },
  {
   "cell_type": "code",
   "execution_count": null,
   "metadata": {},
   "outputs": [],
   "source": [
    "review_to_words(train_X[100])"
   ]
  },
  {
   "cell_type": "code",
   "execution_count": 4,
   "metadata": {},
   "outputs": [],
   "source": [
    "import pickle\n",
    "import os\n",
    "\n",
    "cache_dir = os.path.join(\"../cache\", \"sentiment_analysis\")  # where to store cache files\n",
    "os.makedirs(cache_dir, exist_ok=True)  # ensure cache directory exists\n",
    "\n",
    "def preprocess_data(data_train, data_test, labels_train, labels_test,\n",
    "                    cache_dir=cache_dir, cache_file=\"preprocessed_data.pkl\"):\n",
    "    \"\"\"Convert each review to words; read from cache if available.\"\"\"\n",
    "\n",
    "    # If cache_file is not None, try to read from it first\n",
    "    cache_data = None\n",
    "    if cache_file is not None:\n",
    "        try:\n",
    "            with open(os.path.join(cache_dir, cache_file), \"rb\") as f:\n",
    "                cache_data = pickle.load(f)\n",
    "            print(\"Read preprocessed data from cache file:\", cache_file)\n",
    "        except:\n",
    "            pass  # unable to read from cache, but that's okay\n",
    "    \n",
    "    # If cache is missing, then do the heavy lifting\n",
    "    if cache_data is None:\n",
    "        print(\"Building cache...\")\n",
    "        # Preprocess training and test data to obtain words for each review\n",
    "        #words_train = list(map(review_to_words, data_train))\n",
    "        #words_test = list(map(review_to_words, data_test))\n",
    "        words_train = [review_to_words(review) for review in data_train]\n",
    "        words_test = [review_to_words(review) for review in data_test]\n",
    "        \n",
    "        # Write to cache file for future runs\n",
    "        if cache_file is not None:\n",
    "            cache_data = dict(words_train=words_train, words_test=words_test,\n",
    "                              labels_train=labels_train, labels_test=labels_test)\n",
    "            with open(os.path.join(cache_dir, cache_file), \"wb\") as f:\n",
    "                pickle.dump(cache_data, f)\n",
    "            print(\"Wrote preprocessed data to cache file:\", cache_file)\n",
    "    else:\n",
    "        print(\"Using cache...\")\n",
    "        # Unpack data loaded from cache file\n",
    "        words_train, words_test, labels_train, labels_test = (cache_data['words_train'],\n",
    "                cache_data['words_test'], cache_data['labels_train'], cache_data['labels_test'])\n",
    "    \n",
    "    print(\"Done\")\n",
    "    return words_train, words_test, labels_train, labels_test"
   ]
  },
  {
   "cell_type": "code",
   "execution_count": 5,
   "metadata": {},
   "outputs": [],
   "source": [
    "if \"train_X\" not in locals():\n",
    "    # let's load from cache, this values will be overriden in any case\n",
    "    train_X = None\n",
    "    test_X = None\n",
    "    train_y = None\n",
    "    test_y = None"
   ]
  },
  {
   "cell_type": "code",
   "execution_count": 6,
   "metadata": {},
   "outputs": [
    {
     "name": "stdout",
     "output_type": "stream",
     "text": [
      "Read preprocessed data from cache file: preprocessed_data.pkl\n",
      "Using cache...\n",
      "Done\n"
     ]
    }
   ],
   "source": [
    "# Preprocess data\n",
    "train_X, test_X, train_y, test_y = preprocess_data(train_X, test_X, train_y, test_y)"
   ]
  },
  {
   "cell_type": "markdown",
   "metadata": {},
   "source": [
    "### Extract Bag-of-Words features\n",
    "\n",
    "For the model we will be implementing, rather than using the reviews directly, we are going to transform each review into a Bag-of-Words feature representation. Keep in mind that 'in the wild' we will only have access to the training set so our transformer can only use the training set to construct a representation."
   ]
  },
  {
   "cell_type": "code",
   "execution_count": 7,
   "metadata": {},
   "outputs": [
    {
     "name": "stderr",
     "output_type": "stream",
     "text": [
      "/home/ec2-user/anaconda3/envs/pytorch_p36/lib/python3.6/site-packages/sklearn/externals/joblib/__init__.py:15: FutureWarning: sklearn.externals.joblib is deprecated in 0.21 and will be removed in 0.23. Please import this functionality directly from joblib, which can be installed with: pip install joblib. If this warning is raised when loading pickled models, you may need to re-serialize those models with scikit-learn 0.21+.\n",
      "  warnings.warn(msg, category=FutureWarning)\n"
     ]
    }
   ],
   "source": [
    "import numpy as np\n",
    "from sklearn.feature_extraction.text import CountVectorizer\n",
    "from sklearn.externals import joblib\n",
    "# joblib is an enhanced version of pickle that is more efficient for storing NumPy arrays\n",
    "\n",
    "def extract_BoW_features(words_train, words_test, vocabulary_size=5000,\n",
    "                         cache_dir=cache_dir, cache_file=\"bow_features.pkl\"):\n",
    "    \"\"\"Extract Bag-of-Words for a given set of documents, already preprocessed into words.\"\"\"\n",
    "    \n",
    "    # If cache_file is not None, try to read from it first\n",
    "    cache_data = None\n",
    "    if cache_file is not None:\n",
    "        try:\n",
    "            with open(os.path.join(cache_dir, cache_file), \"rb\") as f:\n",
    "                cache_data = joblib.load(f)\n",
    "            print(\"Read features from cache file:\", cache_file)\n",
    "        except:\n",
    "            pass  # unable to read from cache, but that's okay\n",
    "    \n",
    "    # If cache is missing, then do the heavy lifting\n",
    "    if cache_data is None:\n",
    "        print(\"Building cache...\")\n",
    "        # Fit a vectorizer to training documents and use it to transform them\n",
    "        # NOTE: Training documents have already been preprocessed and tokenized into words;\n",
    "        #       pass in dummy functions to skip those steps, e.g. preprocessor=lambda x: x\n",
    "        vectorizer = CountVectorizer(max_features=vocabulary_size,\n",
    "                preprocessor=lambda x: x, tokenizer=lambda x: x)  # already preprocessed\n",
    "        features_train = vectorizer.fit_transform(words_train).toarray()\n",
    "\n",
    "        # Apply the same vectorizer to transform the test documents (ignore unknown words)\n",
    "        features_test = vectorizer.transform(words_test).toarray()\n",
    "        \n",
    "        # NOTE: Remember to convert the features using .toarray() for a compact representation\n",
    "        \n",
    "        # Write to cache file for future runs (store vocabulary as well)\n",
    "        if cache_file is not None:\n",
    "            vocabulary = vectorizer.vocabulary_\n",
    "            cache_data = dict(features_train=features_train, features_test=features_test,\n",
    "                             vocabulary=vocabulary)\n",
    "            with open(os.path.join(cache_dir, cache_file), \"wb\") as f:\n",
    "                joblib.dump(cache_data, f)\n",
    "            print(\"Wrote features to cache file:\", cache_file)\n",
    "    else:\n",
    "        print(\"Using cache...\")\n",
    "        # Unpack data loaded from cache file\n",
    "        features_train, features_test, vocabulary = (cache_data['features_train'],\n",
    "                cache_data['features_test'], cache_data['vocabulary'])\n",
    "    \n",
    "    print(\"Done\")\n",
    "    # Return both the extracted features as well as the vocabulary\n",
    "    return features_train, features_test, vocabulary"
   ]
  },
  {
   "cell_type": "code",
   "execution_count": 8,
   "metadata": {},
   "outputs": [
    {
     "name": "stdout",
     "output_type": "stream",
     "text": [
      "Read features from cache file: bow_features.pkl\n",
      "Done\n"
     ]
    }
   ],
   "source": [
    "# Extract Bag of Words features for both training and test datasets\n",
    "train_X, test_X, vocabulary = extract_BoW_features(train_X, test_X)"
   ]
  },
  {
   "cell_type": "code",
   "execution_count": 9,
   "metadata": {},
   "outputs": [
    {
     "data": {
      "text/plain": [
       "5000"
      ]
     },
     "execution_count": 9,
     "metadata": {},
     "output_type": "execute_result"
    }
   ],
   "source": [
    "len(train_X[100])"
   ]
  },
  {
   "cell_type": "markdown",
   "metadata": {},
   "source": [
    "## Step 4: Classification using XGBoost\n",
    "\n",
    "Now that we have created the feature representation of our training (and testing) data, it is time to start setting up and using the XGBoost classifier provided by SageMaker.\n",
    "\n",
    "### Writing the dataset\n",
    "\n",
    "The XGBoost classifier that we will be using requires the dataset to be written to a file and stored using Amazon S3. To do this, we will start by splitting the training dataset into two parts, the data we will train the model with and a validation set. Then, we will write those datasets to a file and upload the files to S3. In addition, we will write the test set input to a file and upload the file to S3. This is so that we can use SageMakers Batch Transform functionality to test our model once we've fit it."
   ]
  },
  {
   "cell_type": "code",
   "execution_count": 10,
   "metadata": {},
   "outputs": [],
   "source": [
    "import pandas as pd\n",
    "\n",
    "# Earlier we shuffled the training dataset so to make things simple we can just assign\n",
    "# the first 10 000 reviews to the validation set and use the remaining reviews for training.\n",
    "val_X = pd.DataFrame(train_X[:10000])\n",
    "train_X = pd.DataFrame(train_X[10000:])\n",
    "\n",
    "val_y = pd.DataFrame(train_y[:10000])\n",
    "train_y = pd.DataFrame(train_y[10000:])"
   ]
  },
  {
   "cell_type": "markdown",
   "metadata": {},
   "source": [
    "The documentation for the XGBoost algorithm in SageMaker requires that the saved datasets should contain no headers or index and that for the training and validation data, the label should occur first for each sample.\n",
    "\n",
    "For more information about this and other algorithms, the SageMaker developer documentation can be found on __[Amazon's website.](https://docs.aws.amazon.com/sagemaker/latest/dg/)__"
   ]
  },
  {
   "cell_type": "code",
   "execution_count": 11,
   "metadata": {},
   "outputs": [],
   "source": [
    "# First we make sure that the local directory in which we'd like to store the training and validation csv files exists.\n",
    "data_dir = '../data/sentiment_update'\n",
    "if not os.path.exists(data_dir):\n",
    "    os.makedirs(data_dir)"
   ]
  },
  {
   "cell_type": "code",
   "execution_count": 12,
   "metadata": {},
   "outputs": [],
   "source": [
    "pd.DataFrame(test_X).to_csv(os.path.join(data_dir, 'test.csv'), header=False, index=False)\n",
    "\n",
    "pd.concat([val_y, val_X], axis=1).to_csv(os.path.join(data_dir, 'validation.csv'), header=False, index=False)\n",
    "pd.concat([train_y, train_X], axis=1).to_csv(os.path.join(data_dir, 'train.csv'), header=False, index=False)"
   ]
  },
  {
   "cell_type": "code",
   "execution_count": 13,
   "metadata": {},
   "outputs": [],
   "source": [
    "# To save a bit of memory we can set text_X, train_X, val_X, train_y and val_y to None.\n",
    "\n",
    "test_X = train_X = val_X = train_y = val_y = None"
   ]
  },
  {
   "cell_type": "markdown",
   "metadata": {},
   "source": [
    "### Uploading Training / Validation files to S3\n",
    "\n",
    "Amazon's S3 service allows us to store files that can be access by both the built-in training models such as the XGBoost model we will be using as well as custom models such as the one we will see a little later.\n",
    "\n",
    "For this, and most other tasks we will be doing using SageMaker, there are two methods we could use. The first is to use the low level functionality of SageMaker which requires knowing each of the objects involved in the SageMaker environment. The second is to use the high level functionality in which certain choices have been made on the user's behalf. The low level approach benefits from allowing the user a great deal of flexibility while the high level approach makes development much quicker. For our purposes we will opt to use the high level approach although using the low-level approach is certainly an option.\n",
    "\n",
    "Recall the method `upload_data()` which is a member of object representing our current SageMaker session. What this method does is upload the data to the default bucket (which is created if it does not exist) into the path described by the key_prefix variable. To see this for yourself, once you have uploaded the data files, go to the S3 console and look to see where the files have been uploaded.\n",
    "\n",
    "For additional resources, see the __[SageMaker API documentation](http://sagemaker.readthedocs.io/en/latest/)__ and in addition the __[SageMaker Developer Guide.](https://docs.aws.amazon.com/sagemaker/latest/dg/)__"
   ]
  },
  {
   "cell_type": "code",
   "execution_count": 14,
   "metadata": {},
   "outputs": [
    {
     "name": "stderr",
     "output_type": "stream",
     "text": [
      "Parameter 'session' will be renamed to 'sagemaker_session' in SageMaker Python SDK v2.\n",
      "'upload_data' method will be deprecated in favor of 'S3Uploader' class (https://sagemaker.readthedocs.io/en/stable/s3.html#sagemaker.s3.S3Uploader) in SageMaker Python SDK v2.\n",
      "Parameter 'session' will be renamed to 'sagemaker_session' in SageMaker Python SDK v2.\n",
      "'upload_data' method will be deprecated in favor of 'S3Uploader' class (https://sagemaker.readthedocs.io/en/stable/s3.html#sagemaker.s3.S3Uploader) in SageMaker Python SDK v2.\n",
      "Parameter 'session' will be renamed to 'sagemaker_session' in SageMaker Python SDK v2.\n",
      "'upload_data' method will be deprecated in favor of 'S3Uploader' class (https://sagemaker.readthedocs.io/en/stable/s3.html#sagemaker.s3.S3Uploader) in SageMaker Python SDK v2.\n"
     ]
    },
    {
     "name": "stdout",
     "output_type": "stream",
     "text": [
      "s3://romeo-sandbox/sentiment-update/train.csv\n"
     ]
    }
   ],
   "source": [
    "import sagemaker\n",
    "\n",
    "session = sagemaker.Session() # Store the current SageMaker session\n",
    "\n",
    "# S3 prefix (which folder will we use)\n",
    "prefix = 'sentiment-update'\n",
    "bucket = 'romeo-sandbox' # or session.default_bucket()\n",
    "\n",
    "\n",
    "from sagemaker.s3 import S3Uploader\n",
    "\n",
    "test_location = S3Uploader.upload(os.path.join(data_dir, 'test.csv'), f\"s3://{bucket}/{prefix}\", session = session)\n",
    "train_location = S3Uploader.upload(os.path.join(data_dir, 'train.csv'), f\"s3://{bucket}/{prefix}\", session = session)\n",
    "val_location = S3Uploader.upload(os.path.join(data_dir, 'validation.csv'), f\"s3://{bucket}/{prefix}\", session = session)\n",
    "\n",
    "print(train_location)"
   ]
  },
  {
   "cell_type": "markdown",
   "metadata": {},
   "source": [
    "### Creating the XGBoost model\n",
    "\n",
    "Now that the data has been uploaded it is time to create the XGBoost model. To begin with, we need to do some setup. At this point it is worth discussing what a model is in SageMaker. It is easiest to think of a model of comprising three different objects in the SageMaker ecosystem, which interact with one another.\n",
    "\n",
    "- Model Artifacts\n",
    "- Training Code (Container)\n",
    "- Inference Code (Container)\n",
    "\n",
    "The Model Artifacts are what you might think of as the actual model itself. For example, if you were building a neural network, the model artifacts would be the weights of the various layers. In our case, for an XGBoost model, the artifacts are the actual trees that are created during training.\n",
    "\n",
    "The other two objects, the training code and the inference code are then used the manipulate the training artifacts. More precisely, the training code uses the training data that is provided and creates the model artifacts, while the inference code uses the model artifacts to make predictions on new data.\n",
    "\n",
    "The way that SageMaker runs the training and inference code is by making use of Docker containers. For now, think of a container as being a way of packaging code up so that dependencies aren't an issue."
   ]
  },
  {
   "cell_type": "code",
   "execution_count": 15,
   "metadata": {},
   "outputs": [],
   "source": [
    "from sagemaker import get_execution_role\n",
    "\n",
    "# Our current execution role is require when creating the model as the training\n",
    "# and inference code will need to access the model artifacts.\n",
    "role = get_execution_role()"
   ]
  },
  {
   "cell_type": "code",
   "execution_count": 16,
   "metadata": {},
   "outputs": [
    {
     "name": "stderr",
     "output_type": "stream",
     "text": [
      "'get_image_uri' method will be deprecated in favor of 'ImageURIProvider' class in SageMaker Python SDK v2.\n",
      "WARNING:root:There is a more up to date SageMaker XGBoost image. To use the newer image, please set 'repo_version'='1.0-1'. For example:\n",
      "\tget_image_uri(region, 'xgboost', '1.0-1').\n"
     ]
    }
   ],
   "source": [
    "# We need to retrieve the location of the container which is provided by Amazon for using XGBoost.\n",
    "# As a matter of convenience, the training and inference code both use the same container.\n",
    "from sagemaker.amazon.amazon_estimator import get_image_uri\n",
    "\n",
    "container = get_image_uri(session.boto_region_name, 'xgboost')"
   ]
  },
  {
   "cell_type": "code",
   "execution_count": 18,
   "metadata": {},
   "outputs": [
    {
     "name": "stderr",
     "output_type": "stream",
     "text": [
      "WARNING:root:Parameter image_name will be renamed to image_uri in SageMaker Python SDK v2.\n"
     ]
    }
   ],
   "source": [
    "# First we create a SageMaker estimator object for our model.\n",
    "xgb = sagemaker.estimator.Estimator(\n",
    "    container, # The location of the container we wish to use\n",
    "    role,                                    # What is our current IAM Role\n",
    "    train_instance_count=1,                  # How many compute instances\n",
    "    train_instance_type='ml.m4.xlarge',      # What kind of compute instances\n",
    "    output_path=f's3://{bucket}/{prefix}/output', # Where to save the output (the model artifacts)\n",
    "    tags=[dict(Key='owner', Value='email')],\n",
    "    sagemaker_session=session)\n",
    "\n",
    "# And then set the algorithm specific parameters.\n",
    "xgb.set_hyperparameters(max_depth=5,\n",
    "                        eta=0.2,\n",
    "                        gamma=4,\n",
    "                        min_child_weight=6,\n",
    "                        subsample=0.8,\n",
    "                        silent=0,\n",
    "                        objective='binary:logistic',\n",
    "                        early_stopping_rounds=10,\n",
    "                        num_round=500)"
   ]
  },
  {
   "cell_type": "markdown",
   "metadata": {},
   "source": [
    "### Fit the XGBoost model\n",
    "\n",
    "Now that our model has been set up we simply need to attach the training and validation datasets and then ask SageMaker to set up the computation."
   ]
  },
  {
   "cell_type": "code",
   "execution_count": 19,
   "metadata": {},
   "outputs": [
    {
     "name": "stderr",
     "output_type": "stream",
     "text": [
      "WARNING:sagemaker:'s3_input' class will be renamed to 'TrainingInput' in SageMaker Python SDK v2.\n",
      "WARNING:sagemaker:'s3_input' class will be renamed to 'TrainingInput' in SageMaker Python SDK v2.\n"
     ]
    }
   ],
   "source": [
    "s3_input_train = sagemaker.s3_input(s3_data=train_location, content_type='csv')\n",
    "s3_input_validation = sagemaker.s3_input(s3_data=val_location, content_type='csv')"
   ]
  },
  {
   "cell_type": "code",
   "execution_count": 20,
   "metadata": {},
   "outputs": [
    {
     "name": "stdout",
     "output_type": "stream",
     "text": [
      "2020-06-08 11:00:41 Starting - Starting the training job...\n",
      "2020-06-08 11:00:43 Starting - Launching requested ML instances......\n",
      "2020-06-08 11:01:53 Starting - Preparing the instances for training......\n",
      "2020-06-08 11:03:07 Downloading - Downloading input data\n",
      "2020-06-08 11:03:07 Training - Downloading the training image...\n",
      "2020-06-08 11:03:26 Training - Training image download completed. Training in progress.\u001B[34mArguments: train\u001B[0m\n",
      "\u001B[34m[2020-06-08:11:03:27:INFO] Running standalone xgboost training.\u001B[0m\n",
      "\u001B[34m[2020-06-08:11:03:27:INFO] File size need to be processed in the node: 238.47mb. Available memory size in the node: 8479.15mb\u001B[0m\n",
      "\u001B[34m[2020-06-08:11:03:27:INFO] Determined delimiter of CSV input is ','\u001B[0m\n",
      "\u001B[34m[11:03:27] S3DistributionType set as FullyReplicated\u001B[0m\n",
      "\u001B[34m[11:03:28] 15000x5000 matrix with 75000000 entries loaded from /opt/ml/input/data/train?format=csv&label_column=0&delimiter=,\u001B[0m\n",
      "\u001B[34m[2020-06-08:11:03:28:INFO] Determined delimiter of CSV input is ','\u001B[0m\n",
      "\u001B[34m[11:03:28] S3DistributionType set as FullyReplicated\u001B[0m\n",
      "\u001B[34m[11:03:30] 10000x5000 matrix with 50000000 entries loaded from /opt/ml/input/data/validation?format=csv&label_column=0&delimiter=,\u001B[0m\n",
      "\u001B[34m[11:03:33] src/tree/updater_prune.cc:74: tree pruning end, 1 roots, 42 extra nodes, 8 pruned nodes, max_depth=5\u001B[0m\n",
      "\u001B[34m[0]#011train-error:0.314467#011validation-error:0.3083\u001B[0m\n",
      "\u001B[34mMultiple eval metrics have been passed: 'validation-error' will be used for early stopping.\n",
      "\u001B[0m\n",
      "\u001B[34mWill train until validation-error hasn't improved in 10 rounds.\u001B[0m\n",
      "\u001B[34m[11:03:35] src/tree/updater_prune.cc:74: tree pruning end, 1 roots, 40 extra nodes, 10 pruned nodes, max_depth=5\u001B[0m\n",
      "\u001B[34m[1]#011train-error:0.285533#011validation-error:0.2801\u001B[0m\n",
      "\u001B[34m[11:03:36] src/tree/updater_prune.cc:74: tree pruning end, 1 roots, 48 extra nodes, 2 pruned nodes, max_depth=5\u001B[0m\n",
      "\u001B[34m[2]#011train-error:0.259933#011validation-error:0.2651\u001B[0m\n",
      "\u001B[34m[11:03:37] src/tree/updater_prune.cc:74: tree pruning end, 1 roots, 34 extra nodes, 0 pruned nodes, max_depth=5\u001B[0m\n",
      "\u001B[34m[3]#011train-error:0.259133#011validation-error:0.2612\u001B[0m\n",
      "\u001B[34m[11:03:39] src/tree/updater_prune.cc:74: tree pruning end, 1 roots, 32 extra nodes, 12 pruned nodes, max_depth=5\u001B[0m\n",
      "\u001B[34m[4]#011train-error:0.251267#011validation-error:0.2541\u001B[0m\n",
      "\u001B[34m[11:03:40] src/tree/updater_prune.cc:74: tree pruning end, 1 roots, 42 extra nodes, 6 pruned nodes, max_depth=5\u001B[0m\n",
      "\u001B[34m[5]#011train-error:0.246267#011validation-error:0.2511\u001B[0m\n",
      "\u001B[34m[11:03:41] src/tree/updater_prune.cc:74: tree pruning end, 1 roots, 30 extra nodes, 6 pruned nodes, max_depth=5\u001B[0m\n",
      "\u001B[34m[6]#011train-error:0.239133#011validation-error:0.2476\u001B[0m\n",
      "\u001B[34m[11:03:42] src/tree/updater_prune.cc:74: tree pruning end, 1 roots, 30 extra nodes, 8 pruned nodes, max_depth=5\u001B[0m\n",
      "\u001B[34m[7]#011train-error:0.230667#011validation-error:0.2408\u001B[0m\n",
      "\u001B[34m[11:03:44] src/tree/updater_prune.cc:74: tree pruning end, 1 roots, 30 extra nodes, 4 pruned nodes, max_depth=5\u001B[0m\n",
      "\u001B[34m[8]#011train-error:0.223#011validation-error:0.2338\u001B[0m\n",
      "\u001B[34m[11:03:45] src/tree/updater_prune.cc:74: tree pruning end, 1 roots, 24 extra nodes, 10 pruned nodes, max_depth=5\u001B[0m\n",
      "\u001B[34m[9]#011train-error:0.218067#011validation-error:0.2314\u001B[0m\n",
      "\u001B[34m[11:03:46] src/tree/updater_prune.cc:74: tree pruning end, 1 roots, 30 extra nodes, 2 pruned nodes, max_depth=5\u001B[0m\n",
      "\u001B[34m[10]#011train-error:0.215467#011validation-error:0.2273\u001B[0m\n",
      "\u001B[34m[11:03:48] src/tree/updater_prune.cc:74: tree pruning end, 1 roots, 32 extra nodes, 8 pruned nodes, max_depth=5\u001B[0m\n",
      "\u001B[34m[11]#011train-error:0.208733#011validation-error:0.2234\u001B[0m\n",
      "\u001B[34m[11:03:49] src/tree/updater_prune.cc:74: tree pruning end, 1 roots, 36 extra nodes, 0 pruned nodes, max_depth=5\u001B[0m\n",
      "\u001B[34m[12]#011train-error:0.206267#011validation-error:0.2207\u001B[0m\n",
      "\u001B[34m[11:03:50] src/tree/updater_prune.cc:74: tree pruning end, 1 roots, 28 extra nodes, 4 pruned nodes, max_depth=5\u001B[0m\n",
      "\u001B[34m[13]#011train-error:0.202933#011validation-error:0.22\u001B[0m\n",
      "\u001B[34m[11:03:51] src/tree/updater_prune.cc:74: tree pruning end, 1 roots, 30 extra nodes, 8 pruned nodes, max_depth=5\u001B[0m\n",
      "\u001B[34m[14]#011train-error:0.197067#011validation-error:0.2174\u001B[0m\n",
      "\u001B[34m[11:03:53] src/tree/updater_prune.cc:74: tree pruning end, 1 roots, 28 extra nodes, 8 pruned nodes, max_depth=5\u001B[0m\n",
      "\u001B[34m[15]#011train-error:0.194333#011validation-error:0.2154\u001B[0m\n",
      "\u001B[34m[11:03:54] src/tree/updater_prune.cc:74: tree pruning end, 1 roots, 28 extra nodes, 4 pruned nodes, max_depth=5\u001B[0m\n",
      "\u001B[34m[16]#011train-error:0.1914#011validation-error:0.2118\u001B[0m\n",
      "\u001B[34m[11:03:55] src/tree/updater_prune.cc:74: tree pruning end, 1 roots, 30 extra nodes, 8 pruned nodes, max_depth=5\u001B[0m\n",
      "\u001B[34m[17]#011train-error:0.188733#011validation-error:0.2129\u001B[0m\n",
      "\u001B[34m[11:03:56] src/tree/updater_prune.cc:74: tree pruning end, 1 roots, 20 extra nodes, 10 pruned nodes, max_depth=5\u001B[0m\n",
      "\u001B[34m[18]#011train-error:0.186467#011validation-error:0.2089\u001B[0m\n",
      "\u001B[34m[11:03:58] src/tree/updater_prune.cc:74: tree pruning end, 1 roots, 26 extra nodes, 6 pruned nodes, max_depth=5\u001B[0m\n",
      "\u001B[34m[19]#011train-error:0.1838#011validation-error:0.2067\u001B[0m\n",
      "\u001B[34m[11:03:59] src/tree/updater_prune.cc:74: tree pruning end, 1 roots, 26 extra nodes, 8 pruned nodes, max_depth=5\u001B[0m\n",
      "\u001B[34m[20]#011train-error:0.1826#011validation-error:0.2049\u001B[0m\n",
      "\u001B[34m[11:04:00] src/tree/updater_prune.cc:74: tree pruning end, 1 roots, 28 extra nodes, 10 pruned nodes, max_depth=5\u001B[0m\n",
      "\u001B[34m[21]#011train-error:0.178667#011validation-error:0.2021\u001B[0m\n",
      "\u001B[34m[11:04:01] src/tree/updater_prune.cc:74: tree pruning end, 1 roots, 16 extra nodes, 8 pruned nodes, max_depth=5\u001B[0m\n",
      "\u001B[34m[22]#011train-error:0.178933#011validation-error:0.2016\u001B[0m\n",
      "\u001B[34m[11:04:03] src/tree/updater_prune.cc:74: tree pruning end, 1 roots, 30 extra nodes, 6 pruned nodes, max_depth=5\u001B[0m\n",
      "\u001B[34m[23]#011train-error:0.175667#011validation-error:0.1967\u001B[0m\n",
      "\u001B[34m[11:04:04] src/tree/updater_prune.cc:74: tree pruning end, 1 roots, 30 extra nodes, 6 pruned nodes, max_depth=5\u001B[0m\n",
      "\u001B[34m[24]#011train-error:0.172933#011validation-error:0.196\u001B[0m\n",
      "\u001B[34m[11:04:05] src/tree/updater_prune.cc:74: tree pruning end, 1 roots, 24 extra nodes, 10 pruned nodes, max_depth=5\u001B[0m\n",
      "\u001B[34m[25]#011train-error:0.1704#011validation-error:0.1946\u001B[0m\n",
      "\u001B[34m[11:04:07] src/tree/updater_prune.cc:74: tree pruning end, 1 roots, 28 extra nodes, 10 pruned nodes, max_depth=5\u001B[0m\n",
      "\u001B[34m[26]#011train-error:0.168133#011validation-error:0.1913\u001B[0m\n",
      "\u001B[34m[11:04:08] src/tree/updater_prune.cc:74: tree pruning end, 1 roots, 16 extra nodes, 12 pruned nodes, max_depth=5\u001B[0m\n",
      "\u001B[34m[27]#011train-error:0.166667#011validation-error:0.1904\u001B[0m\n",
      "\u001B[34m[11:04:09] src/tree/updater_prune.cc:74: tree pruning end, 1 roots, 26 extra nodes, 18 pruned nodes, max_depth=5\u001B[0m\n",
      "\u001B[34m[28]#011train-error:0.166467#011validation-error:0.1906\u001B[0m\n",
      "\u001B[34m[11:04:10] src/tree/updater_prune.cc:74: tree pruning end, 1 roots, 36 extra nodes, 4 pruned nodes, max_depth=5\u001B[0m\n",
      "\u001B[34m[29]#011train-error:0.165133#011validation-error:0.1881\u001B[0m\n",
      "\u001B[34m[11:04:12] src/tree/updater_prune.cc:74: tree pruning end, 1 roots, 28 extra nodes, 8 pruned nodes, max_depth=5\u001B[0m\n",
      "\u001B[34m[30]#011train-error:0.162#011validation-error:0.1854\u001B[0m\n",
      "\u001B[34m[11:04:13] src/tree/updater_prune.cc:74: tree pruning end, 1 roots, 22 extra nodes, 4 pruned nodes, max_depth=5\u001B[0m\n",
      "\u001B[34m[31]#011train-error:0.1608#011validation-error:0.1849\u001B[0m\n",
      "\u001B[34m[11:04:14] src/tree/updater_prune.cc:74: tree pruning end, 1 roots, 28 extra nodes, 2 pruned nodes, max_depth=5\u001B[0m\n",
      "\u001B[34m[32]#011train-error:0.1602#011validation-error:0.1836\u001B[0m\n",
      "\u001B[34m[11:04:15] src/tree/updater_prune.cc:74: tree pruning end, 1 roots, 26 extra nodes, 12 pruned nodes, max_depth=5\u001B[0m\n",
      "\u001B[34m[33]#011train-error:0.157133#011validation-error:0.1827\u001B[0m\n",
      "\u001B[34m[11:04:17] src/tree/updater_prune.cc:74: tree pruning end, 1 roots, 24 extra nodes, 6 pruned nodes, max_depth=5\u001B[0m\n",
      "\u001B[34m[34]#011train-error:0.1558#011validation-error:0.182\u001B[0m\n",
      "\u001B[34m[11:04:18] src/tree/updater_prune.cc:74: tree pruning end, 1 roots, 28 extra nodes, 16 pruned nodes, max_depth=5\u001B[0m\n",
      "\u001B[34m[35]#011train-error:0.154333#011validation-error:0.1807\u001B[0m\n",
      "\u001B[34m[11:04:19] src/tree/updater_prune.cc:74: tree pruning end, 1 roots, 22 extra nodes, 12 pruned nodes, max_depth=5\u001B[0m\n",
      "\u001B[34m[36]#011train-error:0.153667#011validation-error:0.1798\u001B[0m\n",
      "\u001B[34m[11:04:20] src/tree/updater_prune.cc:74: tree pruning end, 1 roots, 26 extra nodes, 8 pruned nodes, max_depth=5\u001B[0m\n",
      "\u001B[34m[37]#011train-error:0.1506#011validation-error:0.1775\u001B[0m\n",
      "\u001B[34m[11:04:22] src/tree/updater_prune.cc:74: tree pruning end, 1 roots, 30 extra nodes, 8 pruned nodes, max_depth=5\u001B[0m\n",
      "\u001B[34m[38]#011train-error:0.149533#011validation-error:0.1767\u001B[0m\n",
      "\u001B[34m[11:04:23] src/tree/updater_prune.cc:74: tree pruning end, 1 roots, 20 extra nodes, 16 pruned nodes, max_depth=5\u001B[0m\n",
      "\u001B[34m[39]#011train-error:0.148933#011validation-error:0.1766\u001B[0m\n",
      "\u001B[34m[11:04:24] src/tree/updater_prune.cc:74: tree pruning end, 1 roots, 26 extra nodes, 14 pruned nodes, max_depth=5\u001B[0m\n",
      "\u001B[34m[40]#011train-error:0.1474#011validation-error:0.1745\u001B[0m\n",
      "\u001B[34m[11:04:26] src/tree/updater_prune.cc:74: tree pruning end, 1 roots, 18 extra nodes, 10 pruned nodes, max_depth=5\u001B[0m\n",
      "\u001B[34m[41]#011train-error:0.146667#011validation-error:0.1737\u001B[0m\n",
      "\u001B[34m[11:04:27] src/tree/updater_prune.cc:74: tree pruning end, 1 roots, 32 extra nodes, 6 pruned nodes, max_depth=5\u001B[0m\n",
      "\u001B[34m[42]#011train-error:0.145467#011validation-error:0.1749\u001B[0m\n",
      "\u001B[34m[11:04:28] src/tree/updater_prune.cc:74: tree pruning end, 1 roots, 20 extra nodes, 10 pruned nodes, max_depth=5\u001B[0m\n",
      "\u001B[34m[43]#011train-error:0.144667#011validation-error:0.1745\u001B[0m\n"
     ]
    },
    {
     "name": "stdout",
     "output_type": "stream",
     "text": [
      "\u001B[34m[11:04:29] src/tree/updater_prune.cc:74: tree pruning end, 1 roots, 22 extra nodes, 6 pruned nodes, max_depth=5\u001B[0m\n",
      "\u001B[34m[44]#011train-error:0.143067#011validation-error:0.1732\u001B[0m\n",
      "\u001B[34m[11:04:31] src/tree/updater_prune.cc:74: tree pruning end, 1 roots, 24 extra nodes, 0 pruned nodes, max_depth=5\u001B[0m\n",
      "\u001B[34m[45]#011train-error:0.142867#011validation-error:0.1725\u001B[0m\n",
      "\u001B[34m[11:04:32] src/tree/updater_prune.cc:74: tree pruning end, 1 roots, 18 extra nodes, 6 pruned nodes, max_depth=5\u001B[0m\n",
      "\u001B[34m[46]#011train-error:0.141467#011validation-error:0.1718\u001B[0m\n",
      "\u001B[34m[11:04:33] src/tree/updater_prune.cc:74: tree pruning end, 1 roots, 24 extra nodes, 12 pruned nodes, max_depth=5\u001B[0m\n",
      "\u001B[34m[47]#011train-error:0.139867#011validation-error:0.1701\u001B[0m\n",
      "\u001B[34m[11:04:34] src/tree/updater_prune.cc:74: tree pruning end, 1 roots, 22 extra nodes, 8 pruned nodes, max_depth=5\u001B[0m\n",
      "\u001B[34m[48]#011train-error:0.139267#011validation-error:0.1699\u001B[0m\n",
      "\u001B[34m[11:04:36] src/tree/updater_prune.cc:74: tree pruning end, 1 roots, 26 extra nodes, 10 pruned nodes, max_depth=5\u001B[0m\n",
      "\u001B[34m[49]#011train-error:0.137533#011validation-error:0.1711\u001B[0m\n",
      "\u001B[34m[11:04:37] src/tree/updater_prune.cc:74: tree pruning end, 1 roots, 14 extra nodes, 8 pruned nodes, max_depth=5\u001B[0m\n",
      "\u001B[34m[50]#011train-error:0.1358#011validation-error:0.1675\u001B[0m\n",
      "\u001B[34m[11:04:38] src/tree/updater_prune.cc:74: tree pruning end, 1 roots, 22 extra nodes, 8 pruned nodes, max_depth=5\u001B[0m\n",
      "\u001B[34m[51]#011train-error:0.134733#011validation-error:0.1666\u001B[0m\n",
      "\u001B[34m[11:04:39] src/tree/updater_prune.cc:74: tree pruning end, 1 roots, 18 extra nodes, 10 pruned nodes, max_depth=5\u001B[0m\n",
      "\u001B[34m[52]#011train-error:0.133467#011validation-error:0.1668\u001B[0m\n",
      "\u001B[34m[11:04:41] src/tree/updater_prune.cc:74: tree pruning end, 1 roots, 22 extra nodes, 4 pruned nodes, max_depth=5\u001B[0m\n",
      "\u001B[34m[53]#011train-error:0.133133#011validation-error:0.1674\u001B[0m\n",
      "\u001B[34m[11:04:42] src/tree/updater_prune.cc:74: tree pruning end, 1 roots, 32 extra nodes, 6 pruned nodes, max_depth=5\u001B[0m\n",
      "\u001B[34m[54]#011train-error:0.131667#011validation-error:0.1662\u001B[0m\n",
      "\u001B[34m[11:04:43] src/tree/updater_prune.cc:74: tree pruning end, 1 roots, 22 extra nodes, 12 pruned nodes, max_depth=5\u001B[0m\n",
      "\u001B[34m[55]#011train-error:0.130733#011validation-error:0.1656\u001B[0m\n",
      "\u001B[34m[11:04:44] src/tree/updater_prune.cc:74: tree pruning end, 1 roots, 20 extra nodes, 2 pruned nodes, max_depth=5\u001B[0m\n",
      "\u001B[34m[56]#011train-error:0.1294#011validation-error:0.1644\u001B[0m\n",
      "\u001B[34m[11:04:46] src/tree/updater_prune.cc:74: tree pruning end, 1 roots, 26 extra nodes, 16 pruned nodes, max_depth=5\u001B[0m\n",
      "\u001B[34m[57]#011train-error:0.130133#011validation-error:0.1642\u001B[0m\n",
      "\u001B[34m[11:04:47] src/tree/updater_prune.cc:74: tree pruning end, 1 roots, 16 extra nodes, 8 pruned nodes, max_depth=5\u001B[0m\n",
      "\u001B[34m[58]#011train-error:0.1282#011validation-error:0.1648\u001B[0m\n",
      "\u001B[34m[11:04:48] src/tree/updater_prune.cc:74: tree pruning end, 1 roots, 20 extra nodes, 6 pruned nodes, max_depth=5\u001B[0m\n",
      "\u001B[34m[59]#011train-error:0.127533#011validation-error:0.1643\u001B[0m\n",
      "\u001B[34m[11:04:49] src/tree/updater_prune.cc:74: tree pruning end, 1 roots, 18 extra nodes, 12 pruned nodes, max_depth=5\u001B[0m\n",
      "\u001B[34m[60]#011train-error:0.127133#011validation-error:0.1619\u001B[0m\n",
      "\u001B[34m[11:04:51] src/tree/updater_prune.cc:74: tree pruning end, 1 roots, 22 extra nodes, 4 pruned nodes, max_depth=5\u001B[0m\n",
      "\u001B[34m[61]#011train-error:0.126133#011validation-error:0.1616\u001B[0m\n",
      "\u001B[34m[11:04:52] src/tree/updater_prune.cc:74: tree pruning end, 1 roots, 20 extra nodes, 20 pruned nodes, max_depth=5\u001B[0m\n",
      "\u001B[34m[62]#011train-error:0.1254#011validation-error:0.1615\u001B[0m\n",
      "\u001B[34m[11:04:53] src/tree/updater_prune.cc:74: tree pruning end, 1 roots, 12 extra nodes, 6 pruned nodes, max_depth=5\u001B[0m\n",
      "\u001B[34m[63]#011train-error:0.124933#011validation-error:0.1609\u001B[0m\n",
      "\u001B[34m[11:04:55] src/tree/updater_prune.cc:74: tree pruning end, 1 roots, 18 extra nodes, 8 pruned nodes, max_depth=5\u001B[0m\n",
      "\u001B[34m[64]#011train-error:0.124133#011validation-error:0.1605\u001B[0m\n",
      "\u001B[34m[11:04:56] src/tree/updater_prune.cc:74: tree pruning end, 1 roots, 20 extra nodes, 10 pruned nodes, max_depth=5\u001B[0m\n",
      "\u001B[34m[65]#011train-error:0.1236#011validation-error:0.1599\u001B[0m\n",
      "\u001B[34m[11:04:57] src/tree/updater_prune.cc:74: tree pruning end, 1 roots, 20 extra nodes, 12 pruned nodes, max_depth=5\u001B[0m\n",
      "\u001B[34m[66]#011train-error:0.123#011validation-error:0.1597\u001B[0m\n",
      "\u001B[34m[11:04:58] src/tree/updater_prune.cc:74: tree pruning end, 1 roots, 18 extra nodes, 8 pruned nodes, max_depth=5\u001B[0m\n",
      "\u001B[34m[67]#011train-error:0.1222#011validation-error:0.159\u001B[0m\n",
      "\u001B[34m[11:05:00] src/tree/updater_prune.cc:74: tree pruning end, 1 roots, 30 extra nodes, 8 pruned nodes, max_depth=5\u001B[0m\n",
      "\u001B[34m[68]#011train-error:0.1214#011validation-error:0.1598\u001B[0m\n",
      "\u001B[34m[11:05:01] src/tree/updater_prune.cc:74: tree pruning end, 1 roots, 14 extra nodes, 6 pruned nodes, max_depth=5\u001B[0m\n",
      "\u001B[34m[69]#011train-error:0.120733#011validation-error:0.16\u001B[0m\n",
      "\u001B[34m[11:05:02] src/tree/updater_prune.cc:74: tree pruning end, 1 roots, 18 extra nodes, 14 pruned nodes, max_depth=5\u001B[0m\n",
      "\u001B[34m[70]#011train-error:0.1202#011validation-error:0.1592\u001B[0m\n",
      "\u001B[34m[11:05:03] src/tree/updater_prune.cc:74: tree pruning end, 1 roots, 20 extra nodes, 16 pruned nodes, max_depth=5\u001B[0m\n",
      "\u001B[34m[71]#011train-error:0.119067#011validation-error:0.1594\u001B[0m\n",
      "\u001B[34m[11:05:05] src/tree/updater_prune.cc:74: tree pruning end, 1 roots, 28 extra nodes, 10 pruned nodes, max_depth=5\u001B[0m\n",
      "\u001B[34m[72]#011train-error:0.118333#011validation-error:0.1584\u001B[0m\n",
      "\u001B[34m[11:05:06] src/tree/updater_prune.cc:74: tree pruning end, 1 roots, 16 extra nodes, 16 pruned nodes, max_depth=5\u001B[0m\n",
      "\u001B[34m[73]#011train-error:0.118533#011validation-error:0.1579\u001B[0m\n",
      "\u001B[34m[11:05:07] src/tree/updater_prune.cc:74: tree pruning end, 1 roots, 14 extra nodes, 12 pruned nodes, max_depth=5\u001B[0m\n",
      "\u001B[34m[74]#011train-error:0.117733#011validation-error:0.1585\u001B[0m\n",
      "\u001B[34m[11:05:08] src/tree/updater_prune.cc:74: tree pruning end, 1 roots, 12 extra nodes, 2 pruned nodes, max_depth=5\u001B[0m\n",
      "\u001B[34m[75]#011train-error:0.117733#011validation-error:0.1582\u001B[0m\n",
      "\u001B[34m[11:05:10] src/tree/updater_prune.cc:74: tree pruning end, 1 roots, 12 extra nodes, 8 pruned nodes, max_depth=5\u001B[0m\n",
      "\u001B[34m[76]#011train-error:0.1162#011validation-error:0.1567\u001B[0m\n",
      "\u001B[34m[11:05:11] src/tree/updater_prune.cc:74: tree pruning end, 1 roots, 18 extra nodes, 10 pruned nodes, max_depth=5\u001B[0m\n",
      "\u001B[34m[77]#011train-error:0.1162#011validation-error:0.1568\u001B[0m\n",
      "\u001B[34m[11:05:12] src/tree/updater_prune.cc:74: tree pruning end, 1 roots, 12 extra nodes, 12 pruned nodes, max_depth=5\u001B[0m\n",
      "\u001B[34m[78]#011train-error:0.115667#011validation-error:0.1565\u001B[0m\n",
      "\u001B[34m[11:05:14] src/tree/updater_prune.cc:74: tree pruning end, 1 roots, 12 extra nodes, 4 pruned nodes, max_depth=5\u001B[0m\n",
      "\u001B[34m[79]#011train-error:0.1146#011validation-error:0.1555\u001B[0m\n",
      "\u001B[34m[11:05:15] src/tree/updater_prune.cc:74: tree pruning end, 1 roots, 22 extra nodes, 6 pruned nodes, max_depth=5\u001B[0m\n",
      "\u001B[34m[80]#011train-error:0.1138#011validation-error:0.1558\u001B[0m\n",
      "\u001B[34m[11:05:16] src/tree/updater_prune.cc:74: tree pruning end, 1 roots, 22 extra nodes, 4 pruned nodes, max_depth=5\u001B[0m\n",
      "\u001B[34m[81]#011train-error:0.1132#011validation-error:0.156\u001B[0m\n",
      "\u001B[34m[11:05:17] src/tree/updater_prune.cc:74: tree pruning end, 1 roots, 20 extra nodes, 6 pruned nodes, max_depth=5\u001B[0m\n",
      "\u001B[34m[82]#011train-error:0.112867#011validation-error:0.1553\u001B[0m\n",
      "\u001B[34m[11:05:19] src/tree/updater_prune.cc:74: tree pruning end, 1 roots, 20 extra nodes, 10 pruned nodes, max_depth=5\u001B[0m\n",
      "\u001B[34m[83]#011train-error:0.112733#011validation-error:0.1542\u001B[0m\n",
      "\u001B[34m[11:05:20] src/tree/updater_prune.cc:74: tree pruning end, 1 roots, 16 extra nodes, 8 pruned nodes, max_depth=5\u001B[0m\n",
      "\u001B[34m[84]#011train-error:0.112#011validation-error:0.1536\u001B[0m\n",
      "\u001B[34m[11:05:21] src/tree/updater_prune.cc:74: tree pruning end, 1 roots, 24 extra nodes, 2 pruned nodes, max_depth=5\u001B[0m\n",
      "\u001B[34m[85]#011train-error:0.1106#011validation-error:0.153\u001B[0m\n",
      "\u001B[34m[11:05:22] src/tree/updater_prune.cc:74: tree pruning end, 1 roots, 24 extra nodes, 4 pruned nodes, max_depth=5\u001B[0m\n",
      "\u001B[34m[86]#011train-error:0.110267#011validation-error:0.1528\u001B[0m\n",
      "\u001B[34m[11:05:24] src/tree/updater_prune.cc:74: tree pruning end, 1 roots, 14 extra nodes, 4 pruned nodes, max_depth=5\u001B[0m\n",
      "\u001B[34m[87]#011train-error:0.110333#011validation-error:0.1529\u001B[0m\n",
      "\u001B[34m[11:05:25] src/tree/updater_prune.cc:74: tree pruning end, 1 roots, 22 extra nodes, 6 pruned nodes, max_depth=5\u001B[0m\n",
      "\u001B[34m[88]#011train-error:0.109933#011validation-error:0.1519\u001B[0m\n",
      "\u001B[34m[11:05:26] src/tree/updater_prune.cc:74: tree pruning end, 1 roots, 22 extra nodes, 10 pruned nodes, max_depth=5\u001B[0m\n",
      "\u001B[34m[89]#011train-error:0.108667#011validation-error:0.1503\u001B[0m\n",
      "\u001B[34m[11:05:28] src/tree/updater_prune.cc:74: tree pruning end, 1 roots, 16 extra nodes, 10 pruned nodes, max_depth=5\u001B[0m\n",
      "\u001B[34m[90]#011train-error:0.108333#011validation-error:0.1504\u001B[0m\n",
      "\u001B[34m[11:05:29] src/tree/updater_prune.cc:74: tree pruning end, 1 roots, 14 extra nodes, 4 pruned nodes, max_depth=5\u001B[0m\n",
      "\u001B[34m[91]#011train-error:0.1082#011validation-error:0.1495\u001B[0m\n"
     ]
    },
    {
     "name": "stdout",
     "output_type": "stream",
     "text": [
      "\u001B[34m[11:05:30] src/tree/updater_prune.cc:74: tree pruning end, 1 roots, 14 extra nodes, 18 pruned nodes, max_depth=5\u001B[0m\n",
      "\u001B[34m[92]#011train-error:0.1076#011validation-error:0.1497\u001B[0m\n",
      "\u001B[34m[11:05:31] src/tree/updater_prune.cc:74: tree pruning end, 1 roots, 14 extra nodes, 14 pruned nodes, max_depth=5\u001B[0m\n",
      "\u001B[34m[93]#011train-error:0.107467#011validation-error:0.1495\u001B[0m\n",
      "\u001B[34m[11:05:33] src/tree/updater_prune.cc:74: tree pruning end, 1 roots, 10 extra nodes, 4 pruned nodes, max_depth=5\u001B[0m\n",
      "\u001B[34m[94]#011train-error:0.106867#011validation-error:0.1491\u001B[0m\n",
      "\u001B[34m[11:05:34] src/tree/updater_prune.cc:74: tree pruning end, 1 roots, 24 extra nodes, 4 pruned nodes, max_depth=5\u001B[0m\n",
      "\u001B[34m[95]#011train-error:0.1062#011validation-error:0.1495\u001B[0m\n",
      "\u001B[34m[11:05:35] src/tree/updater_prune.cc:74: tree pruning end, 1 roots, 18 extra nodes, 10 pruned nodes, max_depth=5\u001B[0m\n",
      "\u001B[34m[96]#011train-error:0.1058#011validation-error:0.1485\u001B[0m\n",
      "\u001B[34m[11:05:36] src/tree/updater_prune.cc:74: tree pruning end, 1 roots, 16 extra nodes, 4 pruned nodes, max_depth=5\u001B[0m\n",
      "\u001B[34m[97]#011train-error:0.104933#011validation-error:0.1483\u001B[0m\n",
      "\u001B[34m[11:05:38] src/tree/updater_prune.cc:74: tree pruning end, 1 roots, 24 extra nodes, 14 pruned nodes, max_depth=5\u001B[0m\n",
      "\u001B[34m[98]#011train-error:0.1038#011validation-error:0.1479\u001B[0m\n",
      "\u001B[34m[11:05:39] src/tree/updater_prune.cc:74: tree pruning end, 1 roots, 20 extra nodes, 18 pruned nodes, max_depth=5\u001B[0m\n",
      "\u001B[34m[99]#011train-error:0.103733#011validation-error:0.1475\u001B[0m\n",
      "\u001B[34m[11:05:40] src/tree/updater_prune.cc:74: tree pruning end, 1 roots, 28 extra nodes, 12 pruned nodes, max_depth=5\u001B[0m\n",
      "\u001B[34m[100]#011train-error:0.102533#011validation-error:0.1474\u001B[0m\n",
      "\u001B[34m[11:05:41] src/tree/updater_prune.cc:74: tree pruning end, 1 roots, 18 extra nodes, 10 pruned nodes, max_depth=5\u001B[0m\n",
      "\u001B[34m[101]#011train-error:0.101667#011validation-error:0.1475\u001B[0m\n",
      "\u001B[34m[11:05:43] src/tree/updater_prune.cc:74: tree pruning end, 1 roots, 30 extra nodes, 8 pruned nodes, max_depth=5\u001B[0m\n",
      "\u001B[34m[102]#011train-error:0.100733#011validation-error:0.1482\u001B[0m\n",
      "\u001B[34m[11:05:44] src/tree/updater_prune.cc:74: tree pruning end, 1 roots, 14 extra nodes, 16 pruned nodes, max_depth=5\u001B[0m\n",
      "\u001B[34m[103]#011train-error:0.1008#011validation-error:0.1483\u001B[0m\n",
      "\u001B[34m[11:05:45] src/tree/updater_prune.cc:74: tree pruning end, 1 roots, 16 extra nodes, 14 pruned nodes, max_depth=5\u001B[0m\n",
      "\u001B[34m[104]#011train-error:0.100733#011validation-error:0.1482\u001B[0m\n",
      "\u001B[34m[11:05:47] src/tree/updater_prune.cc:74: tree pruning end, 1 roots, 10 extra nodes, 6 pruned nodes, max_depth=5\u001B[0m\n",
      "\u001B[34m[105]#011train-error:0.100533#011validation-error:0.1475\u001B[0m\n",
      "\u001B[34m[11:05:48] src/tree/updater_prune.cc:74: tree pruning end, 1 roots, 14 extra nodes, 8 pruned nodes, max_depth=5\u001B[0m\n",
      "\u001B[34m[106]#011train-error:0.100933#011validation-error:0.146\u001B[0m\n",
      "\u001B[34m[11:05:49] src/tree/updater_prune.cc:74: tree pruning end, 1 roots, 12 extra nodes, 12 pruned nodes, max_depth=5\u001B[0m\n",
      "\u001B[34m[107]#011train-error:0.100667#011validation-error:0.1467\u001B[0m\n",
      "\u001B[34m[11:05:50] src/tree/updater_prune.cc:74: tree pruning end, 1 roots, 14 extra nodes, 8 pruned nodes, max_depth=5\u001B[0m\n",
      "\u001B[34m[108]#011train-error:0.101333#011validation-error:0.1462\u001B[0m\n",
      "\u001B[34m[11:05:52] src/tree/updater_prune.cc:74: tree pruning end, 1 roots, 28 extra nodes, 12 pruned nodes, max_depth=5\u001B[0m\n",
      "\u001B[34m[109]#011train-error:0.100467#011validation-error:0.1471\u001B[0m\n",
      "\u001B[34m[11:05:53] src/tree/updater_prune.cc:74: tree pruning end, 1 roots, 12 extra nodes, 12 pruned nodes, max_depth=5\u001B[0m\n",
      "\u001B[34m[110]#011train-error:0.1#011validation-error:0.147\u001B[0m\n",
      "\u001B[34m[11:05:54] src/tree/updater_prune.cc:74: tree pruning end, 1 roots, 12 extra nodes, 4 pruned nodes, max_depth=5\u001B[0m\n",
      "\u001B[34m[111]#011train-error:0.0994#011validation-error:0.1461\u001B[0m\n",
      "\u001B[34m[11:05:55] src/tree/updater_prune.cc:74: tree pruning end, 1 roots, 16 extra nodes, 8 pruned nodes, max_depth=5\u001B[0m\n",
      "\u001B[34m[112]#011train-error:0.0994#011validation-error:0.145\u001B[0m\n",
      "\u001B[34m[11:05:57] src/tree/updater_prune.cc:74: tree pruning end, 1 roots, 12 extra nodes, 4 pruned nodes, max_depth=5\u001B[0m\n",
      "\u001B[34m[113]#011train-error:0.098733#011validation-error:0.1451\u001B[0m\n",
      "\u001B[34m[11:05:58] src/tree/updater_prune.cc:74: tree pruning end, 1 roots, 24 extra nodes, 4 pruned nodes, max_depth=5\u001B[0m\n",
      "\u001B[34m[114]#011train-error:0.0986#011validation-error:0.1445\u001B[0m\n",
      "\u001B[34m[11:05:59] src/tree/updater_prune.cc:74: tree pruning end, 1 roots, 14 extra nodes, 6 pruned nodes, max_depth=5\u001B[0m\n",
      "\u001B[34m[115]#011train-error:0.0978#011validation-error:0.1445\u001B[0m\n",
      "\u001B[34m[11:06:00] src/tree/updater_prune.cc:74: tree pruning end, 1 roots, 16 extra nodes, 14 pruned nodes, max_depth=5\u001B[0m\n",
      "\u001B[34m[116]#011train-error:0.097133#011validation-error:0.1445\u001B[0m\n",
      "\u001B[34m[11:06:02] src/tree/updater_prune.cc:74: tree pruning end, 1 roots, 16 extra nodes, 4 pruned nodes, max_depth=5\u001B[0m\n",
      "\u001B[34m[117]#011train-error:0.096867#011validation-error:0.1438\u001B[0m\n",
      "\u001B[34m[11:06:03] src/tree/updater_prune.cc:74: tree pruning end, 1 roots, 14 extra nodes, 2 pruned nodes, max_depth=5\u001B[0m\n",
      "\u001B[34m[118]#011train-error:0.0966#011validation-error:0.1443\u001B[0m\n",
      "\u001B[34m[11:06:04] src/tree/updater_prune.cc:74: tree pruning end, 1 roots, 12 extra nodes, 4 pruned nodes, max_depth=5\u001B[0m\n",
      "\u001B[34m[119]#011train-error:0.095933#011validation-error:0.1448\u001B[0m\n",
      "\u001B[34m[11:06:06] src/tree/updater_prune.cc:74: tree pruning end, 1 roots, 16 extra nodes, 8 pruned nodes, max_depth=5\u001B[0m\n",
      "\u001B[34m[120]#011train-error:0.096333#011validation-error:0.1445\u001B[0m\n",
      "\u001B[34m[11:06:07] src/tree/updater_prune.cc:74: tree pruning end, 1 roots, 22 extra nodes, 14 pruned nodes, max_depth=5\u001B[0m\n",
      "\u001B[34m[121]#011train-error:0.095267#011validation-error:0.1453\u001B[0m\n",
      "\u001B[34m[11:06:08] src/tree/updater_prune.cc:74: tree pruning end, 1 roots, 10 extra nodes, 6 pruned nodes, max_depth=5\u001B[0m\n",
      "\u001B[34m[122]#011train-error:0.0946#011validation-error:0.1452\u001B[0m\n",
      "\u001B[34m[11:06:09] src/tree/updater_prune.cc:74: tree pruning end, 1 roots, 10 extra nodes, 8 pruned nodes, max_depth=5\u001B[0m\n",
      "\u001B[34m[123]#011train-error:0.094667#011validation-error:0.1453\u001B[0m\n",
      "\u001B[34m[11:06:11] src/tree/updater_prune.cc:74: tree pruning end, 1 roots, 20 extra nodes, 4 pruned nodes, max_depth=5\u001B[0m\n",
      "\u001B[34m[124]#011train-error:0.094667#011validation-error:0.1456\u001B[0m\n",
      "\u001B[34m[11:06:12] src/tree/updater_prune.cc:74: tree pruning end, 1 roots, 16 extra nodes, 6 pruned nodes, max_depth=5\u001B[0m\n",
      "\u001B[34m[125]#011train-error:0.0952#011validation-error:0.1454\u001B[0m\n",
      "\u001B[34m[11:06:13] src/tree/updater_prune.cc:74: tree pruning end, 1 roots, 14 extra nodes, 6 pruned nodes, max_depth=5\u001B[0m\n",
      "\u001B[34m[126]#011train-error:0.095#011validation-error:0.1452\u001B[0m\n",
      "\u001B[34m[11:06:14] src/tree/updater_prune.cc:74: tree pruning end, 1 roots, 12 extra nodes, 8 pruned nodes, max_depth=5\u001B[0m\n",
      "\u001B[34m[127]#011train-error:0.094733#011validation-error:0.1444\u001B[0m\n",
      "\u001B[34mStopping. Best iteration:\u001B[0m\n",
      "\u001B[34m[117]#011train-error:0.096867#011validation-error:0.1438\n",
      "\u001B[0m\n",
      "\n",
      "2020-06-08 11:06:25 Uploading - Uploading generated training model\n",
      "2020-06-08 11:06:25 Completed - Training job completed\n",
      "Training seconds: 218\n",
      "Billable seconds: 218\n"
     ]
    }
   ],
   "source": [
    "xgb.fit({'train': s3_input_train, 'validation': s3_input_validation})"
   ]
  },
  {
   "cell_type": "markdown",
   "metadata": {},
   "source": [
    "### Testing the model\n",
    "\n",
    "Now that we've fit our XGBoost model, it's time to see how well it performs. To do this we will use SageMakers Batch Transform functionality. Batch Transform is a convenient way to perform inference on a large dataset in a way that is not realtime. That is, we don't necessarily need to use our model's results immediately and instead we can peform inference on a large number of samples. An example of this in industry might be peforming an end of month report. This method of inference can also be useful to us as it means to can perform inference on our entire test set. \n",
    "\n",
    "To perform a Batch Transformation we need to first create a transformer objects from our trained estimator object."
   ]
  },
  {
   "cell_type": "code",
   "execution_count": 22,
   "metadata": {},
   "outputs": [
    {
     "name": "stderr",
     "output_type": "stream",
     "text": [
      "WARNING:sagemaker:Parameter image will be renamed to image_uri in SageMaker Python SDK v2.\n"
     ]
    }
   ],
   "source": [
    "xgb_transformer = xgb.transformer(\n",
    "    instance_count = 1, \n",
    "    instance_type = 'ml.m4.xlarge',\n",
    "    tags=[dict(Key='owner', Value='email')],\n",
    ")"
   ]
  },
  {
   "cell_type": "markdown",
   "metadata": {},
   "source": [
    "Next we actually perform the transform job. When doing so we need to make sure to specify the type of data we are sending so that it is serialized correctly in the background. In our case we are providing our model with csv data so we specify `text/csv`. Also, if the test data that we have provided is too large to process all at once then we need to specify how the data file should be split up. Since each line is a single entry in our data set we tell SageMaker that it can split the input on each line."
   ]
  },
  {
   "cell_type": "code",
   "execution_count": 23,
   "metadata": {},
   "outputs": [],
   "source": [
    "xgb_transformer.transform(test_location, content_type='text/csv', split_type='Line')"
   ]
  },
  {
   "cell_type": "markdown",
   "metadata": {},
   "source": [
    "Currently the transform job is running but it is doing so in the background. Since we wish to wait until the transform job is done and we would like a bit of feedback we can run the `wait()` method."
   ]
  },
  {
   "cell_type": "code",
   "execution_count": 24,
   "metadata": {},
   "outputs": [
    {
     "name": "stdout",
     "output_type": "stream",
     "text": [
      "....................\u001B[34mArguments: serve\u001B[0m\n",
      "\u001B[34m[2020-06-08 11:10:34 +0000] [1] [INFO] Starting gunicorn 19.7.1\u001B[0m\n",
      "\u001B[34m[2020-06-08 11:10:34 +0000] [1] [INFO] Listening at: http://0.0.0.0:8080 (1)\u001B[0m\n",
      "\u001B[34m[2020-06-08 11:10:34 +0000] [1] [INFO] Using worker: gevent\u001B[0m\n",
      "\u001B[34m[2020-06-08 11:10:34 +0000] [37] [INFO] Booting worker with pid: 37\u001B[0m\n",
      "\u001B[34m[2020-06-08 11:10:34 +0000] [38] [INFO] Booting worker with pid: 38\u001B[0m\n",
      "\u001B[34m[2020-06-08 11:10:34 +0000] [39] [INFO] Booting worker with pid: 39\u001B[0m\n",
      "\u001B[34m[2020-06-08 11:10:34 +0000] [40] [INFO] Booting worker with pid: 40\u001B[0m\n",
      "\u001B[34m[2020-06-08:11:10:34:INFO] Model loaded successfully for worker : 39\u001B[0m\n",
      "\u001B[34m[2020-06-08:11:10:34:INFO] Model loaded successfully for worker : 37\u001B[0m\n",
      "\u001B[34m[2020-06-08:11:10:34:INFO] Model loaded successfully for worker : 38\u001B[0m\n",
      "\u001B[34m[2020-06-08:11:10:34:INFO] Model loaded successfully for worker : 40\u001B[0m\n",
      "\u001B[32m2020-06-08T11:11:02.123:[sagemaker logs]: MaxConcurrentTransforms=4, MaxPayloadInMB=6, BatchStrategy=MULTI_RECORD\u001B[0m\n",
      "\u001B[34m[2020-06-08:11:11:05:INFO] Sniff delimiter as ','\u001B[0m\n",
      "\u001B[34m[2020-06-08:11:11:05:INFO] Determined delimiter of CSV input is ','\u001B[0m\n",
      "\u001B[34m[2020-06-08:11:11:05:INFO] Sniff delimiter as ','\u001B[0m\n",
      "\u001B[34m[2020-06-08:11:11:05:INFO] Determined delimiter of CSV input is ','\u001B[0m\n",
      "\u001B[34m[2020-06-08:11:11:05:INFO] Sniff delimiter as ','\u001B[0m\n",
      "\u001B[34m[2020-06-08:11:11:05:INFO] Determined delimiter of CSV input is ','\u001B[0m\n",
      "\u001B[34m[2020-06-08:11:11:05:INFO] Sniff delimiter as ','\u001B[0m\n",
      "\u001B[34m[2020-06-08:11:11:05:INFO] Determined delimiter of CSV input is ','\u001B[0m\n",
      "\u001B[35m[2020-06-08:11:11:05:INFO] Sniff delimiter as ','\u001B[0m\n",
      "\u001B[35m[2020-06-08:11:11:05:INFO] Determined delimiter of CSV input is ','\u001B[0m\n",
      "\u001B[35m[2020-06-08:11:11:05:INFO] Sniff delimiter as ','\u001B[0m\n",
      "\u001B[35m[2020-06-08:11:11:05:INFO] Determined delimiter of CSV input is ','\u001B[0m\n",
      "\u001B[35m[2020-06-08:11:11:05:INFO] Sniff delimiter as ','\u001B[0m\n",
      "\u001B[35m[2020-06-08:11:11:05:INFO] Determined delimiter of CSV input is ','\u001B[0m\n",
      "\u001B[35m[2020-06-08:11:11:05:INFO] Sniff delimiter as ','\u001B[0m\n",
      "\u001B[35m[2020-06-08:11:11:05:INFO] Determined delimiter of CSV input is ','\u001B[0m\n",
      "\u001B[34m[2020-06-08:11:11:07:INFO] Sniff delimiter as ','\u001B[0m\n",
      "\u001B[34m[2020-06-08:11:11:07:INFO] Determined delimiter of CSV input is ','\u001B[0m\n",
      "\u001B[34m[2020-06-08:11:11:07:INFO] Sniff delimiter as ','\u001B[0m\n",
      "\u001B[34m[2020-06-08:11:11:07:INFO] Determined delimiter of CSV input is ','\u001B[0m\n",
      "\u001B[34m[2020-06-08:11:11:07:INFO] Sniff delimiter as ','\u001B[0m\n",
      "\u001B[34m[2020-06-08:11:11:07:INFO] Determined delimiter of CSV input is ','\u001B[0m\n",
      "\u001B[35m[2020-06-08:11:11:07:INFO] Sniff delimiter as ','\u001B[0m\n",
      "\u001B[35m[2020-06-08:11:11:07:INFO] Determined delimiter of CSV input is ','\u001B[0m\n",
      "\u001B[35m[2020-06-08:11:11:07:INFO] Sniff delimiter as ','\u001B[0m\n",
      "\u001B[35m[2020-06-08:11:11:07:INFO] Determined delimiter of CSV input is ','\u001B[0m\n",
      "\u001B[35m[2020-06-08:11:11:07:INFO] Sniff delimiter as ','\u001B[0m\n",
      "\u001B[35m[2020-06-08:11:11:07:INFO] Determined delimiter of CSV input is ','\u001B[0m\n",
      "\u001B[34m[2020-06-08:11:11:08:INFO] Sniff delimiter as ','\u001B[0m\n",
      "\u001B[34m[2020-06-08:11:11:08:INFO] Determined delimiter of CSV input is ','\u001B[0m\n",
      "\u001B[35m[2020-06-08:11:11:08:INFO] Sniff delimiter as ','\u001B[0m\n",
      "\u001B[35m[2020-06-08:11:11:08:INFO] Determined delimiter of CSV input is ','\u001B[0m\n",
      "\u001B[34m[2020-06-08:11:11:09:INFO] Sniff delimiter as ','\u001B[0m\n",
      "\u001B[34m[2020-06-08:11:11:09:INFO] Determined delimiter of CSV input is ','\u001B[0m\n",
      "\u001B[35m[2020-06-08:11:11:09:INFO] Sniff delimiter as ','\u001B[0m\n",
      "\u001B[35m[2020-06-08:11:11:09:INFO] Determined delimiter of CSV input is ','\u001B[0m\n",
      "\u001B[34m[2020-06-08:11:11:10:INFO] Sniff delimiter as ','\u001B[0m\n",
      "\u001B[34m[2020-06-08:11:11:10:INFO] Determined delimiter of CSV input is ','\u001B[0m\n",
      "\u001B[34m[2020-06-08:11:11:10:INFO] Sniff delimiter as ','\u001B[0m\n",
      "\u001B[34m[2020-06-08:11:11:10:INFO] Determined delimiter of CSV input is ','\u001B[0m\n",
      "\u001B[35m[2020-06-08:11:11:10:INFO] Sniff delimiter as ','\u001B[0m\n",
      "\u001B[35m[2020-06-08:11:11:10:INFO] Determined delimiter of CSV input is ','\u001B[0m\n",
      "\u001B[35m[2020-06-08:11:11:10:INFO] Sniff delimiter as ','\u001B[0m\n",
      "\u001B[35m[2020-06-08:11:11:10:INFO] Determined delimiter of CSV input is ','\u001B[0m\n",
      "\u001B[34m[2020-06-08:11:11:12:INFO] Sniff delimiter as ','\u001B[0m\n",
      "\u001B[34m[2020-06-08:11:11:12:INFO] Determined delimiter of CSV input is ','\u001B[0m\n",
      "\u001B[34m[2020-06-08:11:11:12:INFO] Sniff delimiter as ','\u001B[0m\n",
      "\u001B[34m[2020-06-08:11:11:12:INFO] Determined delimiter of CSV input is ','\u001B[0m\n",
      "\u001B[34m[2020-06-08:11:11:12:INFO] Sniff delimiter as ','\u001B[0m\n",
      "\u001B[34m[2020-06-08:11:11:12:INFO] Determined delimiter of CSV input is ','\u001B[0m\n",
      "\u001B[34m[2020-06-08:11:11:12:INFO] Sniff delimiter as ','\u001B[0m\n",
      "\u001B[34m[2020-06-08:11:11:12:INFO] Determined delimiter of CSV input is ','\u001B[0m\n",
      "\u001B[35m[2020-06-08:11:11:12:INFO] Sniff delimiter as ','\u001B[0m\n",
      "\u001B[35m[2020-06-08:11:11:12:INFO] Determined delimiter of CSV input is ','\u001B[0m\n",
      "\u001B[35m[2020-06-08:11:11:12:INFO] Sniff delimiter as ','\u001B[0m\n",
      "\u001B[35m[2020-06-08:11:11:12:INFO] Determined delimiter of CSV input is ','\u001B[0m\n",
      "\u001B[35m[2020-06-08:11:11:12:INFO] Sniff delimiter as ','\u001B[0m\n",
      "\u001B[35m[2020-06-08:11:11:12:INFO] Determined delimiter of CSV input is ','\u001B[0m\n",
      "\u001B[35m[2020-06-08:11:11:12:INFO] Sniff delimiter as ','\u001B[0m\n",
      "\u001B[35m[2020-06-08:11:11:12:INFO] Determined delimiter of CSV input is ','\u001B[0m\n",
      "\u001B[34m[2020-06-08:11:11:14:INFO] Sniff delimiter as ','\u001B[0m\n",
      "\u001B[34m[2020-06-08:11:11:14:INFO] Determined delimiter of CSV input is ','\u001B[0m\n",
      "\u001B[34m[2020-06-08:11:11:14:INFO] Sniff delimiter as ','\u001B[0m\n",
      "\u001B[34m[2020-06-08:11:11:14:INFO] Determined delimiter of CSV input is ','\u001B[0m\n",
      "\u001B[35m[2020-06-08:11:11:14:INFO] Sniff delimiter as ','\u001B[0m\n",
      "\u001B[35m[2020-06-08:11:11:14:INFO] Determined delimiter of CSV input is ','\u001B[0m\n",
      "\u001B[35m[2020-06-08:11:11:14:INFO] Sniff delimiter as ','\u001B[0m\n",
      "\u001B[35m[2020-06-08:11:11:14:INFO] Determined delimiter of CSV input is ','\u001B[0m\n",
      "\u001B[34m[2020-06-08:11:11:15:INFO] Sniff delimiter as ','\u001B[0m\n",
      "\u001B[34m[2020-06-08:11:11:15:INFO] Determined delimiter of CSV input is ','\u001B[0m\n",
      "\u001B[34m[2020-06-08:11:11:15:INFO] Sniff delimiter as ','\u001B[0m\n",
      "\u001B[34m[2020-06-08:11:11:15:INFO] Determined delimiter of CSV input is ','\u001B[0m\n",
      "\u001B[35m[2020-06-08:11:11:15:INFO] Sniff delimiter as ','\u001B[0m\n",
      "\u001B[35m[2020-06-08:11:11:15:INFO] Determined delimiter of CSV input is ','\u001B[0m\n",
      "\u001B[35m[2020-06-08:11:11:15:INFO] Sniff delimiter as ','\u001B[0m\n",
      "\u001B[35m[2020-06-08:11:11:15:INFO] Determined delimiter of CSV input is ','\u001B[0m\n",
      "\u001B[34m[2020-06-08:11:11:17:INFO] Sniff delimiter as ','\u001B[0m\n",
      "\u001B[34m[2020-06-08:11:11:17:INFO] Determined delimiter of CSV input is ','\u001B[0m\n",
      "\u001B[34m[2020-06-08:11:11:17:INFO] Sniff delimiter as ','\u001B[0m\n",
      "\u001B[34m[2020-06-08:11:11:17:INFO] Determined delimiter of CSV input is ','\u001B[0m\n",
      "\u001B[34m[2020-06-08:11:11:17:INFO] Sniff delimiter as ','\u001B[0m\n",
      "\u001B[34m[2020-06-08:11:11:17:INFO] Determined delimiter of CSV input is ','\u001B[0m\n",
      "\u001B[34m[2020-06-08:11:11:17:INFO] Sniff delimiter as ','\u001B[0m\n",
      "\u001B[34m[2020-06-08:11:11:17:INFO] Determined delimiter of CSV input is ','\u001B[0m\n",
      "\u001B[35m[2020-06-08:11:11:17:INFO] Sniff delimiter as ','\u001B[0m\n",
      "\u001B[35m[2020-06-08:11:11:17:INFO] Determined delimiter of CSV input is ','\u001B[0m\n",
      "\u001B[35m[2020-06-08:11:11:17:INFO] Sniff delimiter as ','\u001B[0m\n",
      "\u001B[35m[2020-06-08:11:11:17:INFO] Determined delimiter of CSV input is ','\u001B[0m\n",
      "\u001B[35m[2020-06-08:11:11:17:INFO] Sniff delimiter as ','\u001B[0m\n",
      "\u001B[35m[2020-06-08:11:11:17:INFO] Determined delimiter of CSV input is ','\u001B[0m\n",
      "\u001B[35m[2020-06-08:11:11:17:INFO] Sniff delimiter as ','\u001B[0m\n",
      "\u001B[35m[2020-06-08:11:11:17:INFO] Determined delimiter of CSV input is ','\u001B[0m\n",
      "\u001B[34m[2020-06-08:11:11:19:INFO] Sniff delimiter as ','\u001B[0m\n",
      "\u001B[34m[2020-06-08:11:11:19:INFO] Determined delimiter of CSV input is ','\u001B[0m\n",
      "\u001B[34m[2020-06-08:11:11:19:INFO] Sniff delimiter as ','\u001B[0m\n",
      "\u001B[34m[2020-06-08:11:11:19:INFO] Determined delimiter of CSV input is ','\u001B[0m\n",
      "\u001B[35m[2020-06-08:11:11:19:INFO] Sniff delimiter as ','\u001B[0m\n",
      "\u001B[35m[2020-06-08:11:11:19:INFO] Determined delimiter of CSV input is ','\u001B[0m\n",
      "\u001B[35m[2020-06-08:11:11:19:INFO] Sniff delimiter as ','\u001B[0m\n",
      "\u001B[35m[2020-06-08:11:11:19:INFO] Determined delimiter of CSV input is ','\u001B[0m\n",
      "\u001B[34m[2020-06-08:11:11:22:INFO] Sniff delimiter as ','\u001B[0m\n",
      "\u001B[34m[2020-06-08:11:11:22:INFO] Determined delimiter of CSV input is ','\u001B[0m\n",
      "\u001B[34m[2020-06-08:11:11:22:INFO] Sniff delimiter as ','\u001B[0m\n",
      "\u001B[34m[2020-06-08:11:11:22:INFO] Determined delimiter of CSV input is ','\u001B[0m\n",
      "\u001B[35m[2020-06-08:11:11:22:INFO] Sniff delimiter as ','\u001B[0m\n",
      "\u001B[35m[2020-06-08:11:11:22:INFO] Determined delimiter of CSV input is ','\u001B[0m\n",
      "\u001B[35m[2020-06-08:11:11:22:INFO] Sniff delimiter as ','\u001B[0m\n",
      "\u001B[35m[2020-06-08:11:11:22:INFO] Determined delimiter of CSV input is ','\u001B[0m\n",
      "\u001B[34m[2020-06-08:11:11:22:INFO] Sniff delimiter as ','\u001B[0m\n",
      "\u001B[34m[2020-06-08:11:11:22:INFO] Determined delimiter of CSV input is ','\u001B[0m\n",
      "\u001B[34m[2020-06-08:11:11:22:INFO] Sniff delimiter as ','\u001B[0m\n",
      "\u001B[34m[2020-06-08:11:11:22:INFO] Determined delimiter of CSV input is ','\u001B[0m\n",
      "\u001B[35m[2020-06-08:11:11:22:INFO] Sniff delimiter as ','\u001B[0m\n",
      "\u001B[35m[2020-06-08:11:11:22:INFO] Determined delimiter of CSV input is ','\u001B[0m\n",
      "\u001B[35m[2020-06-08:11:11:22:INFO] Sniff delimiter as ','\u001B[0m\n",
      "\u001B[35m[2020-06-08:11:11:22:INFO] Determined delimiter of CSV input is ','\u001B[0m\n",
      "\u001B[34m[2020-06-08:11:11:24:INFO] Sniff delimiter as ','\u001B[0m\n",
      "\u001B[34m[2020-06-08:11:11:24:INFO] Determined delimiter of CSV input is ','\u001B[0m\n",
      "\u001B[35m[2020-06-08:11:11:24:INFO] Sniff delimiter as ','\u001B[0m\n",
      "\u001B[35m[2020-06-08:11:11:24:INFO] Determined delimiter of CSV input is ','\u001B[0m\n",
      "\u001B[34m[2020-06-08:11:11:24:INFO] Sniff delimiter as ','\u001B[0m\n",
      "\u001B[34m[2020-06-08:11:11:24:INFO] Determined delimiter of CSV input is ','\u001B[0m\n",
      "\u001B[35m[2020-06-08:11:11:24:INFO] Sniff delimiter as ','\u001B[0m\n",
      "\u001B[35m[2020-06-08:11:11:24:INFO] Determined delimiter of CSV input is ','\u001B[0m\n",
      "\u001B[34m[2020-06-08:11:11:25:INFO] Sniff delimiter as ','\u001B[0m\n",
      "\u001B[34m[2020-06-08:11:11:25:INFO] Determined delimiter of CSV input is ','\u001B[0m\n",
      "\u001B[34m[2020-06-08:11:11:25:INFO] Sniff delimiter as ','\u001B[0m\n",
      "\u001B[34m[2020-06-08:11:11:25:INFO] Determined delimiter of CSV input is ','\u001B[0m\n",
      "\u001B[35m[2020-06-08:11:11:25:INFO] Sniff delimiter as ','\u001B[0m\n",
      "\u001B[35m[2020-06-08:11:11:25:INFO] Determined delimiter of CSV input is ','\u001B[0m\n",
      "\u001B[35m[2020-06-08:11:11:25:INFO] Sniff delimiter as ','\u001B[0m\n",
      "\u001B[35m[2020-06-08:11:11:25:INFO] Determined delimiter of CSV input is ','\u001B[0m\n",
      "\u001B[34m[2020-06-08:11:11:27:INFO] Sniff delimiter as ','\u001B[0m\n",
      "\u001B[34m[2020-06-08:11:11:27:INFO] Determined delimiter of CSV input is ','\u001B[0m\n",
      "\u001B[34m[2020-06-08:11:11:27:INFO] Sniff delimiter as ','\u001B[0m\n",
      "\u001B[34m[2020-06-08:11:11:27:INFO] Determined delimiter of CSV input is ','\u001B[0m\n",
      "\u001B[34m[2020-06-08:11:11:27:INFO] Sniff delimiter as ','\u001B[0m\n",
      "\u001B[34m[2020-06-08:11:11:27:INFO] Determined delimiter of CSV input is ','\u001B[0m\n",
      "\u001B[34m[2020-06-08:11:11:27:INFO] Sniff delimiter as ','\u001B[0m\n",
      "\u001B[34m[2020-06-08:11:11:27:INFO] Determined delimiter of CSV input is ','\u001B[0m\n",
      "\u001B[35m[2020-06-08:11:11:27:INFO] Sniff delimiter as ','\u001B[0m\n",
      "\u001B[35m[2020-06-08:11:11:27:INFO] Determined delimiter of CSV input is ','\u001B[0m\n",
      "\u001B[35m[2020-06-08:11:11:27:INFO] Sniff delimiter as ','\u001B[0m\n",
      "\u001B[35m[2020-06-08:11:11:27:INFO] Determined delimiter of CSV input is ','\u001B[0m\n",
      "\u001B[35m[2020-06-08:11:11:27:INFO] Sniff delimiter as ','\u001B[0m\n",
      "\u001B[35m[2020-06-08:11:11:27:INFO] Determined delimiter of CSV input is ','\u001B[0m\n",
      "\u001B[35m[2020-06-08:11:11:27:INFO] Sniff delimiter as ','\u001B[0m\n",
      "\u001B[35m[2020-06-08:11:11:27:INFO] Determined delimiter of CSV input is ','\u001B[0m\n"
     ]
    },
    {
     "name": "stdout",
     "output_type": "stream",
     "text": [
      "\n"
     ]
    }
   ],
   "source": [
    "xgb_transformer.wait()"
   ]
  },
  {
   "cell_type": "markdown",
   "metadata": {},
   "source": [
    "Now the transform job has executed and the result, the estimated sentiment of each review, has been saved on S3. Since we would rather work on this file locally we can perform a bit of notebook magic to copy the file to the `data_dir`."
   ]
  },
  {
   "cell_type": "code",
   "execution_count": 25,
   "metadata": {},
   "outputs": [
    {
     "name": "stdout",
     "output_type": "stream",
     "text": [
      "Completed 256.0 KiB/369.3 KiB (3.1 MiB/s) with 1 file(s) remaining\r",
      "Completed 369.3 KiB/369.3 KiB (4.4 MiB/s) with 1 file(s) remaining\r",
      "download: s3://sagemaker-us-west-2-754745079939/xgboost-2020-06-08-11-07-21-150/test.csv.out to ../data/sentiment_update/test.csv.out\r\n"
     ]
    }
   ],
   "source": [
    "!aws s3 cp --recursive $xgb_transformer.output_path $data_dir"
   ]
  },
  {
   "cell_type": "markdown",
   "metadata": {},
   "source": [
    "The last step is now to read in the output from our model, convert the output to something a little more usable, in this case we want the sentiment to be either `1` (positive) or `0` (negative), and then compare to the ground truth labels."
   ]
  },
  {
   "cell_type": "code",
   "execution_count": 26,
   "metadata": {},
   "outputs": [],
   "source": [
    "predictions = pd.read_csv(os.path.join(data_dir, 'test.csv.out'), header=None)\n",
    "predictions = [round(num) for num in predictions.squeeze().values]"
   ]
  },
  {
   "cell_type": "code",
   "execution_count": 27,
   "metadata": {},
   "outputs": [
    {
     "data": {
      "text/plain": [
       "0.85516"
      ]
     },
     "execution_count": 27,
     "metadata": {},
     "output_type": "execute_result"
    }
   ],
   "source": [
    "from sklearn.metrics import accuracy_score\n",
    "accuracy_score(test_y, predictions)"
   ]
  },
  {
   "cell_type": "markdown",
   "metadata": {},
   "source": [
    "## Step 5: Looking at New Data\n",
    "\n",
    "So now we have an XGBoost sentiment analysis model that we believe is working pretty well. As a result, we deployed it and we are using it in some sort of app.\n",
    "\n",
    "However, as we allow users to use our app we periodically record submitted movie reviews so that we can perform some quality control on our deployed model. Once we've accumulated enough reviews we go through them by hand and evaluate whether they are positive or negative (there are many ways you might do this in practice aside from by hand). The reason for doing this is so that we can check to see how well our model is doing."
   ]
  },
  {
   "cell_type": "code",
   "execution_count": 28,
   "metadata": {},
   "outputs": [],
   "source": [
    "import new_data\n",
    "\n",
    "new_X, new_Y = new_data.get_new_data()"
   ]
  },
  {
   "cell_type": "code",
   "execution_count": 29,
   "metadata": {},
   "outputs": [
    {
     "data": {
      "text/plain": [
       "(list, list)"
      ]
     },
     "execution_count": 29,
     "metadata": {},
     "output_type": "execute_result"
    }
   ],
   "source": [
    "type(new_Y), type(new_X)"
   ]
  },
  {
   "cell_type": "code",
   "execution_count": 31,
   "metadata": {},
   "outputs": [
    {
     "data": {
      "text/plain": [
       "(25000, 25000)"
      ]
     },
     "execution_count": 31,
     "metadata": {},
     "output_type": "execute_result"
    }
   ],
   "source": [
    "len(new_Y), len(new_X)"
   ]
  },
  {
   "cell_type": "code",
   "execution_count": 32,
   "metadata": {},
   "outputs": [
    {
     "data": {
      "text/plain": [
       "[0, 0, 1, 0]"
      ]
     },
     "execution_count": 32,
     "metadata": {},
     "output_type": "execute_result"
    }
   ],
   "source": [
    "new_Y[:4]"
   ]
  },
  {
   "cell_type": "code",
   "execution_count": 37,
   "metadata": {
    "scrolled": true
   },
   "outputs": [
    {
     "data": {
      "text/plain": [
       "['comparison',\n",
       " 'american',\n",
       " 'graffiti',\n",
       " 'inevit',\n",
       " 'save',\n",
       " 'money',\n",
       " 'time',\n",
       " 'rent',\n",
       " 'timeless',\n",
       " 'classic',\n",
       " 'speak',\n",
       " 'timeli',\n",
       " 'episod',\n",
       " 'cheer',\n",
       " 'norm',\n",
       " 'cliff',\n",
       " 'compet',\n",
       " 'find',\n",
       " 'anachron',\n",
       " 'movi',\n",
       " 'would',\n",
       " 'love',\n",
       " 'movi',\n",
       " 'everyth',\n",
       " 'song',\n",
       " 'cloth',\n",
       " 'wrong',\n",
       " 'sli',\n",
       " 'refer',\n",
       " 'pave',\n",
       " 'paradis',\n",
       " 'put',\n",
       " 'park',\n",
       " 'lot',\n",
       " 'filmmak',\n",
       " 'hope',\n",
       " 'elicit',\n",
       " 'smile',\n",
       " 'us',\n",
       " 'basic',\n",
       " 'made',\n",
       " 'groan',\n",
       " 'charact',\n",
       " 'movi',\n",
       " 'incred',\n",
       " 'polit',\n",
       " 'social',\n",
       " 'astut',\n",
       " 'teenag',\n",
       " 'almost',\n",
       " 'smart',\n",
       " 'peopl',\n",
       " 'thirti',\n",
       " 'forti',\n",
       " 'wrote',\n",
       " 'darn',\n",
       " 'movi',\n",
       " 'littl',\n",
       " 'charact',\n",
       " 'said',\n",
       " 'believ',\n",
       " 'combin',\n",
       " 'bad',\n",
       " 'write',\n",
       " 'bad',\n",
       " 'act',\n",
       " 'movi',\n",
       " 'total',\n",
       " 'fail',\n",
       " 'although',\n",
       " 'two',\n",
       " 'except',\n",
       " 'kelli',\n",
       " 'william',\n",
       " 'liven',\n",
       " 'thing',\n",
       " 'futur',\n",
       " 'flower',\n",
       " 'child',\n",
       " 'despit',\n",
       " 'anoth',\n",
       " 'review',\n",
       " 'said',\n",
       " 'rick',\n",
       " 'shroeder',\n",
       " 'quit',\n",
       " 'good',\n",
       " 'show',\n",
       " 'brood',\n",
       " 'characterist',\n",
       " 'would',\n",
       " 'come',\n",
       " 'full',\n",
       " 'boil',\n",
       " 'eventu',\n",
       " 'appear',\n",
       " 'n',\n",
       " 'p',\n",
       " 'blue']"
      ]
     },
     "execution_count": 37,
     "metadata": {},
     "output_type": "execute_result"
    }
   ],
   "source": [
    "new_X[1]"
   ]
  },
  {
   "cell_type": "markdown",
   "metadata": {},
   "source": [
    "**NOTE:** Part of the fun in this notebook is trying to figure out what exactly is happening with the new data, so try not to cheat by looking in the `new_data` module. Also, the `new_data` module assumes that the cache created earlier in Step 3 is still stored in `../cache/sentiment_analysis`."
   ]
  },
  {
   "cell_type": "markdown",
   "metadata": {},
   "source": [
    "### (TODO) Testing the current model\n",
    "\n",
    "Now that we've loaded the new data, let's check to see how our current XGBoost model performs on it.\n",
    "\n",
    "First, note that the data that has been loaded has already been pre-processed so that each entry in `new_X` is a list of words that have been processed using `nltk`. However, we have not yet constructed the bag of words encoding, which we will do now.\n",
    "\n",
    "First, we use the vocabulary that we constructed earlier using the original training data to construct a `CountVectorizer` which we will use to transform our new data into its bag of words encoding.\n",
    "\n",
    "**TODO:** Create the CountVectorizer object using the vocabulary created earlier and use it to transform the new data."
   ]
  },
  {
   "cell_type": "code",
   "execution_count": 80,
   "metadata": {},
   "outputs": [],
   "source": [
    "# TODO: Create the CountVectorizer using the previously constructed vocabulary\n",
    "vectorizer = CountVectorizer(\n",
    "    vocabulary=vocabulary,  \n",
    "    preprocessor=lambda x: x, tokenizer=lambda x: x  # already preprocessed)\n",
    ")\n",
    "\n",
    "# TODO: Transform our new data set and store the transformed data in the variable new_XV\n",
    "new_XV = vectorizer.transform(new_X).toarray()"
   ]
  },
  {
   "cell_type": "code",
   "execution_count": 81,
   "metadata": {},
   "outputs": [
    {
     "data": {
      "text/plain": [
       "(25000, 5000)"
      ]
     },
     "execution_count": 81,
     "metadata": {},
     "output_type": "execute_result"
    }
   ],
   "source": [
    "new_XV.shape"
   ]
  },
  {
   "cell_type": "markdown",
   "metadata": {},
   "source": [
    "As a quick sanity check, we make sure that the length of each of our bag of words encoded reviews is correct. In particular, it must be the same size as the vocabulary which in our case is `5000`."
   ]
  },
  {
   "cell_type": "code",
   "execution_count": 82,
   "metadata": {},
   "outputs": [
    {
     "data": {
      "text/plain": [
       "5000"
      ]
     },
     "execution_count": 82,
     "metadata": {},
     "output_type": "execute_result"
    }
   ],
   "source": [
    "len(new_XV[100])"
   ]
  },
  {
   "cell_type": "markdown",
   "metadata": {},
   "source": [
    "Now that we've performed the data processing that is required by our model we can save it locally and then upload it to S3 so that we can construct a batch transform job in order to see how well our model is working.\n",
    "\n",
    "First, we save the data locally.\n",
    "\n",
    "**TODO:** Save the new data (after it has been transformed using the original vocabulary) to the local notebook instance."
   ]
  },
  {
   "cell_type": "code",
   "execution_count": 52,
   "metadata": {},
   "outputs": [],
   "source": [
    "# TODO: Save the data contained in new_XV locally in the data_dir with the file name new_data.csv\n",
    "pd.DataFrame(new_XV).to_csv(os.path.join(data_dir, 'new_data.csv'), header=False, index=False)"
   ]
  },
  {
   "cell_type": "markdown",
   "metadata": {},
   "source": [
    "Next, we upload the data to S3.\n",
    "\n",
    "**TODO:** Upload the csv file created above to S3."
   ]
  },
  {
   "cell_type": "code",
   "execution_count": 53,
   "metadata": {},
   "outputs": [
    {
     "name": "stderr",
     "output_type": "stream",
     "text": [
      "WARNING:sagemaker:Parameter 'session' will be renamed to 'sagemaker_session' in SageMaker Python SDK v2.\n",
      "WARNING:sagemaker:'upload_data' method will be deprecated in favor of 'S3Uploader' class (https://sagemaker.readthedocs.io/en/stable/s3.html#sagemaker.s3.S3Uploader) in SageMaker Python SDK v2.\n"
     ]
    }
   ],
   "source": [
    "# TODO: Upload the new_data.csv file contained in the data_dir folder to S3 and save the resulting\n",
    "#       URI as new_data_location\n",
    "\n",
    "new_data_location = S3Uploader.upload(os.path.join(data_dir, 'new_data.csv'), f\"s3://{bucket}/{prefix}\", session = session)"
   ]
  },
  {
   "cell_type": "markdown",
   "metadata": {},
   "source": [
    "Then, once the new data has been uploaded to S3, we create and run the batch transform job to get our model's predictions about the sentiment of the new movie reviews.\n",
    "\n",
    "**TODO:** Using the `xgb_transformer` object that was created earlier (at the end of Step 4 to test the XGBoost model), transform the data located at `new_data_location`."
   ]
  },
  {
   "cell_type": "code",
   "execution_count": 54,
   "metadata": {},
   "outputs": [],
   "source": [
    "# TODO: Using xgb_transformer, transform the new_data_location data. You may wish to **wait** until\n",
    "#       the batch transform job has finished.\n",
    "xgb_transformer.transform(new_data_location, content_type='text/csv', split_type='Line')"
   ]
  },
  {
   "cell_type": "code",
   "execution_count": 55,
   "metadata": {},
   "outputs": [
    {
     "name": "stdout",
     "output_type": "stream",
     "text": [
      "....................\u001B[34mArguments: serve\u001B[0m\n",
      "\u001B[34m[2020-06-08 11:23:14 +0000] [1] [INFO] Starting gunicorn 19.7.1\u001B[0m\n",
      "\u001B[34m[2020-06-08 11:23:14 +0000] [1] [INFO] Listening at: http://0.0.0.0:8080 (1)\u001B[0m\n",
      "\u001B[34m[2020-06-08 11:23:14 +0000] [1] [INFO] Using worker: gevent\u001B[0m\n",
      "\u001B[34m[2020-06-08 11:23:14 +0000] [38] [INFO] Booting worker with pid: 38\u001B[0m\n",
      "\u001B[34m[2020-06-08 11:23:14 +0000] [39] [INFO] Booting worker with pid: 39\u001B[0m\n",
      "\u001B[34m[2020-06-08 11:23:14 +0000] [40] [INFO] Booting worker with pid: 40\u001B[0m\n",
      "\u001B[34m[2020-06-08 11:23:14 +0000] [41] [INFO] Booting worker with pid: 41\u001B[0m\n",
      "\u001B[34m[2020-06-08:11:23:14:INFO] Model loaded successfully for worker : 39\u001B[0m\n",
      "\u001B[34m[2020-06-08:11:23:14:INFO] Model loaded successfully for worker : 38\u001B[0m\n",
      "\u001B[34m[2020-06-08:11:23:14:INFO] Model loaded successfully for worker : 40\u001B[0m\n",
      "\u001B[34m[2020-06-08:11:23:14:INFO] Model loaded successfully for worker : 41\u001B[0m\n",
      "\u001B[34m[2020-06-08:11:23:37:INFO] Sniff delimiter as ','\u001B[0m\n",
      "\u001B[35m[2020-06-08:11:23:37:INFO] Sniff delimiter as ','\u001B[0m\n",
      "\u001B[34m[2020-06-08:11:23:37:INFO] Determined delimiter of CSV input is ','\u001B[0m\n",
      "\u001B[35m[2020-06-08:11:23:37:INFO] Determined delimiter of CSV input is ','\u001B[0m\n",
      "\u001B[32m2020-06-08T11:23:34.338:[sagemaker logs]: MaxConcurrentTransforms=4, MaxPayloadInMB=6, BatchStrategy=MULTI_RECORD\u001B[0m\n",
      "\u001B[34m[2020-06-08:11:23:37:INFO] Sniff delimiter as ','\u001B[0m\n",
      "\u001B[34m[2020-06-08:11:23:37:INFO] Determined delimiter of CSV input is ','\u001B[0m\n",
      "\u001B[34m[2020-06-08:11:23:37:INFO] Sniff delimiter as ','\u001B[0m\n",
      "\u001B[34m[2020-06-08:11:23:37:INFO] Determined delimiter of CSV input is ','\u001B[0m\n",
      "\u001B[34m[2020-06-08:11:23:37:INFO] Sniff delimiter as ','\u001B[0m\n",
      "\u001B[34m[2020-06-08:11:23:37:INFO] Determined delimiter of CSV input is ','\u001B[0m\n",
      "\u001B[35m[2020-06-08:11:23:37:INFO] Sniff delimiter as ','\u001B[0m\n",
      "\u001B[35m[2020-06-08:11:23:37:INFO] Determined delimiter of CSV input is ','\u001B[0m\n",
      "\u001B[35m[2020-06-08:11:23:37:INFO] Sniff delimiter as ','\u001B[0m\n",
      "\u001B[35m[2020-06-08:11:23:37:INFO] Determined delimiter of CSV input is ','\u001B[0m\n",
      "\u001B[35m[2020-06-08:11:23:37:INFO] Sniff delimiter as ','\u001B[0m\n",
      "\u001B[35m[2020-06-08:11:23:37:INFO] Determined delimiter of CSV input is ','\u001B[0m\n",
      "\u001B[34m[2020-06-08:11:23:39:INFO] Sniff delimiter as ','\u001B[0m\n",
      "\u001B[34m[2020-06-08:11:23:39:INFO] Determined delimiter of CSV input is ','\u001B[0m\n",
      "\u001B[34m[2020-06-08:11:23:39:INFO] Sniff delimiter as ','\u001B[0m\n",
      "\u001B[34m[2020-06-08:11:23:39:INFO] Determined delimiter of CSV input is ','\u001B[0m\n",
      "\u001B[34m[2020-06-08:11:23:40:INFO] Sniff delimiter as ','\u001B[0m\n",
      "\u001B[34m[2020-06-08:11:23:40:INFO] Determined delimiter of CSV input is ','\u001B[0m\n",
      "\u001B[34m[2020-06-08:11:23:40:INFO] Sniff delimiter as ','\u001B[0m\n",
      "\u001B[34m[2020-06-08:11:23:40:INFO] Determined delimiter of CSV input is ','\u001B[0m\n",
      "\u001B[35m[2020-06-08:11:23:39:INFO] Sniff delimiter as ','\u001B[0m\n",
      "\u001B[35m[2020-06-08:11:23:39:INFO] Determined delimiter of CSV input is ','\u001B[0m\n",
      "\u001B[35m[2020-06-08:11:23:39:INFO] Sniff delimiter as ','\u001B[0m\n",
      "\u001B[35m[2020-06-08:11:23:39:INFO] Determined delimiter of CSV input is ','\u001B[0m\n",
      "\u001B[35m[2020-06-08:11:23:40:INFO] Sniff delimiter as ','\u001B[0m\n",
      "\u001B[35m[2020-06-08:11:23:40:INFO] Determined delimiter of CSV input is ','\u001B[0m\n",
      "\u001B[35m[2020-06-08:11:23:40:INFO] Sniff delimiter as ','\u001B[0m\n",
      "\u001B[35m[2020-06-08:11:23:40:INFO] Determined delimiter of CSV input is ','\u001B[0m\n",
      "\u001B[34m[2020-06-08:11:23:44:INFO] Sniff delimiter as ','\u001B[0m\n",
      "\u001B[34m[2020-06-08:11:23:44:INFO] Determined delimiter of CSV input is ','\u001B[0m\n",
      "\u001B[34m[2020-06-08:11:23:44:INFO] Sniff delimiter as ','\u001B[0m\n",
      "\u001B[34m[2020-06-08:11:23:44:INFO] Determined delimiter of CSV input is ','\u001B[0m\n",
      "\u001B[34m[2020-06-08:11:23:44:INFO] Sniff delimiter as ','\u001B[0m\n",
      "\u001B[34m[2020-06-08:11:23:44:INFO] Determined delimiter of CSV input is ','\u001B[0m\n",
      "\u001B[34m[2020-06-08:11:23:45:INFO] Sniff delimiter as ','\u001B[0m\n",
      "\u001B[34m[2020-06-08:11:23:45:INFO] Determined delimiter of CSV input is ','\u001B[0m\n",
      "\u001B[35m[2020-06-08:11:23:44:INFO] Sniff delimiter as ','\u001B[0m\n",
      "\u001B[35m[2020-06-08:11:23:44:INFO] Determined delimiter of CSV input is ','\u001B[0m\n",
      "\u001B[35m[2020-06-08:11:23:44:INFO] Sniff delimiter as ','\u001B[0m\n",
      "\u001B[35m[2020-06-08:11:23:44:INFO] Determined delimiter of CSV input is ','\u001B[0m\n",
      "\u001B[35m[2020-06-08:11:23:44:INFO] Sniff delimiter as ','\u001B[0m\n",
      "\u001B[35m[2020-06-08:11:23:44:INFO] Determined delimiter of CSV input is ','\u001B[0m\n",
      "\u001B[35m[2020-06-08:11:23:45:INFO] Sniff delimiter as ','\u001B[0m\n",
      "\u001B[35m[2020-06-08:11:23:45:INFO] Determined delimiter of CSV input is ','\u001B[0m\n",
      "\u001B[34m[2020-06-08:11:23:47:INFO] Sniff delimiter as ','\u001B[0m\n",
      "\u001B[34m[2020-06-08:11:23:47:INFO] Determined delimiter of CSV input is ','\u001B[0m\n",
      "\u001B[34m[2020-06-08:11:23:47:INFO] Sniff delimiter as ','\u001B[0m\n",
      "\u001B[34m[2020-06-08:11:23:47:INFO] Determined delimiter of CSV input is ','\u001B[0m\n",
      "\u001B[35m[2020-06-08:11:23:47:INFO] Sniff delimiter as ','\u001B[0m\n",
      "\u001B[35m[2020-06-08:11:23:47:INFO] Determined delimiter of CSV input is ','\u001B[0m\n",
      "\u001B[35m[2020-06-08:11:23:47:INFO] Sniff delimiter as ','\u001B[0m\n",
      "\u001B[35m[2020-06-08:11:23:47:INFO] Determined delimiter of CSV input is ','\u001B[0m\n",
      "\u001B[34m[2020-06-08:11:23:47:INFO] Sniff delimiter as ','\u001B[0m\n",
      "\u001B[34m[2020-06-08:11:23:47:INFO] Determined delimiter of CSV input is ','\u001B[0m\n",
      "\u001B[34m[2020-06-08:11:23:47:INFO] Sniff delimiter as ','\u001B[0m\n",
      "\u001B[34m[2020-06-08:11:23:47:INFO] Determined delimiter of CSV input is ','\u001B[0m\n",
      "\u001B[35m[2020-06-08:11:23:47:INFO] Sniff delimiter as ','\u001B[0m\n",
      "\u001B[35m[2020-06-08:11:23:47:INFO] Determined delimiter of CSV input is ','\u001B[0m\n",
      "\u001B[35m[2020-06-08:11:23:47:INFO] Sniff delimiter as ','\u001B[0m\n",
      "\u001B[35m[2020-06-08:11:23:47:INFO] Determined delimiter of CSV input is ','\u001B[0m\n",
      "\u001B[34m[2020-06-08:11:23:49:INFO] Sniff delimiter as ','\u001B[0m\n",
      "\u001B[34m[2020-06-08:11:23:49:INFO] Determined delimiter of CSV input is ','\u001B[0m\n",
      "\u001B[34m[2020-06-08:11:23:49:INFO] Sniff delimiter as ','\u001B[0m\n",
      "\u001B[34m[2020-06-08:11:23:49:INFO] Determined delimiter of CSV input is ','\u001B[0m\n",
      "\u001B[34m[2020-06-08:11:23:49:INFO] Sniff delimiter as ','\u001B[0m\n",
      "\u001B[34m[2020-06-08:11:23:49:INFO] Determined delimiter of CSV input is ','\u001B[0m\n",
      "\u001B[34m[2020-06-08:11:23:50:INFO] Sniff delimiter as ','\u001B[0m\n",
      "\u001B[34m[2020-06-08:11:23:50:INFO] Determined delimiter of CSV input is ','\u001B[0m\n",
      "\u001B[35m[2020-06-08:11:23:49:INFO] Sniff delimiter as ','\u001B[0m\n",
      "\u001B[35m[2020-06-08:11:23:49:INFO] Determined delimiter of CSV input is ','\u001B[0m\n",
      "\u001B[35m[2020-06-08:11:23:49:INFO] Sniff delimiter as ','\u001B[0m\n",
      "\u001B[35m[2020-06-08:11:23:49:INFO] Determined delimiter of CSV input is ','\u001B[0m\n",
      "\u001B[35m[2020-06-08:11:23:49:INFO] Sniff delimiter as ','\u001B[0m\n",
      "\u001B[35m[2020-06-08:11:23:49:INFO] Determined delimiter of CSV input is ','\u001B[0m\n",
      "\u001B[35m[2020-06-08:11:23:50:INFO] Sniff delimiter as ','\u001B[0m\n",
      "\u001B[35m[2020-06-08:11:23:50:INFO] Determined delimiter of CSV input is ','\u001B[0m\n",
      "\n",
      "\u001B[34m[2020-06-08:11:23:54:INFO] Sniff delimiter as ','\u001B[0m\n",
      "\u001B[34m[2020-06-08:11:23:54:INFO] Determined delimiter of CSV input is ','\u001B[0m\n",
      "\u001B[35m[2020-06-08:11:23:54:INFO] Sniff delimiter as ','\u001B[0m\n",
      "\u001B[35m[2020-06-08:11:23:54:INFO] Determined delimiter of CSV input is ','\u001B[0m\n",
      "\u001B[34m[2020-06-08:11:23:54:INFO] Sniff delimiter as ','\u001B[0m\n",
      "\u001B[34m[2020-06-08:11:23:54:INFO] Determined delimiter of CSV input is ','\u001B[0m\n",
      "\u001B[34m[2020-06-08:11:23:54:INFO] Sniff delimiter as ','\u001B[0m\n",
      "\u001B[34m[2020-06-08:11:23:54:INFO] Determined delimiter of CSV input is ','\u001B[0m\n",
      "\u001B[34m[2020-06-08:11:23:54:INFO] Sniff delimiter as ','\u001B[0m\n",
      "\u001B[34m[2020-06-08:11:23:54:INFO] Determined delimiter of CSV input is ','\u001B[0m\n",
      "\u001B[35m[2020-06-08:11:23:54:INFO] Sniff delimiter as ','\u001B[0m\n",
      "\u001B[35m[2020-06-08:11:23:54:INFO] Determined delimiter of CSV input is ','\u001B[0m\n",
      "\u001B[35m[2020-06-08:11:23:54:INFO] Sniff delimiter as ','\u001B[0m\n",
      "\u001B[35m[2020-06-08:11:23:54:INFO] Determined delimiter of CSV input is ','\u001B[0m\n",
      "\u001B[35m[2020-06-08:11:23:54:INFO] Sniff delimiter as ','\u001B[0m\n",
      "\u001B[35m[2020-06-08:11:23:54:INFO] Determined delimiter of CSV input is ','\u001B[0m\n",
      "\u001B[34m[2020-06-08:11:23:56:INFO] Sniff delimiter as ','\u001B[0m\n",
      "\u001B[34m[2020-06-08:11:23:56:INFO] Determined delimiter of CSV input is ','\u001B[0m\n",
      "\u001B[34m[2020-06-08:11:23:57:INFO] Sniff delimiter as ','\u001B[0m\n",
      "\u001B[34m[2020-06-08:11:23:57:INFO] Determined delimiter of CSV input is ','\u001B[0m\n",
      "\u001B[34m[2020-06-08:11:23:57:INFO] Sniff delimiter as ','\u001B[0m\n",
      "\u001B[34m[2020-06-08:11:23:57:INFO] Determined delimiter of CSV input is ','\u001B[0m\n",
      "\u001B[34m[2020-06-08:11:23:57:INFO] Sniff delimiter as ','\u001B[0m\n",
      "\u001B[34m[2020-06-08:11:23:57:INFO] Determined delimiter of CSV input is ','\u001B[0m\n",
      "\u001B[35m[2020-06-08:11:23:56:INFO] Sniff delimiter as ','\u001B[0m\n",
      "\u001B[35m[2020-06-08:11:23:56:INFO] Determined delimiter of CSV input is ','\u001B[0m\n",
      "\u001B[35m[2020-06-08:11:23:57:INFO] Sniff delimiter as ','\u001B[0m\n",
      "\u001B[35m[2020-06-08:11:23:57:INFO] Determined delimiter of CSV input is ','\u001B[0m\n",
      "\u001B[35m[2020-06-08:11:23:57:INFO] Sniff delimiter as ','\u001B[0m\n",
      "\u001B[35m[2020-06-08:11:23:57:INFO] Determined delimiter of CSV input is ','\u001B[0m\n",
      "\u001B[35m[2020-06-08:11:23:57:INFO] Sniff delimiter as ','\u001B[0m\n",
      "\u001B[35m[2020-06-08:11:23:57:INFO] Determined delimiter of CSV input is ','\u001B[0m\n",
      "\u001B[34m[2020-06-08:11:23:59:INFO] Sniff delimiter as ','\u001B[0m\n",
      "\u001B[34m[2020-06-08:11:23:59:INFO] Determined delimiter of CSV input is ','\u001B[0m\n",
      "\u001B[34m[2020-06-08:11:23:59:INFO] Sniff delimiter as ','\u001B[0m\n",
      "\u001B[34m[2020-06-08:11:23:59:INFO] Determined delimiter of CSV input is ','\u001B[0m\n",
      "\u001B[34m[2020-06-08:11:23:59:INFO] Sniff delimiter as ','\u001B[0m\n",
      "\u001B[34m[2020-06-08:11:23:59:INFO] Determined delimiter of CSV input is ','\u001B[0m\n",
      "\u001B[34m[2020-06-08:11:23:59:INFO] Sniff delimiter as ','\u001B[0m\n",
      "\u001B[34m[2020-06-08:11:23:59:INFO] Determined delimiter of CSV input is ','\u001B[0m\n",
      "\u001B[35m[2020-06-08:11:23:59:INFO] Sniff delimiter as ','\u001B[0m\n",
      "\u001B[35m[2020-06-08:11:23:59:INFO] Determined delimiter of CSV input is ','\u001B[0m\n",
      "\u001B[35m[2020-06-08:11:23:59:INFO] Sniff delimiter as ','\u001B[0m\n",
      "\u001B[35m[2020-06-08:11:23:59:INFO] Determined delimiter of CSV input is ','\u001B[0m\n",
      "\u001B[35m[2020-06-08:11:23:59:INFO] Sniff delimiter as ','\u001B[0m\n",
      "\u001B[35m[2020-06-08:11:23:59:INFO] Determined delimiter of CSV input is ','\u001B[0m\n",
      "\u001B[35m[2020-06-08:11:23:59:INFO] Sniff delimiter as ','\u001B[0m\n",
      "\u001B[35m[2020-06-08:11:23:59:INFO] Determined delimiter of CSV input is ','\u001B[0m\n"
     ]
    }
   ],
   "source": [
    "xgb_transformer.wait()"
   ]
  },
  {
   "cell_type": "markdown",
   "metadata": {},
   "source": [
    "As usual, we copy the results of the batch transform job to our local instance."
   ]
  },
  {
   "cell_type": "code",
   "execution_count": 56,
   "metadata": {},
   "outputs": [
    {
     "name": "stdout",
     "output_type": "stream",
     "text": [
      "Completed 256.0 KiB/369.3 KiB (2.5 MiB/s) with 1 file(s) remaining\r",
      "Completed 369.3 KiB/369.3 KiB (3.6 MiB/s) with 1 file(s) remaining\r",
      "download: s3://sagemaker-us-west-2-754745079939/xgboost-2020-06-08-11-20-03-465/new_data.csv.out to ../data/sentiment_update/new_data.csv.out\r\n"
     ]
    }
   ],
   "source": [
    "!aws s3 cp --recursive $xgb_transformer.output_path $data_dir"
   ]
  },
  {
   "cell_type": "markdown",
   "metadata": {},
   "source": [
    "Read in the results of the batch transform job."
   ]
  },
  {
   "cell_type": "code",
   "execution_count": 57,
   "metadata": {},
   "outputs": [],
   "source": [
    "predictions = pd.read_csv(os.path.join(data_dir, 'new_data.csv.out'), header=None)\n",
    "predictions = [round(num) for num in predictions.squeeze().values]"
   ]
  },
  {
   "cell_type": "markdown",
   "metadata": {},
   "source": [
    "And check the accuracy of our current model."
   ]
  },
  {
   "cell_type": "code",
   "execution_count": 58,
   "metadata": {},
   "outputs": [
    {
     "data": {
      "text/plain": [
       "0.73384"
      ]
     },
     "execution_count": 58,
     "metadata": {},
     "output_type": "execute_result"
    }
   ],
   "source": [
    "accuracy_score(new_Y, predictions)"
   ]
  },
  {
   "cell_type": "markdown",
   "metadata": {},
   "source": [
    "So it would appear that *something* has changed since our model is no longer (as) effective at determining the sentiment of a user provided review.\n",
    "\n",
    "In a real life scenario you would check a number of different things to see what exactly is going on. In our case, we are only going to check one and that is whether some aspect of the underlying distribution has changed. In other words, we want to see if the words that appear in our new collection of reviews matches the words that appear in the original training set. Of course, we want to narrow our scope a little bit so we will only look at the `5000` most frequently appearing words in each data set, or in other words, the vocabulary generated by each data set.\n",
    "\n",
    "Before doing that, however, let's take a look at some of the incorrectly classified reviews in the new data set.\n",
    "\n",
    "To start, we will deploy the original XGBoost model. We will then use the deployed model to infer the sentiment of some of the new reviews. This will also serve as a nice excuse to deploy our model so that we can mimic a real life scenario where we have a model that has been deployed and is being used in production.\n",
    "\n",
    "**TODO:** Deploy the XGBoost model."
   ]
  },
  {
   "cell_type": "code",
   "execution_count": 59,
   "metadata": {},
   "outputs": [
    {
     "name": "stderr",
     "output_type": "stream",
     "text": [
      "WARNING:sagemaker:Parameter image will be renamed to image_uri in SageMaker Python SDK v2.\n",
      "WARNING:sagemaker:Using already existing model: xgboost-2020-06-08-11-00-41-334\n"
     ]
    },
    {
     "name": "stdout",
     "output_type": "stream",
     "text": [
      "-------------!"
     ]
    }
   ],
   "source": [
    "# TODO: Deploy the model that was created earlier. Recall that the object name is 'xgb'.\n",
    "xgb_predictor = xgb.deploy(\n",
    "    initial_instance_count=1, \n",
    "    instance_type='ml.m4.xlarge',\n",
    "    tags=[dict(Key='owner', Value='email')]\n",
    ")"
   ]
  },
  {
   "cell_type": "markdown",
   "metadata": {},
   "source": [
    "### Diagnose the problem\n",
    "\n",
    "Now that we have our deployed \"production\" model, we can send some of our new data to it and filter out some of the incorrectly classified reviews."
   ]
  },
  {
   "cell_type": "code",
   "execution_count": 60,
   "metadata": {},
   "outputs": [],
   "source": [
    "from sagemaker.predictor import csv_serializer\n",
    "\n",
    "# We need to tell the endpoint what format the data we are sending is in so that SageMaker can perform the serialization.\n",
    "xgb_predictor.content_type = 'text/csv'\n",
    "xgb_predictor.serializer = csv_serializer"
   ]
  },
  {
   "cell_type": "markdown",
   "metadata": {},
   "source": [
    "It will be useful to look at a few different examples of incorrectly classified reviews so we will start by creating a *generator* which we will use to iterate through some of the new reviews and find ones that are incorrect.\n",
    "\n",
    "**NOTE:** Understanding what Python generators are isn't really required for this module. The reason we use them here is so that we don't have to iterate through all of the new reviews, searching for incorrectly classified samples."
   ]
  },
  {
   "cell_type": "code",
   "execution_count": 61,
   "metadata": {},
   "outputs": [],
   "source": [
    "def get_sample(in_X, in_XV, in_Y):\n",
    "    for idx, smp in enumerate(in_X):\n",
    "        res = round(float(xgb_predictor.predict(in_XV[idx])))\n",
    "        if res != in_Y[idx]:\n",
    "            yield smp, in_Y[idx]"
   ]
  },
  {
   "cell_type": "code",
   "execution_count": 91,
   "metadata": {},
   "outputs": [],
   "source": [
    "gn = get_sample(new_X, new_XV, new_Y)"
   ]
  },
  {
   "cell_type": "markdown",
   "metadata": {},
   "source": [
    "At this point, `gn` is the *generator* which generates samples from the new data set which are not classified correctly. To get the *next* sample we simply call the `next` method on our generator."
   ]
  },
  {
   "cell_type": "code",
   "execution_count": 90,
   "metadata": {},
   "outputs": [
    {
     "name": "stdout",
     "output_type": "stream",
     "text": [
      "(['stori', 'island', 'texel', 'photograph', 'bob', 'make', 'photo', 'shoot', 'magazin', 'meet', 'mysteri', 'kathleen', 'free', 'spirit', 'lust', 'life', 'intrigu', 'bob', 'suffer', 'traumat', 'experi', 'shortli', 'life', 'simpl', 'seem', 'howev', 'kathleen', 'bob', 'get', 'entangl', 'danger', 'network', 'kathleen', 'abl', 'win', 'trust', 'review', 'dialogu', 'movi', 'natur', 'stori', 'unfold', 'nice', 'although', 'stay', 'bit', 'surfac', 'would', 'nice', 'charact', 'psycholog', 'would', 'work', 'littl', 'peopl', 'thing', 'motiv', 'choic', 'give', 'movi', 'depth', 'someth', 'think', 'view', 'stori', 'never', 'reach', 'emot', 'climax', 'even', 'though', 'charact', 'go', 'enough', 'justifi', 'get', 'know', 'charact', 'deeper', 'level', 'actor', 'deliv', 'good', 'work', 'play', 'natur', 'believ', 'way', 'think', 'would', 'suit', 'movi', 'better', 'kathleen', 'play', 'younger', 'actress', 'charact', 'naiv', 'quit', 'work', 'grown', 'woman', 'camera', 'work', 'nice', 'great', 'shot', 'natur', 'island', 'give', 'movi', '7', '10', 'banana'], 0)\n"
     ]
    }
   ],
   "source": [
    "print(next(gn))"
   ]
  },
  {
   "cell_type": "markdown",
   "metadata": {},
   "source": [
    "After looking at a few examples, maybe we decide to look at the most frequently appearing `5000` words in each data set, the original training data set and the new data set. The reason for looking at this might be that we expect the frequency of use of different words to have changed, maybe there is some new slang that has been introduced or some other artifact of popular culture that has changed the way that people write movie reviews.\n",
    "\n",
    "To do this, we start by fitting a `CountVectorizer` to the new data."
   ]
  },
  {
   "cell_type": "code",
   "execution_count": 86,
   "metadata": {},
   "outputs": [
    {
     "name": "stderr",
     "output_type": "stream",
     "text": [
      "/home/ec2-user/anaconda3/envs/pytorch_p36/lib/python3.6/site-packages/sklearn/feature_extraction/text.py:507: UserWarning: The parameter 'token_pattern' will not be used since 'tokenizer' is not None'\n",
      "  warnings.warn(\"The parameter 'token_pattern' will not be used\"\n"
     ]
    },
    {
     "data": {
      "text/plain": [
       "CountVectorizer(analyzer='word', binary=False, decode_error='strict',\n",
       "                dtype=<class 'numpy.int64'>, encoding='utf-8', input='content',\n",
       "                lowercase=True, max_df=1.0, max_features=5000, min_df=1,\n",
       "                ngram_range=(1, 1),\n",
       "                preprocessor=<function <lambda> at 0x7f86757d8ea0>,\n",
       "                stop_words=None, strip_accents=None,\n",
       "                token_pattern='(?u)\\\\b\\\\w\\\\w+\\\\b',\n",
       "                tokenizer=<function <lambda> at 0x7f86749ff1e0>,\n",
       "                vocabulary=None)"
      ]
     },
     "execution_count": 86,
     "metadata": {},
     "output_type": "execute_result"
    }
   ],
   "source": [
    "new_vectorizer = CountVectorizer(max_features=5000,\n",
    "                preprocessor=lambda x: x, tokenizer=lambda x: x)\n",
    "new_vectorizer.fit(new_X)"
   ]
  },
  {
   "cell_type": "markdown",
   "metadata": {},
   "source": [
    "Now that we have this new `CountVectorizor` object, we can check to see if the corresponding vocabulary has changed between the two data sets."
   ]
  },
  {
   "cell_type": "code",
   "execution_count": 87,
   "metadata": {},
   "outputs": [],
   "source": [
    "original_vocabulary = set(vocabulary.keys())\n",
    "new_vocabulary = set(new_vectorizer.vocabulary_.keys())"
   ]
  },
  {
   "cell_type": "markdown",
   "metadata": {},
   "source": [
    "We can look at the words that were in the original vocabulary but not in the new vocabulary."
   ]
  },
  {
   "cell_type": "code",
   "execution_count": 88,
   "metadata": {},
   "outputs": [
    {
     "name": "stdout",
     "output_type": "stream",
     "text": [
      "{'ghetto', 'reincarn', '21st', 'spill', 'playboy', 'weari', 'victorian'}\n"
     ]
    }
   ],
   "source": [
    "print(original_vocabulary - new_vocabulary)"
   ]
  },
  {
   "cell_type": "markdown",
   "metadata": {},
   "source": [
    "And similarly, we can look at the words that are in the new vocabulary but which were not in the original vocabulary."
   ]
  },
  {
   "cell_type": "code",
   "execution_count": 89,
   "metadata": {},
   "outputs": [
    {
     "name": "stdout",
     "output_type": "stream",
     "text": [
      "{'masterson', 'dubiou', 'sophi', 'orchestr', 'omin', 'optimist', 'banana'}\n"
     ]
    }
   ],
   "source": [
    "print(new_vocabulary - original_vocabulary)"
   ]
  },
  {
   "cell_type": "markdown",
   "metadata": {},
   "source": [
    "These words themselves don't tell us much, however if one of these words occured with a large frequency, that might tell us something. In particular, we wouldn't really expect any of the words above to appear with too much frequency.\n",
    "\n",
    "**Question** What exactly is going on here. Not only what (if any) words appear with a larger than expected frequency but also, what does this mean? What has changed about the world that our original model no longer takes into account?\n",
    "\n",
    "**NOTE:** This is meant to be a very open ended question. To investigate you may need more cells than the one provided below. Also, there isn't really a *correct* answer, this is meant to be an opportunity to explore the data."
   ]
  },
  {
   "cell_type": "code",
   "execution_count": 107,
   "metadata": {},
   "outputs": [],
   "source": [
    "no_voc_diff = new_vocabulary - original_vocabulary\n",
    "on_voc_diff = original_vocabulary - new_vocabulary"
   ]
  },
  {
   "cell_type": "code",
   "execution_count": 106,
   "metadata": {},
   "outputs": [
    {
     "data": {
      "text/plain": [
       "{'masterson': 2803,\n",
       " 'dubiou': 1426,\n",
       " 'sophi': 4144,\n",
       " 'orchestr': 3172,\n",
       " 'omin': 3156,\n",
       " 'optimist': 3169,\n",
       " 'banana': 424}"
      ]
     },
     "execution_count": 106,
     "metadata": {},
     "output_type": "execute_result"
    }
   ],
   "source": [
    "{w: new_vectorizer.vocabulary_[w] for w in no_voc_diff}"
   ]
  },
  {
   "cell_type": "code",
   "execution_count": 108,
   "metadata": {},
   "outputs": [
    {
     "data": {
      "text/plain": [
       "{'ghetto': 1945,\n",
       " 'reincarn': 3654,\n",
       " '21st': 67,\n",
       " 'spill': 4183,\n",
       " 'playboy': 3353,\n",
       " 'weari': 4861,\n",
       " 'victorian': 4776}"
      ]
     },
     "execution_count": 108,
     "metadata": {},
     "output_type": "execute_result"
    }
   ],
   "source": [
    "{w: vectorizer.vocabulary_[w] for w in on_voc_diff}"
   ]
  },
  {
   "cell_type": "markdown",
   "metadata": {},
   "source": [
    "### (TODO) Build a new model\n",
    "\n",
    "Supposing that we believe something has changed about the underlying distribution of the words that our reviews are made up of, we need to create a new model. This way our new model will take into account whatever it is that has changed.\n",
    "\n",
    "To begin with, we will use the new vocabulary to create a bag of words encoding of the new data. We will then use this data to train a new XGBoost model.\n",
    "\n",
    "**NOTE:** Because we believe that the underlying distribution of words has changed it should follow that the original vocabulary that we used to construct a bag of words encoding of the reviews is no longer valid. This means that we need to be careful with our data. If we send an bag of words encoded review using the *original* vocabulary we should not expect any sort of meaningful results.\n",
    "\n",
    "In particular, this means that if we had deployed our XGBoost model like we did in the Web App notebook then we would need to implement this vocabulary change in the Lambda function as well."
   ]
  },
  {
   "cell_type": "code",
   "execution_count": 109,
   "metadata": {},
   "outputs": [],
   "source": [
    "new_XV = new_vectorizer.transform(new_X).toarray()"
   ]
  },
  {
   "cell_type": "markdown",
   "metadata": {},
   "source": [
    "And a quick check to make sure that the newly encoded reviews have the correct length, which should be the size of the new vocabulary which we created."
   ]
  },
  {
   "cell_type": "code",
   "execution_count": 110,
   "metadata": {},
   "outputs": [
    {
     "data": {
      "text/plain": [
       "5000"
      ]
     },
     "execution_count": 110,
     "metadata": {},
     "output_type": "execute_result"
    }
   ],
   "source": [
    "len(new_XV[0])"
   ]
  },
  {
   "cell_type": "markdown",
   "metadata": {},
   "source": [
    "Now that we have our newly encoded, newly collected data, we can split it up into a training and validation set so that we can train a new XGBoost model. As usual, we first split up the data, then save it locally and then upload it to S3."
   ]
  },
  {
   "cell_type": "code",
   "execution_count": 111,
   "metadata": {},
   "outputs": [],
   "source": [
    "import pandas as pd\n",
    "\n",
    "# Earlier we shuffled the training dataset so to make things simple we can just assign\n",
    "# the first 10 000 reviews to the validation set and use the remaining reviews for training.\n",
    "new_val_X = pd.DataFrame(new_XV[:10000])\n",
    "new_train_X = pd.DataFrame(new_XV[10000:])\n",
    "\n",
    "new_val_y = pd.DataFrame(new_Y[:10000])\n",
    "new_train_y = pd.DataFrame(new_Y[10000:])"
   ]
  },
  {
   "cell_type": "markdown",
   "metadata": {},
   "source": [
    "In order to save some memory we will effectively delete the `new_X` variable. Remember that this contained a list of reviews and each review was a list of words. Note that once this cell has been executed you will need to read the new data in again if you want to work with it."
   ]
  },
  {
   "cell_type": "code",
   "execution_count": 112,
   "metadata": {},
   "outputs": [],
   "source": [
    "new_X = None"
   ]
  },
  {
   "cell_type": "markdown",
   "metadata": {},
   "source": [
    "Next we save the new training and validation sets locally. Note that we overwrite the training and validation sets used earlier. This is mostly because the amount of space that we have available on our notebook instance is limited. Of course, you can increase this if you'd like but to do so may increase the cost of running the notebook instance."
   ]
  },
  {
   "cell_type": "code",
   "execution_count": 113,
   "metadata": {},
   "outputs": [],
   "source": [
    "pd.DataFrame(new_XV).to_csv(os.path.join(data_dir, 'new_data.csv'), header=False, index=False)\n",
    "\n",
    "pd.concat([new_val_y, new_val_X], axis=1).to_csv(os.path.join(data_dir, 'new_validation.csv'), header=False, index=False)\n",
    "pd.concat([new_train_y, new_train_X], axis=1).to_csv(os.path.join(data_dir, 'new_train.csv'), header=False, index=False)"
   ]
  },
  {
   "cell_type": "markdown",
   "metadata": {},
   "source": [
    "Now that we've saved our data to the local instance, we can safely delete the variables to save on memory."
   ]
  },
  {
   "cell_type": "code",
   "execution_count": 114,
   "metadata": {},
   "outputs": [],
   "source": [
    "new_val_y = new_val_X = new_train_y = new_train_X = new_XV = None"
   ]
  },
  {
   "cell_type": "markdown",
   "metadata": {},
   "source": [
    "Lastly, we make sure to upload the new training and validation sets to S3.\n",
    "\n",
    "**TODO:** Upload the new data as well as the new training and validation data sets to S3."
   ]
  },
  {
   "cell_type": "code",
   "execution_count": 115,
   "metadata": {},
   "outputs": [
    {
     "name": "stderr",
     "output_type": "stream",
     "text": [
      "WARNING:sagemaker:Parameter 'session' will be renamed to 'sagemaker_session' in SageMaker Python SDK v2.\n",
      "WARNING:sagemaker:'upload_data' method will be deprecated in favor of 'S3Uploader' class (https://sagemaker.readthedocs.io/en/stable/s3.html#sagemaker.s3.S3Uploader) in SageMaker Python SDK v2.\n",
      "WARNING:sagemaker:Parameter 'session' will be renamed to 'sagemaker_session' in SageMaker Python SDK v2.\n",
      "WARNING:sagemaker:'upload_data' method will be deprecated in favor of 'S3Uploader' class (https://sagemaker.readthedocs.io/en/stable/s3.html#sagemaker.s3.S3Uploader) in SageMaker Python SDK v2.\n",
      "WARNING:sagemaker:Parameter 'session' will be renamed to 'sagemaker_session' in SageMaker Python SDK v2.\n",
      "WARNING:sagemaker:'upload_data' method will be deprecated in favor of 'S3Uploader' class (https://sagemaker.readthedocs.io/en/stable/s3.html#sagemaker.s3.S3Uploader) in SageMaker Python SDK v2.\n"
     ]
    },
    {
     "name": "stdout",
     "output_type": "stream",
     "text": [
      "s3://romeo-sandbox/sentiment-update/new_train.csv\n"
     ]
    }
   ],
   "source": [
    "# TODO: Upload the new data and the new validation.csv and train.csv files in the data_dir directory to S3.\n",
    "new_data_location = S3Uploader.upload(os.path.join(data_dir, 'new_data.csv'), f\"s3://{bucket}/{prefix}\", session = session)\n",
    "new_train_location = S3Uploader.upload(os.path.join(data_dir, 'new_train.csv'), f\"s3://{bucket}/{prefix}\", session = session)\n",
    "new_val_location = S3Uploader.upload(os.path.join(data_dir, 'new_validation.csv'), f\"s3://{bucket}/{prefix}\", session = session)\n",
    "\n",
    "print(new_train_location)"
   ]
  },
  {
   "cell_type": "markdown",
   "metadata": {},
   "source": [
    "Once our new training data has been uploaded to S3, we can create a new XGBoost model that will take into account the changes that have occured in our data set.\n",
    "\n",
    "**TODO:** Create a new XGBoost estimator object."
   ]
  },
  {
   "cell_type": "code",
   "execution_count": 116,
   "metadata": {},
   "outputs": [
    {
     "name": "stderr",
     "output_type": "stream",
     "text": [
      "WARNING:root:Parameter image_name will be renamed to image_uri in SageMaker Python SDK v2.\n"
     ]
    }
   ],
   "source": [
    "# TODO: First, create a SageMaker estimator object for our model.\n",
    "new_xgb = None\n",
    "\n",
    "# TODO: Then set the algorithm specific parameters. You may wish to use the same parameters that were\n",
    "#       used when training the original model.\n",
    "\n",
    "new_xgb = sagemaker.estimator.Estimator(\n",
    "    container, # The location of the container we wish to use\n",
    "    role,                                    # What is our current IAM Role\n",
    "    train_instance_count=1,                  # How many compute instances\n",
    "    train_instance_type='ml.m4.xlarge',      # What kind of compute instances\n",
    "    output_path=f's3://{bucket}/{prefix}/output', # Where to save the output (the model artifacts)\n",
    "    tags=[dict(Key='owner', Value='email')],\n",
    "    sagemaker_session=session)\n",
    "\n",
    "# And then set the algorithm specific parameters.\n",
    "new_xgb.set_hyperparameters(max_depth=5,\n",
    "                        eta=0.2,\n",
    "                        gamma=4,\n",
    "                        min_child_weight=6,\n",
    "                        subsample=0.8,\n",
    "                        silent=0,\n",
    "                        objective='binary:logistic',\n",
    "                        early_stopping_rounds=10,\n",
    "                        num_round=500)"
   ]
  },
  {
   "cell_type": "markdown",
   "metadata": {},
   "source": [
    "Once the model has been created, we can train it with our new data.\n",
    "\n",
    "**TODO:** Train the new XGBoost model."
   ]
  },
  {
   "cell_type": "code",
   "execution_count": 117,
   "metadata": {},
   "outputs": [
    {
     "name": "stderr",
     "output_type": "stream",
     "text": [
      "WARNING:sagemaker:'s3_input' class will be renamed to 'TrainingInput' in SageMaker Python SDK v2.\n",
      "WARNING:sagemaker:'s3_input' class will be renamed to 'TrainingInput' in SageMaker Python SDK v2.\n"
     ]
    }
   ],
   "source": [
    "# TODO: First, make sure that you create s3 input objects so that SageMaker knows where to\n",
    "#       find the training and validation data.\n",
    "s3_new_input_train = sagemaker.s3_input(s3_data=new_train_location, content_type='csv')\n",
    "s3_new_input_validation = sagemaker.s3_input(s3_data=new_val_location, content_type='csv')"
   ]
  },
  {
   "cell_type": "code",
   "execution_count": 119,
   "metadata": {},
   "outputs": [
    {
     "name": "stdout",
     "output_type": "stream",
     "text": [
      "2020-06-08 11:52:43 Starting - Starting the training job...\n",
      "2020-06-08 11:52:46 Starting - Launching requested ML instances......\n",
      "2020-06-08 11:53:54 Starting - Preparing the instances for training......\n",
      "2020-06-08 11:54:56 Downloading - Downloading input data...\n",
      "2020-06-08 11:55:38 Training - Training image download completed. Training in progress..\u001B[34mArguments: train\u001B[0m\n",
      "\u001B[34m[2020-06-08:11:55:38:INFO] Running standalone xgboost training.\u001B[0m\n",
      "\u001B[34m[2020-06-08:11:55:39:INFO] File size need to be processed in the node: 238.47mb. Available memory size in the node: 8477.2mb\u001B[0m\n",
      "\u001B[34m[2020-06-08:11:55:39:INFO] Determined delimiter of CSV input is ','\u001B[0m\n",
      "\u001B[34m[11:55:39] S3DistributionType set as FullyReplicated\u001B[0m\n",
      "\u001B[34m[11:55:40] 15000x5000 matrix with 75000000 entries loaded from /opt/ml/input/data/train?format=csv&label_column=0&delimiter=,\u001B[0m\n",
      "\u001B[34m[2020-06-08:11:55:40:INFO] Determined delimiter of CSV input is ','\u001B[0m\n",
      "\u001B[34m[11:55:40] S3DistributionType set as FullyReplicated\u001B[0m\n",
      "\u001B[34m[11:55:42] 10000x5000 matrix with 50000000 entries loaded from /opt/ml/input/data/validation?format=csv&label_column=0&delimiter=,\u001B[0m\n",
      "\u001B[34m[11:55:45] src/tree/updater_prune.cc:74: tree pruning end, 1 roots, 44 extra nodes, 4 pruned nodes, max_depth=5\u001B[0m\n",
      "\u001B[34m[0]#011train-error:0.3114#011validation-error:0.3099\u001B[0m\n",
      "\u001B[34mMultiple eval metrics have been passed: 'validation-error' will be used for early stopping.\n",
      "\u001B[0m\n",
      "\u001B[34mWill train until validation-error hasn't improved in 10 rounds.\u001B[0m\n",
      "\u001B[34m[11:55:46] src/tree/updater_prune.cc:74: tree pruning end, 1 roots, 50 extra nodes, 6 pruned nodes, max_depth=5\u001B[0m\n",
      "\u001B[34m[1]#011train-error:0.2944#011validation-error:0.2903\u001B[0m\n",
      "\u001B[34m[11:55:48] src/tree/updater_prune.cc:74: tree pruning end, 1 roots, 38 extra nodes, 4 pruned nodes, max_depth=5\u001B[0m\n",
      "\u001B[34m[2]#011train-error:0.284067#011validation-error:0.28\u001B[0m\n",
      "\u001B[34m[11:55:49] src/tree/updater_prune.cc:74: tree pruning end, 1 roots, 40 extra nodes, 8 pruned nodes, max_depth=5\u001B[0m\n",
      "\u001B[34m[3]#011train-error:0.2826#011validation-error:0.2798\u001B[0m\n",
      "\u001B[34m[11:55:50] src/tree/updater_prune.cc:74: tree pruning end, 1 roots, 38 extra nodes, 4 pruned nodes, max_depth=5\u001B[0m\n",
      "\u001B[34m[4]#011train-error:0.2758#011validation-error:0.275\u001B[0m\n",
      "\u001B[34m[11:55:52] src/tree/updater_prune.cc:74: tree pruning end, 1 roots, 46 extra nodes, 4 pruned nodes, max_depth=5\u001B[0m\n",
      "\u001B[34m[5]#011train-error:0.257733#011validation-error:0.2604\u001B[0m\n",
      "\u001B[34m[11:55:53] src/tree/updater_prune.cc:74: tree pruning end, 1 roots, 34 extra nodes, 8 pruned nodes, max_depth=5\u001B[0m\n",
      "\u001B[34m[6]#011train-error:0.2464#011validation-error:0.2508\u001B[0m\n",
      "\u001B[34m[11:55:54] src/tree/updater_prune.cc:74: tree pruning end, 1 roots, 40 extra nodes, 2 pruned nodes, max_depth=5\u001B[0m\n",
      "\u001B[34m[7]#011train-error:0.2374#011validation-error:0.2458\u001B[0m\n",
      "\u001B[34m[11:55:56] src/tree/updater_prune.cc:74: tree pruning end, 1 roots, 30 extra nodes, 10 pruned nodes, max_depth=5\u001B[0m\n",
      "\u001B[34m[8]#011train-error:0.233133#011validation-error:0.2435\u001B[0m\n",
      "\u001B[34m[11:55:57] src/tree/updater_prune.cc:74: tree pruning end, 1 roots, 48 extra nodes, 6 pruned nodes, max_depth=5\u001B[0m\n",
      "\u001B[34m[9]#011train-error:0.2268#011validation-error:0.2417\u001B[0m\n",
      "\u001B[34m[11:55:58] src/tree/updater_prune.cc:74: tree pruning end, 1 roots, 46 extra nodes, 2 pruned nodes, max_depth=5\u001B[0m\n",
      "\u001B[34m[10]#011train-error:0.2198#011validation-error:0.2364\u001B[0m\n",
      "\u001B[34m[11:56:00] src/tree/updater_prune.cc:74: tree pruning end, 1 roots, 32 extra nodes, 6 pruned nodes, max_depth=5\u001B[0m\n",
      "\u001B[34m[11]#011train-error:0.214667#011validation-error:0.2325\u001B[0m\n",
      "\u001B[34m[11:56:01] src/tree/updater_prune.cc:74: tree pruning end, 1 roots, 28 extra nodes, 8 pruned nodes, max_depth=5\u001B[0m\n",
      "\u001B[34m[12]#011train-error:0.210667#011validation-error:0.2291\u001B[0m\n",
      "\u001B[34m[11:56:02] src/tree/updater_prune.cc:74: tree pruning end, 1 roots, 46 extra nodes, 6 pruned nodes, max_depth=5\u001B[0m\n",
      "\u001B[34m[13]#011train-error:0.210667#011validation-error:0.23\u001B[0m\n",
      "\u001B[34m[11:56:03] src/tree/updater_prune.cc:74: tree pruning end, 1 roots, 38 extra nodes, 6 pruned nodes, max_depth=5\u001B[0m\n",
      "\u001B[34m[14]#011train-error:0.206667#011validation-error:0.2257\u001B[0m\n",
      "\u001B[34m[11:56:05] src/tree/updater_prune.cc:74: tree pruning end, 1 roots, 30 extra nodes, 10 pruned nodes, max_depth=5\u001B[0m\n",
      "\u001B[34m[15]#011train-error:0.2052#011validation-error:0.2241\u001B[0m\n",
      "\u001B[34m[11:56:06] src/tree/updater_prune.cc:74: tree pruning end, 1 roots, 40 extra nodes, 10 pruned nodes, max_depth=5\u001B[0m\n",
      "\u001B[34m[16]#011train-error:0.200933#011validation-error:0.221\u001B[0m\n",
      "\u001B[34m[11:56:07] src/tree/updater_prune.cc:74: tree pruning end, 1 roots, 30 extra nodes, 12 pruned nodes, max_depth=5\u001B[0m\n",
      "\u001B[34m[17]#011train-error:0.197#011validation-error:0.2176\u001B[0m\n",
      "\u001B[34m[11:56:08] src/tree/updater_prune.cc:74: tree pruning end, 1 roots, 18 extra nodes, 16 pruned nodes, max_depth=5\u001B[0m\n",
      "\u001B[34m[18]#011train-error:0.196467#011validation-error:0.2159\u001B[0m\n",
      "\u001B[34m[11:56:10] src/tree/updater_prune.cc:74: tree pruning end, 1 roots, 34 extra nodes, 8 pruned nodes, max_depth=5\u001B[0m\n",
      "\u001B[34m[19]#011train-error:0.195667#011validation-error:0.2156\u001B[0m\n",
      "\u001B[34m[11:56:11] src/tree/updater_prune.cc:74: tree pruning end, 1 roots, 42 extra nodes, 4 pruned nodes, max_depth=5\u001B[0m\n",
      "\u001B[34m[20]#011train-error:0.194133#011validation-error:0.2119\u001B[0m\n",
      "\u001B[34m[11:56:12] src/tree/updater_prune.cc:74: tree pruning end, 1 roots, 26 extra nodes, 12 pruned nodes, max_depth=5\u001B[0m\n",
      "\u001B[34m[21]#011train-error:0.191667#011validation-error:0.2099\u001B[0m\n",
      "\u001B[34m[11:56:13] src/tree/updater_prune.cc:74: tree pruning end, 1 roots, 30 extra nodes, 18 pruned nodes, max_depth=5\u001B[0m\n",
      "\u001B[34m[22]#011train-error:0.1874#011validation-error:0.2094\u001B[0m\n",
      "\u001B[34m[11:56:15] src/tree/updater_prune.cc:74: tree pruning end, 1 roots, 26 extra nodes, 10 pruned nodes, max_depth=5\u001B[0m\n",
      "\u001B[34m[23]#011train-error:0.186067#011validation-error:0.2072\u001B[0m\n",
      "\u001B[34m[11:56:16] src/tree/updater_prune.cc:74: tree pruning end, 1 roots, 26 extra nodes, 10 pruned nodes, max_depth=5\u001B[0m\n",
      "\u001B[34m[24]#011train-error:0.182933#011validation-error:0.2052\u001B[0m\n",
      "\u001B[34m[11:56:17] src/tree/updater_prune.cc:74: tree pruning end, 1 roots, 26 extra nodes, 12 pruned nodes, max_depth=5\u001B[0m\n",
      "\u001B[34m[25]#011train-error:0.180333#011validation-error:0.2029\u001B[0m\n",
      "\u001B[34m[11:56:18] src/tree/updater_prune.cc:74: tree pruning end, 1 roots, 32 extra nodes, 8 pruned nodes, max_depth=5\u001B[0m\n",
      "\u001B[34m[26]#011train-error:0.178467#011validation-error:0.2014\u001B[0m\n",
      "\u001B[34m[11:56:20] src/tree/updater_prune.cc:74: tree pruning end, 1 roots, 34 extra nodes, 6 pruned nodes, max_depth=5\u001B[0m\n",
      "\u001B[34m[27]#011train-error:0.176533#011validation-error:0.1982\u001B[0m\n",
      "\u001B[34m[11:56:21] src/tree/updater_prune.cc:74: tree pruning end, 1 roots, 18 extra nodes, 6 pruned nodes, max_depth=5\u001B[0m\n",
      "\u001B[34m[28]#011train-error:0.176#011validation-error:0.1973\u001B[0m\n",
      "\u001B[34m[11:56:22] src/tree/updater_prune.cc:74: tree pruning end, 1 roots, 26 extra nodes, 8 pruned nodes, max_depth=5\u001B[0m\n",
      "\u001B[34m[29]#011train-error:0.1744#011validation-error:0.1974\u001B[0m\n",
      "\u001B[34m[11:56:23] src/tree/updater_prune.cc:74: tree pruning end, 1 roots, 26 extra nodes, 14 pruned nodes, max_depth=5\u001B[0m\n",
      "\u001B[34m[30]#011train-error:0.174#011validation-error:0.1983\u001B[0m\n",
      "\u001B[34m[11:56:25] src/tree/updater_prune.cc:74: tree pruning end, 1 roots, 34 extra nodes, 10 pruned nodes, max_depth=5\u001B[0m\n",
      "\u001B[34m[31]#011train-error:0.1722#011validation-error:0.1976\u001B[0m\n",
      "\u001B[34m[11:56:26] src/tree/updater_prune.cc:74: tree pruning end, 1 roots, 30 extra nodes, 2 pruned nodes, max_depth=5\u001B[0m\n",
      "\u001B[34m[32]#011train-error:0.1716#011validation-error:0.1976\u001B[0m\n",
      "\u001B[34m[11:56:27] src/tree/updater_prune.cc:74: tree pruning end, 1 roots, 22 extra nodes, 10 pruned nodes, max_depth=5\u001B[0m\n",
      "\u001B[34m[33]#011train-error:0.170733#011validation-error:0.1965\u001B[0m\n",
      "\u001B[34m[11:56:29] src/tree/updater_prune.cc:74: tree pruning end, 1 roots, 14 extra nodes, 4 pruned nodes, max_depth=5\u001B[0m\n",
      "\u001B[34m[34]#011train-error:0.170133#011validation-error:0.1951\u001B[0m\n",
      "\u001B[34m[11:56:30] src/tree/updater_prune.cc:74: tree pruning end, 1 roots, 18 extra nodes, 4 pruned nodes, max_depth=5\u001B[0m\n",
      "\u001B[34m[35]#011train-error:0.169#011validation-error:0.1945\u001B[0m\n",
      "\u001B[34m[11:56:31] src/tree/updater_prune.cc:74: tree pruning end, 1 roots, 30 extra nodes, 8 pruned nodes, max_depth=5\u001B[0m\n",
      "\u001B[34m[36]#011train-error:0.1678#011validation-error:0.1928\u001B[0m\n",
      "\u001B[34m[11:56:32] src/tree/updater_prune.cc:74: tree pruning end, 1 roots, 22 extra nodes, 16 pruned nodes, max_depth=5\u001B[0m\n",
      "\u001B[34m[37]#011train-error:0.167267#011validation-error:0.1934\u001B[0m\n",
      "\u001B[34m[11:56:34] src/tree/updater_prune.cc:74: tree pruning end, 1 roots, 32 extra nodes, 6 pruned nodes, max_depth=5\u001B[0m\n",
      "\u001B[34m[38]#011train-error:0.164467#011validation-error:0.1938\u001B[0m\n",
      "\u001B[34m[11:56:35] src/tree/updater_prune.cc:74: tree pruning end, 1 roots, 30 extra nodes, 2 pruned nodes, max_depth=5\u001B[0m\n",
      "\u001B[34m[39]#011train-error:0.161533#011validation-error:0.1925\u001B[0m\n",
      "\u001B[34m[11:56:36] src/tree/updater_prune.cc:74: tree pruning end, 1 roots, 20 extra nodes, 6 pruned nodes, max_depth=5\u001B[0m\n",
      "\u001B[34m[40]#011train-error:0.1606#011validation-error:0.1917\u001B[0m\n",
      "\u001B[34m[11:56:37] src/tree/updater_prune.cc:74: tree pruning end, 1 roots, 26 extra nodes, 10 pruned nodes, max_depth=5\u001B[0m\n",
      "\u001B[34m[41]#011train-error:0.159267#011validation-error:0.19\u001B[0m\n",
      "\u001B[34m[11:56:39] src/tree/updater_prune.cc:74: tree pruning end, 1 roots, 26 extra nodes, 14 pruned nodes, max_depth=5\u001B[0m\n",
      "\u001B[34m[42]#011train-error:0.157667#011validation-error:0.1891\u001B[0m\n",
      "\u001B[34m[11:56:40] src/tree/updater_prune.cc:74: tree pruning end, 1 roots, 28 extra nodes, 8 pruned nodes, max_depth=5\u001B[0m\n",
      "\u001B[34m[43]#011train-error:0.156733#011validation-error:0.1871\u001B[0m\n",
      "\u001B[34m[11:56:41] src/tree/updater_prune.cc:74: tree pruning end, 1 roots, 28 extra nodes, 10 pruned nodes, max_depth=5\u001B[0m\n",
      "\u001B[34m[44]#011train-error:0.156067#011validation-error:0.1859\u001B[0m\n"
     ]
    },
    {
     "name": "stdout",
     "output_type": "stream",
     "text": [
      "\u001B[34m[11:56:42] src/tree/updater_prune.cc:74: tree pruning end, 1 roots, 26 extra nodes, 12 pruned nodes, max_depth=5\u001B[0m\n",
      "\u001B[34m[45]#011train-error:0.155467#011validation-error:0.185\u001B[0m\n",
      "\u001B[34m[11:56:44] src/tree/updater_prune.cc:74: tree pruning end, 1 roots, 22 extra nodes, 10 pruned nodes, max_depth=5\u001B[0m\n",
      "\u001B[34m[46]#011train-error:0.154133#011validation-error:0.1854\u001B[0m\n",
      "\u001B[34m[11:56:45] src/tree/updater_prune.cc:74: tree pruning end, 1 roots, 20 extra nodes, 8 pruned nodes, max_depth=5\u001B[0m\n",
      "\u001B[34m[47]#011train-error:0.153533#011validation-error:0.1845\u001B[0m\n",
      "\u001B[34m[11:56:46] src/tree/updater_prune.cc:74: tree pruning end, 1 roots, 34 extra nodes, 4 pruned nodes, max_depth=5\u001B[0m\n",
      "\u001B[34m[48]#011train-error:0.1522#011validation-error:0.1849\u001B[0m\n",
      "\u001B[34m[11:56:47] src/tree/updater_prune.cc:74: tree pruning end, 1 roots, 18 extra nodes, 12 pruned nodes, max_depth=5\u001B[0m\n",
      "\u001B[34m[49]#011train-error:0.151067#011validation-error:0.1843\u001B[0m\n",
      "\u001B[34m[11:56:49] src/tree/updater_prune.cc:74: tree pruning end, 1 roots, 26 extra nodes, 8 pruned nodes, max_depth=5\u001B[0m\n",
      "\u001B[34m[50]#011train-error:0.1504#011validation-error:0.1845\u001B[0m\n",
      "\u001B[34m[11:56:50] src/tree/updater_prune.cc:74: tree pruning end, 1 roots, 20 extra nodes, 8 pruned nodes, max_depth=5\u001B[0m\n",
      "\u001B[34m[51]#011train-error:0.149#011validation-error:0.1837\u001B[0m\n",
      "\u001B[34m[11:56:51] src/tree/updater_prune.cc:74: tree pruning end, 1 roots, 10 extra nodes, 8 pruned nodes, max_depth=5\u001B[0m\n",
      "\u001B[34m[52]#011train-error:0.1486#011validation-error:0.1835\u001B[0m\n",
      "\u001B[34m[11:56:52] src/tree/updater_prune.cc:74: tree pruning end, 1 roots, 16 extra nodes, 6 pruned nodes, max_depth=5\u001B[0m\n",
      "\u001B[34m[53]#011train-error:0.147933#011validation-error:0.1828\u001B[0m\n",
      "\u001B[34m[11:56:54] src/tree/updater_prune.cc:74: tree pruning end, 1 roots, 34 extra nodes, 8 pruned nodes, max_depth=5\u001B[0m\n",
      "\u001B[34m[54]#011train-error:0.1464#011validation-error:0.182\u001B[0m\n",
      "\u001B[34m[11:56:55] src/tree/updater_prune.cc:74: tree pruning end, 1 roots, 20 extra nodes, 12 pruned nodes, max_depth=5\u001B[0m\n",
      "\u001B[34m[55]#011train-error:0.145533#011validation-error:0.1816\u001B[0m\n",
      "\u001B[34m[11:56:56] src/tree/updater_prune.cc:74: tree pruning end, 1 roots, 18 extra nodes, 16 pruned nodes, max_depth=5\u001B[0m\n",
      "\u001B[34m[56]#011train-error:0.1452#011validation-error:0.1826\u001B[0m\n",
      "\u001B[34m[11:56:57] src/tree/updater_prune.cc:74: tree pruning end, 1 roots, 24 extra nodes, 8 pruned nodes, max_depth=5\u001B[0m\n",
      "\u001B[34m[57]#011train-error:0.143667#011validation-error:0.1836\u001B[0m\n",
      "\u001B[34m[11:56:59] src/tree/updater_prune.cc:74: tree pruning end, 1 roots, 26 extra nodes, 6 pruned nodes, max_depth=5\u001B[0m\n",
      "\u001B[34m[58]#011train-error:0.142733#011validation-error:0.1829\u001B[0m\n",
      "\u001B[34m[11:57:00] src/tree/updater_prune.cc:74: tree pruning end, 1 roots, 24 extra nodes, 6 pruned nodes, max_depth=5\u001B[0m\n",
      "\u001B[34m[59]#011train-error:0.142267#011validation-error:0.1826\u001B[0m\n",
      "\u001B[34m[11:57:01] src/tree/updater_prune.cc:74: tree pruning end, 1 roots, 26 extra nodes, 8 pruned nodes, max_depth=5\u001B[0m\n",
      "\u001B[34m[60]#011train-error:0.1402#011validation-error:0.1824\u001B[0m\n",
      "\n",
      "2020-06-08 11:57:10 Uploading - Uploading generated training model\u001B[34m[11:57:02] src/tree/updater_prune.cc:74: tree pruning end, 1 roots, 32 extra nodes, 4 pruned nodes, max_depth=5\u001B[0m\n",
      "\u001B[34m[61]#011train-error:0.140267#011validation-error:0.182\u001B[0m\n",
      "\u001B[34m[11:57:04] src/tree/updater_prune.cc:74: tree pruning end, 1 roots, 24 extra nodes, 6 pruned nodes, max_depth=5\u001B[0m\n",
      "\u001B[34m[62]#011train-error:0.1386#011validation-error:0.1821\u001B[0m\n",
      "\u001B[34m[11:57:05] src/tree/updater_prune.cc:74: tree pruning end, 1 roots, 14 extra nodes, 12 pruned nodes, max_depth=5\u001B[0m\n",
      "\u001B[34m[63]#011train-error:0.137667#011validation-error:0.1832\u001B[0m\n",
      "\u001B[34m[11:57:06] src/tree/updater_prune.cc:74: tree pruning end, 1 roots, 20 extra nodes, 12 pruned nodes, max_depth=5\u001B[0m\n",
      "\u001B[34m[64]#011train-error:0.138#011validation-error:0.1828\u001B[0m\n",
      "\u001B[34m[11:57:07] src/tree/updater_prune.cc:74: tree pruning end, 1 roots, 16 extra nodes, 2 pruned nodes, max_depth=5\u001B[0m\n",
      "\u001B[34m[65]#011train-error:0.137867#011validation-error:0.1824\u001B[0m\n",
      "\u001B[34mStopping. Best iteration:\u001B[0m\n",
      "\u001B[34m[55]#011train-error:0.145533#011validation-error:0.1816\n",
      "\u001B[0m\n",
      "\n",
      "2020-06-08 11:57:17 Completed - Training job completed\n",
      "Training seconds: 141\n",
      "Billable seconds: 141\n"
     ]
    }
   ],
   "source": [
    "# TODO: Using the new validation and training data, 'fit' your new model.\n",
    "new_xgb.fit({'train': s3_new_input_train, 'validation': s3_new_input_validation})"
   ]
  },
  {
   "cell_type": "markdown",
   "metadata": {},
   "source": [
    "### (TODO) Check the new model\n",
    "\n",
    "So now we have a new XGBoost model that we believe more accurately represents the state of the world at this time, at least in how it relates to the sentiment analysis problem that we are working on. The next step is to double check that our model is performing reasonably.\n",
    "\n",
    "To do this, we will first test our model on the new data.\n",
    "\n",
    "**Note:** In practice this is a pretty bad idea. We already trained our model on the new data, so testing it shouldn't really tell us much. In fact, this is sort of a textbook example of leakage. We are only doing it here so that we have a numerical baseline.\n",
    "\n",
    "**Question:** How might you address the leakage problem?"
   ]
  },
  {
   "cell_type": "markdown",
   "metadata": {},
   "source": [
    "First, we create a new transformer based on our new XGBoost model.\n",
    "\n",
    "**TODO:** Create a transformer object from the newly created XGBoost model."
   ]
  },
  {
   "cell_type": "code",
   "execution_count": 120,
   "metadata": {},
   "outputs": [
    {
     "name": "stderr",
     "output_type": "stream",
     "text": [
      "WARNING:sagemaker:Parameter image will be renamed to image_uri in SageMaker Python SDK v2.\n"
     ]
    }
   ],
   "source": [
    "# TODO: Create a transformer object from the new_xgb model\n",
    "new_xgb_transformer = new_xgb.transformer(\n",
    "    instance_count = 1, \n",
    "    instance_type = 'ml.m4.xlarge',\n",
    "    tags=[dict(Key='owner', Value='email')],\n",
    ")"
   ]
  },
  {
   "cell_type": "markdown",
   "metadata": {},
   "source": [
    "Next we test our model on the new data.\n",
    "\n",
    "**TODO:** Use the transformer object to transform the new data (stored in the `new_data_location` variable)"
   ]
  },
  {
   "cell_type": "code",
   "execution_count": 121,
   "metadata": {},
   "outputs": [],
   "source": [
    "# TODO: Using new_xgb_transformer, transform the new_data_location data. You may wish to\n",
    "#       'wait' for the transform job to finish.\n",
    "xgb_transformer.transform(new_data_location, content_type='text/csv', split_type='Line')"
   ]
  },
  {
   "cell_type": "code",
   "execution_count": 122,
   "metadata": {},
   "outputs": [
    {
     "name": "stdout",
     "output_type": "stream",
     "text": [
      "....................\u001B[34mArguments: serve\u001B[0m\n",
      "\u001B[34m[2020-06-08 12:01:05 +0000] [1] [INFO] Starting gunicorn 19.7.1\u001B[0m\n",
      "\u001B[34m[2020-06-08 12:01:05 +0000] [1] [INFO] Listening at: http://0.0.0.0:8080 (1)\u001B[0m\n",
      "\u001B[34m[2020-06-08 12:01:05 +0000] [1] [INFO] Using worker: gevent\u001B[0m\n",
      "\u001B[34m[2020-06-08 12:01:05 +0000] [39] [INFO] Booting worker with pid: 39\u001B[0m\n",
      "\u001B[34m[2020-06-08 12:01:05 +0000] [40] [INFO] Booting worker with pid: 40\u001B[0m\n",
      "\u001B[34m[2020-06-08 12:01:05 +0000] [41] [INFO] Booting worker with pid: 41\u001B[0m\n",
      "\u001B[34m[2020-06-08 12:01:05 +0000] [42] [INFO] Booting worker with pid: 42\u001B[0m\n",
      "\u001B[34m[2020-06-08:12:01:05:INFO] Model loaded successfully for worker : 40\u001B[0m\n",
      "\u001B[34m[2020-06-08:12:01:05:INFO] Model loaded successfully for worker : 39\u001B[0m\n",
      "\u001B[34m[2020-06-08:12:01:05:INFO] Model loaded successfully for worker : 41\u001B[0m\n",
      "\u001B[34m[2020-06-08:12:01:05:INFO] Model loaded successfully for worker : 42\u001B[0m\n",
      "\u001B[34m[2020-06-08:12:01:28:INFO] Sniff delimiter as ','\u001B[0m\n",
      "\u001B[34m[2020-06-08:12:01:28:INFO] Determined delimiter of CSV input is ','\u001B[0m\n",
      "\u001B[34m[2020-06-08:12:01:28:INFO] Sniff delimiter as ','\u001B[0m\n",
      "\u001B[34m[2020-06-08:12:01:28:INFO] Determined delimiter of CSV input is ','\u001B[0m\n",
      "\u001B[34m[2020-06-08:12:01:28:INFO] Sniff delimiter as ','\u001B[0m\n",
      "\u001B[34m[2020-06-08:12:01:28:INFO] Determined delimiter of CSV input is ','\u001B[0m\n",
      "\u001B[35m[2020-06-08:12:01:28:INFO] Sniff delimiter as ','\u001B[0m\n",
      "\u001B[35m[2020-06-08:12:01:28:INFO] Determined delimiter of CSV input is ','\u001B[0m\n",
      "\u001B[35m[2020-06-08:12:01:28:INFO] Sniff delimiter as ','\u001B[0m\n",
      "\u001B[35m[2020-06-08:12:01:28:INFO] Determined delimiter of CSV input is ','\u001B[0m\n",
      "\u001B[35m[2020-06-08:12:01:28:INFO] Sniff delimiter as ','\u001B[0m\n",
      "\u001B[35m[2020-06-08:12:01:28:INFO] Determined delimiter of CSV input is ','\u001B[0m\n",
      "\u001B[32m2020-06-08T12:01:25.660:[sagemaker logs]: MaxConcurrentTransforms=4, MaxPayloadInMB=6, BatchStrategy=MULTI_RECORD\u001B[0m\n",
      "\u001B[34m[2020-06-08:12:01:30:INFO] Sniff delimiter as ','\u001B[0m\n",
      "\u001B[35m[2020-06-08:12:01:30:INFO] Sniff delimiter as ','\u001B[0m\n",
      "\u001B[34m[2020-06-08:12:01:30:INFO] Determined delimiter of CSV input is ','\u001B[0m\n",
      "\u001B[34m[2020-06-08:12:01:30:INFO] Sniff delimiter as ','\u001B[0m\n",
      "\u001B[34m[2020-06-08:12:01:30:INFO] Determined delimiter of CSV input is ','\u001B[0m\n",
      "\u001B[34m[2020-06-08:12:01:30:INFO] Sniff delimiter as ','\u001B[0m\n",
      "\u001B[34m[2020-06-08:12:01:30:INFO] Determined delimiter of CSV input is ','\u001B[0m\n",
      "\u001B[35m[2020-06-08:12:01:30:INFO] Determined delimiter of CSV input is ','\u001B[0m\n",
      "\u001B[35m[2020-06-08:12:01:30:INFO] Sniff delimiter as ','\u001B[0m\n",
      "\u001B[35m[2020-06-08:12:01:30:INFO] Determined delimiter of CSV input is ','\u001B[0m\n",
      "\u001B[35m[2020-06-08:12:01:30:INFO] Sniff delimiter as ','\u001B[0m\n",
      "\u001B[35m[2020-06-08:12:01:30:INFO] Determined delimiter of CSV input is ','\u001B[0m\n",
      "\u001B[34m[2020-06-08:12:01:32:INFO] Sniff delimiter as ','\u001B[0m\n",
      "\u001B[34m[2020-06-08:12:01:32:INFO] Determined delimiter of CSV input is ','\u001B[0m\n",
      "\u001B[34m[2020-06-08:12:01:32:INFO] Sniff delimiter as ','\u001B[0m\n",
      "\u001B[34m[2020-06-08:12:01:32:INFO] Determined delimiter of CSV input is ','\u001B[0m\n",
      "\u001B[34m[2020-06-08:12:01:32:INFO] Sniff delimiter as ','\u001B[0m\n",
      "\u001B[34m[2020-06-08:12:01:32:INFO] Determined delimiter of CSV input is ','\u001B[0m\n",
      "\u001B[34m[2020-06-08:12:01:32:INFO] Sniff delimiter as ','\u001B[0m\n",
      "\u001B[34m[2020-06-08:12:01:32:INFO] Determined delimiter of CSV input is ','\u001B[0m\n",
      "\u001B[35m[2020-06-08:12:01:32:INFO] Sniff delimiter as ','\u001B[0m\n",
      "\u001B[35m[2020-06-08:12:01:32:INFO] Determined delimiter of CSV input is ','\u001B[0m\n",
      "\u001B[35m[2020-06-08:12:01:32:INFO] Sniff delimiter as ','\u001B[0m\n",
      "\u001B[35m[2020-06-08:12:01:32:INFO] Determined delimiter of CSV input is ','\u001B[0m\n",
      "\u001B[35m[2020-06-08:12:01:32:INFO] Sniff delimiter as ','\u001B[0m\n",
      "\u001B[35m[2020-06-08:12:01:32:INFO] Determined delimiter of CSV input is ','\u001B[0m\n",
      "\u001B[35m[2020-06-08:12:01:32:INFO] Sniff delimiter as ','\u001B[0m\n",
      "\u001B[35m[2020-06-08:12:01:32:INFO] Determined delimiter of CSV input is ','\u001B[0m\n",
      "\u001B[34m[2020-06-08:12:01:37:INFO] Sniff delimiter as ','\u001B[0m\n",
      "\u001B[34m[2020-06-08:12:01:37:INFO] Determined delimiter of CSV input is ','\u001B[0m\n",
      "\u001B[34m[2020-06-08:12:01:37:INFO] Sniff delimiter as ','\u001B[0m\n",
      "\u001B[34m[2020-06-08:12:01:37:INFO] Determined delimiter of CSV input is ','\u001B[0m\n",
      "\u001B[34m[2020-06-08:12:01:37:INFO] Sniff delimiter as ','\u001B[0m\n",
      "\u001B[35m[2020-06-08:12:01:37:INFO] Sniff delimiter as ','\u001B[0m\n",
      "\u001B[35m[2020-06-08:12:01:37:INFO] Determined delimiter of CSV input is ','\u001B[0m\n",
      "\u001B[35m[2020-06-08:12:01:37:INFO] Sniff delimiter as ','\u001B[0m\n",
      "\u001B[35m[2020-06-08:12:01:37:INFO] Determined delimiter of CSV input is ','\u001B[0m\n",
      "\u001B[35m[2020-06-08:12:01:37:INFO] Sniff delimiter as ','\u001B[0m\n",
      "\u001B[34m[2020-06-08:12:01:37:INFO] Determined delimiter of CSV input is ','\u001B[0m\n",
      "\u001B[34m[2020-06-08:12:01:37:INFO] Sniff delimiter as ','\u001B[0m\n",
      "\u001B[34m[2020-06-08:12:01:37:INFO] Determined delimiter of CSV input is ','\u001B[0m\n",
      "\u001B[35m[2020-06-08:12:01:37:INFO] Determined delimiter of CSV input is ','\u001B[0m\n",
      "\u001B[35m[2020-06-08:12:01:37:INFO] Sniff delimiter as ','\u001B[0m\n",
      "\u001B[35m[2020-06-08:12:01:37:INFO] Determined delimiter of CSV input is ','\u001B[0m\n",
      "\u001B[34m[2020-06-08:12:01:39:INFO] Sniff delimiter as ','\u001B[0m\n",
      "\u001B[34m[2020-06-08:12:01:39:INFO] Determined delimiter of CSV input is ','\u001B[0m\n",
      "\u001B[34m[2020-06-08:12:01:39:INFO] Sniff delimiter as ','\u001B[0m\n",
      "\u001B[35m[2020-06-08:12:01:39:INFO] Sniff delimiter as ','\u001B[0m\n",
      "\u001B[35m[2020-06-08:12:01:39:INFO] Determined delimiter of CSV input is ','\u001B[0m\n",
      "\u001B[35m[2020-06-08:12:01:39:INFO] Sniff delimiter as ','\u001B[0m\n",
      "\u001B[34m[2020-06-08:12:01:39:INFO] Determined delimiter of CSV input is ','\u001B[0m\n",
      "\u001B[34m[2020-06-08:12:01:39:INFO] Sniff delimiter as ','\u001B[0m\n",
      "\u001B[34m[2020-06-08:12:01:39:INFO] Determined delimiter of CSV input is ','\u001B[0m\n",
      "\u001B[35m[2020-06-08:12:01:39:INFO] Determined delimiter of CSV input is ','\u001B[0m\n",
      "\u001B[35m[2020-06-08:12:01:39:INFO] Sniff delimiter as ','\u001B[0m\n",
      "\u001B[35m[2020-06-08:12:01:39:INFO] Determined delimiter of CSV input is ','\u001B[0m\n",
      "\u001B[34m[2020-06-08:12:01:40:INFO] Sniff delimiter as ','\u001B[0m\n",
      "\u001B[34m[2020-06-08:12:01:40:INFO] Determined delimiter of CSV input is ','\u001B[0m\n",
      "\u001B[35m[2020-06-08:12:01:40:INFO] Sniff delimiter as ','\u001B[0m\n",
      "\u001B[35m[2020-06-08:12:01:40:INFO] Determined delimiter of CSV input is ','\u001B[0m\n",
      "\u001B[34m[2020-06-08:12:01:41:INFO] Sniff delimiter as ','\u001B[0m\n",
      "\u001B[34m[2020-06-08:12:01:41:INFO] Determined delimiter of CSV input is ','\u001B[0m\n",
      "\u001B[35m[2020-06-08:12:01:41:INFO] Sniff delimiter as ','\u001B[0m\n",
      "\u001B[35m[2020-06-08:12:01:41:INFO] Determined delimiter of CSV input is ','\u001B[0m\n",
      "\u001B[34m[2020-06-08:12:01:42:INFO] Sniff delimiter as ','\u001B[0m\n",
      "\u001B[34m[2020-06-08:12:01:42:INFO] Determined delimiter of CSV input is ','\u001B[0m\n",
      "\u001B[34m[2020-06-08:12:01:42:INFO] Sniff delimiter as ','\u001B[0m\n",
      "\u001B[34m[2020-06-08:12:01:42:INFO] Determined delimiter of CSV input is ','\u001B[0m\n",
      "\u001B[34m[2020-06-08:12:01:42:INFO] Sniff delimiter as ','\u001B[0m\n",
      "\u001B[34m[2020-06-08:12:01:42:INFO] Determined delimiter of CSV input is ','\u001B[0m\n",
      "\u001B[35m[2020-06-08:12:01:42:INFO] Sniff delimiter as ','\u001B[0m\n",
      "\u001B[35m[2020-06-08:12:01:42:INFO] Determined delimiter of CSV input is ','\u001B[0m\n",
      "\u001B[35m[2020-06-08:12:01:42:INFO] Sniff delimiter as ','\u001B[0m\n",
      "\u001B[35m[2020-06-08:12:01:42:INFO] Determined delimiter of CSV input is ','\u001B[0m\n",
      "\u001B[35m[2020-06-08:12:01:42:INFO] Sniff delimiter as ','\u001B[0m\n",
      "\u001B[35m[2020-06-08:12:01:42:INFO] Determined delimiter of CSV input is ','\u001B[0m\n",
      "\n",
      "\u001B[34m[2020-06-08:12:01:45:INFO] Sniff delimiter as ','\u001B[0m\n",
      "\u001B[34m[2020-06-08:12:01:45:INFO] Determined delimiter of CSV input is ','\u001B[0m\n",
      "\u001B[35m[2020-06-08:12:01:45:INFO] Sniff delimiter as ','\u001B[0m\n",
      "\u001B[35m[2020-06-08:12:01:45:INFO] Determined delimiter of CSV input is ','\u001B[0m\n",
      "\u001B[34m[2020-06-08:12:01:46:INFO] Sniff delimiter as ','\u001B[0m\n",
      "\u001B[35m[2020-06-08:12:01:46:INFO] Sniff delimiter as ','\u001B[0m\n",
      "\u001B[34m[2020-06-08:12:01:46:INFO] Determined delimiter of CSV input is ','\u001B[0m\n",
      "\u001B[34m[2020-06-08:12:01:47:INFO] Sniff delimiter as ','\u001B[0m\n",
      "\u001B[34m[2020-06-08:12:01:47:INFO] Determined delimiter of CSV input is ','\u001B[0m\n",
      "\u001B[35m[2020-06-08:12:01:46:INFO] Determined delimiter of CSV input is ','\u001B[0m\n",
      "\u001B[35m[2020-06-08:12:01:47:INFO] Sniff delimiter as ','\u001B[0m\n",
      "\u001B[35m[2020-06-08:12:01:47:INFO] Determined delimiter of CSV input is ','\u001B[0m\n",
      "\u001B[34m[2020-06-08:12:01:47:INFO] Sniff delimiter as ','\u001B[0m\n",
      "\u001B[34m[2020-06-08:12:01:47:INFO] Determined delimiter of CSV input is ','\u001B[0m\n",
      "\u001B[34m[2020-06-08:12:01:47:INFO] Sniff delimiter as ','\u001B[0m\n",
      "\u001B[34m[2020-06-08:12:01:47:INFO] Determined delimiter of CSV input is ','\u001B[0m\n",
      "\u001B[35m[2020-06-08:12:01:47:INFO] Sniff delimiter as ','\u001B[0m\n",
      "\u001B[35m[2020-06-08:12:01:47:INFO] Determined delimiter of CSV input is ','\u001B[0m\n",
      "\u001B[35m[2020-06-08:12:01:47:INFO] Sniff delimiter as ','\u001B[0m\n",
      "\u001B[35m[2020-06-08:12:01:47:INFO] Determined delimiter of CSV input is ','\u001B[0m\n",
      "\u001B[34m[2020-06-08:12:01:49:INFO] Sniff delimiter as ','\u001B[0m\n",
      "\u001B[34m[2020-06-08:12:01:49:INFO] Determined delimiter of CSV input is ','\u001B[0m\n",
      "\u001B[34m[2020-06-08:12:01:49:INFO] Sniff delimiter as ','\u001B[0m\n",
      "\u001B[34m[2020-06-08:12:01:49:INFO] Determined delimiter of CSV input is ','\u001B[0m\n",
      "\u001B[34m[2020-06-08:12:01:49:INFO] Sniff delimiter as ','\u001B[0m\n",
      "\u001B[34m[2020-06-08:12:01:49:INFO] Determined delimiter of CSV input is ','\u001B[0m\n",
      "\u001B[35m[2020-06-08:12:01:49:INFO] Sniff delimiter as ','\u001B[0m\n",
      "\u001B[35m[2020-06-08:12:01:49:INFO] Determined delimiter of CSV input is ','\u001B[0m\n",
      "\u001B[35m[2020-06-08:12:01:49:INFO] Sniff delimiter as ','\u001B[0m\n",
      "\u001B[35m[2020-06-08:12:01:49:INFO] Determined delimiter of CSV input is ','\u001B[0m\n",
      "\u001B[35m[2020-06-08:12:01:49:INFO] Sniff delimiter as ','\u001B[0m\n",
      "\u001B[35m[2020-06-08:12:01:49:INFO] Determined delimiter of CSV input is ','\u001B[0m\n",
      "\u001B[34m[2020-06-08:12:01:50:INFO] Sniff delimiter as ','\u001B[0m\n",
      "\u001B[34m[2020-06-08:12:01:50:INFO] Determined delimiter of CSV input is ','\u001B[0m\n",
      "\u001B[35m[2020-06-08:12:01:50:INFO] Sniff delimiter as ','\u001B[0m\n",
      "\u001B[35m[2020-06-08:12:01:50:INFO] Determined delimiter of CSV input is ','\u001B[0m\n",
      "\u001B[34m[2020-06-08:12:01:51:INFO] Sniff delimiter as ','\u001B[0m\n",
      "\u001B[34m[2020-06-08:12:01:51:INFO] Determined delimiter of CSV input is ','\u001B[0m\n",
      "\u001B[34m[2020-06-08:12:01:51:INFO] Sniff delimiter as ','\u001B[0m\n",
      "\u001B[34m[2020-06-08:12:01:51:INFO] Determined delimiter of CSV input is ','\u001B[0m\n",
      "\u001B[35m[2020-06-08:12:01:51:INFO] Sniff delimiter as ','\u001B[0m\n",
      "\u001B[35m[2020-06-08:12:01:51:INFO] Determined delimiter of CSV input is ','\u001B[0m\n",
      "\u001B[35m[2020-06-08:12:01:51:INFO] Sniff delimiter as ','\u001B[0m\n",
      "\u001B[35m[2020-06-08:12:01:51:INFO] Determined delimiter of CSV input is ','\u001B[0m\n"
     ]
    }
   ],
   "source": [
    "xgb_transformer.wait()"
   ]
  },
  {
   "cell_type": "markdown",
   "metadata": {},
   "source": [
    "Copy the results to our local instance."
   ]
  },
  {
   "cell_type": "code",
   "execution_count": 123,
   "metadata": {},
   "outputs": [
    {
     "name": "stdout",
     "output_type": "stream",
     "text": [
      "\r\n",
      "usage: aws s3 cp <LocalPath> <S3Uri> or <S3Uri> <LocalPath> or <S3Uri> <S3Uri>\r\n",
      "Error: Invalid argument type\r\n"
     ]
    }
   ],
   "source": [
    "!aws s3 cp --recursive $new_xgb_transformer.output_path $data_dir"
   ]
  },
  {
   "cell_type": "markdown",
   "metadata": {},
   "source": [
    "And see how well the model did."
   ]
  },
  {
   "cell_type": "code",
   "execution_count": 124,
   "metadata": {},
   "outputs": [],
   "source": [
    "predictions = pd.read_csv(os.path.join(data_dir, 'new_data.csv.out'), header=None)\n",
    "predictions = [round(num) for num in predictions.squeeze().values]"
   ]
  },
  {
   "cell_type": "code",
   "execution_count": 125,
   "metadata": {},
   "outputs": [
    {
     "data": {
      "text/plain": [
       "0.73384"
      ]
     },
     "execution_count": 125,
     "metadata": {},
     "output_type": "execute_result"
    }
   ],
   "source": [
    "accuracy_score(new_Y, predictions)"
   ]
  },
  {
   "cell_type": "markdown",
   "metadata": {},
   "source": [
    "As expected, since we trained the model on this data, our model performs pretty well. So, we have reason to believe that our new XGBoost model is a \"better\" model.\n",
    "\n",
    "However, before we start changing our deployed model, we should first make sure that our new model isn't too different. In other words, if our new model performed really poorly on the original test data then this might be an indication that something else has gone wrong.\n",
    "\n",
    "To start with, since we got rid of the variable that stored the original test reviews, we will read them in again from the cache that we created in Step 3. Note that we need to make sure that we read in the original test data after it has been pre-processed with `nltk` but before it has been bag of words encoded. This is because we need to use the new vocabulary instead of the original one."
   ]
  },
  {
   "cell_type": "code",
   "execution_count": 126,
   "metadata": {},
   "outputs": [
    {
     "name": "stdout",
     "output_type": "stream",
     "text": [
      "Read preprocessed data from cache file: preprocessed_data.pkl\n"
     ]
    }
   ],
   "source": [
    "cache_data = None\n",
    "with open(os.path.join(cache_dir, \"preprocessed_data.pkl\"), \"rb\") as f:\n",
    "            cache_data = pickle.load(f)\n",
    "            print(\"Read preprocessed data from cache file:\", \"preprocessed_data.pkl\")\n",
    "            \n",
    "test_X = cache_data['words_test']\n",
    "test_Y = cache_data['labels_test']\n",
    "\n",
    "# Here we set cache_data to None so that it doesn't occupy memory\n",
    "cache_data = None"
   ]
  },
  {
   "cell_type": "markdown",
   "metadata": {},
   "source": [
    "Once we've loaded the original test reviews, we need to create a bag of words encoding of them using the new vocabulary that we created, based on the new data.\n",
    "\n",
    "**TODO:** Transform the original test data using the new vocabulary."
   ]
  },
  {
   "cell_type": "code",
   "execution_count": 127,
   "metadata": {},
   "outputs": [],
   "source": [
    "# TODO: Use the new_vectorizer object that you created earlier to transform the test_X data.\n",
    "test_X = new_vectorizer.transform(test_X).toarray()"
   ]
  },
  {
   "cell_type": "markdown",
   "metadata": {},
   "source": [
    "Now that we have correctly encoded the original test data, we can write it to the local instance, upload it to S3 and test it."
   ]
  },
  {
   "cell_type": "code",
   "execution_count": 128,
   "metadata": {},
   "outputs": [],
   "source": [
    "pd.DataFrame(test_X).to_csv(os.path.join(data_dir, 'test.csv'), header=False, index=False)"
   ]
  },
  {
   "cell_type": "code",
   "execution_count": 129,
   "metadata": {},
   "outputs": [
    {
     "name": "stderr",
     "output_type": "stream",
     "text": [
      "WARNING:sagemaker:'upload_data' method will be deprecated in favor of 'S3Uploader' class (https://sagemaker.readthedocs.io/en/stable/s3.html#sagemaker.s3.S3Uploader) in SageMaker Python SDK v2.\n"
     ]
    }
   ],
   "source": [
    "test_location = session.upload_data(os.path.join(data_dir, 'test.csv'), key_prefix=prefix)"
   ]
  },
  {
   "cell_type": "code",
   "execution_count": 130,
   "metadata": {},
   "outputs": [
    {
     "name": "stdout",
     "output_type": "stream",
     "text": [
      ".....................\u001B[34mArguments: serve\u001B[0m\n",
      "\u001B[34m[2020-06-08 12:05:49 +0000] [1] [INFO] Starting gunicorn 19.7.1\u001B[0m\n",
      "\u001B[34m[2020-06-08 12:05:49 +0000] [1] [INFO] Listening at: http://0.0.0.0:8080 (1)\u001B[0m\n",
      "\u001B[34m[2020-06-08 12:05:49 +0000] [1] [INFO] Using worker: gevent\u001B[0m\n",
      "\u001B[34m[2020-06-08 12:05:49 +0000] [37] [INFO] Booting worker with pid: 37\u001B[0m\n",
      "\u001B[34m[2020-06-08 12:05:49 +0000] [38] [INFO] Booting worker with pid: 38\u001B[0m\n",
      "\u001B[34m[2020-06-08 12:05:50 +0000] [39] [INFO] Booting worker with pid: 39\u001B[0m\n",
      "\u001B[34m[2020-06-08 12:05:50 +0000] [40] [INFO] Booting worker with pid: 40\u001B[0m\n",
      "\u001B[34m[2020-06-08:12:05:50:INFO] Model loaded successfully for worker : 37\u001B[0m\n",
      "\u001B[34m[2020-06-08:12:05:50:INFO] Model loaded successfully for worker : 38\u001B[0m\n",
      "\u001B[34m[2020-06-08:12:05:50:INFO] Model loaded successfully for worker : 39\u001B[0m\n",
      "\u001B[34m[2020-06-08:12:05:50:INFO] Model loaded successfully for worker : 40\u001B[0m\n",
      "\u001B[34m[2020-06-08:12:06:21:INFO] Sniff delimiter as ','\u001B[0m\n",
      "\u001B[34m[2020-06-08:12:06:21:INFO] Determined delimiter of CSV input is ','\u001B[0m\n",
      "\u001B[35m[2020-06-08:12:06:21:INFO] Sniff delimiter as ','\u001B[0m\n",
      "\u001B[35m[2020-06-08:12:06:21:INFO] Determined delimiter of CSV input is ','\u001B[0m\n",
      "\u001B[34m[2020-06-08:12:06:21:INFO] Sniff delimiter as ','\u001B[0m\n",
      "\u001B[34m[2020-06-08:12:06:21:INFO] Determined delimiter of CSV input is ','\u001B[0m\n",
      "\u001B[35m[2020-06-08:12:06:21:INFO] Sniff delimiter as ','\u001B[0m\n",
      "\u001B[35m[2020-06-08:12:06:21:INFO] Determined delimiter of CSV input is ','\u001B[0m\n",
      "\u001B[34m[2020-06-08:12:06:21:INFO] Sniff delimiter as ','\u001B[0m\n",
      "\u001B[35m[2020-06-08:12:06:21:INFO] Sniff delimiter as ','\u001B[0m\n",
      "\u001B[32m2020-06-08T12:06:18.996:[sagemaker logs]: MaxConcurrentTransforms=4, MaxPayloadInMB=6, BatchStrategy=MULTI_RECORD\u001B[0m\n",
      "\u001B[34m[2020-06-08:12:06:21:INFO] Determined delimiter of CSV input is ','\u001B[0m\n",
      "\u001B[34m[2020-06-08:12:06:21:INFO] Sniff delimiter as ','\u001B[0m\n",
      "\u001B[34m[2020-06-08:12:06:21:INFO] Determined delimiter of CSV input is ','\u001B[0m\n",
      "\u001B[35m[2020-06-08:12:06:21:INFO] Determined delimiter of CSV input is ','\u001B[0m\n",
      "\u001B[35m[2020-06-08:12:06:21:INFO] Sniff delimiter as ','\u001B[0m\n",
      "\u001B[35m[2020-06-08:12:06:21:INFO] Determined delimiter of CSV input is ','\u001B[0m\n",
      "\u001B[34m[2020-06-08:12:06:23:INFO] Sniff delimiter as ','\u001B[0m\n",
      "\u001B[34m[2020-06-08:12:06:23:INFO] Determined delimiter of CSV input is ','\u001B[0m\n",
      "\u001B[34m[2020-06-08:12:06:23:INFO] Sniff delimiter as ','\u001B[0m\n",
      "\u001B[34m[2020-06-08:12:06:23:INFO] Determined delimiter of CSV input is ','\u001B[0m\n",
      "\u001B[34m[2020-06-08:12:06:24:INFO] Sniff delimiter as ','\u001B[0m\n",
      "\u001B[34m[2020-06-08:12:06:24:INFO] Determined delimiter of CSV input is ','\u001B[0m\n",
      "\u001B[34m[2020-06-08:12:06:24:INFO] Sniff delimiter as ','\u001B[0m\n",
      "\u001B[34m[2020-06-08:12:06:24:INFO] Determined delimiter of CSV input is ','\u001B[0m\n",
      "\u001B[35m[2020-06-08:12:06:23:INFO] Sniff delimiter as ','\u001B[0m\n",
      "\u001B[35m[2020-06-08:12:06:23:INFO] Determined delimiter of CSV input is ','\u001B[0m\n",
      "\u001B[35m[2020-06-08:12:06:23:INFO] Sniff delimiter as ','\u001B[0m\n",
      "\u001B[35m[2020-06-08:12:06:23:INFO] Determined delimiter of CSV input is ','\u001B[0m\n",
      "\u001B[35m[2020-06-08:12:06:24:INFO] Sniff delimiter as ','\u001B[0m\n",
      "\u001B[35m[2020-06-08:12:06:24:INFO] Determined delimiter of CSV input is ','\u001B[0m\n",
      "\u001B[35m[2020-06-08:12:06:24:INFO] Sniff delimiter as ','\u001B[0m\n",
      "\u001B[35m[2020-06-08:12:06:24:INFO] Determined delimiter of CSV input is ','\u001B[0m\n",
      "\u001B[34m[2020-06-08:12:06:26:INFO] Sniff delimiter as ','\u001B[0m\n",
      "\u001B[34m[2020-06-08:12:06:26:INFO] Determined delimiter of CSV input is ','\u001B[0m\n",
      "\u001B[34m[2020-06-08:12:06:26:INFO] Sniff delimiter as ','\u001B[0m\n",
      "\u001B[34m[2020-06-08:12:06:26:INFO] Determined delimiter of CSV input is ','\u001B[0m\n",
      "\u001B[35m[2020-06-08:12:06:26:INFO] Sniff delimiter as ','\u001B[0m\n",
      "\u001B[35m[2020-06-08:12:06:26:INFO] Determined delimiter of CSV input is ','\u001B[0m\n",
      "\u001B[35m[2020-06-08:12:06:26:INFO] Sniff delimiter as ','\u001B[0m\n",
      "\u001B[35m[2020-06-08:12:06:26:INFO] Determined delimiter of CSV input is ','\u001B[0m\n",
      "\u001B[34m[2020-06-08:12:06:26:INFO] Sniff delimiter as ','\u001B[0m\n",
      "\u001B[34m[2020-06-08:12:06:26:INFO] Determined delimiter of CSV input is ','\u001B[0m\n",
      "\u001B[34m[2020-06-08:12:06:26:INFO] Sniff delimiter as ','\u001B[0m\n",
      "\u001B[34m[2020-06-08:12:06:26:INFO] Determined delimiter of CSV input is ','\u001B[0m\n",
      "\u001B[35m[2020-06-08:12:06:26:INFO] Sniff delimiter as ','\u001B[0m\n",
      "\u001B[35m[2020-06-08:12:06:26:INFO] Determined delimiter of CSV input is ','\u001B[0m\n",
      "\u001B[35m[2020-06-08:12:06:26:INFO] Sniff delimiter as ','\u001B[0m\n",
      "\u001B[35m[2020-06-08:12:06:26:INFO] Determined delimiter of CSV input is ','\u001B[0m\n",
      "\u001B[34m[2020-06-08:12:06:28:INFO] Sniff delimiter as ','\u001B[0m\n",
      "\u001B[34m[2020-06-08:12:06:28:INFO] Determined delimiter of CSV input is ','\u001B[0m\n",
      "\u001B[34m[2020-06-08:12:06:28:INFO] Sniff delimiter as ','\u001B[0m\n",
      "\u001B[34m[2020-06-08:12:06:28:INFO] Determined delimiter of CSV input is ','\u001B[0m\n",
      "\u001B[34m[2020-06-08:12:06:28:INFO] Sniff delimiter as ','\u001B[0m\n",
      "\u001B[35m[2020-06-08:12:06:28:INFO] Sniff delimiter as ','\u001B[0m\n",
      "\u001B[35m[2020-06-08:12:06:28:INFO] Determined delimiter of CSV input is ','\u001B[0m\n",
      "\u001B[35m[2020-06-08:12:06:28:INFO] Sniff delimiter as ','\u001B[0m\n",
      "\u001B[35m[2020-06-08:12:06:28:INFO] Determined delimiter of CSV input is ','\u001B[0m\n",
      "\u001B[35m[2020-06-08:12:06:28:INFO] Sniff delimiter as ','\u001B[0m\n",
      "\u001B[34m[2020-06-08:12:06:28:INFO] Determined delimiter of CSV input is ','\u001B[0m\n",
      "\u001B[34m[2020-06-08:12:06:29:INFO] Sniff delimiter as ','\u001B[0m\n",
      "\u001B[34m[2020-06-08:12:06:29:INFO] Determined delimiter of CSV input is ','\u001B[0m\n",
      "\u001B[35m[2020-06-08:12:06:28:INFO] Determined delimiter of CSV input is ','\u001B[0m\n",
      "\u001B[35m[2020-06-08:12:06:29:INFO] Sniff delimiter as ','\u001B[0m\n",
      "\u001B[35m[2020-06-08:12:06:29:INFO] Determined delimiter of CSV input is ','\u001B[0m\n",
      "\u001B[34m[2020-06-08:12:06:31:INFO] Sniff delimiter as ','\u001B[0m\n",
      "\u001B[34m[2020-06-08:12:06:31:INFO] Determined delimiter of CSV input is ','\u001B[0m\n",
      "\u001B[34m[2020-06-08:12:06:31:INFO] Sniff delimiter as ','\u001B[0m\n",
      "\u001B[34m[2020-06-08:12:06:31:INFO] Determined delimiter of CSV input is ','\u001B[0m\n",
      "\u001B[34m[2020-06-08:12:06:31:INFO] Sniff delimiter as ','\u001B[0m\n",
      "\u001B[35m[2020-06-08:12:06:31:INFO] Sniff delimiter as ','\u001B[0m\n",
      "\u001B[35m[2020-06-08:12:06:31:INFO] Determined delimiter of CSV input is ','\u001B[0m\n",
      "\u001B[35m[2020-06-08:12:06:31:INFO] Sniff delimiter as ','\u001B[0m\n",
      "\u001B[35m[2020-06-08:12:06:31:INFO] Determined delimiter of CSV input is ','\u001B[0m\n",
      "\u001B[35m[2020-06-08:12:06:31:INFO] Sniff delimiter as ','\u001B[0m\n",
      "\u001B[34m[2020-06-08:12:06:31:INFO] Determined delimiter of CSV input is ','\u001B[0m\n",
      "\u001B[35m[2020-06-08:12:06:31:INFO] Determined delimiter of CSV input is ','\u001B[0m\n",
      "\u001B[34m[2020-06-08:12:06:31:INFO] Sniff delimiter as ','\u001B[0m\n",
      "\u001B[34m[2020-06-08:12:06:31:INFO] Determined delimiter of CSV input is ','\u001B[0m\n",
      "\u001B[35m[2020-06-08:12:06:31:INFO] Sniff delimiter as ','\u001B[0m\n",
      "\u001B[35m[2020-06-08:12:06:31:INFO] Determined delimiter of CSV input is ','\u001B[0m\n",
      "\u001B[34m[2020-06-08:12:06:33:INFO] Sniff delimiter as ','\u001B[0m\n",
      "\u001B[34m[2020-06-08:12:06:33:INFO] Determined delimiter of CSV input is ','\u001B[0m\n",
      "\u001B[34m[2020-06-08:12:06:33:INFO] Sniff delimiter as ','\u001B[0m\n",
      "\u001B[34m[2020-06-08:12:06:33:INFO] Determined delimiter of CSV input is ','\u001B[0m\n",
      "\u001B[34m[2020-06-08:12:06:33:INFO] Sniff delimiter as ','\u001B[0m\n",
      "\u001B[34m[2020-06-08:12:06:33:INFO] Determined delimiter of CSV input is ','\u001B[0m\n",
      "\u001B[34m[2020-06-08:12:06:34:INFO] Sniff delimiter as ','\u001B[0m\n",
      "\u001B[34m[2020-06-08:12:06:34:INFO] Determined delimiter of CSV input is ','\u001B[0m\n",
      "\u001B[35m[2020-06-08:12:06:33:INFO] Sniff delimiter as ','\u001B[0m\n",
      "\u001B[35m[2020-06-08:12:06:33:INFO] Determined delimiter of CSV input is ','\u001B[0m\n",
      "\u001B[35m[2020-06-08:12:06:33:INFO] Sniff delimiter as ','\u001B[0m\n",
      "\u001B[35m[2020-06-08:12:06:33:INFO] Determined delimiter of CSV input is ','\u001B[0m\n",
      "\u001B[35m[2020-06-08:12:06:33:INFO] Sniff delimiter as ','\u001B[0m\n",
      "\u001B[35m[2020-06-08:12:06:33:INFO] Determined delimiter of CSV input is ','\u001B[0m\n",
      "\u001B[35m[2020-06-08:12:06:34:INFO] Sniff delimiter as ','\u001B[0m\n",
      "\u001B[35m[2020-06-08:12:06:34:INFO] Determined delimiter of CSV input is ','\u001B[0m\n",
      "\u001B[34m[2020-06-08:12:06:38:INFO] Sniff delimiter as ','\u001B[0m\n",
      "\u001B[34m[2020-06-08:12:06:38:INFO] Determined delimiter of CSV input is ','\u001B[0m\n",
      "\u001B[35m[2020-06-08:12:06:38:INFO] Sniff delimiter as ','\u001B[0m\n",
      "\u001B[35m[2020-06-08:12:06:38:INFO] Determined delimiter of CSV input is ','\u001B[0m\n",
      "\u001B[34m[2020-06-08:12:06:38:INFO] Sniff delimiter as ','\u001B[0m\n",
      "\u001B[35m[2020-06-08:12:06:38:INFO] Sniff delimiter as ','\u001B[0m\n",
      "\u001B[34m[2020-06-08:12:06:38:INFO] Determined delimiter of CSV input is ','\u001B[0m\n",
      "\u001B[34m[2020-06-08:12:06:38:INFO] Sniff delimiter as ','\u001B[0m\n",
      "\u001B[34m[2020-06-08:12:06:38:INFO] Determined delimiter of CSV input is ','\u001B[0m\n",
      "\u001B[34m[2020-06-08:12:06:39:INFO] Sniff delimiter as ','\u001B[0m\n",
      "\u001B[34m[2020-06-08:12:06:39:INFO] Determined delimiter of CSV input is ','\u001B[0m\n",
      "\u001B[35m[2020-06-08:12:06:38:INFO] Determined delimiter of CSV input is ','\u001B[0m\n",
      "\u001B[35m[2020-06-08:12:06:38:INFO] Sniff delimiter as ','\u001B[0m\n",
      "\u001B[35m[2020-06-08:12:06:38:INFO] Determined delimiter of CSV input is ','\u001B[0m\n",
      "\u001B[35m[2020-06-08:12:06:39:INFO] Sniff delimiter as ','\u001B[0m\n",
      "\u001B[35m[2020-06-08:12:06:39:INFO] Determined delimiter of CSV input is ','\u001B[0m\n",
      "\u001B[34m[2020-06-08:12:06:40:INFO] Sniff delimiter as ','\u001B[0m\n",
      "\u001B[34m[2020-06-08:12:06:40:INFO] Determined delimiter of CSV input is ','\u001B[0m\n",
      "\u001B[35m[2020-06-08:12:06:40:INFO] Sniff delimiter as ','\u001B[0m\n",
      "\u001B[35m[2020-06-08:12:06:40:INFO] Determined delimiter of CSV input is ','\u001B[0m\n",
      "\u001B[34m[2020-06-08:12:06:40:INFO] Sniff delimiter as ','\u001B[0m\n",
      "\u001B[34m[2020-06-08:12:06:40:INFO] Determined delimiter of CSV input is ','\u001B[0m\n",
      "\u001B[34m[2020-06-08:12:06:41:INFO] Sniff delimiter as ','\u001B[0m\n",
      "\u001B[34m[2020-06-08:12:06:41:INFO] Determined delimiter of CSV input is ','\u001B[0m\n",
      "\u001B[34m[2020-06-08:12:06:41:INFO] Sniff delimiter as ','\u001B[0m\n",
      "\u001B[34m[2020-06-08:12:06:41:INFO] Determined delimiter of CSV input is ','\u001B[0m\n",
      "\u001B[35m[2020-06-08:12:06:40:INFO] Sniff delimiter as ','\u001B[0m\n",
      "\u001B[35m[2020-06-08:12:06:40:INFO] Determined delimiter of CSV input is ','\u001B[0m\n",
      "\u001B[35m[2020-06-08:12:06:41:INFO] Sniff delimiter as ','\u001B[0m\n",
      "\u001B[35m[2020-06-08:12:06:41:INFO] Determined delimiter of CSV input is ','\u001B[0m\n",
      "\u001B[35m[2020-06-08:12:06:41:INFO] Sniff delimiter as ','\u001B[0m\n",
      "\u001B[35m[2020-06-08:12:06:41:INFO] Determined delimiter of CSV input is ','\u001B[0m\n",
      "\u001B[34m[2020-06-08:12:06:43:INFO] Sniff delimiter as ','\u001B[0m\n",
      "\u001B[35m[2020-06-08:12:06:43:INFO] Sniff delimiter as ','\u001B[0m\n",
      "\u001B[34m[2020-06-08:12:06:43:INFO] Determined delimiter of CSV input is ','\u001B[0m\n",
      "\u001B[34m[2020-06-08:12:06:43:INFO] Sniff delimiter as ','\u001B[0m\n",
      "\u001B[34m[2020-06-08:12:06:43:INFO] Determined delimiter of CSV input is ','\u001B[0m\n",
      "\u001B[35m[2020-06-08:12:06:43:INFO] Determined delimiter of CSV input is ','\u001B[0m\n",
      "\u001B[35m[2020-06-08:12:06:43:INFO] Sniff delimiter as ','\u001B[0m\n",
      "\u001B[35m[2020-06-08:12:06:43:INFO] Determined delimiter of CSV input is ','\u001B[0m\n",
      "\u001B[34m[2020-06-08:12:06:43:INFO] Sniff delimiter as ','\u001B[0m\n",
      "\u001B[34m[2020-06-08:12:06:43:INFO] Determined delimiter of CSV input is ','\u001B[0m\n",
      "\u001B[34m[2020-06-08:12:06:43:INFO] Sniff delimiter as ','\u001B[0m\n",
      "\u001B[34m[2020-06-08:12:06:43:INFO] Determined delimiter of CSV input is ','\u001B[0m\n",
      "\u001B[35m[2020-06-08:12:06:43:INFO] Sniff delimiter as ','\u001B[0m\n",
      "\u001B[35m[2020-06-08:12:06:43:INFO] Determined delimiter of CSV input is ','\u001B[0m\n",
      "\u001B[35m[2020-06-08:12:06:43:INFO] Sniff delimiter as ','\u001B[0m\n",
      "\u001B[35m[2020-06-08:12:06:43:INFO] Determined delimiter of CSV input is ','\u001B[0m\n"
     ]
    },
    {
     "name": "stdout",
     "output_type": "stream",
     "text": [
      "\n"
     ]
    }
   ],
   "source": [
    "new_xgb_transformer.transform(test_location, content_type='text/csv', split_type='Line')\n",
    "new_xgb_transformer.wait()"
   ]
  },
  {
   "cell_type": "code",
   "execution_count": 131,
   "metadata": {},
   "outputs": [
    {
     "name": "stdout",
     "output_type": "stream",
     "text": [
      "Completed 256.0 KiB/365.8 KiB (2.9 MiB/s) with 1 file(s) remaining\r",
      "Completed 365.8 KiB/365.8 KiB (4.1 MiB/s) with 1 file(s) remaining\r",
      "download: s3://sagemaker-us-west-2-754745079939/xgboost-2020-06-08-12-02-35-771/test.csv.out to ../data/sentiment_update/test.csv.out\r\n"
     ]
    }
   ],
   "source": [
    "!aws s3 cp --recursive $new_xgb_transformer.output_path $data_dir"
   ]
  },
  {
   "cell_type": "code",
   "execution_count": 132,
   "metadata": {},
   "outputs": [],
   "source": [
    "predictions = pd.read_csv(os.path.join(data_dir, 'test.csv.out'), header=None)\n",
    "predictions = [round(num) for num in predictions.squeeze().values]"
   ]
  },
  {
   "cell_type": "code",
   "execution_count": 133,
   "metadata": {},
   "outputs": [
    {
     "data": {
      "text/plain": [
       "0.8258"
      ]
     },
     "execution_count": 133,
     "metadata": {},
     "output_type": "execute_result"
    }
   ],
   "source": [
    "accuracy_score(test_Y, predictions)"
   ]
  },
  {
   "cell_type": "markdown",
   "metadata": {},
   "source": [
    "It would appear that our new XGBoost model is performing quite well on the old test data. This gives us some indication that our new model should be put into production and replace our original model."
   ]
  },
  {
   "cell_type": "markdown",
   "metadata": {},
   "source": [
    "## Step 6: (TODO) Updating the Model\n",
    "\n",
    "So we have a new model that we'd like to use instead of one that is already deployed. Furthermore, we are assuming that the model that is already deployed is being used in some sort of application. As a result, what we want to do is update the existing endpoint so that it uses our new model.\n",
    "\n",
    "Of course, to do this we need to create an endpoint configuration for our newly created model.\n",
    "\n",
    "First, note that we can access the name of the model that we created above using the `model_name` property of the transformer. The reason for this is that in order for the transformer to create a batch transform job it needs to first create the model object inside of SageMaker. Since we've sort of already done this we should take advantage of it."
   ]
  },
  {
   "cell_type": "code",
   "execution_count": 134,
   "metadata": {},
   "outputs": [
    {
     "data": {
      "text/plain": [
       "'xgboost-2020-06-08-11-52-43-017'"
      ]
     },
     "execution_count": 134,
     "metadata": {},
     "output_type": "execute_result"
    }
   ],
   "source": [
    "new_xgb_transformer.model_name"
   ]
  },
  {
   "cell_type": "markdown",
   "metadata": {},
   "source": [
    "Next, we create an endpoint configuration using the low level approach of creating the dictionary object which describes the endpoint configuration we want.\n",
    "\n",
    "**TODO:** Using the low level approach, create a new endpoint configuration. Don't forget that it needs a name and that the name needs to be unique. If you get stuck, try looking at the Boston Housing Low Level Deployment tutorial notebook."
   ]
  },
  {
   "cell_type": "code",
   "execution_count": 136,
   "metadata": {},
   "outputs": [],
   "source": [
    "from time import gmtime, strftime\n",
    "\n",
    "\n",
    "# TODO: Give our endpoint configuration a name. Remember, it needs to be unique.\n",
    "new_xgb_endpoint_config_name = \"xgboost-new-\" + strftime(\"%Y-%m-%d-%H-%M-%S\", gmtime())\n",
    "\n",
    "# TODO: Using the SageMaker Client, construct the endpoint configuration.\n",
    "new_xgb_endpoint_config_info = session.sagemaker_client.create_endpoint_config(\n",
    "    Tags=[\n",
    "        {\n",
    "                'Key': 'owner',\n",
    "                'Value': 'email'\n",
    "        },\n",
    "    ],\n",
    "    EndpointConfigName = new_xgb_endpoint_config_name,\n",
    "    ProductionVariants = [\n",
    "        { # First we include the linear model\n",
    "            \"InstanceType\": \"ml.m4.xlarge\",\n",
    "            \"InitialVariantWeight\": 1,\n",
    "            \"InitialInstanceCount\": 1,\n",
    "            \"ModelName\": new_xgb_transformer.model_name,\n",
    "            \"VariantName\": \"New-XGB-Model\"\n",
    "        },\n",
    "    ]\n",
    ")"
   ]
  },
  {
   "cell_type": "markdown",
   "metadata": {},
   "source": [
    "Once the endpoint configuration has been constructed, it is a straightforward matter to ask SageMaker to update the existing endpoint so that it uses the new endpoint configuration.\n",
    "\n",
    "Of note here is that SageMaker does this in such a way that there is no downtime. Essentially, SageMaker deploys the new model and then updates the original endpoint so that it points to the newly deployed model. After that, the original model is shut down. This way, whatever app is using our endpoint won't notice that we've changed the model that is being used.\n",
    "\n",
    "**TODO:** Use the SageMaker Client to update the endpoint that you deployed earlier."
   ]
  },
  {
   "cell_type": "code",
   "execution_count": 137,
   "metadata": {},
   "outputs": [
    {
     "data": {
      "text/plain": [
       "'xgboost-2020-06-08-11-00-41-334'"
      ]
     },
     "execution_count": 137,
     "metadata": {},
     "output_type": "execute_result"
    }
   ],
   "source": [
    "xgb_predictor.endpoint"
   ]
  },
  {
   "cell_type": "code",
   "execution_count": 138,
   "metadata": {},
   "outputs": [
    {
     "data": {
      "text/plain": [
       "{'EndpointArn': 'arn:aws:sagemaker:us-west-2:754745079939:endpoint/xgboost-2020-06-08-11-00-41-334',\n",
       " 'ResponseMetadata': {'RequestId': 'e42c030c-5a26-45cd-bf99-05a80706bcd7',\n",
       "  'HTTPStatusCode': 200,\n",
       "  'HTTPHeaders': {'x-amzn-requestid': 'e42c030c-5a26-45cd-bf99-05a80706bcd7',\n",
       "   'content-type': 'application/x-amz-json-1.1',\n",
       "   'content-length': '99',\n",
       "   'date': 'Mon, 08 Jun 2020 12:09:11 GMT'},\n",
       "  'RetryAttempts': 0}}"
      ]
     },
     "execution_count": 138,
     "metadata": {},
     "output_type": "execute_result"
    }
   ],
   "source": [
    "# TODO: Update the xgb_predictor.endpoint so that it uses new_xgb_endpoint_config_name.\n",
    "session.sagemaker_client.update_endpoint(EndpointName=xgb_predictor.endpoint, EndpointConfigName=new_xgb_endpoint_config_name)"
   ]
  },
  {
   "cell_type": "code",
   "execution_count": 141,
   "metadata": {},
   "outputs": [
    {
     "name": "stdout",
     "output_type": "stream",
     "text": [
      "{'CreationTime': datetime.datetime(2020, 6, 8, 11, 24, 19, 602000, tzinfo=tzlocal()),\n",
      " 'EndpointArn': 'arn:aws:sagemaker:us-west-2:754745079939:endpoint/xgboost-2020-06-08-11-00-41-334',\n",
      " 'EndpointConfigName': 'xgboost-2020-06-08-11-00-41-334',\n",
      " 'EndpointName': 'xgboost-2020-06-08-11-00-41-334',\n",
      " 'EndpointStatus': 'Updating',\n",
      " 'LastModifiedTime': datetime.datetime(2020, 6, 8, 12, 9, 12, 133000, tzinfo=tzlocal()),\n",
      " 'ProductionVariants': [{'CurrentInstanceCount': 1,\n",
      "                         'CurrentWeight': 1.0,\n",
      "                         'DeployedImages': [{'ResolutionTime': datetime.datetime(2020, 6, 8, 11, 24, 21, 853000, tzinfo=tzlocal()),\n",
      "                                             'ResolvedImage': '433757028032.dkr.ecr.us-west-2.amazonaws.com/xgboost@sha256:513e8442b35b9ecc9d326f85659f8e30b10e2cec096b863f04a9738baa9ebb57',\n",
      "                                             'SpecifiedImage': '433757028032.dkr.ecr.us-west-2.amazonaws.com/xgboost:1'}],\n",
      "                         'DesiredInstanceCount': 1,\n",
      "                         'DesiredWeight': 1.0,\n",
      "                         'VariantName': 'AllTraffic'}],\n",
      " 'ResponseMetadata': {'HTTPHeaders': {'content-length': '713',\n",
      "                                      'content-type': 'application/x-amz-json-1.1',\n",
      "                                      'date': 'Mon, 08 Jun 2020 12:10:48 GMT',\n",
      "                                      'x-amzn-requestid': '2601790b-8c78-4b00-84c0-4fb1d68a3654'},\n",
      "                      'HTTPStatusCode': 200,\n",
      "                      'RequestId': '2601790b-8c78-4b00-84c0-4fb1d68a3654',\n",
      "                      'RetryAttempts': 0}}\n"
     ]
    }
   ],
   "source": [
    "from pprint import pprint\n",
    "pprint(session.sagemaker_client.describe_endpoint(EndpointName=xgb_predictor.endpoint))"
   ]
  },
  {
   "cell_type": "markdown",
   "metadata": {},
   "source": [
    "And, as is generally the case with SageMaker requests, this is being done in the background so if we want to wait for it to complete we need to call the appropriate method."
   ]
  },
  {
   "cell_type": "code",
   "execution_count": 142,
   "metadata": {},
   "outputs": [
    {
     "name": "stdout",
     "output_type": "stream",
     "text": [
      "----------!"
     ]
    },
    {
     "data": {
      "text/plain": [
       "{'EndpointName': 'xgboost-2020-06-08-11-00-41-334', 'EndpointArn': 'arn:aws:sagemaker:us-west-2:754745079939:endpoint/xgboost-2020-06-08-11-00-41-334', 'EndpointConfigName': 'xgboost-new-2020-06-08-12-08-08', 'ProductionVariants': [{'VariantName': 'New-XGB-Model', 'DeployedImages': [{'SpecifiedImage': '433757028032.dkr.ecr.us-west-2.amazonaws.com/xgboost:1', 'ResolvedImage': '433757028032.dkr.ecr.us-west-2.amazonaws.com/xgboost@sha256:513e8442b35b9ecc9d326f85659f8e30b10e2cec096b863f04a9738baa9ebb57', 'ResolutionTime': datetime.datetime(2020, 6, 8, 12, 9, 13, 790000, tzinfo=tzlocal())}], 'CurrentWeight': 1.0, 'DesiredWeight': 1.0, 'CurrentInstanceCount': 1, 'DesiredInstanceCount': 1}], 'EndpointStatus': 'InService', 'CreationTime': datetime.datetime(2020, 6, 8, 11, 24, 19, 602000, tzinfo=tzlocal()), 'LastModifiedTime': datetime.datetime(2020, 6, 8, 12, 15, 28, 22000, tzinfo=tzlocal()), 'ResponseMetadata': {'RequestId': '4ec4029d-c480-469f-95e3-5e1125267efa', 'HTTPStatusCode': 200, 'HTTPHeaders': {'x-amzn-requestid': '4ec4029d-c480-469f-95e3-5e1125267efa', 'content-type': 'application/x-amz-json-1.1', 'content-length': '716', 'date': 'Mon, 08 Jun 2020 12:15:52 GMT'}, 'RetryAttempts': 0}}"
      ]
     },
     "execution_count": 142,
     "metadata": {},
     "output_type": "execute_result"
    }
   ],
   "source": [
    "session.wait_for_endpoint(xgb_predictor.endpoint)"
   ]
  },
  {
   "cell_type": "code",
   "execution_count": 143,
   "metadata": {},
   "outputs": [
    {
     "name": "stdout",
     "output_type": "stream",
     "text": [
      "{'CreationTime': datetime.datetime(2020, 6, 8, 11, 24, 19, 602000, tzinfo=tzlocal()),\n",
      " 'EndpointArn': 'arn:aws:sagemaker:us-west-2:754745079939:endpoint/xgboost-2020-06-08-11-00-41-334',\n",
      " 'EndpointConfigName': 'xgboost-new-2020-06-08-12-08-08',\n",
      " 'EndpointName': 'xgboost-2020-06-08-11-00-41-334',\n",
      " 'EndpointStatus': 'InService',\n",
      " 'LastModifiedTime': datetime.datetime(2020, 6, 8, 12, 15, 28, 22000, tzinfo=tzlocal()),\n",
      " 'ProductionVariants': [{'CurrentInstanceCount': 1,\n",
      "                         'CurrentWeight': 1.0,\n",
      "                         'DeployedImages': [{'ResolutionTime': datetime.datetime(2020, 6, 8, 12, 9, 13, 790000, tzinfo=tzlocal()),\n",
      "                                             'ResolvedImage': '433757028032.dkr.ecr.us-west-2.amazonaws.com/xgboost@sha256:513e8442b35b9ecc9d326f85659f8e30b10e2cec096b863f04a9738baa9ebb57',\n",
      "                                             'SpecifiedImage': '433757028032.dkr.ecr.us-west-2.amazonaws.com/xgboost:1'}],\n",
      "                         'DesiredInstanceCount': 1,\n",
      "                         'DesiredWeight': 1.0,\n",
      "                         'VariantName': 'New-XGB-Model'}],\n",
      " 'ResponseMetadata': {'HTTPHeaders': {'content-length': '716',\n",
      "                                      'content-type': 'application/x-amz-json-1.1',\n",
      "                                      'date': 'Mon, 08 Jun 2020 12:15:52 GMT',\n",
      "                                      'x-amzn-requestid': '23404b63-ef33-4d31-b2a4-9f11e4acb363'},\n",
      "                      'HTTPStatusCode': 200,\n",
      "                      'RequestId': '23404b63-ef33-4d31-b2a4-9f11e4acb363',\n",
      "                      'RetryAttempts': 0}}\n"
     ]
    }
   ],
   "source": [
    "pprint(session.sagemaker_client.describe_endpoint(EndpointName=xgb_predictor.endpoint))"
   ]
  },
  {
   "cell_type": "markdown",
   "metadata": {},
   "source": [
    "## Step 7: Delete the Endpoint\n",
    "\n",
    "Of course, since we are done with the deployed endpoint we need to make sure to shut it down, otherwise we will continue to be charged for it."
   ]
  },
  {
   "cell_type": "code",
   "execution_count": 144,
   "metadata": {},
   "outputs": [],
   "source": [
    "xgb_predictor.delete_endpoint()"
   ]
  },
  {
   "cell_type": "markdown",
   "metadata": {},
   "source": [
    "## Some Additional Questions\n",
    "\n",
    "This notebook is a little different from the other notebooks in this module. In part, this is because it is meant to be a little bit closer to the type of problem you may face in a real world scenario. Of course, this problem is a very easy one with a prescribed solution, but there are many other interesting questions that we did not consider here and that you may wish to consider yourself.\n",
    "\n",
    "For example,\n",
    "- What other ways could the underlying distribution change?\n",
    "- Is it a good idea to re-train the model using only the new data?\n",
    "- What would change if the quantity of new data wasn't large. Say you only received 500 samples?\n"
   ]
  },
  {
   "cell_type": "markdown",
   "metadata": {},
   "source": [
    "## Optional: Clean up\n",
    "\n",
    "The default notebook instance on SageMaker doesn't have a lot of excess disk space available. As you continue to complete and execute notebooks you will eventually fill up this disk space, leading to errors which can be difficult to diagnose. Once you are completely finished using a notebook it is a good idea to remove the files that you created along the way. Of course, you can do this from the terminal or from the notebook hub if you would like. The cell below contains some commands to clean up the created files from within the notebook."
   ]
  },
  {
   "cell_type": "code",
   "execution_count": null,
   "metadata": {},
   "outputs": [],
   "source": [
    "# First we will remove all of the files contained in the data_dir directory\n",
    "!rm $data_dir/*\n",
    "\n",
    "# And then we delete the directory itself\n",
    "!rmdir $data_dir\n",
    "\n",
    "# Similarly we will remove the files in the cache_dir directory and the directory itself\n",
    "!rm $cache_dir/*\n",
    "!rmdir $cache_dir"
   ]
  },
  {
   "cell_type": "code",
   "execution_count": null,
   "metadata": {},
   "outputs": [],
   "source": []
  }
 ],
 "metadata": {
  "kernelspec": {
   "display_name": "conda_pytorch_p36",
   "language": "python",
   "name": "conda_pytorch_p36"
  },
  "language_info": {
   "codemirror_mode": {
    "name": "ipython",
    "version": 3
   },
   "file_extension": ".py",
   "mimetype": "text/x-python",
   "name": "python",
   "nbconvert_exporter": "python",
   "pygments_lexer": "ipython3",
   "version": "3.6.10"
  }
 },
 "nbformat": 4,
 "nbformat_minor": 2
}